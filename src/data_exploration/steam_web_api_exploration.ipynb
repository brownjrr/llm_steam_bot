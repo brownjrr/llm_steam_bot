{
 "cells": [
  {
   "cell_type": "markdown",
   "id": "ba5ce778",
   "metadata": {},
   "source": [
    "### Libs"
   ]
  },
  {
   "cell_type": "code",
   "execution_count": 6,
   "id": "87479152",
   "metadata": {},
   "outputs": [],
   "source": [
    "import pandas as pd\n",
    "import requests\n",
    "import os\n",
    "import numpy as np\n",
    "import json\n",
    "import ast\n",
    "from requests.adapters import HTTPAdapter\n",
    "from urllib3.util.retry import Retry"
   ]
  },
  {
   "cell_type": "markdown",
   "id": "2b81a943",
   "metadata": {},
   "source": [
    "### API key"
   ]
  },
  {
   "cell_type": "code",
   "execution_count": null,
   "id": "f00cb0bb",
   "metadata": {},
   "outputs": [],
   "source": [
    "# Personal key\n",
    "key = \"\""
   ]
  },
  {
   "cell_type": "markdown",
   "id": "ed8d873b",
   "metadata": {},
   "source": [
    "### Retry"
   ]
  },
  {
   "cell_type": "code",
   "execution_count": 3,
   "id": "1d0c7e14",
   "metadata": {},
   "outputs": [],
   "source": [
    "retry_strategy = Retry(\n",
    "    total=5,  # Total number of retries\n",
    "    backoff_factor=1,  # Exponential backoff\n",
    "    status_forcelist=[429, 500, 502, 503, 504],  # HTTP codes to retry\n",
    "    allowed_methods=[\"GET\"], \n",
    "    raise_on_status=False  # Don't raise on bad status codes\n",
    ")\n",
    "\n",
    "adapter = HTTPAdapter(max_retries=retry_strategy)\n",
    "http = requests.Session()\n",
    "http.mount(\"http://\", adapter)\n",
    "http.mount(\"https://\", adapter)"
   ]
  },
  {
   "cell_type": "markdown",
   "id": "9542113e",
   "metadata": {},
   "source": [
    "### Check available APIs"
   ]
  },
  {
   "cell_type": "markdown",
   "id": "1ba73afe",
   "metadata": {},
   "source": [
    "Also available directly at: https://api.steampowered.com/ISteamWebAPIUtil/GetSupportedAPIList/v0001/\n",
    "\n",
    "If we add the key parameters it shows us the APIs only available using the key"
   ]
  },
  {
   "cell_type": "code",
   "execution_count": 51,
   "id": "da5fa5b6",
   "metadata": {},
   "outputs": [],
   "source": [
    "pd.set_option('display.max_colwidth', None)"
   ]
  },
  {
   "cell_type": "code",
   "execution_count": 62,
   "id": "36601df3",
   "metadata": {},
   "outputs": [
    {
     "data": {
      "text/html": [
       "<div>\n",
       "<style scoped>\n",
       "    .dataframe tbody tr th:only-of-type {\n",
       "        vertical-align: middle;\n",
       "    }\n",
       "\n",
       "    .dataframe tbody tr th {\n",
       "        vertical-align: top;\n",
       "    }\n",
       "\n",
       "    .dataframe thead th {\n",
       "        text-align: right;\n",
       "    }\n",
       "</style>\n",
       "<table border=\"1\" class=\"dataframe\">\n",
       "  <thead>\n",
       "    <tr style=\"text-align: right;\">\n",
       "      <th></th>\n",
       "      <th>name</th>\n",
       "      <th>methods</th>\n",
       "    </tr>\n",
       "  </thead>\n",
       "  <tbody>\n",
       "    <tr>\n",
       "      <th>42</th>\n",
       "      <td>IPlayerService</td>\n",
       "      <td>[{'name': 'IsPlayingSharedGame', 'version': 1, 'httpmethod': 'GET', 'description': 'Obsolete, partners should use ISteamUser.CheckAppOwnership', 'parameters': [{'name': 'key', 'type': 'string', 'optional': False, 'description': 'Access key'}, {'name': 'steamid', 'type': 'uint64', 'optional': False, 'description': \"The player we're asking about\"}, {'name': 'appid_playing', 'type': 'uint32', 'optional': False, 'description': 'The game player is currently playing'}]}, {'name': 'RecordOfflinePlaytime', 'version': 1, 'httpmethod': 'POST', 'description': 'Tracks playtime for a user when they are offline', 'parameters': [{'name': 'steamid', 'type': 'uint64', 'optional': False}, {'name': 'ticket', 'type': 'string', 'optional': False}, {'name': 'play_sessions', 'type': '{message}', 'optional': False}]}, {'name': 'GetRecentlyPlayedGames', 'version': 1, 'httpmethod': 'GET', 'description': 'Gets information about a player's recently played games', 'parameters': [{'name': 'key', 'type': 'string', 'optional': False, 'description': 'Access key'}, {'name': 'steamid', 'type': 'uint64', 'optional': False, 'description': \"The player we're asking about\"}, {'name': 'count', 'type': 'uint32', 'optional': False, 'description': 'The number of games to return (0/unset: all)'}]}, {'name': 'GetOwnedGames', 'version': 1, 'httpmethod': 'GET', 'description': 'Return a list of games owned by the player', 'parameters': [{'name': 'key', 'type': 'string', 'optional': False, 'description': 'Access key'}, {'name': 'steamid', 'type': 'uint64', 'optional': False, 'description': \"The player we're asking about\"}, {'name': 'include_appinfo', 'type': 'bool', 'optional': False, 'description': 'true if we want additional details (name, icon) about each game'}, {'name': 'include_played_free_games', 'type': 'bool', 'optional': False, 'description': 'Free games are excluded by default.  If this is set, free games the user has played will be returned.'}, {'name': 'appids_filter', 'type': 'uint32', 'optional': False, 'description': 'if set, restricts result set to the passed in apps'}, {'name': 'include_free_sub', 'type': 'bool', 'optional': False, 'description': 'Some games are in the free sub, which are excluded by default.'}, {'name': 'skip_unvetted_apps', 'type': 'bool', 'optional': True, 'description': 'if set, skip unvetted store apps'}, {'name': 'language', 'type': 'string', 'optional': False, 'description': 'Will return appinfo in this language'}, {'name': 'include_extended_appinfo', 'type': 'bool', 'optional': False, 'description': 'true if we want even more details (capsule, sortas, and capabilities) about each game.  include_appinfo must also be true.'}]}, {'name': 'GetSteamLevel', 'version': 1, 'httpmethod': 'GET', 'description': 'Returns the Steam Level of a user', 'parameters': [{'name': 'key', 'type': 'string', 'optional': False, 'description': 'Access key'}, {'name': 'steamid', 'type': 'uint64', 'optional': False, 'description': \"The player we're asking about\"}]}, {'name': 'GetBadges', 'version': 1, 'httpmethod': 'GET', 'description': 'Gets badges that are owned by a specific user', 'parameters': [{'name': 'key', 'type': 'string', 'optional': False, 'description': 'Access key'}, {'name': 'steamid', 'type': 'uint64', 'optional': False, 'description': \"The player we're asking about\"}]}, {'name': 'GetCommunityBadgeProgress', 'version': 1, 'httpmethod': 'GET', 'description': 'Gets all the quests needed to get the specified badge, and which are completed', 'parameters': [{'name': 'key', 'type': 'string', 'optional': False, 'description': 'Access key'}, {'name': 'steamid', 'type': 'uint64', 'optional': False, 'description': \"The player we're asking about\"}, {'name': 'badgeid', 'type': 'int32', 'optional': False, 'description': \"The badge we're asking about\"}]}]</td>\n",
       "    </tr>\n",
       "  </tbody>\n",
       "</table>\n",
       "</div>"
      ],
      "text/plain": [
       "              name  \\\n",
       "42  IPlayerService   \n",
       "\n",
       "                                                                                                                                                                                                                                                                                                                                                                                                                                                                                                                                                                                                                                                                                                                                                                                                                                                                                                                                                                                                                                                                                                                                                                                                                                                                                                                                                                                                                                                                                                                                                                                                                                                                                                                                                                                                                                                                                                                                                                                                                                                                                                                                                                                                                                                                                                                                                                                                                                                                                                                                                                                                                                                                                                                                                                                                                                                                                                                                                                                                                                                                                                                                                                                                                                                                                                                                                                                                                                                                                                                                                                                                                                                                                                                                                                                                                                                                                                                                             methods  \n",
       "42  [{'name': 'IsPlayingSharedGame', 'version': 1, 'httpmethod': 'GET', 'description': 'Obsolete, partners should use ISteamUser.CheckAppOwnership', 'parameters': [{'name': 'key', 'type': 'string', 'optional': False, 'description': 'Access key'}, {'name': 'steamid', 'type': 'uint64', 'optional': False, 'description': \"The player we're asking about\"}, {'name': 'appid_playing', 'type': 'uint32', 'optional': False, 'description': 'The game player is currently playing'}]}, {'name': 'RecordOfflinePlaytime', 'version': 1, 'httpmethod': 'POST', 'description': 'Tracks playtime for a user when they are offline', 'parameters': [{'name': 'steamid', 'type': 'uint64', 'optional': False}, {'name': 'ticket', 'type': 'string', 'optional': False}, {'name': 'play_sessions', 'type': '{message}', 'optional': False}]}, {'name': 'GetRecentlyPlayedGames', 'version': 1, 'httpmethod': 'GET', 'description': 'Gets information about a player's recently played games', 'parameters': [{'name': 'key', 'type': 'string', 'optional': False, 'description': 'Access key'}, {'name': 'steamid', 'type': 'uint64', 'optional': False, 'description': \"The player we're asking about\"}, {'name': 'count', 'type': 'uint32', 'optional': False, 'description': 'The number of games to return (0/unset: all)'}]}, {'name': 'GetOwnedGames', 'version': 1, 'httpmethod': 'GET', 'description': 'Return a list of games owned by the player', 'parameters': [{'name': 'key', 'type': 'string', 'optional': False, 'description': 'Access key'}, {'name': 'steamid', 'type': 'uint64', 'optional': False, 'description': \"The player we're asking about\"}, {'name': 'include_appinfo', 'type': 'bool', 'optional': False, 'description': 'true if we want additional details (name, icon) about each game'}, {'name': 'include_played_free_games', 'type': 'bool', 'optional': False, 'description': 'Free games are excluded by default.  If this is set, free games the user has played will be returned.'}, {'name': 'appids_filter', 'type': 'uint32', 'optional': False, 'description': 'if set, restricts result set to the passed in apps'}, {'name': 'include_free_sub', 'type': 'bool', 'optional': False, 'description': 'Some games are in the free sub, which are excluded by default.'}, {'name': 'skip_unvetted_apps', 'type': 'bool', 'optional': True, 'description': 'if set, skip unvetted store apps'}, {'name': 'language', 'type': 'string', 'optional': False, 'description': 'Will return appinfo in this language'}, {'name': 'include_extended_appinfo', 'type': 'bool', 'optional': False, 'description': 'true if we want even more details (capsule, sortas, and capabilities) about each game.  include_appinfo must also be true.'}]}, {'name': 'GetSteamLevel', 'version': 1, 'httpmethod': 'GET', 'description': 'Returns the Steam Level of a user', 'parameters': [{'name': 'key', 'type': 'string', 'optional': False, 'description': 'Access key'}, {'name': 'steamid', 'type': 'uint64', 'optional': False, 'description': \"The player we're asking about\"}]}, {'name': 'GetBadges', 'version': 1, 'httpmethod': 'GET', 'description': 'Gets badges that are owned by a specific user', 'parameters': [{'name': 'key', 'type': 'string', 'optional': False, 'description': 'Access key'}, {'name': 'steamid', 'type': 'uint64', 'optional': False, 'description': \"The player we're asking about\"}]}, {'name': 'GetCommunityBadgeProgress', 'version': 1, 'httpmethod': 'GET', 'description': 'Gets all the quests needed to get the specified badge, and which are completed', 'parameters': [{'name': 'key', 'type': 'string', 'optional': False, 'description': 'Access key'}, {'name': 'steamid', 'type': 'uint64', 'optional': False, 'description': \"The player we're asking about\"}, {'name': 'badgeid', 'type': 'int32', 'optional': False, 'description': \"The badge we're asking about\"}]}]  "
      ]
     },
     "execution_count": 62,
     "metadata": {},
     "output_type": "execute_result"
    }
   ],
   "source": [
    "url = f\"http://api.steampowered.com/ISteamWebAPIUtil/GetSupportedAPIList/v0001/?key={key}\"\n",
    "response = requests.get(url)\n",
    "#response.json()['apilist']['interfaces'][0:2]\n",
    "df = pd.DataFrame(response.json()['apilist']['interfaces'])\n",
    "#df[df['name']=='ISteamUser']\n",
    "df[df['name']=='IPlayerService'] # search GetOwnedGames\n",
    "#df[df['name']=='IEconItems_1046930'] # GetPlayerItems\n",
    "\n"
   ]
  },
  {
   "cell_type": "code",
   "execution_count": 63,
   "id": "9d45a987",
   "metadata": {},
   "outputs": [
    {
     "name": "stdout",
     "output_type": "stream",
     "text": [
      "IClientStats_1046930\n",
      "  - methods:\n",
      "    - {'name': 'ReportEvent', 'version': 1, 'httpmethod': 'POST', 'parameters': []}\n",
      "ICSGOPlayers_730\n",
      "  - methods:\n",
      "    - {'name': 'GetNextMatchSharingCode', 'version': 1, 'httpmethod': 'GET', 'parameters': [{'name': 'steamid', 'type': 'uint64', 'optional': False, 'description': 'The SteamID of the user'}, {'name': 'steamidkey', 'type': 'string', 'optional': False, 'description': 'Authentication obtained from the SteamID'}, {'name': 'knowncode', 'type': 'string', 'optional': False, 'description': 'Previously known match sharing code obtained from the SteamID'}]}\n",
      "ICSGOServers_730\n",
      "  - methods:\n",
      "    - {'name': 'GetGameMapsPlaytime', 'version': 1, 'httpmethod': 'GET', 'parameters': [{'name': 'interval', 'type': 'string', 'optional': False, 'description': 'What recent interval is requested, possible values: day, week, month'}, {'name': 'gamemode', 'type': 'string', 'optional': False, 'description': 'What game mode is requested, possible values: competitive, casual'}, {'name': 'mapgroup', 'type': 'string', 'optional': False, 'description': 'What maps are requested, possible values: operation'}]}\n",
      "    - {'name': 'GetGameServersStatus', 'version': 1, 'httpmethod': 'GET', 'parameters': []}\n",
      "ICSGOTournaments_730\n",
      "  - methods:\n",
      "    - {'name': 'GetTournamentFantasyLineup', 'version': 1, 'httpmethod': 'GET', 'parameters': [{'name': 'event', 'type': 'uint32', 'optional': False, 'description': 'The event ID'}, {'name': 'steamid', 'type': 'uint64', 'optional': False, 'description': 'The SteamID of the user inventory'}, {'name': 'steamidkey', 'type': 'string', 'optional': False, 'description': 'Authentication obtained from the SteamID'}]}\n",
      "    - {'name': 'GetTournamentItems', 'version': 1, 'httpmethod': 'GET', 'parameters': [{'name': 'event', 'type': 'uint32', 'optional': False, 'description': 'The event ID'}, {'name': 'steamid', 'type': 'uint64', 'optional': False, 'description': 'The SteamID of the user inventory'}, {'name': 'steamidkey', 'type': 'string', 'optional': False, 'description': 'Authentication obtained from the SteamID'}]}\n",
      "    - {'name': 'GetTournamentLayout', 'version': 1, 'httpmethod': 'GET', 'parameters': [{'name': 'event', 'type': 'uint32', 'optional': False, 'description': 'The event ID'}]}\n",
      "    - {'name': 'GetTournamentPredictions', 'version': 1, 'httpmethod': 'GET', 'parameters': [{'name': 'event', 'type': 'uint32', 'optional': False, 'description': 'The event ID'}, {'name': 'steamid', 'type': 'uint64', 'optional': False, 'description': 'The SteamID of the user inventory'}, {'name': 'steamidkey', 'type': 'string', 'optional': False, 'description': 'Authentication obtained from the SteamID'}]}\n",
      "    - {'name': 'UploadTournamentFantasyLineup', 'version': 1, 'httpmethod': 'POST', 'parameters': [{'name': 'event', 'type': 'uint32', 'optional': False, 'description': 'The event ID'}, {'name': 'steamid', 'type': 'uint64', 'optional': False, 'description': 'The SteamID of the user inventory'}, {'name': 'steamidkey', 'type': 'string', 'optional': False, 'description': 'Authentication obtained from the SteamID'}, {'name': 'sectionid', 'type': 'uint32', 'optional': False, 'description': 'Event section id'}, {'name': 'pickid0', 'type': 'uint32', 'optional': False, 'description': 'PickID to select for the slot'}, {'name': 'itemid0', 'type': 'uint64', 'optional': False, 'description': 'ItemID to lock in for the pick'}, {'name': 'pickid1', 'type': 'uint32', 'optional': False, 'description': 'PickID to select for the slot'}, {'name': 'itemid1', 'type': 'uint64', 'optional': False, 'description': 'ItemID to lock in for the pick'}, {'name': 'pickid2', 'type': 'uint32', 'optional': False, 'description': 'PickID to select for the slot'}, {'name': 'itemid2', 'type': 'uint64', 'optional': False, 'description': 'ItemID to lock in for the pick'}, {'name': 'pickid3', 'type': 'uint32', 'optional': False, 'description': 'PickID to select for the slot'}, {'name': 'itemid3', 'type': 'uint64', 'optional': False, 'description': 'ItemID to lock in for the pick'}, {'name': 'pickid4', 'type': 'uint32', 'optional': False, 'description': 'PickID to select for the slot'}, {'name': 'itemid4', 'type': 'uint64', 'optional': False, 'description': 'ItemID to lock in for the pick'}]}\n",
      "    - {'name': 'UploadTournamentPredictions', 'version': 1, 'httpmethod': 'POST', 'parameters': [{'name': 'event', 'type': 'uint32', 'optional': False, 'description': 'The event ID'}, {'name': 'steamid', 'type': 'uint64', 'optional': False, 'description': 'The SteamID of the user inventory'}, {'name': 'steamidkey', 'type': 'string', 'optional': False, 'description': 'Authentication obtained from the SteamID'}, {'name': 'sectionid', 'type': 'uint32', 'optional': False, 'description': 'Event section id'}, {'name': 'groupid', 'type': 'uint32', 'optional': False, 'description': 'Event group id'}, {'name': 'index', 'type': 'uint32', 'optional': False, 'description': 'Index in group'}, {'name': 'pickid', 'type': 'uint32', 'optional': False, 'description': 'Pick ID to select'}, {'name': 'itemid', 'type': 'uint64', 'optional': False, 'description': 'ItemID to lock in for the pick'}]}\n",
      "IDOTA2MatchStats_570\n",
      "  - methods:\n",
      "    - {'name': 'GetRealtimeStats', 'version': 1, 'httpmethod': 'GET', 'parameters': [{'name': 'server_steam_id', 'type': 'uint64', 'optional': False, 'description': ''}]}\n",
      "IDOTA2Match_570\n",
      "  - methods:\n",
      "    - {'name': 'GetLiveLeagueGames', 'version': 1, 'httpmethod': 'GET', 'parameters': [{'name': 'league_id', 'type': 'uint32', 'optional': True, 'description': 'Only show matches of the specified league id'}, {'name': 'match_id', 'type': 'uint64', 'optional': True, 'description': 'Only show matches of the specified match id'}, {'name': 'dpc', 'type': 'bool', 'optional': True, 'description': 'Only show matches that are part of the DPC'}]}\n",
      "    - {'name': 'GetMatchDetails', 'version': 1, 'httpmethod': 'GET', 'parameters': [{'name': 'match_id', 'type': 'uint64', 'optional': False, 'description': 'Match id'}, {'name': 'include_persona_names', 'type': 'bool', 'optional': True, 'description': 'Include persona names as part of the response'}]}\n",
      "    - {'name': 'GetMatchHistory', 'version': 1, 'httpmethod': 'GET', 'parameters': [{'name': 'hero_id', 'type': 'uint32', 'optional': True, 'description': 'The ID of the hero that must be in the matches being queried'}, {'name': 'game_mode', 'type': 'uint32', 'optional': True, 'description': 'Which game mode to return matches for'}, {'name': 'skill', 'type': 'uint32', 'optional': True, 'description': 'The average skill range of the match, these can be [1-3] with lower numbers being lower skill. Ignored if an account ID is specified'}, {'name': 'min_players', 'type': 'string', 'optional': True, 'description': 'Minimum number of human players that must be in a match for it to be returned'}, {'name': 'account_id', 'type': 'string', 'optional': True, 'description': 'An account ID to get matches from. This will fail if the user has their match history hidden'}, {'name': 'league_id', 'type': 'string', 'optional': True, 'description': 'The league ID to return games from'}, {'name': 'start_at_match_id', 'type': 'uint64', 'optional': True, 'description': 'The minimum match ID to start from'}, {'name': 'matches_requested', 'type': 'string', 'optional': True, 'description': 'The number of requested matches to return (maximum 100)'}]}\n",
      "    - {'name': 'GetMatchHistoryBySequenceNum', 'version': 1, 'httpmethod': 'GET', 'parameters': [{'name': 'start_at_match_seq_num', 'type': 'uint64', 'optional': True, 'description': ''}, {'name': 'matches_requested', 'type': 'uint32', 'optional': True, 'description': ''}]}\n",
      "    - {'name': 'GetTeamInfoByTeamID', 'version': 1, 'httpmethod': 'GET', 'parameters': [{'name': 'start_at_team_id', 'type': 'uint64', 'optional': True, 'description': ''}, {'name': 'teams_requested', 'type': 'uint32', 'optional': True, 'description': ''}]}\n",
      "    - {'name': 'GetTopLiveEventGame', 'version': 1, 'httpmethod': 'GET', 'parameters': [{'name': 'partner', 'type': 'int32', 'optional': False, 'description': \"Which partner's games to use.\"}]}\n",
      "    - {'name': 'GetTopLiveGame', 'version': 1, 'httpmethod': 'GET', 'parameters': [{'name': 'partner', 'type': 'int32', 'optional': False, 'description': \"Which partner's games to use.\"}]}\n",
      "    - {'name': 'GetTopWeekendTourneyGames', 'version': 1, 'httpmethod': 'GET', 'parameters': [{'name': 'partner', 'type': 'int32', 'optional': False, 'description': \"Which partner's games to use.\"}, {'name': 'home_division', 'type': 'int32', 'optional': True, 'description': 'Prefer matches from this division.'}]}\n",
      "    - {'name': 'GetTournamentPlayerStats', 'version': 1, 'httpmethod': 'GET', 'parameters': [{'name': 'account_id', 'type': 'string', 'optional': False, 'description': ''}, {'name': 'league_id', 'type': 'string', 'optional': True, 'description': ''}, {'name': 'hero_id', 'type': 'string', 'optional': True, 'description': ''}, {'name': 'time_frame', 'type': 'string', 'optional': True, 'description': ''}, {'name': 'match_id', 'type': 'uint64', 'optional': True, 'description': ''}]}\n",
      "    - {'name': 'GetTournamentPlayerStats', 'version': 2, 'httpmethod': 'GET', 'parameters': [{'name': 'account_id', 'type': 'string', 'optional': False, 'description': ''}, {'name': 'league_id', 'type': 'string', 'optional': True, 'description': ''}, {'name': 'hero_id', 'type': 'string', 'optional': True, 'description': ''}, {'name': 'time_frame', 'type': 'string', 'optional': True, 'description': ''}, {'name': 'match_id', 'type': 'uint64', 'optional': True, 'description': ''}, {'name': 'phase_id', 'type': 'uint32', 'optional': True, 'description': ''}]}\n",
      "IDOTA2StreamSystem_570\n",
      "  - methods:\n",
      "    - {'name': 'GetBroadcasterInfo', 'version': 1, 'httpmethod': 'GET', 'parameters': [{'name': 'broadcaster_steam_id', 'type': 'uint64', 'optional': False, 'description': '64-bit Steam ID of the broadcaster'}, {'name': 'league_id', 'type': 'uint32', 'optional': True, 'description': \"LeagueID to use if we aren't in a lobby\"}]}\n",
      "IDOTA2Ticket_570\n",
      "  - methods:\n",
      "    - {'name': 'GetSteamIDForBadgeID', 'version': 1, 'httpmethod': 'GET', 'parameters': [{'name': 'BadgeID', 'type': 'string', 'optional': False, 'description': 'The badge ID'}]}\n",
      "    - {'name': 'SetSteamAccountPurchased', 'version': 1, 'httpmethod': 'POST', 'parameters': [{'name': 'steamid', 'type': 'uint64', 'optional': False, 'description': 'The 64-bit Steam ID'}, {'name': 'BadgeType', 'type': 'uint32', 'optional': False, 'description': 'Badge Type'}]}\n",
      "    - {'name': 'SteamAccountValidForBadgeType', 'version': 1, 'httpmethod': 'GET', 'parameters': [{'name': 'steamid', 'type': 'uint64', 'optional': False, 'description': 'The 64-bit Steam ID'}, {'name': 'ValidBadgeType1', 'type': 'uint32', 'optional': False, 'description': 'Valid Badge Type 1'}, {'name': 'ValidBadgeType2', 'type': 'uint32', 'optional': False, 'description': 'Valid Badge Type 2'}, {'name': 'ValidBadgeType3', 'type': 'uint32', 'optional': False, 'description': 'Valid Badge Type 3'}, {'name': 'ValidBadgeType4', 'type': 'uint32', 'optional': True, 'description': 'Valid Badge Type 4'}]}\n",
      "IEconDOTA2_570\n",
      "  - methods:\n",
      "    - {'name': 'GetEventStatsForAccount', 'version': 1, 'httpmethod': 'GET', 'parameters': [{'name': 'eventid', 'type': 'uint32', 'optional': False, 'description': \"The Event ID of the event you're looking for.\"}, {'name': 'accountid', 'type': 'uint32', 'optional': False, 'description': 'The account ID to look up.'}, {'name': 'language', 'type': 'string', 'optional': True, 'description': 'The language to provide hero names in.'}]}\n",
      "    - {'name': 'GetHeroes', 'version': 1, 'httpmethod': 'GET', 'parameters': [{'name': 'language', 'type': 'string', 'optional': True, 'description': 'The language to provide hero names in.'}, {'name': 'itemizedonly', 'type': 'bool', 'optional': True, 'description': 'Return a list of itemized heroes only.'}]}\n",
      "    - {'name': 'GetItemCreators', 'version': 1, 'httpmethod': 'GET', 'parameters': [{'name': 'itemdef', 'type': 'uint32', 'optional': False, 'description': 'The item definition to get creator information for.'}]}\n",
      "    - {'name': 'GetItemWorkshopPublishedFileIDs', 'version': 1, 'httpmethod': 'GET', 'parameters': [{'name': 'itemdef', 'type': 'uint32', 'optional': False, 'description': 'The item definition to get published file ids for.'}]}\n",
      "    - {'name': 'GetRarities', 'version': 1, 'httpmethod': 'GET', 'parameters': [{'name': 'language', 'type': 'string', 'optional': True, 'description': 'The language to provide rarity names in.'}]}\n",
      "    - {'name': 'GetTournamentPrizePool', 'version': 1, 'httpmethod': 'GET', 'parameters': [{'name': 'leagueid', 'type': 'uint32', 'optional': True, 'description': 'The ID of the league to get the prize pool of'}]}\n",
      "IEconItems_1046930\n",
      "  - methods:\n",
      "    - {'name': 'GetPlayerItems', 'version': 1, 'httpmethod': 'GET', 'parameters': [{'name': 'steamid', 'type': 'uint64', 'optional': False, 'description': 'The Steam ID to fetch items for'}]}\n",
      "IEconItems_1269260\n",
      "  - methods:\n",
      "    - {'name': 'GetEquippedPlayerItems', 'version': 1, 'httpmethod': 'GET', 'parameters': [{'name': 'steamid', 'type': 'uint64', 'optional': False, 'description': 'The Steam ID to fetch items for'}, {'name': 'class_id', 'type': 'uint32', 'optional': False, 'description': 'Return items equipped for this class id'}]}\n",
      "IEconItems_238460\n",
      "  - methods:\n",
      "    - {'name': 'GetPlayerItems', 'version': 1, 'httpmethod': 'GET', 'parameters': [{'name': 'steamid', 'type': 'uint64', 'optional': False, 'description': 'The Steam ID to fetch items for'}]}\n",
      "IEconItems_440\n",
      "  - methods:\n",
      "    - {'name': 'GetPlayerItems', 'version': 1, 'httpmethod': 'GET', 'parameters': [{'name': 'steamid', 'type': 'uint64', 'optional': False, 'description': 'The Steam ID to fetch items for'}]}\n",
      "    - {'name': 'GetSchema', 'version': 1, 'httpmethod': 'GET', 'parameters': [{'name': 'language', 'type': 'string', 'optional': True, 'description': 'The language to return the names in. Defaults to returning string keys.'}]}\n",
      "    - {'name': 'GetSchemaItems', 'version': 1, 'httpmethod': 'GET', 'parameters': [{'name': 'language', 'type': 'string', 'optional': True, 'description': 'The language to return the names in. Defaults to returning string keys.'}, {'name': 'start', 'type': 'int32', 'optional': True, 'description': 'The first item id to return. Defaults to 0. Response will indicate next value to query if applicable.'}]}\n",
      "    - {'name': 'GetSchemaOverview', 'version': 1, 'httpmethod': 'GET', 'parameters': [{'name': 'language', 'type': 'string', 'optional': True, 'description': 'The language to return the names in. Defaults to returning string keys.'}]}\n",
      "    - {'name': 'GetSchemaURL', 'version': 1, 'httpmethod': 'GET', 'parameters': []}\n",
      "    - {'name': 'GetStoreMetaData', 'version': 1, 'httpmethod': 'GET', 'parameters': [{'name': 'language', 'type': 'string', 'optional': True, 'description': 'The language to results in.'}]}\n",
      "    - {'name': 'GetStoreStatus', 'version': 1, 'httpmethod': 'GET', 'parameters': []}\n",
      "IEconItems_570\n",
      "  - methods:\n",
      "    - {'name': 'GetPlayerItems', 'version': 1, 'httpmethod': 'GET', 'parameters': [{'name': 'steamid', 'type': 'uint64', 'optional': False, 'description': 'The Steam ID to fetch items for'}]}\n",
      "    - {'name': 'GetStoreMetaData', 'version': 1, 'httpmethod': 'GET', 'parameters': [{'name': 'language', 'type': 'string', 'optional': True, 'description': 'The language to results in.'}]}\n",
      "IEconItems_583950\n",
      "  - methods:\n",
      "    - {'name': 'GetEquippedPlayerItems', 'version': 1, 'httpmethod': 'GET', 'parameters': [{'name': 'steamid', 'type': 'uint64', 'optional': False, 'description': 'The Steam ID to fetch items for'}, {'name': 'class_id', 'type': 'uint32', 'optional': False, 'description': 'Return items equipped for this class id'}]}\n",
      "IEconItems_620\n",
      "  - methods:\n",
      "    - {'name': 'GetPlayerItems', 'version': 1, 'httpmethod': 'GET', 'parameters': [{'name': 'steamid', 'type': 'uint64', 'optional': False, 'description': 'The Steam ID to fetch items for'}]}\n",
      "    - {'name': 'GetSchema', 'version': 1, 'httpmethod': 'GET', 'parameters': [{'name': 'language', 'type': 'string', 'optional': True, 'description': 'The language to return the names in. Defaults to returning string keys.'}]}\n",
      "IEconItems_730\n",
      "  - methods:\n",
      "    - {'name': 'GetPlayerItems', 'version': 1, 'httpmethod': 'GET', 'parameters': [{'name': 'steamid', 'type': 'uint64', 'optional': False, 'description': 'The Steam ID to fetch items for'}]}\n",
      "    - {'name': 'GetSchema', 'version': 2, 'httpmethod': 'GET', 'parameters': [{'name': 'language', 'type': 'string', 'optional': True, 'description': 'The language to return the names in. Defaults to returning string keys.'}]}\n",
      "    - {'name': 'GetSchemaURL', 'version': 2, 'httpmethod': 'GET', 'parameters': []}\n",
      "    - {'name': 'GetStoreMetaData', 'version': 1, 'httpmethod': 'GET', 'parameters': [{'name': 'language', 'type': 'string', 'optional': True, 'description': 'The language to results in.'}]}\n",
      "IGCVersion_1046930\n",
      "  - methods:\n",
      "    - {'name': 'GetClientVersion', 'version': 1, 'httpmethod': 'GET', 'parameters': []}\n",
      "    - {'name': 'GetServerVersion', 'version': 1, 'httpmethod': 'GET', 'parameters': []}\n",
      "IGCVersion_1269260\n",
      "  - methods:\n",
      "    - {'name': 'GetClientVersion', 'version': 1, 'httpmethod': 'GET', 'parameters': []}\n",
      "    - {'name': 'GetServerVersion', 'version': 1, 'httpmethod': 'GET', 'parameters': []}\n",
      "IGCVersion_1422450\n",
      "  - methods:\n",
      "    - {'name': 'GetClientVersion', 'version': 1, 'httpmethod': 'GET', 'parameters': []}\n",
      "    - {'name': 'GetServerVersion', 'version': 1, 'httpmethod': 'GET', 'parameters': []}\n",
      "IGCVersion_440\n",
      "  - methods:\n",
      "    - {'name': 'GetClientVersion', 'version': 1, 'httpmethod': 'GET', 'parameters': []}\n",
      "    - {'name': 'GetServerVersion', 'version': 1, 'httpmethod': 'GET', 'parameters': []}\n",
      "IGCVersion_570\n",
      "  - methods:\n",
      "    - {'name': 'GetClientVersion', 'version': 1, 'httpmethod': 'GET', 'parameters': []}\n",
      "    - {'name': 'GetServerVersion', 'version': 1, 'httpmethod': 'GET', 'parameters': []}\n",
      "IGCVersion_583950\n",
      "  - methods:\n",
      "    - {'name': 'GetClientVersion', 'version': 1, 'httpmethod': 'GET', 'parameters': []}\n",
      "    - {'name': 'GetServerVersion', 'version': 1, 'httpmethod': 'GET', 'parameters': []}\n",
      "IGCVersion_730\n",
      "  - methods:\n",
      "    - {'name': 'GetServerVersion', 'version': 1, 'httpmethod': 'GET', 'parameters': []}\n",
      "IPortal2Leaderboards_620\n",
      "  - methods:\n",
      "    - {'name': 'GetBucketizedData', 'version': 1, 'httpmethod': 'GET', 'parameters': [{'name': 'leaderboardName', 'type': 'string', 'optional': False, 'description': 'The leaderboard name to fetch data for.'}]}\n",
      "ISteamApps\n",
      "  - methods:\n",
      "    - {'name': 'GetAppList', 'version': 1, 'httpmethod': 'GET', 'parameters': []}\n",
      "    - {'name': 'GetAppList', 'version': 2, 'httpmethod': 'GET', 'parameters': []}\n",
      "    - {'name': 'GetSDRConfig', 'version': 1, 'httpmethod': 'GET', 'parameters': [{'name': 'appid', 'type': 'uint32', 'optional': False, 'description': 'AppID of game'}]}\n",
      "    - {'name': 'GetServersAtAddress', 'version': 1, 'httpmethod': 'GET', 'parameters': [{'name': 'addr', 'type': 'string', 'optional': False, 'description': 'IP or IP:queryport to list'}]}\n",
      "    - {'name': 'UpToDateCheck', 'version': 1, 'httpmethod': 'GET', 'parameters': [{'name': 'appid', 'type': 'uint32', 'optional': False, 'description': 'AppID of game'}, {'name': 'version', 'type': 'uint32', 'optional': False, 'description': 'The installed version of the game'}]}\n",
      "ISteamBroadcast\n",
      "  - methods:\n",
      "    - {'name': 'ViewerHeartbeat', 'version': 1, 'httpmethod': 'GET', 'parameters': [{'name': 'steamid', 'type': 'uint64', 'optional': False, 'description': 'Steam ID of the broadcaster'}, {'name': 'sessionid', 'type': 'uint64', 'optional': False, 'description': 'Broadcast Session ID'}, {'name': 'token', 'type': 'uint64', 'optional': False, 'description': 'Viewer token'}, {'name': 'stream', 'type': 'int32', 'optional': True, 'description': 'video stream representation watching'}]}\n",
      "ISteamCDN\n",
      "  - methods:\n",
      "    - {'name': 'SetClientFilters', 'version': 1, 'httpmethod': 'POST', 'parameters': [{'name': 'key', 'type': 'string', 'optional': False, 'description': 'access key'}, {'name': 'cdnname', 'type': 'string', 'optional': False, 'description': 'Steam name of CDN property'}, {'name': 'allowedipblocks', 'type': 'string', 'optional': True, 'description': 'comma-separated list of allowed IP address blocks in CIDR format - blank for not used'}, {'name': 'allowedasns', 'type': 'string', 'optional': True, 'description': 'comma-separated list of allowed client network AS numbers - blank for not used'}, {'name': 'allowedipcountries', 'type': 'string', 'optional': True, 'description': 'comma-separated list of allowed client IP country codes in ISO 3166-1 format - blank for not used'}]}\n",
      "    - {'name': 'SetPerformanceStats', 'version': 1, 'httpmethod': 'POST', 'parameters': [{'name': 'key', 'type': 'string', 'optional': False, 'description': 'access key'}, {'name': 'cdnname', 'type': 'string', 'optional': False, 'description': 'Steam name of CDN property'}, {'name': 'mbps_sent', 'type': 'uint32', 'optional': True, 'description': 'Outgoing network traffic in Mbps'}, {'name': 'mbps_recv', 'type': 'uint32', 'optional': True, 'description': 'Incoming network traffic in Mbps'}, {'name': 'cpu_percent', 'type': 'uint32', 'optional': True, 'description': 'Percent CPU load'}, {'name': 'cache_hit_percent', 'type': 'uint32', 'optional': True, 'description': 'Percent cache hits'}]}\n",
      "ISteamDirectory\n",
      "  - methods:\n",
      "    - {'name': 'GetCMList', 'version': 1, 'httpmethod': 'GET', 'parameters': [{'name': 'cellid', 'type': 'uint32', 'optional': False, 'description': \"Client's Steam cell ID\"}, {'name': 'maxcount', 'type': 'uint32', 'optional': True, 'description': 'Max number of servers to return'}]}\n",
      "    - {'name': 'GetCMListForConnect', 'version': 1, 'httpmethod': 'GET', 'parameters': [{'name': 'cellid', 'type': 'uint32', 'optional': True, 'description': \"Client's Steam cell ID, uses IP location if blank\"}, {'name': 'cmtype', 'type': 'string', 'optional': True, 'description': 'Optional CM type filter'}, {'name': 'realm', 'type': 'string', 'optional': True, 'description': 'Optional Steam Realm filter'}, {'name': 'maxcount', 'type': 'uint32', 'optional': True, 'description': 'Max number of servers to return'}, {'name': 'qoslevel', 'type': 'uint32', 'optional': True, 'description': 'Desired connection priority'}]}\n",
      "    - {'name': 'GetSteamPipeDomains', 'version': 1, 'httpmethod': 'GET', 'parameters': []}\n",
      "ISteamEconomy\n",
      "  - methods:\n",
      "    - {'name': 'GetAssetClassInfo', 'version': 1, 'httpmethod': 'GET', 'parameters': [{'name': 'appid', 'type': 'uint32', 'optional': False, 'description': 'Must be a steam economy app.'}, {'name': 'language', 'type': 'string', 'optional': True, 'description': \"The user's local language\"}, {'name': 'class_count', 'type': 'uint32', 'optional': False, 'description': 'Number of classes requested. Must be at least one.'}, {'name': 'classid0', 'type': 'uint64', 'optional': False, 'description': 'Class ID of the nth class.'}, {'name': 'instanceid0', 'type': 'uint64', 'optional': True, 'description': 'Instance ID of the nth class.'}]}\n",
      "    - {'name': 'GetAssetPrices', 'version': 1, 'httpmethod': 'GET', 'parameters': [{'name': 'appid', 'type': 'uint32', 'optional': False, 'description': 'Must be a steam economy app.'}, {'name': 'currency', 'type': 'string', 'optional': True, 'description': 'The currency to filter for'}, {'name': 'language', 'type': 'string', 'optional': True, 'description': \"The user's local language\"}]}\n",
      "ISteamNews\n",
      "  - methods:\n",
      "    - {'name': 'GetNewsForApp', 'version': 1, 'httpmethod': 'GET', 'parameters': [{'name': 'appid', 'type': 'uint32', 'optional': False, 'description': 'AppID to retrieve news for'}, {'name': 'maxlength', 'type': 'uint32', 'optional': True, 'description': \"Maximum length for the content to return, if this is 0 the full content is returned, if it's less then a blurb is generated to fit.\"}, {'name': 'enddate', 'type': 'uint32', 'optional': True, 'description': 'Retrieve posts earlier than this date (unix epoch timestamp)'}, {'name': 'count', 'type': 'uint32', 'optional': True, 'description': '# of posts to retrieve (default 20)'}, {'name': 'tags', 'type': 'string', 'optional': True, 'description': \"Comma-separated list of tags to filter by (e.g. 'patchnodes')\"}]}\n",
      "    - {'name': 'GetNewsForApp', 'version': 2, 'httpmethod': 'GET', 'parameters': [{'name': 'appid', 'type': 'uint32', 'optional': False, 'description': 'AppID to retrieve news for'}, {'name': 'maxlength', 'type': 'uint32', 'optional': True, 'description': \"Maximum length for the content to return, if this is 0 the full content is returned, if it's less then a blurb is generated to fit.\"}, {'name': 'enddate', 'type': 'uint32', 'optional': True, 'description': 'Retrieve posts earlier than this date (unix epoch timestamp)'}, {'name': 'count', 'type': 'uint32', 'optional': True, 'description': '# of posts to retrieve (default 20)'}, {'name': 'feeds', 'type': 'string', 'optional': True, 'description': 'Comma-separated list of feed names to return news for'}, {'name': 'tags', 'type': 'string', 'optional': True, 'description': \"Comma-separated list of tags to filter by (e.g. 'patchnodes')\"}]}\n",
      "ISteamRemoteStorage\n",
      "  - methods:\n",
      "    - {'name': 'GetCollectionDetails', 'version': 1, 'httpmethod': 'POST', 'parameters': [{'name': 'collectioncount', 'type': 'uint32', 'optional': False, 'description': 'Number of collections being requested'}, {'name': 'publishedfileids[0]', 'type': 'uint64', 'optional': False, 'description': 'collection ids to get the details for'}]}\n",
      "    - {'name': 'GetPublishedFileDetails', 'version': 1, 'httpmethod': 'POST', 'parameters': [{'name': 'itemcount', 'type': 'uint32', 'optional': False, 'description': 'Number of items being requested'}, {'name': 'publishedfileids[0]', 'type': 'uint64', 'optional': False, 'description': 'published file id to look up'}]}\n",
      "    - {'name': 'GetUGCFileDetails', 'version': 1, 'httpmethod': 'GET', 'parameters': [{'name': 'steamid', 'type': 'uint64', 'optional': True, 'description': 'If specified, only returns details if the file is owned by the SteamID specified'}, {'name': 'ugcid', 'type': 'uint64', 'optional': False, 'description': 'ID of UGC file to get info for'}, {'name': 'appid', 'type': 'uint32', 'optional': False, 'description': 'appID of product'}]}\n",
      "ISteamUser\n",
      "  - methods:\n",
      "    - {'name': 'GetFriendList', 'version': 1, 'httpmethod': 'GET', 'parameters': [{'name': 'key', 'type': 'string', 'optional': False, 'description': 'access key'}, {'name': 'steamid', 'type': 'uint64', 'optional': False, 'description': 'SteamID of user'}, {'name': 'relationship', 'type': 'string', 'optional': True, 'description': 'relationship type (ex: friend)'}]}\n",
      "    - {'name': 'GetPlayerBans', 'version': 1, 'httpmethod': 'GET', 'parameters': [{'name': 'key', 'type': 'string', 'optional': False, 'description': 'access key'}, {'name': 'steamids', 'type': 'string', 'optional': False, 'description': 'Comma-delimited list of SteamIDs'}]}\n",
      "    - {'name': 'GetPlayerSummaries', 'version': 1, 'httpmethod': 'GET', 'parameters': [{'name': 'key', 'type': 'string', 'optional': False, 'description': 'access key'}, {'name': 'steamids', 'type': 'string', 'optional': False, 'description': 'Comma-delimited list of SteamIDs'}]}\n",
      "    - {'name': 'GetPlayerSummaries', 'version': 2, 'httpmethod': 'GET', 'parameters': [{'name': 'key', 'type': 'string', 'optional': False, 'description': 'access key'}, {'name': 'steamids', 'type': 'string', 'optional': False, 'description': 'Comma-delimited list of SteamIDs (max: 100)'}]}\n",
      "    - {'name': 'GetUserGroupList', 'version': 1, 'httpmethod': 'GET', 'parameters': [{'name': 'key', 'type': 'string', 'optional': False, 'description': 'access key'}, {'name': 'steamid', 'type': 'uint64', 'optional': False, 'description': 'SteamID of user'}]}\n",
      "    - {'name': 'ResolveVanityURL', 'version': 1, 'httpmethod': 'GET', 'parameters': [{'name': 'key', 'type': 'string', 'optional': False, 'description': 'access key'}, {'name': 'vanityurl', 'type': 'string', 'optional': False, 'description': 'The vanity URL to get a SteamID for'}, {'name': 'url_type', 'type': 'int32', 'optional': True, 'description': 'The type of vanity URL. 1 (default): Individual profile, 2: Group, 3: Official game group'}]}\n",
      "ISteamUserAuth\n",
      "  - methods:\n",
      "    - {'name': 'AuthenticateUserTicket', 'version': 1, 'httpmethod': 'GET', 'parameters': [{'name': 'key', 'type': 'string', 'optional': False, 'description': 'access key'}, {'name': 'appid', 'type': 'uint32', 'optional': False, 'description': 'appid of game'}, {'name': 'ticket', 'type': 'string', 'optional': False, 'description': 'Ticket from GetAuthSessionTicket.'}]}\n",
      "ISteamUserOAuth\n",
      "  - methods:\n",
      "    - {'name': 'GetTokenDetails', 'version': 1, 'httpmethod': 'GET', 'parameters': [{'name': 'access_token', 'type': 'string', 'optional': False, 'description': 'OAuth2 token for which to return details'}]}\n",
      "ISteamUserStats\n",
      "  - methods:\n",
      "    - {'name': 'GetGlobalAchievementPercentagesForApp', 'version': 1, 'httpmethod': 'GET', 'parameters': [{'name': 'gameid', 'type': 'uint64', 'optional': False, 'description': 'GameID to retrieve the achievement percentages for'}]}\n",
      "    - {'name': 'GetGlobalAchievementPercentagesForApp', 'version': 2, 'httpmethod': 'GET', 'parameters': [{'name': 'gameid', 'type': 'uint64', 'optional': False, 'description': 'GameID to retrieve the achievement percentages for'}]}\n",
      "    - {'name': 'GetGlobalStatsForGame', 'version': 1, 'httpmethod': 'GET', 'parameters': [{'name': 'appid', 'type': 'uint32', 'optional': False, 'description': \"AppID that we're getting global stats for\"}, {'name': 'count', 'type': 'uint32', 'optional': False, 'description': 'Number of stats get data for'}, {'name': 'name[0]', 'type': 'string', 'optional': False, 'description': 'Names of stat to get data for'}, {'name': 'startdate', 'type': 'uint32', 'optional': True, 'description': 'Start date for daily totals (unix epoch timestamp)'}, {'name': 'enddate', 'type': 'uint32', 'optional': True, 'description': 'End date for daily totals (unix epoch timestamp)'}]}\n",
      "    - {'name': 'GetNumberOfCurrentPlayers', 'version': 1, 'httpmethod': 'GET', 'parameters': [{'name': 'appid', 'type': 'uint32', 'optional': False, 'description': \"AppID that we're getting user count for\"}]}\n",
      "    - {'name': 'GetPlayerAchievements', 'version': 1, 'httpmethod': 'GET', 'parameters': [{'name': 'key', 'type': 'string', 'optional': False, 'description': 'access key'}, {'name': 'steamid', 'type': 'uint64', 'optional': False, 'description': 'SteamID of user'}, {'name': 'appid', 'type': 'uint32', 'optional': False, 'description': 'AppID to get achievements for'}, {'name': 'l', 'type': 'string', 'optional': True, 'description': 'Language to return strings for'}]}\n",
      "    - {'name': 'GetSchemaForGame', 'version': 1, 'httpmethod': 'GET', 'parameters': [{'name': 'key', 'type': 'string', 'optional': False, 'description': 'access key'}, {'name': 'appid', 'type': 'uint32', 'optional': False, 'description': 'appid of game'}, {'name': 'l', 'type': 'string', 'optional': True, 'description': 'localized langauge to return (english, french, etc.)'}]}\n",
      "    - {'name': 'GetSchemaForGame', 'version': 2, 'httpmethod': 'GET', 'parameters': [{'name': 'key', 'type': 'string', 'optional': False, 'description': 'access key'}, {'name': 'appid', 'type': 'uint32', 'optional': False, 'description': 'appid of game'}, {'name': 'l', 'type': 'string', 'optional': True, 'description': 'localized language to return (english, french, etc.)'}]}\n",
      "    - {'name': 'GetUserStatsForGame', 'version': 1, 'httpmethod': 'GET', 'parameters': [{'name': 'key', 'type': 'string', 'optional': False, 'description': 'access key'}, {'name': 'steamid', 'type': 'uint64', 'optional': False, 'description': 'SteamID of user'}, {'name': 'appid', 'type': 'uint32', 'optional': False, 'description': 'appid of game'}]}\n",
      "    - {'name': 'GetUserStatsForGame', 'version': 2, 'httpmethod': 'GET', 'parameters': [{'name': 'key', 'type': 'string', 'optional': False, 'description': 'access key'}, {'name': 'steamid', 'type': 'uint64', 'optional': False, 'description': 'SteamID of user'}, {'name': 'appid', 'type': 'uint32', 'optional': False, 'description': 'appid of game'}]}\n",
      "ISteamWebAPIUtil\n",
      "  - methods:\n",
      "    - {'name': 'GetServerInfo', 'version': 1, 'httpmethod': 'GET', 'parameters': []}\n",
      "    - {'name': 'GetSupportedAPIList', 'version': 1, 'httpmethod': 'GET', 'parameters': [{'name': 'key', 'type': 'string', 'optional': True, 'description': 'access key'}]}\n",
      "ITFItems_440\n",
      "  - methods:\n",
      "    - {'name': 'GetGoldenWrenches', 'version': 1, 'httpmethod': 'GET', 'parameters': []}\n",
      "    - {'name': 'GetGoldenWrenches', 'version': 2, 'httpmethod': 'GET', 'parameters': []}\n",
      "ITFPromos_440\n",
      "  - methods:\n",
      "    - {'name': 'GetItemID', 'version': 1, 'httpmethod': 'GET', 'parameters': [{'name': 'steamid', 'type': 'uint64', 'optional': False, 'description': 'The Steam ID to fetch items for'}, {'name': 'promoid', 'type': 'uint32', 'optional': False, 'description': 'The promo ID to grant an item for'}]}\n",
      "    - {'name': 'GrantItem', 'version': 1, 'httpmethod': 'POST', 'parameters': [{'name': 'steamid', 'type': 'uint64', 'optional': False, 'description': 'The Steam ID to fetch items for'}, {'name': 'promoid', 'type': 'uint32', 'optional': False, 'description': 'The promo ID to grant an item for'}]}\n",
      "ITFPromos_620\n",
      "  - methods:\n",
      "    - {'name': 'GetItemID', 'version': 1, 'httpmethod': 'GET', 'parameters': [{'name': 'steamid', 'type': 'uint64', 'optional': False, 'description': 'The Steam ID to fetch items for'}, {'name': 'PromoID', 'type': 'uint32', 'optional': False, 'description': 'The promo ID to grant an item for'}]}\n",
      "    - {'name': 'GrantItem', 'version': 1, 'httpmethod': 'POST', 'parameters': [{'name': 'steamid', 'type': 'uint64', 'optional': False, 'description': 'The Steam ID to fetch items for'}, {'name': 'PromoID', 'type': 'uint32', 'optional': False, 'description': 'The promo ID to grant an item for'}]}\n",
      "ITFSystem_440\n",
      "  - methods:\n",
      "    - {'name': 'GetWorldStatus', 'version': 1, 'httpmethod': 'GET', 'parameters': []}\n",
      "IGameServersService\n",
      "  - methods:\n",
      "    - {'name': 'GetAccountList', 'version': 1, 'httpmethod': 'GET', 'description': 'Gets a list of game server accounts with their logon tokens', 'parameters': [{'name': 'key', 'type': 'string', 'optional': False, 'description': 'Access key'}]}\n",
      "    - {'name': 'CreateAccount', 'version': 1, 'httpmethod': 'POST', 'description': 'Creates a persistent game server account', 'parameters': [{'name': 'key', 'type': 'string', 'optional': False, 'description': 'Access key'}, {'name': 'appid', 'type': 'uint32', 'optional': False, 'description': 'The app to use the account for'}, {'name': 'memo', 'type': 'string', 'optional': False, 'description': 'The memo to set on the new account'}]}\n",
      "    - {'name': 'SetMemo', 'version': 1, 'httpmethod': 'POST', 'description': 'This method changes the memo associated with the game server account. Memos do not affect the account in any way. The memo shows up in the GetAccountList response and serves only as a reminder of what the account is used for.', 'parameters': [{'name': 'key', 'type': 'string', 'optional': False, 'description': 'Access key'}, {'name': 'steamid', 'type': 'uint64', 'optional': False, 'description': 'The SteamID of the game server to set the memo on'}, {'name': 'memo', 'type': 'string', 'optional': False, 'description': 'The memo to set on the new account'}]}\n",
      "    - {'name': 'ResetLoginToken', 'version': 1, 'httpmethod': 'POST', 'description': 'Generates a new login token for the specified game server', 'parameters': [{'name': 'key', 'type': 'string', 'optional': False, 'description': 'Access key'}, {'name': 'steamid', 'type': 'uint64', 'optional': False, 'description': 'The SteamID of the game server to reset the login token of'}]}\n",
      "    - {'name': 'DeleteAccount', 'version': 1, 'httpmethod': 'POST', 'description': 'Deletes a persistent game server account', 'parameters': [{'name': 'key', 'type': 'string', 'optional': False, 'description': 'Access key'}, {'name': 'steamid', 'type': 'uint64', 'optional': False, 'description': 'The SteamID of the game server account to delete'}]}\n",
      "    - {'name': 'GetAccountPublicInfo', 'version': 1, 'httpmethod': 'GET', 'description': 'Gets public information about a given game server account', 'parameters': [{'name': 'key', 'type': 'string', 'optional': False, 'description': 'Access key'}, {'name': 'steamid', 'type': 'uint64', 'optional': False, 'description': 'The SteamID of the game server to get info on'}]}\n",
      "    - {'name': 'QueryLoginToken', 'version': 1, 'httpmethod': 'GET', 'description': 'Queries the status of the specified token, which must be owned by you', 'parameters': [{'name': 'key', 'type': 'string', 'optional': False, 'description': 'Access key'}, {'name': 'login_token', 'type': 'string', 'optional': False, 'description': 'Login token to query'}]}\n",
      "    - {'name': 'GetServerSteamIDsByIP', 'version': 1, 'httpmethod': 'GET', 'description': 'Gets a list of server SteamIDs given a list of IPs', 'parameters': [{'name': 'key', 'type': 'string', 'optional': False, 'description': 'Access key'}, {'name': 'server_ips', 'type': 'string', 'optional': False}]}\n",
      "    - {'name': 'GetServerIPsBySteamID', 'version': 1, 'httpmethod': 'GET', 'description': 'Gets a list of server IP addresses given a list of SteamIDs', 'parameters': [{'name': 'key', 'type': 'string', 'optional': False, 'description': 'Access key'}, {'name': 'server_steamids', 'type': 'uint64', 'optional': False}]}\n",
      "    - {'name': 'QueryByFakeIP', 'version': 1, 'httpmethod': 'GET', 'description': 'Perform a query on a specific server by FakeIP', 'parameters': [{'name': 'key', 'type': 'string', 'optional': False, 'description': 'Access key'}, {'name': 'fake_ip', 'type': 'uint32', 'optional': False, 'description': 'FakeIP of server to query.'}, {'name': 'fake_port', 'type': 'uint32', 'optional': False, 'description': 'Fake port of server to query.'}, {'name': 'app_id', 'type': 'uint32', 'optional': False, 'description': 'AppID to use.  Each AppID has its own FakeIP address.'}, {'name': 'query_type', 'type': '{enum}', 'optional': False, 'description': 'What type of query?'}]}\n",
      "IPlayerService\n",
      "  - methods:\n",
      "    - {'name': 'IsPlayingSharedGame', 'version': 1, 'httpmethod': 'GET', 'description': 'Obsolete, partners should use ISteamUser.CheckAppOwnership', 'parameters': [{'name': 'key', 'type': 'string', 'optional': False, 'description': 'Access key'}, {'name': 'steamid', 'type': 'uint64', 'optional': False, 'description': \"The player we're asking about\"}, {'name': 'appid_playing', 'type': 'uint32', 'optional': False, 'description': 'The game player is currently playing'}]}\n",
      "    - {'name': 'RecordOfflinePlaytime', 'version': 1, 'httpmethod': 'POST', 'description': 'Tracks playtime for a user when they are offline', 'parameters': [{'name': 'steamid', 'type': 'uint64', 'optional': False}, {'name': 'ticket', 'type': 'string', 'optional': False}, {'name': 'play_sessions', 'type': '{message}', 'optional': False}]}\n",
      "    - {'name': 'GetRecentlyPlayedGames', 'version': 1, 'httpmethod': 'GET', 'description': \"Gets information about a player's recently played games\", 'parameters': [{'name': 'key', 'type': 'string', 'optional': False, 'description': 'Access key'}, {'name': 'steamid', 'type': 'uint64', 'optional': False, 'description': \"The player we're asking about\"}, {'name': 'count', 'type': 'uint32', 'optional': False, 'description': 'The number of games to return (0/unset: all)'}]}\n",
      "    - {'name': 'GetOwnedGames', 'version': 1, 'httpmethod': 'GET', 'description': 'Return a list of games owned by the player', 'parameters': [{'name': 'key', 'type': 'string', 'optional': False, 'description': 'Access key'}, {'name': 'steamid', 'type': 'uint64', 'optional': False, 'description': \"The player we're asking about\"}, {'name': 'include_appinfo', 'type': 'bool', 'optional': False, 'description': 'true if we want additional details (name, icon) about each game'}, {'name': 'include_played_free_games', 'type': 'bool', 'optional': False, 'description': 'Free games are excluded by default.  If this is set, free games the user has played will be returned.'}, {'name': 'appids_filter', 'type': 'uint32', 'optional': False, 'description': 'if set, restricts result set to the passed in apps'}, {'name': 'include_free_sub', 'type': 'bool', 'optional': False, 'description': 'Some games are in the free sub, which are excluded by default.'}, {'name': 'skip_unvetted_apps', 'type': 'bool', 'optional': True, 'description': 'if set, skip unvetted store apps'}, {'name': 'language', 'type': 'string', 'optional': False, 'description': 'Will return appinfo in this language'}, {'name': 'include_extended_appinfo', 'type': 'bool', 'optional': False, 'description': 'true if we want even more details (capsule, sortas, and capabilities) about each game.  include_appinfo must also be true.'}]}\n",
      "    - {'name': 'GetSteamLevel', 'version': 1, 'httpmethod': 'GET', 'description': 'Returns the Steam Level of a user', 'parameters': [{'name': 'key', 'type': 'string', 'optional': False, 'description': 'Access key'}, {'name': 'steamid', 'type': 'uint64', 'optional': False, 'description': \"The player we're asking about\"}]}\n",
      "    - {'name': 'GetBadges', 'version': 1, 'httpmethod': 'GET', 'description': 'Gets badges that are owned by a specific user', 'parameters': [{'name': 'key', 'type': 'string', 'optional': False, 'description': 'Access key'}, {'name': 'steamid', 'type': 'uint64', 'optional': False, 'description': \"The player we're asking about\"}]}\n",
      "    - {'name': 'GetCommunityBadgeProgress', 'version': 1, 'httpmethod': 'GET', 'description': 'Gets all the quests needed to get the specified badge, and which are completed', 'parameters': [{'name': 'key', 'type': 'string', 'optional': False, 'description': 'Access key'}, {'name': 'steamid', 'type': 'uint64', 'optional': False, 'description': \"The player we're asking about\"}, {'name': 'badgeid', 'type': 'int32', 'optional': False, 'description': \"The badge we're asking about\"}]}\n",
      "IAuthenticationService\n",
      "  - methods:\n",
      "    - {'name': 'PollAuthSessionStatus', 'version': 1, 'httpmethod': 'POST', 'description': 'poll during authentication process', 'parameters': [{'name': 'client_id', 'type': 'uint64', 'optional': False}, {'name': 'request_id', 'type': 'string', 'optional': False}, {'name': 'token_to_revoke', 'type': 'uint64', 'optional': False, 'description': 'If this is set to a token owned by this user, that token will be retired'}]}\n",
      "    - {'name': 'GetAuthSessionInfo', 'version': 1, 'httpmethod': 'POST', 'description': 'get metadata of specific auth session, this will also implicitly bind the calling account', 'parameters': [{'name': 'client_id', 'type': 'uint64', 'optional': False, 'description': 'client ID from scanned QR Code, used for routing'}]}\n",
      "    - {'name': 'GetAuthSessionRiskInfo', 'version': 1, 'httpmethod': 'POST', 'description': 'get risk metadata for a specific auth session that has been deemed risky', 'parameters': [{'name': 'client_id', 'type': 'uint64', 'optional': False, 'description': 'client ID from scanned QR Code, used for routing'}, {'name': 'language', 'type': 'uint32', 'optional': False, 'description': 'language for optimistic localization of geoloc data'}]}\n",
      "    - {'name': 'NotifyRiskQuizResults', 'version': 1, 'httpmethod': 'POST', 'description': 'notify the server about risk quiz responses for metrics purposes', 'parameters': [{'name': 'client_id', 'type': 'uint64', 'optional': False, 'description': 'client ID for the auth session, used for routing'}, {'name': 'results', 'type': '{message}', 'optional': False, 'description': 'Whether or not the user correctly answered each risk quiz question'}, {'name': 'selected_action', 'type': 'string', 'optional': False, 'description': 'The action being taken selected by the user during the quiz'}, {'name': 'did_confirm_login', 'type': 'bool', 'optional': False, 'description': 'Whether or not the user went on to confirm the login or not in the case of a passed quiz'}]}\n",
      "    - {'name': 'GetPasswordRSAPublicKey', 'version': 1, 'httpmethod': 'GET', 'description': 'Fetches RSA public key to use to encrypt passwords for a given account name', 'parameters': [{'name': 'account_name', 'type': 'string', 'optional': False, 'description': 'user-provided account name to get an RSA key for'}]}\n",
      "    - {'name': 'BeginAuthSessionViaCredentials', 'version': 1, 'httpmethod': 'POST', 'description': 'start authentication process', 'parameters': [{'name': 'device_friendly_name', 'type': 'string', 'optional': False}, {'name': 'account_name', 'type': 'string', 'optional': False}, {'name': 'encrypted_password', 'type': 'string', 'optional': False, 'description': 'password, RSA encrypted client side'}, {'name': 'encryption_timestamp', 'type': 'uint64', 'optional': False, 'description': 'timestamp to map to a key - STime'}, {'name': 'remember_login', 'type': 'bool', 'optional': False, 'description': 'deprecated'}, {'name': 'platform_type', 'type': '{enum}', 'optional': False}, {'name': 'persistence', 'type': '{enum}', 'optional': True, 'description': 'whether we are requesting a persistent or an ephemeral session'}, {'name': 'website_id', 'type': 'string', 'optional': True, 'description': '(EMachineAuthWebDomain) identifier of client requesting auth'}, {'name': 'device_details', 'type': '{message}', 'optional': False, 'description': 'User-supplied details about the device attempting to sign in'}, {'name': 'guard_data', 'type': 'string', 'optional': False, 'description': 'steam guard data for client login'}, {'name': 'language', 'type': 'uint32', 'optional': False}, {'name': 'qos_level', 'type': 'int32', 'optional': True, 'description': '[ENetQOSLevel] client-specified priority for this auth attempt'}]}\n",
      "    - {'name': 'UpdateAuthSessionWithSteamGuardCode', 'version': 1, 'httpmethod': 'POST', 'description': 'approve an authentication session via steam guard code', 'parameters': [{'name': 'client_id', 'type': 'uint64', 'optional': False, 'description': 'pending client ID, from initialized session'}, {'name': 'steamid', 'type': 'uint64', 'optional': False, 'description': 'user who wants to login'}, {'name': 'code', 'type': 'string', 'optional': False, 'description': 'confirmation code'}, {'name': 'code_type', 'type': '{enum}', 'optional': False, 'description': 'type of confirmation code'}]}\n",
      "    - {'name': 'BeginAuthSessionViaQR', 'version': 1, 'httpmethod': 'POST', 'description': 'start authentication process', 'parameters': [{'name': 'device_friendly_name', 'type': 'string', 'optional': False}, {'name': 'platform_type', 'type': '{enum}', 'optional': False}, {'name': 'device_details', 'type': '{message}', 'optional': False, 'description': 'User-supplied details about the device attempting to sign in'}, {'name': 'website_id', 'type': 'string', 'optional': True, 'description': '(EMachineAuthWebDomain) identifier of client requesting auth'}]}\n",
      "    - {'name': 'UpdateAuthSessionWithMobileConfirmation', 'version': 1, 'httpmethod': 'POST', 'description': 'approve an authentication session via mobile 2fa', 'parameters': [{'name': 'version', 'type': 'int32', 'optional': False, 'description': 'version field'}, {'name': 'client_id', 'type': 'uint64', 'optional': False, 'description': 'pending client ID, from scanned QR Code'}, {'name': 'steamid', 'type': 'uint64', 'optional': False, 'description': 'user who wants to login'}, {'name': 'signature', 'type': 'string', 'optional': False, 'description': \"HMAC digest over {version,client_id,steamid} via user's private key\"}, {'name': 'confirm', 'type': 'bool', 'optional': True, 'description': 'Whether to confirm the login (true) or deny the login (false)'}, {'name': 'persistence', 'type': '{enum}', 'optional': True, 'description': 'whether we are requesting a persistent or an ephemeral session'}]}\n",
      "IBroadcastService\n",
      "  - methods:\n",
      "    - {'name': 'PostGameDataFrameRTMP', 'version': 1, 'httpmethod': 'POST', 'description': 'Add a game meta data frame to broadcast from a client. Uses RTMP token for validation', 'parameters': [{'name': 'appid', 'type': 'uint32', 'optional': False, 'description': 'AppID of the game being broadcasted'}, {'name': 'steamid', 'type': 'uint64', 'optional': False, 'description': 'Broadcasters SteamID'}, {'name': 'rtmp_token', 'type': 'string', 'optional': False, 'description': 'Valid RTMP token for the Broadcaster'}, {'name': 'frame_data', 'type': 'string', 'optional': False, 'description': 'game data frame expressing current state of game (string, zipped, whatever)'}]}\n",
      "IContentServerConfigService\n",
      "  - methods:\n",
      "    - {'name': 'SetSteamCacheClientFilters', 'version': 1, 'httpmethod': 'POST', 'description': 'Update the client filters for a SteamCache node', 'parameters': [{'name': 'key', 'type': 'string', 'optional': False, 'description': 'Access key'}, {'name': 'cache_id', 'type': 'uint32', 'optional': False, 'description': 'Unique ID number'}, {'name': 'cache_key', 'type': 'string', 'optional': False, 'description': 'Valid current cache API key'}, {'name': 'change_notes', 'type': 'string', 'optional': False, 'description': 'Notes'}, {'name': 'allowed_ip_blocks', 'type': 'string', 'optional': False, 'description': 'comma-separated list of allowed IP address blocks in CIDR format - blank to clear unfilter'}]}\n",
      "    - {'name': 'GetSteamCacheNodeParams', 'version': 1, 'httpmethod': 'GET', 'description': 'Get the operational parameters for a SteamCache node (information the node uses to operate).', 'parameters': [{'name': 'key', 'type': 'string', 'optional': False, 'description': 'Access key'}, {'name': 'cache_id', 'type': 'uint32', 'optional': False, 'description': 'Unique ID number'}, {'name': 'cache_key', 'type': 'string', 'optional': False, 'description': 'Valid current cache API key'}]}\n",
      "    - {'name': 'SetSteamCachePerformanceStats', 'version': 1, 'httpmethod': 'POST', 'description': 'Update the performance/load stats for a SteamCache node', 'parameters': [{'name': 'key', 'type': 'string', 'optional': False, 'description': 'Access key'}, {'name': 'cache_id', 'type': 'uint32', 'optional': False, 'description': 'Unique ID number'}, {'name': 'cache_key', 'type': 'string', 'optional': False, 'description': 'Valid current cache API key'}, {'name': 'mbps_sent', 'type': 'uint32', 'optional': False, 'description': 'Outgoing network traffic in Mbps'}, {'name': 'mbps_recv', 'type': 'uint32', 'optional': False, 'description': 'Incoming network traffic in Mbps'}, {'name': 'cpu_percent', 'type': 'uint32', 'optional': False, 'description': 'Percent CPU load'}, {'name': 'cache_hit_percent', 'type': 'uint32', 'optional': False, 'description': 'Percent cache hits'}, {'name': 'num_connected_ips', 'type': 'uint32', 'optional': False, 'description': 'Number of unique connected IP addresses'}, {'name': 'upstream_egress_utilization', 'type': 'uint32', 'optional': False, 'description': '(deprecated) What is the percent utilization of the busiest datacenter egress link?'}, {'name': 'upstream_peering_utilization', 'type': 'uint32', 'optional': False, 'description': 'What is the percent utilization of the busiest peering link?'}, {'name': 'upstream_transit_utilization', 'type': 'uint32', 'optional': False, 'description': 'What is the percent utilization of the busiest transit link?'}]}\n",
      "IContentServerDirectoryService\n",
      "  - methods:\n",
      "    - {'name': 'GetCDNForVideo', 'version': 1, 'httpmethod': 'GET', 'parameters': [{'name': 'property_type', 'type': 'int32', 'optional': False, 'description': 'ECDNPropertyType'}, {'name': 'client_ip', 'type': 'string', 'optional': False, 'description': 'client IP address'}, {'name': 'client_region', 'type': 'string', 'optional': False, 'description': 'client region'}]}\n",
      "    - {'name': 'PickSingleContentServer', 'version': 1, 'httpmethod': 'GET', 'parameters': [{'name': 'property_type', 'type': 'int32', 'optional': False, 'description': 'ECDNPropertyType'}, {'name': 'cell_id', 'type': 'uint32', 'optional': False, 'description': 'client Cell ID'}, {'name': 'client_ip', 'type': 'string', 'optional': False, 'description': 'client IP address'}]}\n",
      "    - {'name': 'GetServersForSteamPipe', 'version': 1, 'httpmethod': 'GET', 'parameters': [{'name': 'cell_id', 'type': 'uint32', 'optional': False, 'description': 'client Cell ID'}, {'name': 'max_servers', 'type': 'uint32', 'optional': True, 'description': 'max servers in response list'}, {'name': 'ip_override', 'type': 'string', 'optional': True, 'description': 'client IP address'}, {'name': 'launcher_type', 'type': 'int32', 'optional': True, 'description': 'launcher type'}, {'name': 'ipv6_public', 'type': 'string', 'optional': True, 'description': 'client public ipv6 address if it knows it'}, {'name': 'current_connections', 'type': '{message}', 'optional': False, 'description': 'what sources is the client currently using'}]}\n",
      "    - {'name': 'GetClientUpdateHosts', 'version': 1, 'httpmethod': 'GET', 'parameters': [{'name': 'cached_signature', 'type': 'string', 'optional': False}]}\n",
      "    - {'name': 'GetDepotPatchInfo', 'version': 1, 'httpmethod': 'GET', 'parameters': [{'name': 'appid', 'type': 'uint32', 'optional': False}, {'name': 'depotid', 'type': 'uint32', 'optional': False}, {'name': 'source_manifestid', 'type': 'uint64', 'optional': False}, {'name': 'target_manifestid', 'type': 'uint64', 'optional': False}]}\n",
      "IPublishedFileService\n",
      "  - methods:\n",
      "    - {'name': 'GetUserVoteSummary', 'version': 1, 'httpmethod': 'GET', 'description': 'Get user vote summary', 'parameters': [{'name': 'publishedfileids', 'type': 'uint64', 'optional': False}]}\n",
      "    - {'name': 'QueryFiles', 'version': 1, 'httpmethod': 'GET', 'description': 'Performs a search query for published files', 'parameters': [{'name': 'key', 'type': 'string', 'optional': False, 'description': 'Access key'}, {'name': 'query_type', 'type': 'uint32', 'optional': False, 'description': 'enumeration EPublishedFileQueryType in clientenums.h'}, {'name': 'page', 'type': 'uint32', 'optional': False, 'description': 'Current page'}, {'name': 'cursor', 'type': 'string', 'optional': False, 'description': \"Cursor to paginate through the results (set to '*' for the first request).  Prefer this over using the page parameter, as it will allow you to do deep pagination.  When used, the page parameter will be ignored.\"}, {'name': 'numperpage', 'type': 'uint32', 'optional': True, 'description': '(Optional) The number of results, per page to return.'}, {'name': 'creator_appid', 'type': 'uint32', 'optional': False, 'description': 'App that created the files'}, {'name': 'appid', 'type': 'uint32', 'optional': False, 'description': 'App that consumes the files'}, {'name': 'requiredtags', 'type': 'string', 'optional': False, 'description': 'Tags to match on. See match_all_tags parameter below'}, {'name': 'excludedtags', 'type': 'string', 'optional': False, 'description': '(Optional) Tags that must NOT be present on a published file to satisfy the query.'}, {'name': 'match_all_tags', 'type': 'bool', 'optional': True, 'description': 'If true, then items must have all the tags specified, otherwise they must have at least one of the tags.'}, {'name': 'required_flags', 'type': 'string', 'optional': False, 'description': 'Required flags that must be set on any returned items'}, {'name': 'omitted_flags', 'type': 'string', 'optional': False, 'description': 'Flags that must not be set on any returned items'}, {'name': 'search_text', 'type': 'string', 'optional': False, 'description': \"Text to match in the item's title or description\"}, {'name': 'filetype', 'type': 'uint32', 'optional': False, 'description': 'EPublishedFileInfoMatchingFileType'}, {'name': 'child_publishedfileid', 'type': 'uint64', 'optional': False, 'description': 'Find all items that reference the given item.'}, {'name': 'days', 'type': 'uint32', 'optional': False, 'description': 'If query_type is k_PublishedFileQueryType_RankedByTrend, then this is the number of days to get votes for [1,7].'}, {'name': 'include_recent_votes_only', 'type': 'bool', 'optional': False, 'description': 'If query_type is k_PublishedFileQueryType_RankedByTrend, then limit result set just to items that have votes within the day range given'}, {'name': 'cache_max_age_seconds', 'type': 'uint32', 'optional': True, 'description': 'Allow stale data to be returned for the specified number of seconds.'}, {'name': 'language', 'type': 'int32', 'optional': True, 'description': 'Language to search in and also what gets returned. Defaults to English.'}, {'name': 'required_kv_tags', 'type': '{message}', 'optional': False, 'description': 'Required key-value tags to match on.'}, {'name': 'taggroups', 'type': '{message}', 'optional': False, 'description': '(Optional) At least one of the tags must be present on a published file to satisfy the query.'}, {'name': 'date_range_created', 'type': '{message}', 'optional': False, 'description': '(Optional) Filter to items created within this range.'}, {'name': 'date_range_updated', 'type': '{message}', 'optional': False, 'description': '(Optional) Filter to items updated within this range.'}, {'name': 'excluded_content_descriptors', 'type': '{enum}', 'optional': False, 'description': '(Optional) Filter out items that have these content descriptors.'}, {'name': 'admin_query', 'type': 'bool', 'optional': False, 'description': 'Admin tool is doing a query, return hidden items'}, {'name': 'totalonly', 'type': 'bool', 'optional': False, 'description': '(Optional) If true, only return the total number of files that satisfy this query.'}, {'name': 'ids_only', 'type': 'bool', 'optional': False, 'description': '(Optional) If true, only return the published file ids of files that satisfy this query.'}, {'name': 'return_vote_data', 'type': 'bool', 'optional': False, 'description': 'Return vote data'}, {'name': 'return_tags', 'type': 'bool', 'optional': False, 'description': 'Return tags in the file details'}, {'name': 'return_kv_tags', 'type': 'bool', 'optional': False, 'description': 'Return key-value tags in the file details'}, {'name': 'return_previews', 'type': 'bool', 'optional': False, 'description': 'Return preview image and video details in the file details'}, {'name': 'return_children', 'type': 'bool', 'optional': False, 'description': 'Return child item ids in the file details'}, {'name': 'return_short_description', 'type': 'bool', 'optional': False, 'description': 'Populate the short_description field instead of file_description'}, {'name': 'return_for_sale_data', 'type': 'bool', 'optional': False, 'description': 'Return pricing information, if applicable'}, {'name': 'return_metadata', 'type': 'bool', 'optional': True, 'description': 'Populate the metadata'}, {'name': 'return_playtime_stats', 'type': 'uint32', 'optional': False, 'description': 'Return playtime stats for the specified number of days before today.'}, {'name': 'return_details', 'type': 'bool', 'optional': False, 'description': \"By default, if none of the other 'return_*' fields are set, only some voting details are returned. Set this to true to return the default set of details.\"}, {'name': 'strip_description_bbcode', 'type': 'bool', 'optional': False, 'description': 'Strips BBCode from descriptions.'}, {'name': 'desired_revision', 'type': '{enum}', 'optional': True, 'description': 'Return the data for the specified revision.'}, {'name': 'return_reactions', 'type': 'bool', 'optional': True, 'description': 'If true, then reactions to items will be returned.'}]}\n",
      "    - {'name': 'GetSubSectionData', 'version': 1, 'httpmethod': 'GET', 'description': 'Get sub section data (for table of contents, a specific section, or all)', 'parameters': [{'name': 'key', 'type': 'string', 'optional': False, 'description': 'Access key'}, {'name': 'publishedfileid', 'type': 'uint64', 'optional': False}, {'name': 'for_table_of_contents', 'type': 'bool', 'optional': False}, {'name': 'specific_sectionid', 'type': 'uint64', 'optional': False}, {'name': 'desired_revision', 'type': '{enum}', 'optional': True, 'description': 'Return the data for the specified revision.'}]}\n",
      "    - {'name': 'GetDetails', 'version': 1, 'httpmethod': 'GET', 'description': 'Retrieves information about a set of published files.', 'parameters': [{'name': 'key', 'type': 'string', 'optional': False, 'description': 'Access key'}, {'name': 'publishedfileids', 'type': 'uint64', 'optional': False, 'description': 'Set of published file Ids to retrieve details for.'}, {'name': 'includetags', 'type': 'bool', 'optional': False, 'description': 'If true, return tag information in the returned details.'}, {'name': 'includeadditionalpreviews', 'type': 'bool', 'optional': False, 'description': 'If true, return preview information in the returned details.'}, {'name': 'includechildren', 'type': 'bool', 'optional': False, 'description': 'If true, return children in the returned details.'}, {'name': 'includekvtags', 'type': 'bool', 'optional': False, 'description': 'If true, return key value tags in the returned details.'}, {'name': 'includevotes', 'type': 'bool', 'optional': False, 'description': 'If true, return vote data in the returned details.'}, {'name': 'short_description', 'type': 'bool', 'optional': False, 'description': 'If true, return a short description instead of the full description.'}, {'name': 'includeforsaledata', 'type': 'bool', 'optional': False, 'description': 'If true, return pricing data, if applicable.'}, {'name': 'includemetadata', 'type': 'bool', 'optional': False, 'description': 'If true, populate the metadata field.'}, {'name': 'language', 'type': 'int32', 'optional': True, 'description': 'Specifies the localized text to return. Defaults to English.'}, {'name': 'return_playtime_stats', 'type': 'uint32', 'optional': False, 'description': 'Return playtime stats for the specified number of days before today.'}, {'name': 'appid', 'type': 'uint32', 'optional': False}, {'name': 'strip_description_bbcode', 'type': 'bool', 'optional': False, 'description': 'Strips BBCode from descriptions.'}, {'name': 'desired_revision', 'type': '{enum}', 'optional': True, 'description': 'Return the data for the specified revision.'}, {'name': 'includereactions', 'type': 'bool', 'optional': True, 'description': 'If true, then reactions to items will be returned.'}, {'name': 'admin_query', 'type': 'bool', 'optional': False, 'description': 'Admin tool is doing a query, return hidden items'}]}\n",
      "    - {'name': 'GetUserFiles', 'version': 1, 'httpmethod': 'GET', 'description': 'Retrieves files published by a user.', 'parameters': [{'name': 'key', 'type': 'string', 'optional': False, 'description': 'Access key'}, {'name': 'steamid', 'type': 'uint64', 'optional': False, 'description': 'Steam ID of the user whose files are being requested.'}, {'name': 'appid', 'type': 'uint32', 'optional': False, 'description': 'App Id of the app that the files were published to.'}, {'name': 'shortcutid', 'type': 'uint32', 'optional': False, 'description': '(Optional) Shortcut Id to retrieve published files from.'}, {'name': 'page', 'type': 'uint32', 'optional': True, 'description': '(Optional) Starting page for results.'}, {'name': 'numperpage', 'type': 'uint32', 'optional': True, 'description': '(Optional) The number of results, per page to return.'}, {'name': 'type', 'type': 'string', 'optional': True, 'description': '(Optional) Type of files to be returned.'}, {'name': 'sortmethod', 'type': 'string', 'optional': True, 'description': '(Optional) Sorting method to use on returned values.'}, {'name': 'privacy', 'type': 'uint32', 'optional': False, 'description': '(optional) Filter by privacy settings.'}, {'name': 'requiredtags', 'type': 'string', 'optional': False, 'description': '(Optional) Tags that must be present on a published file to satisfy the query.'}, {'name': 'excludedtags', 'type': 'string', 'optional': False, 'description': '(Optional) Tags that must NOT be present on a published file to satisfy the query.'}, {'name': 'required_kv_tags', 'type': '{message}', 'optional': False, 'description': 'Required key-value tags to match on.'}, {'name': 'filetype', 'type': 'uint32', 'optional': False, 'description': '(Optional) File type to match files to.'}, {'name': 'creator_appid', 'type': 'uint32', 'optional': False, 'description': 'App Id of the app that published the files, only matched if specified.'}, {'name': 'match_cloud_filename', 'type': 'string', 'optional': False, 'description': 'Match this cloud filename if specified.'}, {'name': 'cache_max_age_seconds', 'type': 'uint32', 'optional': True, 'description': 'Allow stale data to be returned for the specified number of seconds.'}, {'name': 'language', 'type': 'int32', 'optional': True, 'description': 'Specifies the localized text to return. Defaults to English.'}, {'name': 'taggroups', 'type': '{message}', 'optional': False, 'description': '(Optional) At least one of the tags must be present on a published file to satisfy the query.'}, {'name': 'excluded_content_descriptors', 'type': '{enum}', 'optional': False, 'description': '(Optional) Filter out items that have these content descriptors.'}, {'name': 'admin_query', 'type': 'bool', 'optional': False, 'description': 'Admin tool is doing a query, return hidden items'}, {'name': 'totalonly', 'type': 'bool', 'optional': False, 'description': '(Optional) If true, only return the total number of files that satisfy this query.'}, {'name': 'ids_only', 'type': 'bool', 'optional': False, 'description': '(Optional) If true, only return the published file ids of files that satisfy this query.'}, {'name': 'return_vote_data', 'type': 'bool', 'optional': True, 'description': 'Return vote data'}, {'name': 'return_tags', 'type': 'bool', 'optional': False, 'description': 'Return tags in the file details'}, {'name': 'return_kv_tags', 'type': 'bool', 'optional': True, 'description': 'Return key-value tags in the file details'}, {'name': 'return_previews', 'type': 'bool', 'optional': False, 'description': 'Return preview image and video details in the file details'}, {'name': 'return_children', 'type': 'bool', 'optional': False, 'description': 'Return child item ids in the file details'}, {'name': 'return_short_description', 'type': 'bool', 'optional': True, 'description': 'Populate the short_description field instead of file_description'}, {'name': 'return_for_sale_data', 'type': 'bool', 'optional': False, 'description': 'Return pricing information, if applicable'}, {'name': 'return_metadata', 'type': 'bool', 'optional': True, 'description': 'Populate the metadata field'}, {'name': 'return_playtime_stats', 'type': 'uint32', 'optional': False, 'description': 'Return playtime stats for the specified number of days before today.'}, {'name': 'strip_description_bbcode', 'type': 'bool', 'optional': False, 'description': 'Strips BBCode from descriptions.'}, {'name': 'return_reactions', 'type': 'bool', 'optional': True, 'description': 'If true, then reactions to items will be returned.'}, {'name': 'startindex_override', 'type': 'uint32', 'optional': False, 'description': 'Backwards compatible for the client.'}, {'name': 'desired_revision', 'type': '{enum}', 'optional': True, 'description': 'Return the data for the specified revision.'}, {'name': 'return_apps', 'type': 'bool', 'optional': False, 'description': 'Return list of apps the items belong to'}]}\n",
      "    - {'name': 'GetUserFileCount', 'version': 1, 'httpmethod': 'GET', 'description': 'Retrieves a count of files published by a user. Uses the same messages as GetUserFiles but totalonly must be true.', 'parameters': [{'name': 'key', 'type': 'string', 'optional': False, 'description': 'Access key'}, {'name': 'steamid', 'type': 'uint64', 'optional': False, 'description': 'Steam ID of the user whose files are being requested.'}, {'name': 'appid', 'type': 'uint32', 'optional': False, 'description': 'App Id of the app that the files were published to.'}, {'name': 'shortcutid', 'type': 'uint32', 'optional': False, 'description': '(Optional) Shortcut Id to retrieve published files from.'}, {'name': 'page', 'type': 'uint32', 'optional': True, 'description': '(Optional) Starting page for results.'}, {'name': 'numperpage', 'type': 'uint32', 'optional': True, 'description': '(Optional) The number of results, per page to return.'}, {'name': 'type', 'type': 'string', 'optional': True, 'description': '(Optional) Type of files to be returned.'}, {'name': 'sortmethod', 'type': 'string', 'optional': True, 'description': '(Optional) Sorting method to use on returned values.'}, {'name': 'privacy', 'type': 'uint32', 'optional': False, 'description': '(optional) Filter by privacy settings.'}, {'name': 'requiredtags', 'type': 'string', 'optional': False, 'description': '(Optional) Tags that must be present on a published file to satisfy the query.'}, {'name': 'excludedtags', 'type': 'string', 'optional': False, 'description': '(Optional) Tags that must NOT be present on a published file to satisfy the query.'}, {'name': 'required_kv_tags', 'type': '{message}', 'optional': False, 'description': 'Required key-value tags to match on.'}, {'name': 'filetype', 'type': 'uint32', 'optional': False, 'description': '(Optional) File type to match files to.'}, {'name': 'creator_appid', 'type': 'uint32', 'optional': False, 'description': 'App Id of the app that published the files, only matched if specified.'}, {'name': 'match_cloud_filename', 'type': 'string', 'optional': False, 'description': 'Match this cloud filename if specified.'}, {'name': 'cache_max_age_seconds', 'type': 'uint32', 'optional': True, 'description': 'Allow stale data to be returned for the specified number of seconds.'}, {'name': 'language', 'type': 'int32', 'optional': True, 'description': 'Specifies the localized text to return. Defaults to English.'}, {'name': 'taggroups', 'type': '{message}', 'optional': False, 'description': '(Optional) At least one of the tags must be present on a published file to satisfy the query.'}, {'name': 'excluded_content_descriptors', 'type': '{enum}', 'optional': False, 'description': '(Optional) Filter out items that have these content descriptors.'}, {'name': 'admin_query', 'type': 'bool', 'optional': False, 'description': 'Admin tool is doing a query, return hidden items'}, {'name': 'totalonly', 'type': 'bool', 'optional': False, 'description': '(Optional) If true, only return the total number of files that satisfy this query.'}, {'name': 'ids_only', 'type': 'bool', 'optional': False, 'description': '(Optional) If true, only return the published file ids of files that satisfy this query.'}, {'name': 'return_vote_data', 'type': 'bool', 'optional': True, 'description': 'Return vote data'}, {'name': 'return_tags', 'type': 'bool', 'optional': False, 'description': 'Return tags in the file details'}, {'name': 'return_kv_tags', 'type': 'bool', 'optional': True, 'description': 'Return key-value tags in the file details'}, {'name': 'return_previews', 'type': 'bool', 'optional': False, 'description': 'Return preview image and video details in the file details'}, {'name': 'return_children', 'type': 'bool', 'optional': False, 'description': 'Return child item ids in the file details'}, {'name': 'return_short_description', 'type': 'bool', 'optional': True, 'description': 'Populate the short_description field instead of file_description'}, {'name': 'return_for_sale_data', 'type': 'bool', 'optional': False, 'description': 'Return pricing information, if applicable'}, {'name': 'return_metadata', 'type': 'bool', 'optional': True, 'description': 'Populate the metadata field'}, {'name': 'return_playtime_stats', 'type': 'uint32', 'optional': False, 'description': 'Return playtime stats for the specified number of days before today.'}, {'name': 'strip_description_bbcode', 'type': 'bool', 'optional': False, 'description': 'Strips BBCode from descriptions.'}, {'name': 'return_reactions', 'type': 'bool', 'optional': True, 'description': 'If true, then reactions to items will be returned.'}, {'name': 'startindex_override', 'type': 'uint32', 'optional': False, 'description': 'Backwards compatible for the client.'}, {'name': 'desired_revision', 'type': '{enum}', 'optional': True, 'description': 'Return the data for the specified revision.'}, {'name': 'return_apps', 'type': 'bool', 'optional': False, 'description': 'Return list of apps the items belong to'}]}\n",
      "IEconService\n",
      "  - methods:\n",
      "    - {'name': 'GetTradeHistory', 'version': 1, 'httpmethod': 'GET', 'description': 'Gets a history of trades', 'parameters': [{'name': 'key', 'type': 'string', 'optional': False, 'description': 'Access key'}, {'name': 'max_trades', 'type': 'uint32', 'optional': False, 'description': 'The number of trades to return information for'}, {'name': 'start_after_time', 'type': 'uint32', 'optional': False, 'description': 'The time of the last trade shown on the previous page of results, or the time of the first trade if navigating back'}, {'name': 'start_after_tradeid', 'type': 'uint64', 'optional': False, 'description': 'The tradeid shown on the previous page of results, or the ID of the first trade if navigating back'}, {'name': 'navigating_back', 'type': 'bool', 'optional': False, 'description': 'The user wants the previous page of results, so return the previous max_trades trades before the start time and ID'}, {'name': 'get_descriptions', 'type': 'bool', 'optional': False, 'description': 'If set, the item display data for the items included in the returned trades will also be returned'}, {'name': 'language', 'type': 'string', 'optional': False, 'description': 'The language to use when loading item display data'}, {'name': 'include_failed', 'type': 'bool', 'optional': False}, {'name': 'include_total', 'type': 'bool', 'optional': False, 'description': 'If set, the total number of trades the account has participated in will be included in the response'}]}\n",
      "    - {'name': 'GetTradeStatus', 'version': 1, 'httpmethod': 'GET', 'description': 'Gets status for a specific trade', 'parameters': [{'name': 'key', 'type': 'string', 'optional': False, 'description': 'Access key'}, {'name': 'tradeid', 'type': 'uint64', 'optional': False}, {'name': 'get_descriptions', 'type': 'bool', 'optional': False, 'description': 'If set, the item display data for the items included in the returned trades will also be returned'}, {'name': 'language', 'type': 'string', 'optional': False, 'description': 'The language to use when loading item display data'}]}\n",
      "    - {'name': 'GetTradeOffers', 'version': 1, 'httpmethod': 'GET', 'description': 'Get a list of sent or received trade offers', 'parameters': [{'name': 'key', 'type': 'string', 'optional': False, 'description': 'Access key'}, {'name': 'get_sent_offers', 'type': 'bool', 'optional': False, 'description': 'Request the list of sent offers.'}, {'name': 'get_received_offers', 'type': 'bool', 'optional': False, 'description': 'Request the list of received offers.'}, {'name': 'get_descriptions', 'type': 'bool', 'optional': False, 'description': \"If set, the item display data for the items included in the returned trade offers will also be returned. If one or more descriptions can't be retrieved, then your request will fail.\"}, {'name': 'language', 'type': 'string', 'optional': False, 'description': 'The language to use when loading item display data.'}, {'name': 'active_only', 'type': 'bool', 'optional': False, 'description': 'Indicates we should only return offers which are still active, or offers that have changed in state since the time_historical_cutoff'}, {'name': 'historical_only', 'type': 'bool', 'optional': False, 'description': 'Indicates we should only return offers which are not active.'}, {'name': 'time_historical_cutoff', 'type': 'uint32', 'optional': False, 'description': 'When active_only is set, offers updated since this time will also be returned. When historical_only is set, only offers updated since this time are included.'}, {'name': 'cursor', 'type': 'uint32', 'optional': True, 'description': 'Cursor aka start index'}]}\n",
      "    - {'name': 'GetTradeOffer', 'version': 1, 'httpmethod': 'GET', 'description': 'Gets a specific trade offer', 'parameters': [{'name': 'key', 'type': 'string', 'optional': False, 'description': 'Access key'}, {'name': 'tradeofferid', 'type': 'uint64', 'optional': False}, {'name': 'language', 'type': 'string', 'optional': False}, {'name': 'get_descriptions', 'type': 'bool', 'optional': False, 'description': \"If set, the item display data for the items included in the returned trade offers will also be returned. If one or more descriptions can't be retrieved, then your request will fail.\"}]}\n",
      "    - {'name': 'GetTradeOffersSummary', 'version': 1, 'httpmethod': 'GET', 'description': 'Get counts of pending and new trade offers', 'parameters': [{'name': 'key', 'type': 'string', 'optional': False, 'description': 'Access key'}, {'name': 'time_last_visit', 'type': 'uint32', 'optional': False, 'description': 'The time the user last visited.  If not passed, will use the time the user last visited the trade offer page.'}]}\n",
      "    - {'name': 'GetTradeHoldDurations', 'version': 1, 'httpmethod': 'GET', 'description': 'Returns the estimated hold duration and end date that a trade with a user would have', 'parameters': [{'name': 'key', 'type': 'string', 'optional': False, 'description': 'Access key'}, {'name': 'steamid_target', 'type': 'uint64', 'optional': False, 'description': 'User you are trading with'}, {'name': 'trade_offer_access_token', 'type': 'string', 'optional': False, 'description': 'A special token that allows for trade offers from non-friends.'}]}\n",
      "IGameNotificationsService\n",
      "  - methods:\n",
      "    - {'name': 'UserCreateSession', 'version': 1, 'httpmethod': 'POST', 'description': 'Creates an async game session', 'parameters': [{'name': 'appid', 'type': 'uint32', 'optional': False, 'description': 'The appid to create the session for.'}, {'name': 'context', 'type': 'uint64', 'optional': False, 'description': 'Game-specified context value the game can used to associate the session with some object on their backend.'}, {'name': 'title', 'type': '{message}', 'optional': False, 'description': \"The title of the session to be displayed within each user's list of sessions.\"}, {'name': 'users', 'type': '{message}', 'optional': False, 'description': 'The initial state of all users in the session.'}, {'name': 'steamid', 'type': 'uint64', 'optional': False, 'description': '(Optional) steamid to make the request on behalf of -- if specified, the user must be in the session and all users being added to the session must be friends with the user.'}]}\n",
      "    - {'name': 'UserUpdateSession', 'version': 1, 'httpmethod': 'POST', 'description': 'Updates an async game session', 'parameters': [{'name': 'sessionid', 'type': 'uint64', 'optional': False, 'description': 'The sessionid to update.'}, {'name': 'appid', 'type': 'uint32', 'optional': False, 'description': 'The appid of the session to update.'}, {'name': 'title', 'type': '{message}', 'optional': False, 'description': '(Optional) The new title of the session.  If not specified, the title will not be changed.'}, {'name': 'users', 'type': '{message}', 'optional': False, 'description': '(Optional) A list of users whose state will be updated to reflect the given state. If the users are not already in the session, they will be added to it.'}, {'name': 'steamid', 'type': 'uint64', 'optional': False, 'description': '(Optional) steamid to make the request on behalf of -- if specified, the user must be in the session and all users being added to the session must be friends with the user.'}]}\n",
      "    - {'name': 'UserDeleteSession', 'version': 1, 'httpmethod': 'POST', 'description': 'Deletes an async game session', 'parameters': [{'name': 'sessionid', 'type': 'uint64', 'optional': False, 'description': 'The sessionid to delete.'}, {'name': 'appid', 'type': 'uint32', 'optional': False, 'description': 'The appid of the session to delete.'}, {'name': 'steamid', 'type': 'uint64', 'optional': False, 'description': '(Optional) steamid to make the request on behalf of -- if specified, the user must be in the session.'}]}\n",
      "IInventoryService\n",
      "  - methods:\n",
      "    - {'name': 'SplitItemStack', 'version': 1, 'httpmethod': 'POST', 'description': 'Split an item stack into two stacks', 'parameters': [{'name': 'key', 'type': 'string', 'optional': False, 'description': 'Access key'}, {'name': 'appid', 'type': 'uint32', 'optional': False}, {'name': 'itemid', 'type': 'uint64', 'optional': False}, {'name': 'quantity', 'type': 'uint32', 'optional': False}, {'name': 'steamid', 'type': 'uint64', 'optional': False}]}\n",
      "    - {'name': 'CombineItemStacks', 'version': 1, 'httpmethod': 'POST', 'description': 'Combine two stacks of items', 'parameters': [{'name': 'key', 'type': 'string', 'optional': False, 'description': 'Access key'}, {'name': 'appid', 'type': 'uint32', 'optional': False}, {'name': 'fromitemid', 'type': 'uint64', 'optional': False}, {'name': 'destitemid', 'type': 'uint64', 'optional': False}, {'name': 'quantity', 'type': 'uint32', 'optional': False}, {'name': 'steamid', 'type': 'uint64', 'optional': False}]}\n",
      "    - {'name': 'GetPriceSheet', 'version': 1, 'httpmethod': 'GET', 'description': 'Get the Inventory Service price sheet', 'parameters': [{'name': 'key', 'type': 'string', 'optional': False, 'description': 'Access key'}, {'name': 'ecurrency', 'type': 'int32', 'optional': False}, {'name': 'currency_code', 'type': 'string', 'optional': False, 'description': 'Standard short code of the requested currency (preferred)'}]}\n",
      "IWishlistService\n",
      "  - methods:\n",
      "    - {'name': 'GetWishlistSortedFiltered', 'version': 1, 'httpmethod': 'GET', 'description': \"Get a user's paginated wishlist applying various sorts and filters\", 'parameters': [{'name': 'steamid', 'type': 'uint64', 'optional': False}, {'name': 'context', 'type': '{message}', 'optional': False}, {'name': 'data_request', 'type': '{message}', 'optional': False, 'description': 'If passed, item data will be returned'}, {'name': 'sort_order', 'type': '{enum}', 'optional': True}, {'name': 'filters', 'type': '{message}', 'optional': False}, {'name': 'start_index', 'type': 'int32', 'optional': True, 'description': 'Data in this range will be filled in with StoreBrowse data'}, {'name': 'page_size', 'type': 'int32', 'optional': True}]}\n",
      "    - {'name': 'GetWishlist', 'version': 1, 'httpmethod': 'GET', 'description': \"Get a user's wishlist.\", 'parameters': [{'name': 'steamid', 'type': 'uint64', 'optional': False}]}\n",
      "    - {'name': 'GetWishlistItemCount', 'version': 1, 'httpmethod': 'GET', 'description': \"Get the number of items on a user's wishlist.\", 'parameters': [{'name': 'steamid', 'type': 'uint64', 'optional': False}]}\n",
      "IStoreService\n",
      "  - methods:\n",
      "    - {'name': 'GetAppList', 'version': 1, 'httpmethod': 'GET', 'description': 'Gets a list of apps available on the Steam Store.', 'parameters': [{'name': 'key', 'type': 'string', 'optional': False, 'description': 'Access key'}, {'name': 'if_modified_since', 'type': 'uint32', 'optional': True, 'description': 'Return only items that have been modified since this date.'}, {'name': 'have_description_language', 'type': 'string', 'optional': True, 'description': 'Return only items that have a description in this language.'}, {'name': 'include_games', 'type': 'bool', 'optional': True, 'description': 'Include games (defaults to enabled)'}, {'name': 'include_dlc', 'type': 'bool', 'optional': True, 'description': 'Include DLC'}, {'name': 'include_software', 'type': 'bool', 'optional': True, 'description': 'Include software items'}, {'name': 'include_videos', 'type': 'bool', 'optional': True, 'description': 'Include videos and series'}, {'name': 'include_hardware', 'type': 'bool', 'optional': True, 'description': 'Include hardware'}, {'name': 'last_appid', 'type': 'uint32', 'optional': True, 'description': 'For continuations, this is the last appid returned from the previous call.'}, {'name': 'max_results', 'type': 'uint32', 'optional': True, 'description': 'Number of results to return at a time.  Default 10k, max 50k.'}]}\n",
      "    - {'name': 'GetRecommendedTagsForUser', 'version': 1, 'httpmethod': 'GET', 'description': 'Get a set of tags that are recommended for the user based on recent playtime.', 'parameters': [{'name': 'language', 'type': 'string', 'optional': False}, {'name': 'country_code', 'type': 'string', 'optional': False}, {'name': 'favor_rarer_tags', 'type': 'bool', 'optional': False, 'description': 'Biases tags towards tags that are less common. e.g. Favor Zombies over Action if the user plays the same number of games with both tags.'}]}\n",
      "IHelpRequestLogsService\n",
      "  - methods:\n",
      "    - {'name': 'UploadUserApplicationLog', 'version': 1, 'httpmethod': 'POST', 'description': 'User uploading application logs', 'parameters': [{'name': 'appid', 'type': 'uint32', 'optional': False}, {'name': 'log_type', 'type': 'string', 'optional': False}, {'name': 'version_string', 'type': 'string', 'optional': False}, {'name': 'log_contents', 'type': 'string', 'optional': False}, {'name': 'request_id', 'type': 'uint64', 'optional': False}]}\n",
      "    - {'name': 'GetApplicationLogDemand', 'version': 1, 'httpmethod': 'POST', 'description': 'Returns whether the server would like the user to upload logs', 'parameters': [{'name': 'appid', 'type': 'uint32', 'optional': False}]}\n",
      "ICheatReportingService\n",
      "  - methods:\n",
      "    - {'name': 'ReportCheatData', 'version': 1, 'httpmethod': 'POST', 'description': 'Reports cheat data. Only use on test account that is running the game but not in a multiplayer session.', 'parameters': [{'name': 'key', 'type': 'string', 'optional': False, 'description': 'Access key'}, {'name': 'steamid', 'type': 'uint64', 'optional': False, 'description': 'steamid of the user running and reporting the cheat.'}, {'name': 'appid', 'type': 'uint32', 'optional': False, 'description': 'The appid.'}, {'name': 'pathandfilename', 'type': 'string', 'optional': False, 'description': 'path and file name of the cheat executable.'}, {'name': 'webcheaturl', 'type': 'string', 'optional': False, 'description': 'web url where the cheat was found and downloaded.'}, {'name': 'time_now', 'type': 'uint64', 'optional': False, 'description': 'local system time now.'}, {'name': 'time_started', 'type': 'uint64', 'optional': False, 'description': 'local system time when cheat process started. ( 0 if not yet run )'}, {'name': 'time_stopped', 'type': 'uint64', 'optional': False, 'description': 'local system time when cheat process stopped. ( 0 if still running )'}, {'name': 'cheatname', 'type': 'string', 'optional': False, 'description': 'descriptive name for the cheat.'}, {'name': 'game_process_id', 'type': 'uint32', 'optional': False, 'description': 'process ID of the running game.'}, {'name': 'cheat_process_id', 'type': 'uint32', 'optional': False, 'description': 'process ID of the cheat process that ran'}, {'name': 'cheat_param_1', 'type': 'uint64', 'optional': False, 'description': 'cheat param 1'}, {'name': 'cheat_param_2', 'type': 'uint64', 'optional': False, 'description': 'cheat param 2'}, {'name': 'cheat_data_dump', 'type': 'string', 'optional': False, 'description': 'data collection in json format'}]}\n"
     ]
    }
   ],
   "source": [
    "for api in response.json()['apilist']['interfaces']:\n",
    "  print(f\"{api['name']}\\n  - methods:\")\n",
    "  for method in api['methods']:\n",
    "    print(f\"    - {method}\")"
   ]
  },
  {
   "cell_type": "markdown",
   "id": "8dcacfa4",
   "metadata": {},
   "source": [
    "### Explore APIs with games information"
   ]
  },
  {
   "cell_type": "code",
   "execution_count": 7,
   "id": "da0eb30d",
   "metadata": {},
   "outputs": [
    {
     "data": {
      "text/html": [
       "<div>\n",
       "<style scoped>\n",
       "    .dataframe tbody tr th:only-of-type {\n",
       "        vertical-align: middle;\n",
       "    }\n",
       "\n",
       "    .dataframe tbody tr th {\n",
       "        vertical-align: top;\n",
       "    }\n",
       "\n",
       "    .dataframe thead th {\n",
       "        text-align: right;\n",
       "    }\n",
       "</style>\n",
       "<table border=\"1\" class=\"dataframe\">\n",
       "  <thead>\n",
       "    <tr style=\"text-align: right;\">\n",
       "      <th></th>\n",
       "      <th>appid</th>\n",
       "      <th>name</th>\n",
       "    </tr>\n",
       "  </thead>\n",
       "  <tbody>\n",
       "    <tr>\n",
       "      <th>0</th>\n",
       "      <td>5</td>\n",
       "      <td>Dedicated Server</td>\n",
       "    </tr>\n",
       "    <tr>\n",
       "      <th>1</th>\n",
       "      <td>7</td>\n",
       "      <td>Steam Client</td>\n",
       "    </tr>\n",
       "    <tr>\n",
       "      <th>2</th>\n",
       "      <td>8</td>\n",
       "      <td>winui2</td>\n",
       "    </tr>\n",
       "    <tr>\n",
       "      <th>3</th>\n",
       "      <td>10</td>\n",
       "      <td>Counter-Strike</td>\n",
       "    </tr>\n",
       "    <tr>\n",
       "      <th>4</th>\n",
       "      <td>20</td>\n",
       "      <td>Team Fortress Classic</td>\n",
       "    </tr>\n",
       "  </tbody>\n",
       "</table>\n",
       "</div>"
      ],
      "text/plain": [
       "   appid                   name\n",
       "0      5       Dedicated Server\n",
       "1      7           Steam Client\n",
       "2      8                 winui2\n",
       "3     10         Counter-Strike\n",
       "4     20  Team Fortress Classic"
      ]
     },
     "execution_count": 7,
     "metadata": {},
     "output_type": "execute_result"
    }
   ],
   "source": [
    "# ISteamApps.GetAppList\n",
    "# All games (and other content) on Steam, with appid and name\n",
    "# Useful for building a game index.\n",
    "\n",
    "url = f\"http://api.steampowered.com/ISteamApps/GetAppList/v0001/?key={key}&format=json\"\n",
    "response = requests.get(url)\n",
    "df_games = pd.DataFrame(response.json()['applist']['apps']['app'])\n",
    "df_games.head()"
   ]
  },
  {
   "cell_type": "code",
   "execution_count": 8,
   "id": "a82fd3a8",
   "metadata": {},
   "outputs": [
    {
     "data": {
      "text/html": [
       "<div>\n",
       "<style scoped>\n",
       "    .dataframe tbody tr th:only-of-type {\n",
       "        vertical-align: middle;\n",
       "    }\n",
       "\n",
       "    .dataframe tbody tr th {\n",
       "        vertical-align: top;\n",
       "    }\n",
       "\n",
       "    .dataframe thead th {\n",
       "        text-align: right;\n",
       "    }\n",
       "</style>\n",
       "<table border=\"1\" class=\"dataframe\">\n",
       "  <thead>\n",
       "    <tr style=\"text-align: right;\">\n",
       "      <th></th>\n",
       "      <th>appid</th>\n",
       "      <th>name</th>\n",
       "    </tr>\n",
       "  </thead>\n",
       "  <tbody>\n",
       "    <tr>\n",
       "      <th>4202</th>\n",
       "      <td>72850</td>\n",
       "      <td>The Elder Scrolls V: Skyrim</td>\n",
       "    </tr>\n",
       "  </tbody>\n",
       "</table>\n",
       "</div>"
      ],
      "text/plain": [
       "      appid                         name\n",
       "4202  72850  The Elder Scrolls V: Skyrim"
      ]
     },
     "execution_count": 8,
     "metadata": {},
     "output_type": "execute_result"
    }
   ],
   "source": [
    "df_games[df_games['name']=='The Elder Scrolls V: Skyrim']"
   ]
  },
  {
   "cell_type": "code",
   "execution_count": 9,
   "id": "b96aebf4",
   "metadata": {},
   "outputs": [
    {
     "data": {
      "text/plain": [
       "{'gid': '1802893906766998',\n",
       " 'title': 'Skyblivion devs used their Bethesda visit to fight the good fight, asking Todd and co to bring back Skyrim-style official modding tutorials',\n",
       " 'url': 'https://steamstore-a.akamaihd.net/news/externalpost/Rock, Paper, Shotgun/1802893906766998',\n",
       " 'is_external_url': True,\n",
       " 'author': '',\n",
       " 'contents': '<img src=\"https://assetsio.gnwcdn.com/skyblivion-devs-tell-bethesda-to-bring-modding-tutorials-back-01.jpg?width=1920&height=1920&fit=bounds&quality=70&format=jpg&auto=webp\" /> <p>While the prospect <a href=\"https://www.rockpapershotgun.com/games/the-elder-scrolls-4-oblivion-remake\">The Elder Scrolls IV: Oblivion Remastered</a> turning out to be a real thing had folks wondering what that might mean for Oblivion remake mod <a href=\"https://www.rockpapershotgun.com/games/skyblivion\">Skyblivion</a>\\'s <a href=\"https://www.rockpapershotgun.com/skyblivion-project-lead-and-gog-chat-about-partnering-up-to-release-the-massive-elder-scrolls-mod-following-fallout-londons-troubled-success\">release</a>, Bethesda were quick quell fears of a shutdown.</p>\\n<p>Both sides have been <a href=\"https://www.rockpapershotgun.com/you-get-twice-the-amount-of-oblivion-this-year-says-skyblivion-modder-undeterred-by-official-remaster\">openly chummy</a> since that point, with the studio behind The Elder Scrolls even having the team of modders pop by for a visit around the time their project was being <a href=\"https://www.rockpapershotgun.com/bethesda-are-so-chill-about-skyblivion-that-theyre-promoting-it-in-oblivion-remastered-videos\">shouted out on the official channels</a>. We\\'ve now learned a bit more about how that social call went and what the two sides chatted about.</p>\\n <p><a href=\"https://www.rockpapershotgun.com/skyblivion-devs-used-their-bethesda-visit-to-fight-the-good-fight-asking-todd-and-co-to-bring-back-skyrim-style-official-modding-tutorials\">Read more</a></p>',\n",
       " 'feedlabel': 'Rock, Paper, Shotgun',\n",
       " 'date': 1750436618,\n",
       " 'feedname': 'Rock, Paper, Shotgun',\n",
       " 'feed_type': 0,\n",
       " 'appid': 22330}"
      ]
     },
     "execution_count": 9,
     "metadata": {},
     "output_type": "execute_result"
    }
   ],
   "source": [
    "# GetNewsForApp\n",
    "# News from apps (games)\n",
    "# Could be used for NLP/sentiment trends before game launches or major updates.\n",
    "\n",
    "# Example: appid=72850 (The Elder Scrolls V: Skyrim)\n",
    "url = \"http://api.steampowered.com/ISteamNews/GetNewsForApp/v0002/?appid=72850&format=json\"\n",
    "response = requests.get(url)\n",
    "response.json()['appnews']['newsitems'][0]"
   ]
  },
  {
   "cell_type": "code",
   "execution_count": 10,
   "id": "c0f1b81d",
   "metadata": {},
   "outputs": [
    {
     "data": {
      "text/plain": [
       "{'response': {'player_count': 1639, 'result': 1}}"
      ]
     },
     "execution_count": 10,
     "metadata": {},
     "output_type": "execute_result"
    }
   ],
   "source": [
    "# ISteamUserStats.GetNumberOfCurrentPlayers\n",
    "# Real-time player count for a given appid\n",
    "# Useful for game popularity.\n",
    "\n",
    "#appids = list(range(0,150))\n",
    "#for appid in appids:\n",
    "appid = 72850\n",
    "url = f\"http://api.steampowered.com/ISteamUserStats/GetNumberOfCurrentPlayers/v0001/?appid={appid}&format=json\"\n",
    "response = requests.get(url)\n",
    "response.json()"
   ]
  },
  {
   "cell_type": "code",
   "execution_count": 19,
   "id": "7ce07fea",
   "metadata": {},
   "outputs": [
    {
     "data": {
      "text/plain": [
       "[{'name': 'NEW_ACHIEVEMENT_1_0', 'percent': '88.6'},\n",
       " {'name': 'NEW_ACHIEVEMENT_29_0', 'percent': '79.1'},\n",
       " {'name': 'NEW_ACHIEVEMENT_47_0', 'percent': '77.2'},\n",
       " {'name': 'NEW_ACHIEVEMENT_43_0', 'percent': '75.7'},\n",
       " {'name': 'NEW_ACHIEVEMENT_2_0', 'percent': '75.0'}]"
      ]
     },
     "execution_count": 19,
     "metadata": {},
     "output_type": "execute_result"
    }
   ],
   "source": [
    "# ISteamUserStats.GetGlobalAchievementPercentagesForApp\n",
    "# Percent of players who unlocked each achievement.\n",
    "# Could indicate engagement, difficulty, or completion rate.\n",
    "#\n",
    "#appids = list(range(0,1000))\n",
    "# for appid in appids:\n",
    "url = f\"http://api.steampowered.com/ISteamUserStats/GetGlobalAchievementPercentagesForApp/v0001/?gameid={appid}&format=json\"\n",
    "response = requests.get(url)\n",
    "response.json()['achievementpercentages']['achievements']['achievement'][:5]"
   ]
  },
  {
   "cell_type": "markdown",
   "id": "44542825",
   "metadata": {},
   "source": [
    "### Explore APIs with user information"
   ]
  },
  {
   "cell_type": "code",
   "execution_count": null,
   "id": "75d01411",
   "metadata": {},
   "outputs": [
    {
     "data": {
      "text/plain": [
       "{'response': {'players': [{'steamid': '76561198080989870',\n",
       "    'communityvisibilitystate': 3,\n",
       "    'profilestate': 1,\n",
       "    'personaname': 'marra',\n",
       "    'profileurl': 'https://steamcommunity.com/profiles/76561198080989870/',\n",
       "    'avatar': 'https://avatars.steamstatic.com/6bedb40cbdedf0d6cea878baf7f4b5bf46e7cf8f.jpg',\n",
       "    'avatarmedium': 'https://avatars.steamstatic.com/6bedb40cbdedf0d6cea878baf7f4b5bf46e7cf8f_medium.jpg',\n",
       "    'avatarfull': 'https://avatars.steamstatic.com/6bedb40cbdedf0d6cea878baf7f4b5bf46e7cf8f_full.jpg',\n",
       "    'avatarhash': '6bedb40cbdedf0d6cea878baf7f4b5bf46e7cf8f',\n",
       "    'lastlogoff': 1751568444,\n",
       "    'personastate': 1,\n",
       "    'realname': 'Lucas Marra',\n",
       "    'primaryclanid': '103582791429521408',\n",
       "    'timecreated': 1357738431,\n",
       "    'personastateflags': 0,\n",
       "    'loccountrycode': 'BR',\n",
       "    'locstatecode': '27',\n",
       "    'loccityid': 8872}]}}"
      ]
     },
     "execution_count": 20,
     "metadata": {},
     "output_type": "execute_result"
    }
   ],
   "source": [
    "# ISteamUser.GetPlayerSummaries\n",
    "# Profile info like persona name, profile visibility, avatar.\n",
    "\n",
    "url = f\"http://api.steampowered.com/ISteamUser/GetPlayerSummaries/v0002/?key={key}&steamids=76561198080989870&format=json\"\n",
    "response = requests.get(url)\n",
    "response.json()"
   ]
  },
  {
   "cell_type": "code",
   "execution_count": 22,
   "id": "f5de3ece",
   "metadata": {},
   "outputs": [
    {
     "data": {
      "text/plain": [
       "{'friendslist': {'friends': [{'steamid': '76561197991068074',\n",
       "    'relationship': 'friend',\n",
       "    'friend_since': 1388369289},\n",
       "   {'steamid': '76561197995269379',\n",
       "    'relationship': 'friend',\n",
       "    'friend_since': 1387856640},\n",
       "   {'steamid': '76561198416187271',\n",
       "    'relationship': 'friend',\n",
       "    'friend_since': 1719427800}]}}"
      ]
     },
     "execution_count": 22,
     "metadata": {},
     "output_type": "execute_result"
    }
   ],
   "source": [
    "# GetFriendList (v0001)\n",
    "url = f\"http://api.steampowered.com/ISteamUser/GetFriendList/v0001/?key={key}&steamid=76561198080989870&relationship=friend\" # Lucas stream profile\n",
    "response = requests.get(url)\n",
    "# friends: 76561197991068074, 76561197995269379, 76561198416187271\n",
    "\n",
    "response.json()"
   ]
  },
  {
   "cell_type": "code",
   "execution_count": 23,
   "id": "42385448",
   "metadata": {},
   "outputs": [
    {
     "data": {
      "text/plain": [
       "{'response': {'game_count': 10,\n",
       "  'games': [{'appid': 72850,\n",
       "    'playtime_forever': 3889,\n",
       "    'playtime_windows_forever': 0,\n",
       "    'playtime_mac_forever': 0,\n",
       "    'playtime_linux_forever': 0,\n",
       "    'playtime_deck_forever': 0,\n",
       "    'rtime_last_played': 1513439945,\n",
       "    'playtime_disconnected': 0},\n",
       "   {'appid': 271590,\n",
       "    'playtime_forever': 2084,\n",
       "    'playtime_windows_forever': 2084,\n",
       "    'playtime_mac_forever': 0,\n",
       "    'playtime_linux_forever': 0,\n",
       "    'playtime_deck_forever': 0,\n",
       "    'rtime_last_played': 1741453729,\n",
       "    'playtime_disconnected': 0},\n",
       "   {'appid': 3240220,\n",
       "    'playtime_forever': 0,\n",
       "    'playtime_windows_forever': 0,\n",
       "    'playtime_mac_forever': 0,\n",
       "    'playtime_linux_forever': 0,\n",
       "    'playtime_deck_forever': 0,\n",
       "    'rtime_last_played': 0,\n",
       "    'playtime_disconnected': 0},\n",
       "   {'appid': 489830,\n",
       "    'playtime_forever': 977,\n",
       "    'playtime_windows_forever': 967,\n",
       "    'playtime_mac_forever': 0,\n",
       "    'playtime_linux_forever': 0,\n",
       "    'playtime_deck_forever': 0,\n",
       "    'rtime_last_played': 1730690383,\n",
       "    'playtime_disconnected': 0},\n",
       "   {'appid': 582660,\n",
       "    'playtime_forever': 0,\n",
       "    'playtime_windows_forever': 0,\n",
       "    'playtime_mac_forever': 0,\n",
       "    'playtime_linux_forever': 0,\n",
       "    'playtime_deck_forever': 0,\n",
       "    'rtime_last_played': 0,\n",
       "    'playtime_disconnected': 0},\n",
       "   {'appid': 706220,\n",
       "    'playtime_forever': 257,\n",
       "    'playtime_windows_forever': 257,\n",
       "    'playtime_mac_forever': 0,\n",
       "    'playtime_linux_forever': 0,\n",
       "    'playtime_deck_forever': 0,\n",
       "    'rtime_last_played': 1611610836,\n",
       "    'playtime_disconnected': 0},\n",
       "   {'appid': 730,\n",
       "    'playtime_forever': 2488,\n",
       "    'playtime_windows_forever': 2488,\n",
       "    'playtime_mac_forever': 0,\n",
       "    'playtime_linux_forever': 0,\n",
       "    'playtime_deck_forever': 0,\n",
       "    'rtime_last_played': 1741453252,\n",
       "    'playtime_disconnected': 1},\n",
       "   {'appid': 1174180,\n",
       "    'playtime_forever': 5576,\n",
       "    'playtime_windows_forever': 5576,\n",
       "    'playtime_mac_forever': 0,\n",
       "    'playtime_linux_forever': 0,\n",
       "    'playtime_deck_forever': 0,\n",
       "    'rtime_last_played': 1741484617,\n",
       "    'playtime_disconnected': 0},\n",
       "   {'appid': 1259970,\n",
       "    'playtime_forever': 412,\n",
       "    'playtime_windows_forever': 412,\n",
       "    'playtime_mac_forever': 0,\n",
       "    'playtime_linux_forever': 0,\n",
       "    'playtime_deck_forever': 0,\n",
       "    'rtime_last_played': 1624231971,\n",
       "    'playtime_disconnected': 0},\n",
       "   {'appid': 1506830,\n",
       "    'playtime_forever': 219,\n",
       "    'playtime_windows_forever': 219,\n",
       "    'playtime_mac_forever': 0,\n",
       "    'playtime_linux_forever': 0,\n",
       "    'playtime_deck_forever': 0,\n",
       "    'rtime_last_played': 1645328679,\n",
       "    'playtime_disconnected': 0}]}}"
      ]
     },
     "execution_count": 23,
     "metadata": {},
     "output_type": "execute_result"
    }
   ],
   "source": [
    "# GetOwnedGames (v0001)\n",
    "# GetOwnedGames returns a list of games a player owns along with some playtime information, if the profile is publicly visible. Private, friends-only, and other privacy settings are not supported unless you are asking for your own personal details (ie the WebAPI key you are using is linked to the steamid you are requesting).\n",
    "url = f\"http://api.steampowered.com/IPlayerService/GetOwnedGames/v0001/?key={key}&steamid=76561198080989870&format=json\"\n",
    "response = requests.get(url)\n",
    "response.json()"
   ]
  },
  {
   "cell_type": "code",
   "execution_count": 25,
   "id": "466baf5a",
   "metadata": {},
   "outputs": [
    {
     "data": {
      "text/plain": [
       "{}"
      ]
     },
     "execution_count": 25,
     "metadata": {},
     "output_type": "execute_result"
    }
   ],
   "source": [
    "# GetUserStatsForGame (v0002)\n",
    "# Returns a list of achievements for this user by app id\n",
    "\n",
    "url = f\"http://api.steampowered.com/ISteamUserStats/GetUserStatsForGame/v0002/?appid=72850&key={key}&steamid=76561198080989870\"\n",
    "response = requests.get(url)\n",
    "response.json()"
   ]
  },
  {
   "cell_type": "code",
   "execution_count": 27,
   "id": "3901fd10",
   "metadata": {},
   "outputs": [
    {
     "data": {
      "text/plain": [
       "{'playerstats': {'error': 'Profile is not public', 'success': False}}"
      ]
     },
     "execution_count": 27,
     "metadata": {},
     "output_type": "execute_result"
    }
   ],
   "source": [
    "# GetPlayerAchievements (v0001)\n",
    "# Returns a list of achievements for this user by app id\n",
    "\n",
    "url = f\"http://api.steampowered.com/ISteamUserStats/GetPlayerAchievements/v0001/?appid=72850&key={key}&steamid=76561198080989870\"\n",
    "response = requests.get(url)\n",
    "response.json()"
   ]
  },
  {
   "cell_type": "code",
   "execution_count": 29,
   "id": "83b70d68",
   "metadata": {},
   "outputs": [
    {
     "data": {
      "text/plain": [
       "{'result': {'status': 15, 'statusDetail': 'Permission denied'}}"
      ]
     },
     "execution_count": 29,
     "metadata": {},
     "output_type": "execute_result"
    }
   ],
   "source": [
    "# GetRecentlyPlayedGames (v0001)\n",
    "# GetRecentlyPlayedGames returns a list of games a player has played in the last two weeks, if the profile is publicly visible. Private, friends-only, and other privacy settings are not supported unless you are asking for your own personal details (ie the WebAPI key you are using is linked to the steamid you are requesting).\n",
    "\n",
    "url = f\"http://api.steampowered.com/IEconItems_1046930/GetPlayerItems/v0001/?key={key}&steamid=76561198080989870&format=json\"\n",
    "response = requests.get(url)\n",
    "response.json()"
   ]
  },
  {
   "cell_type": "markdown",
   "id": "08a7de0c",
   "metadata": {},
   "source": [
    "### Get player count by game (to filter most important games)"
   ]
  },
  {
   "cell_type": "code",
   "execution_count": 5,
   "id": "bdbaad2e",
   "metadata": {},
   "outputs": [],
   "source": [
    "# Get games ids (appid) and names (name)\n",
    "url = f\"http://api.steampowered.com/ISteamApps/GetAppList/v0001/?key={key}&format=json\"\n",
    "response = requests.get(url)\n",
    "games = response.json()['applist']['apps']['app']\n",
    "df_games = pd.DataFrame(games)"
   ]
  },
  {
   "cell_type": "code",
   "execution_count": null,
   "id": "258c9f47",
   "metadata": {},
   "outputs": [],
   "source": [
    "# Save games.csv file with games name and id\n",
    "df_games.to_csv('../../data/games.csv', index=False)"
   ]
  },
  {
   "cell_type": "code",
   "execution_count": 42,
   "id": "0973077c",
   "metadata": {},
   "outputs": [
    {
     "data": {
      "text/plain": [
       "[{'appid': 5, 'name': 'Dedicated Server'},\n",
       " {'appid': 7, 'name': 'Steam Client'},\n",
       " {'appid': 8, 'name': 'winui2'},\n",
       " {'appid': 10, 'name': 'Counter-Strike'},\n",
       " {'appid': 20, 'name': 'Team Fortress Classic'}]"
      ]
     },
     "execution_count": 42,
     "metadata": {},
     "output_type": "execute_result"
    }
   ],
   "source": [
    "games[:5]"
   ]
  },
  {
   "cell_type": "code",
   "execution_count": null,
   "id": "43eaf193",
   "metadata": {},
   "outputs": [
    {
     "name": "stdout",
     "output_type": "stream",
     "text": [
      "50000\n",
      "100000\n",
      "150000\n",
      "200000\n"
     ]
    }
   ],
   "source": [
    "list_game_player_cnt = []\n",
    "loop_cnt=0\n",
    "#for game in games[:3000]:\n",
    "for game in games:\n",
    "    dict_game_player_cnt = {}\n",
    "    url = f\"http://api.steampowered.com/ISteamUserStats/GetNumberOfCurrentPlayers/v0001/?appid={game['appid']}&format=json\"\n",
    "    try:\n",
    "        response = http.get(url, timeout=10)\n",
    "        data = response.json()\n",
    "        dict_game_player_cnt['appid'] = game['appid']\n",
    "        dict_game_player_cnt['name'] = game['name']\n",
    "        try: # Looks like some games do no have 'player_count'\n",
    "            dict_game_player_cnt['player_count'] = data['response']['player_count']\n",
    "        except:\n",
    "            dict_game_player_cnt['player_count'] = np.nan\n",
    "        dict_game_player_cnt['result'] = data['response']['result']\n",
    "        list_game_player_cnt.append(dict_game_player_cnt)\n",
    "        loop_cnt += 1\n",
    "        if loop_cnt % 50000 == 0:\n",
    "            print(loop_cnt)\n",
    "    except requests.exceptions.RequestException as e:\n",
    "        print(f\"Error getting game {game['appid']} data: {e}\")\n",
    "\n",
    "\n"
   ]
  },
  {
   "cell_type": "code",
   "execution_count": null,
   "id": "340043e0",
   "metadata": {},
   "outputs": [],
   "source": [
    "df_game_player_cnt = pd.DataFrame(list_game_player_cnt)\n",
    "df_game_player_cnt_ranked = df_game_player_cnt.sort_values(by='player_count', ascending=False)\n",
    "df_game_player_cnt_ranked.to_csv('../../data/game_player_cnt_ranked.csv', index=False)"
   ]
  },
  {
   "cell_type": "markdown",
   "id": "609c5ac4",
   "metadata": {},
   "source": [
    "### Get user profile information"
   ]
  },
  {
   "cell_type": "code",
   "execution_count": 12,
   "id": "19179e6c",
   "metadata": {},
   "outputs": [],
   "source": [
    "pd.set_option('display.max_colwidth', 300)"
   ]
  },
  {
   "cell_type": "code",
   "execution_count": 7,
   "id": "9531c8b8",
   "metadata": {},
   "outputs": [],
   "source": [
    "df_top_1000_game_reviews = pd.read_csv('../../data/top_1000_game_reviews.gz', compression='gzip')"
   ]
  },
  {
   "cell_type": "code",
   "execution_count": null,
   "id": "3cddd6e7",
   "metadata": {},
   "outputs": [
    {
     "data": {
      "text/plain": [
       "Index(['appid', 'recommendationid', 'author', 'language', 'review',\n",
       "       'timestamp_created', 'timestamp_updated', 'voted_up', 'votes_up',\n",
       "       'votes_funny', 'weighted_vote_score', 'comment_count', 'steam_purchase',\n",
       "       'received_for_free', 'written_during_early_access',\n",
       "       'primarily_steam_deck', 'timestamp_dev_responded',\n",
       "       'developer_response'],\n",
       "      dtype='object')"
      ]
     },
     "execution_count": 14,
     "metadata": {},
     "output_type": "execute_result"
    }
   ],
   "source": [
    "df_top_1000_game_reviews.columns"
   ]
  },
  {
   "cell_type": "code",
   "execution_count": null,
   "id": "27c62b1a",
   "metadata": {},
   "outputs": [
    {
     "data": {
      "text/plain": [
       "100000"
      ]
     },
     "execution_count": 15,
     "metadata": {},
     "output_type": "execute_result"
    }
   ],
   "source": [
    "len(df_top_1000_game_reviews)"
   ]
  },
  {
   "cell_type": "code",
   "execution_count": 16,
   "id": "65e50dac",
   "metadata": {},
   "outputs": [],
   "source": [
    "# steamid — o ID Steam do usuário\n",
    "# num_games_owned — a quantidade de jogos na conta do usuário\n",
    "# num_reviews — a quantidade de análises escritas pelo usuário\n",
    "# playtime_forever — o tempo de uso total do aplicativo pelo usuário\n",
    "# playtime_last_two_weeks — tempo de uso do aplicativo pelo usuário nas últimas duas semanas\n",
    "# playtime_at_review — tempo de uso quando a análise foi escrita\n",
    "# deck_playtime_at_review — tempo de uso quando a análise foi escrita\n",
    "# last_played — horário da última vez em que o usuário jogou"
   ]
  },
  {
   "cell_type": "code",
   "execution_count": null,
   "id": "279192a2",
   "metadata": {},
   "outputs": [],
   "source": [
    "#df_top_1000_game_reviews.head(3)"
   ]
  },
  {
   "cell_type": "code",
   "execution_count": null,
   "id": "b5bb2f5e",
   "metadata": {},
   "outputs": [],
   "source": [
    "df_top_1000_game_reviews['steamid'] = df_top_1000_game_reviews['author'].apply(lambda x: ast.literal_eval(x)['steamid'])\n",
    "df_top_1000_game_reviews['num_games_owned'] = df_top_1000_game_reviews['author'].apply(lambda x: ast.literal_eval(x)['num_games_owned'])\n",
    "df_top_1000_game_reviews['num_reviews'] = df_top_1000_game_reviews['author'].apply(lambda x: ast.literal_eval(x)['num_reviews'])\n",
    "# df_top_1000_game_reviews['playtime_forever'] = df_top_1000_game_reviews['author'].apply(lambda x: ast.literal_eval(x)['playtime_forever'])\n",
    "# df_top_1000_game_reviews['playtime_last_two_weeks'] = df_top_1000_game_reviews['author'].apply(lambda x: ast.literal_eval(x)['playtime_last_two_weeks'])\n",
    "# df_top_1000_game_reviews['playtime_at_review'] = df_top_1000_game_reviews['author'].apply(lambda x: ast.literal_eval(x)['playtime_at_review'])\n",
    "# df_top_1000_game_reviews['last_played'] = df_top_1000_game_reviews['author'].apply(lambda x: ast.literal_eval(x)['last_played'])"
   ]
  },
  {
   "cell_type": "code",
   "execution_count": null,
   "id": "b03dffef",
   "metadata": {},
   "outputs": [],
   "source": [
    "list_top_1000_game_reviews = list(set(df_top_1000_game_reviews['steamid']))"
   ]
  },
  {
   "cell_type": "code",
   "execution_count": null,
   "id": "9257facd",
   "metadata": {},
   "outputs": [
    {
     "name": "stdout",
     "output_type": "stream",
     "text": [
      "0\n",
      "100\n",
      "200\n",
      "300\n",
      "400\n",
      "500\n",
      "600\n",
      "700\n",
      "800\n",
      "900\n",
      "1000\n",
      "1100\n",
      "1200\n",
      "1300\n",
      "1400\n",
      "1500\n",
      "1600\n",
      "1700\n",
      "1800\n",
      "1900\n",
      "2000\n",
      "2100\n",
      "2200\n",
      "2300\n",
      "2400\n",
      "2500\n",
      "2600\n",
      "2700\n",
      "2800\n",
      "2900\n",
      "3000\n",
      "3100\n",
      "3200\n",
      "3300\n",
      "3400\n",
      "3500\n",
      "3600\n",
      "3700\n",
      "3800\n",
      "3900\n",
      "4000\n",
      "4100\n",
      "4200\n",
      "4300\n",
      "4400\n",
      "4500\n",
      "4600\n",
      "4700\n",
      "4800\n",
      "4900\n",
      "5000\n",
      "5100\n",
      "5200\n",
      "5300\n",
      "5400\n",
      "5500\n",
      "5600\n",
      "5700\n",
      "5800\n",
      "5900\n",
      "6000\n",
      "6100\n",
      "6200\n",
      "6300\n",
      "6400\n",
      "6500\n",
      "6600\n",
      "6700\n",
      "6800\n",
      "6900\n",
      "7000\n",
      "7100\n",
      "7200\n",
      "7300\n",
      "7400\n",
      "7500\n",
      "7600\n",
      "7700\n",
      "7800\n",
      "7900\n",
      "8000\n",
      "8100\n",
      "8200\n",
      "8300\n",
      "8400\n",
      "8500\n",
      "8600\n",
      "8700\n",
      "8800\n",
      "8900\n",
      "9000\n",
      "9100\n",
      "9200\n",
      "9300\n",
      "9400\n",
      "9500\n",
      "9600\n",
      "9700\n",
      "9800\n",
      "9900\n",
      "10000\n",
      "10100\n",
      "10200\n",
      "10300\n",
      "10400\n",
      "10500\n",
      "10600\n",
      "10700\n",
      "10800\n",
      "10900\n",
      "11000\n",
      "11100\n",
      "11200\n",
      "11300\n",
      "11400\n",
      "11500\n",
      "11600\n",
      "11700\n",
      "11800\n",
      "11900\n",
      "12000\n",
      "12100\n",
      "12200\n",
      "12300\n",
      "12400\n",
      "12500\n",
      "12600\n",
      "12700\n",
      "12800\n",
      "12900\n",
      "13000\n",
      "13100\n",
      "13200\n",
      "13300\n",
      "13400\n",
      "13500\n",
      "13600\n",
      "13700\n",
      "13800\n",
      "13900\n",
      "14000\n",
      "14100\n",
      "14200\n",
      "14300\n",
      "14400\n",
      "14500\n",
      "14600\n",
      "14700\n",
      "14800\n",
      "14900\n",
      "15000\n",
      "15100\n",
      "15200\n",
      "15300\n",
      "15400\n",
      "15500\n",
      "15600\n",
      "15700\n",
      "15800\n",
      "15900\n",
      "16000\n",
      "16100\n"
     ]
    }
   ],
   "source": [
    "profiles = [] \n",
    "start = 0\n",
    "chunk_size = 100\n",
    "for i in range(0, len(list_top_1000_game_reviews), chunk_size):\n",
    "    #list_top_1000_game_reviews_reduced = list_top_1000_game_reviews[start:i]\n",
    "    list_top_1000_game_reviews_reduced = list_top_1000_game_reviews[i:i+chunk_size]\n",
    "    url = f\"http://api.steampowered.com/ISteamUser/GetPlayerSummaries/v0002/?key={key}&steamids={list_top_1000_game_reviews_reduced}&format=json\" # Profile info like persona name, profile visibility, avatar.\n",
    "    response = requests.get(url)\n",
    "    profiles.extend(response.json()['response']['players'])"
   ]
  },
  {
   "cell_type": "code",
   "execution_count": 67,
   "id": "a753116a",
   "metadata": {},
   "outputs": [
    {
     "data": {
      "text/plain": [
       "16179"
      ]
     },
     "execution_count": 67,
     "metadata": {},
     "output_type": "execute_result"
    }
   ],
   "source": [
    "len(profiles)"
   ]
  },
  {
   "cell_type": "code",
   "execution_count": null,
   "id": "ef0d3dcf",
   "metadata": {},
   "outputs": [
    {
     "data": {
      "text/plain": [
       "16181"
      ]
     },
     "execution_count": 68,
     "metadata": {},
     "output_type": "execute_result"
    }
   ],
   "source": [
    "len(list_top_1000_game_reviews)"
   ]
  },
  {
   "cell_type": "code",
   "execution_count": 94,
   "id": "436ae9f0",
   "metadata": {},
   "outputs": [],
   "source": [
    "df_users_profile = pd.DataFrame(profiles)"
   ]
  },
  {
   "cell_type": "code",
   "execution_count": null,
   "id": "c78b18a9",
   "metadata": {},
   "outputs": [],
   "source": [
    "# Save profiles.csv file with users profile\n",
    "df_users_profile.to_csv('../../data/users_profile.csv', index=False)"
   ]
  },
  {
   "cell_type": "markdown",
   "id": "6a60c5ec",
   "metadata": {},
   "source": [
    "### Get user friend list"
   ]
  },
  {
   "cell_type": "code",
   "execution_count": null,
   "id": "a3202965",
   "metadata": {},
   "outputs": [],
   "source": [
    "# GetFriendList (v0001)\n",
    "#x = [76561198126277481,76561198177301349]\n",
    "#x = ['76561198080989870']\n",
    "users_friendlist = []\n",
    "for steamid in list_top_1000_game_reviews:\n",
    "    dict_users_friendlist = {}\n",
    "    url = f\"http://api.steampowered.com/ISteamUser/GetFriendList/v0001/?key={key}&steamid={steamid}&relationship=friend\"\n",
    "    response = requests.get(url)\n",
    "    dict_users_friendlist['user_steamid'] =  steamid\n",
    "    try: # in case of no friends\n",
    "        dict_users_friendlist['user_friendlist'] =  response.json()['friendslist']['friends']\n",
    "        users_friendlist.append(dict_users_friendlist)\n",
    "    except:\n",
    "        pass"
   ]
  },
  {
   "cell_type": "code",
   "execution_count": 17,
   "id": "68c77fa8",
   "metadata": {},
   "outputs": [
    {
     "data": {
      "text/plain": [
       "10351"
      ]
     },
     "execution_count": 17,
     "metadata": {},
     "output_type": "execute_result"
    }
   ],
   "source": [
    "len(users_friendlist)"
   ]
  },
  {
   "cell_type": "code",
   "execution_count": 20,
   "id": "3f7c2f37",
   "metadata": {},
   "outputs": [],
   "source": [
    "df_users_friendlist = pd.DataFrame(users_friendlist)"
   ]
  },
  {
   "cell_type": "code",
   "execution_count": 21,
   "id": "f2051a17",
   "metadata": {},
   "outputs": [],
   "source": [
    "# Save profiles.csv file with users friendlist\n",
    "df_users_friendlist.to_csv('../../data/users_friendlist.csv', index=False)"
   ]
  },
  {
   "cell_type": "markdown",
   "id": "dcb673a9",
   "metadata": {},
   "source": [
    "### Get user owned games"
   ]
  },
  {
   "cell_type": "markdown",
   "id": "60b00dcc",
   "metadata": {},
   "source": [
    "{'name': 'key', 'type': 'string', 'optional': False, 'description': 'Access key'}, {'name': 'steamid', 'type': 'uint64', 'optional': False, 'description': \"The player we're asking about\"}, {'name': 'include_appinfo', 'type': 'bool', 'optional': False, 'description': 'true if we want additional details (name, icon) about each game'}, {'name': 'include_played_free_games', 'type': 'bool', 'optional': False, 'description': 'Free games are excluded by default. If this is set, free games the user has played will be returned.'}, {'name': 'appids_filter', 'type': 'uint32', 'optional': False, 'description': 'if set, restricts result set to the passed in apps'}, {'name': 'include_free_sub', 'type': 'bool', 'optional': False, 'description': 'Some games are in the free sub, which are excluded by default.'}, {'name': 'skip_unvetted_apps', 'type': 'bool', 'optional': True, 'description': 'if set, skip unvetted store apps'}, {'name': 'language', 'type': 'string', 'optional': False, 'description': 'Will return appinfo in this language'}, {'name': 'include_extended_appinfo', 'type': 'bool', 'optional': False, 'description': 'true if we want even more details (capsule, sortas, and capabilities) about each game. include_appinfo must also be true.'}]}, "
   ]
  },
  {
   "cell_type": "code",
   "execution_count": null,
   "id": "5c25a974",
   "metadata": {},
   "outputs": [],
   "source": [
    "# GetOwnedGames (v0001)\n",
    "# GetOwnedGames returns a list of games a player owns along with some playtime information, if the profile is publicly visible. Private, friends-only, and other privacy settings are not supported unless you are asking for your own personal details (ie the WebAPI key you are using is linked to the steamid you are requesting).\n",
    "users_owned_games = []\n",
    "for steamid in list_top_1000_game_reviews:\n",
    "    dict_users_owned_games = {}\n",
    "    url = f\"http://api.steampowered.com/IPlayerService/GetOwnedGames/v0001/?key={key}&steamid={steamid}&include_appinfo=true&include_extended_appinfo=true&format=json\"\n",
    "    response = requests.get(url)\n",
    "    dict_users_owned_games['user_steamid'] =  steamid\n",
    "    try: # in case of no owned games\n",
    "        dict_users_owned_games['user_owned_games'] =  response.json()['response']['games']\n",
    "        users_owned_games.append(dict_users_owned_games)\n",
    "    except:\n",
    "        pass"
   ]
  },
  {
   "cell_type": "code",
   "execution_count": 46,
   "id": "b5773c33",
   "metadata": {},
   "outputs": [
    {
     "data": {
      "text/plain": [
       "4332"
      ]
     },
     "execution_count": 46,
     "metadata": {},
     "output_type": "execute_result"
    }
   ],
   "source": [
    "len(users_owned_games)"
   ]
  },
  {
   "cell_type": "code",
   "execution_count": 48,
   "id": "be2de04e",
   "metadata": {},
   "outputs": [],
   "source": [
    "df_users_owned_games = pd.DataFrame(users_owned_games)"
   ]
  },
  {
   "cell_type": "code",
   "execution_count": 49,
   "id": "743f2dea",
   "metadata": {},
   "outputs": [
    {
     "data": {
      "text/html": [
       "<div>\n",
       "<style scoped>\n",
       "    .dataframe tbody tr th:only-of-type {\n",
       "        vertical-align: middle;\n",
       "    }\n",
       "\n",
       "    .dataframe tbody tr th {\n",
       "        vertical-align: top;\n",
       "    }\n",
       "\n",
       "    .dataframe thead th {\n",
       "        text-align: right;\n",
       "    }\n",
       "</style>\n",
       "<table border=\"1\" class=\"dataframe\">\n",
       "  <thead>\n",
       "    <tr style=\"text-align: right;\">\n",
       "      <th></th>\n",
       "      <th>user_steamid</th>\n",
       "      <th>user_owned_games</th>\n",
       "    </tr>\n",
       "  </thead>\n",
       "  <tbody>\n",
       "    <tr>\n",
       "      <th>4327</th>\n",
       "      <td>76561199684778078</td>\n",
       "      <td>[{'appid': 70, 'name': 'Half-Life', 'playtime_forever': 802, 'img_icon_url': '95be6d131fc61f145797317ca437c9765f24b41c', 'capsule_filename': 'library_600x900.jpg', 'has_workshop': False, 'has_market': False, 'has_dlc': True, 'content_descriptorids': [2, 5]}, {'appid': 4000, 'name': 'Garry's Mod'...</td>\n",
       "    </tr>\n",
       "    <tr>\n",
       "      <th>4328</th>\n",
       "      <td>76561198107006111</td>\n",
       "      <td>[{'appid': 30, 'name': 'Day of Defeat', 'playtime_forever': 0, 'img_icon_url': 'aadc0ce51ff6ba2042d633f8ec033b0de62091d0', 'capsule_filename': 'library_600x900.jpg', 'has_workshop': False, 'has_market': False, 'has_dlc': False, 'content_descriptorids': [2, 5]}, {'appid': 2100, 'name': 'Dark Mess...</td>\n",
       "    </tr>\n",
       "    <tr>\n",
       "      <th>4329</th>\n",
       "      <td>76561198411669195</td>\n",
       "      <td>[{'appid': 4000, 'name': 'Garry's Mod', 'playtime_forever': 1301, 'img_icon_url': '4a6f25cfa2426445d0d9d6e233408de4d371ce8b', 'has_community_visible_stats': True, 'capsule_filename': 'library_600x900.jpg', 'has_workshop': True, 'has_market': False, 'has_dlc': True}, {'appid': 17390, 'name': 'Spo...</td>\n",
       "    </tr>\n",
       "    <tr>\n",
       "      <th>4330</th>\n",
       "      <td>76561198070842180</td>\n",
       "      <td>[{'appid': 10, 'name': 'Counter-Strike', 'playtime_forever': 0, 'img_icon_url': '6b0312cda02f5f777efa2f3318c307ff9acafbb5', 'capsule_filename': 'library_600x900.jpg', 'has_workshop': False, 'has_market': False, 'has_dlc': False, 'content_descriptorids': [2, 5]}, {'appid': 80, 'name': 'Counter-St...</td>\n",
       "    </tr>\n",
       "    <tr>\n",
       "      <th>4331</th>\n",
       "      <td>76561197960613683</td>\n",
       "      <td>[{'appid': 10, 'name': 'Counter-Strike', 'playtime_forever': 0, 'img_icon_url': '6b0312cda02f5f777efa2f3318c307ff9acafbb5', 'capsule_filename': 'library_600x900.jpg', 'has_workshop': False, 'has_market': False, 'has_dlc': False, 'content_descriptorids': [2, 5]}, {'appid': 20, 'name': 'Team Fortr...</td>\n",
       "    </tr>\n",
       "  </tbody>\n",
       "</table>\n",
       "</div>"
      ],
      "text/plain": [
       "           user_steamid  \\\n",
       "4327  76561199684778078   \n",
       "4328  76561198107006111   \n",
       "4329  76561198411669195   \n",
       "4330  76561198070842180   \n",
       "4331  76561197960613683   \n",
       "\n",
       "                                                                                                                                                                                                                                                                                                 user_owned_games  \n",
       "4327  [{'appid': 70, 'name': 'Half-Life', 'playtime_forever': 802, 'img_icon_url': '95be6d131fc61f145797317ca437c9765f24b41c', 'capsule_filename': 'library_600x900.jpg', 'has_workshop': False, 'has_market': False, 'has_dlc': True, 'content_descriptorids': [2, 5]}, {'appid': 4000, 'name': 'Garry's Mod'...  \n",
       "4328  [{'appid': 30, 'name': 'Day of Defeat', 'playtime_forever': 0, 'img_icon_url': 'aadc0ce51ff6ba2042d633f8ec033b0de62091d0', 'capsule_filename': 'library_600x900.jpg', 'has_workshop': False, 'has_market': False, 'has_dlc': False, 'content_descriptorids': [2, 5]}, {'appid': 2100, 'name': 'Dark Mess...  \n",
       "4329  [{'appid': 4000, 'name': 'Garry's Mod', 'playtime_forever': 1301, 'img_icon_url': '4a6f25cfa2426445d0d9d6e233408de4d371ce8b', 'has_community_visible_stats': True, 'capsule_filename': 'library_600x900.jpg', 'has_workshop': True, 'has_market': False, 'has_dlc': True}, {'appid': 17390, 'name': 'Spo...  \n",
       "4330  [{'appid': 10, 'name': 'Counter-Strike', 'playtime_forever': 0, 'img_icon_url': '6b0312cda02f5f777efa2f3318c307ff9acafbb5', 'capsule_filename': 'library_600x900.jpg', 'has_workshop': False, 'has_market': False, 'has_dlc': False, 'content_descriptorids': [2, 5]}, {'appid': 80, 'name': 'Counter-St...  \n",
       "4331  [{'appid': 10, 'name': 'Counter-Strike', 'playtime_forever': 0, 'img_icon_url': '6b0312cda02f5f777efa2f3318c307ff9acafbb5', 'capsule_filename': 'library_600x900.jpg', 'has_workshop': False, 'has_market': False, 'has_dlc': False, 'content_descriptorids': [2, 5]}, {'appid': 20, 'name': 'Team Fortr...  "
      ]
     },
     "execution_count": 49,
     "metadata": {},
     "output_type": "execute_result"
    }
   ],
   "source": [
    "df_users_owned_games.tail()"
   ]
  },
  {
   "cell_type": "code",
   "execution_count": 50,
   "id": "4cfce76b",
   "metadata": {},
   "outputs": [],
   "source": [
    "# Save profiles.csv file with users friendlist\n",
    "df_users_owned_games.to_csv('../../data/users_owned_games.csv', index=False)"
   ]
  },
  {
   "cell_type": "markdown",
   "id": "a8e4081c",
   "metadata": {},
   "source": [
    "### Get user recent played games"
   ]
  },
  {
   "cell_type": "code",
   "execution_count": null,
   "id": "096f0aa8",
   "metadata": {},
   "outputs": [],
   "source": [
    "# GetRecentlyPlayedGames (v0001)\n",
    "# GetRecentlyPlayedGames returns a list of games a player has played in the last two weeks, if the profile is publicly visible. Private, friends-only, and other privacy settings are not supported unless you are asking for your own personal details (ie the WebAPI key you are using is linked to the steamid you are requesting).\n",
    "\n",
    "users_recently_played_games = []\n",
    "for steamid in list_top_1000_game_reviews:\n",
    "    dict_users_recently_played_games = {}\n",
    "    url = f\"http://api.steampowered.com/IPlayerService/GetRecentlyPlayedGames/v0001/?key={key}&steamid={steamid}&format=json\"\n",
    "    response = requests.get(url)\n",
    "    dict_users_recently_played_games['user_steamid'] =  steamid\n",
    "    try: # in case of no recently played games\n",
    "       dict_users_recently_played_games['user_recently_played_games'] =  response.json()['response']\n",
    "       users_recently_played_games.append(dict_users_recently_played_games)\n",
    "    except:\n",
    "       pass"
   ]
  },
  {
   "cell_type": "code",
   "execution_count": null,
   "id": "fd1e8636",
   "metadata": {},
   "outputs": [
    {
     "data": {
      "text/plain": [
       "{'user_steamid': '76561198073719579',\n",
       " 'user_recently_played_games': {'total_count': 17,\n",
       "  'games': [{'appid': 730,\n",
       "    'name': 'Counter-Strike 2',\n",
       "    'playtime_2weeks': 16693,\n",
       "    'playtime_forever': 1640820,\n",
       "    'img_icon_url': '8dbc71957312bbd3baea65848b545be9eae2a355'},\n",
       "   {'appid': 3183280,\n",
       "    'name': 'Game of Thrones: Kingsroad',\n",
       "    'playtime_2weeks': 14493,\n",
       "    'playtime_forever': 122773,\n",
       "    'img_icon_url': '08cfa201f76fa840836f110908992b5fd386419c'},\n",
       "   {'appid': 3240220,\n",
       "    'name': 'Grand Theft Auto V Enhanced',\n",
       "    'playtime_2weeks': 14493,\n",
       "    'playtime_forever': 147805,\n",
       "    'img_icon_url': '8355a7bbdb704f727bfba80ec56bc7228991338e'},\n",
       "   {'appid': 208730,\n",
       "    'name': 'Game of Thrones ',\n",
       "    'playtime_2weeks': 14493,\n",
       "    'playtime_forever': 341926,\n",
       "    'img_icon_url': '92b3048df9dea8b739560368f56841eb23ad5a8e'},\n",
       "   {'appid': 753,\n",
       "    'name': 'Steam',\n",
       "    'playtime_2weeks': 14493,\n",
       "    'playtime_forever': 773252,\n",
       "    'img_icon_url': '1d0167575d746dadea7706685c0f3c01c8aeb6d8'},\n",
       "   {'appid': 240,\n",
       "    'name': 'Counter-Strike: Source',\n",
       "    'playtime_2weeks': 14493,\n",
       "    'playtime_forever': 851626,\n",
       "    'img_icon_url': '9052fa60c496a1c03383b27687ec50f4bf0f0e10'},\n",
       "   {'appid': 100,\n",
       "    'name': 'Counter-Strike: Condition Zero Deleted Scenes',\n",
       "    'playtime_2weeks': 14493,\n",
       "    'playtime_forever': 644323,\n",
       "    'img_icon_url': '077b050ef3e89cd84e2c5a575d78d53b54058236'},\n",
       "   {'appid': 80,\n",
       "    'name': 'Counter-Strike: Condition Zero',\n",
       "    'playtime_2weeks': 14493,\n",
       "    'playtime_forever': 833833,\n",
       "    'img_icon_url': '077b050ef3e89cd84e2c5a575d78d53b54058236'},\n",
       "   {'appid': 7,\n",
       "    'name': 'Steam Client',\n",
       "    'playtime_2weeks': 14493,\n",
       "    'playtime_forever': 547816,\n",
       "    'img_icon_url': ''},\n",
       "   {'appid': 10,\n",
       "    'name': 'Counter-Strike',\n",
       "    'playtime_2weeks': 14492,\n",
       "    'playtime_forever': 864138,\n",
       "    'img_icon_url': '6b0312cda02f5f777efa2f3318c307ff9acafbb5'},\n",
       "   {'appid': 3489700,\n",
       "    'name': 'Stellar Blade™',\n",
       "    'playtime_2weeks': 4941,\n",
       "    'playtime_forever': 6381,\n",
       "    'img_icon_url': '57038a59c95ccee823169ffd580adef713543d46'},\n",
       "   {'appid': 753660,\n",
       "    'name': 'AtmaSphere',\n",
       "    'playtime_2weeks': 1643,\n",
       "    'playtime_forever': 2539,\n",
       "    'img_icon_url': '0f3559c8e03858f975a1d2ab7dfb7a06a60d06de'},\n",
       "   {'appid': 960990,\n",
       "    'name': 'Beyond: Two Souls',\n",
       "    'playtime_2weeks': 726,\n",
       "    'playtime_forever': 696,\n",
       "    'img_icon_url': '651960ab55d9385730101dc2cef12dd8ac57d5a0'},\n",
       "   {'appid': 12150,\n",
       "    'name': 'Max Payne 2: The Fall of Max Payne',\n",
       "    'playtime_2weeks': 42,\n",
       "    'playtime_forever': 29402,\n",
       "    'img_icon_url': '4eba5db8324e043569742f7b1d50a8975b88bf52'},\n",
       "   {'appid': 204100,\n",
       "    'name': 'Max Payne 3',\n",
       "    'playtime_2weeks': 15,\n",
       "    'playtime_forever': 30264,\n",
       "    'img_icon_url': '96af86331719b56cefc55298b4fcb99c99f1cfee'},\n",
       "   {'appid': 920490,\n",
       "    'name': 'Driver Booster for Steam',\n",
       "    'playtime_2weeks': 10,\n",
       "    'playtime_forever': 514,\n",
       "    'img_icon_url': '94884ac2921d269ded69fe4a9f478c3a85fb45b8'},\n",
       "   {'appid': 3072000,\n",
       "    'name': 'Literally Just Pixels On A Screen',\n",
       "    'playtime_2weeks': 1,\n",
       "    'playtime_forever': 1,\n",
       "    'img_icon_url': 'b52ffc0725cb7001d723f4c98f4ecf225ef7b5a7'}]}}"
      ]
     },
     "execution_count": 31,
     "metadata": {},
     "output_type": "execute_result"
    }
   ],
   "source": [
    "users_recently_played_games[5]"
   ]
  },
  {
   "cell_type": "code",
   "execution_count": 28,
   "id": "92958a35",
   "metadata": {},
   "outputs": [
    {
     "data": {
      "text/plain": [
       "16181"
      ]
     },
     "execution_count": 28,
     "metadata": {},
     "output_type": "execute_result"
    }
   ],
   "source": [
    "len(users_recently_played_games)"
   ]
  },
  {
   "cell_type": "code",
   "execution_count": 32,
   "id": "8ef6b3a0",
   "metadata": {},
   "outputs": [],
   "source": [
    "df_users_recently_played_games = pd.DataFrame(users_recently_played_games)"
   ]
  },
  {
   "cell_type": "code",
   "execution_count": 34,
   "id": "4d3e1817",
   "metadata": {},
   "outputs": [
    {
     "data": {
      "text/html": [
       "<div>\n",
       "<style scoped>\n",
       "    .dataframe tbody tr th:only-of-type {\n",
       "        vertical-align: middle;\n",
       "    }\n",
       "\n",
       "    .dataframe tbody tr th {\n",
       "        vertical-align: top;\n",
       "    }\n",
       "\n",
       "    .dataframe thead th {\n",
       "        text-align: right;\n",
       "    }\n",
       "</style>\n",
       "<table border=\"1\" class=\"dataframe\">\n",
       "  <thead>\n",
       "    <tr style=\"text-align: right;\">\n",
       "      <th></th>\n",
       "      <th>user_steamid</th>\n",
       "      <th>user_recently_played_games</th>\n",
       "    </tr>\n",
       "  </thead>\n",
       "  <tbody>\n",
       "    <tr>\n",
       "      <th>16176</th>\n",
       "      <td>76561198157454615</td>\n",
       "      <td>{'total_count': 3, 'games': [{'appid': 2088840, 'name': 'Picayune Dreams', 'playtime_2weeks': 1259, 'playtime_forever': 3034, 'img_icon_url': 'dce0cd6551f5654c11844e99e705d61977d8b870'}, {'appid': 1275350, 'name': 'Ninja Kiwi Archive', 'playtime_2weeks': 22, 'playtime_forever': 399, 'img_icon_ur...</td>\n",
       "    </tr>\n",
       "    <tr>\n",
       "      <th>16177</th>\n",
       "      <td>76561198085902463</td>\n",
       "      <td>{}</td>\n",
       "    </tr>\n",
       "    <tr>\n",
       "      <th>16178</th>\n",
       "      <td>76561198236398530</td>\n",
       "      <td>{}</td>\n",
       "    </tr>\n",
       "    <tr>\n",
       "      <th>16179</th>\n",
       "      <td>76561198003248938</td>\n",
       "      <td>{}</td>\n",
       "    </tr>\n",
       "    <tr>\n",
       "      <th>16180</th>\n",
       "      <td>76561198296103889</td>\n",
       "      <td>{}</td>\n",
       "    </tr>\n",
       "  </tbody>\n",
       "</table>\n",
       "</div>"
      ],
      "text/plain": [
       "            user_steamid  \\\n",
       "16176  76561198157454615   \n",
       "16177  76561198085902463   \n",
       "16178  76561198236398530   \n",
       "16179  76561198003248938   \n",
       "16180  76561198296103889   \n",
       "\n",
       "                                                                                                                                                                                                                                                                                        user_recently_played_games  \n",
       "16176  {'total_count': 3, 'games': [{'appid': 2088840, 'name': 'Picayune Dreams', 'playtime_2weeks': 1259, 'playtime_forever': 3034, 'img_icon_url': 'dce0cd6551f5654c11844e99e705d61977d8b870'}, {'appid': 1275350, 'name': 'Ninja Kiwi Archive', 'playtime_2weeks': 22, 'playtime_forever': 399, 'img_icon_ur...  \n",
       "16177                                                                                                                                                                                                                                                                                                           {}  \n",
       "16178                                                                                                                                                                                                                                                                                                           {}  \n",
       "16179                                                                                                                                                                                                                                                                                                           {}  \n",
       "16180                                                                                                                                                                                                                                                                                                           {}  "
      ]
     },
     "execution_count": 34,
     "metadata": {},
     "output_type": "execute_result"
    }
   ],
   "source": [
    "df_users_recently_played_games.tail()"
   ]
  },
  {
   "cell_type": "code",
   "execution_count": 35,
   "id": "03bf5c5c",
   "metadata": {},
   "outputs": [],
   "source": [
    "# Save profiles.csv file with users recently played games\n",
    "df_users_recently_played_games.to_csv('../../data/users_recently_played_games.csv', index=False)"
   ]
  },
  {
   "cell_type": "markdown",
   "id": "60e1cbb5",
   "metadata": {},
   "source": [
    "### Combine user dfs"
   ]
  },
  {
   "cell_type": "code",
   "execution_count": null,
   "id": "9208855d",
   "metadata": {},
   "outputs": [],
   "source": [
    "df_users_profile = pd.read_csv('../../data/users_profile.csv')\n",
    "df_users_friendlist = pd.read_csv('../../data/users_friendlist.csv')\n",
    "df_users_owned_games = pd.read_csv('../../data/users_owned_games.csv')\n",
    "df_users_recently_played_games = pd.read_csv('../../data/users_recently_played_games.csv')"
   ]
  },
  {
   "cell_type": "code",
   "execution_count": 12,
   "id": "0d27afeb",
   "metadata": {},
   "outputs": [
    {
     "data": {
      "text/html": [
       "<div>\n",
       "<style scoped>\n",
       "    .dataframe tbody tr th:only-of-type {\n",
       "        vertical-align: middle;\n",
       "    }\n",
       "\n",
       "    .dataframe tbody tr th {\n",
       "        vertical-align: top;\n",
       "    }\n",
       "\n",
       "    .dataframe thead th {\n",
       "        text-align: right;\n",
       "    }\n",
       "</style>\n",
       "<table border=\"1\" class=\"dataframe\">\n",
       "  <thead>\n",
       "    <tr style=\"text-align: right;\">\n",
       "      <th></th>\n",
       "      <th>user_steamid</th>\n",
       "      <th>user_recently_played_games</th>\n",
       "    </tr>\n",
       "  </thead>\n",
       "  <tbody>\n",
       "    <tr>\n",
       "      <th>0</th>\n",
       "      <td>76561198116728538</td>\n",
       "      <td>{'total_count': 1, 'games': [{'appid': 632360,...</td>\n",
       "    </tr>\n",
       "    <tr>\n",
       "      <th>1</th>\n",
       "      <td>76561198064983001</td>\n",
       "      <td>{}</td>\n",
       "    </tr>\n",
       "    <tr>\n",
       "      <th>2</th>\n",
       "      <td>76561198981335772</td>\n",
       "      <td>{}</td>\n",
       "    </tr>\n",
       "    <tr>\n",
       "      <th>3</th>\n",
       "      <td>76561198065223916</td>\n",
       "      <td>{}</td>\n",
       "    </tr>\n",
       "    <tr>\n",
       "      <th>4</th>\n",
       "      <td>76561198057012202</td>\n",
       "      <td>{'total_count': 1, 'games': [{'appid': 1681430...</td>\n",
       "    </tr>\n",
       "  </tbody>\n",
       "</table>\n",
       "</div>"
      ],
      "text/plain": [
       "        user_steamid                         user_recently_played_games\n",
       "0  76561198116728538  {'total_count': 1, 'games': [{'appid': 632360,...\n",
       "1  76561198064983001                                                 {}\n",
       "2  76561198981335772                                                 {}\n",
       "3  76561198065223916                                                 {}\n",
       "4  76561198057012202  {'total_count': 1, 'games': [{'appid': 1681430..."
      ]
     },
     "execution_count": 12,
     "metadata": {},
     "output_type": "execute_result"
    }
   ],
   "source": [
    "df_users_recently_played_games.head()"
   ]
  },
  {
   "cell_type": "code",
   "execution_count": 14,
   "id": "7a3aa99a",
   "metadata": {},
   "outputs": [],
   "source": [
    "df_users = df_users_profile.merge(df_users_friendlist, left_on='steamid', right_on='user_steamid', how='left').merge(df_users_owned_games, left_on='steamid', right_on='user_steamid', how='left').merge(df_users_recently_played_games, left_on='steamid', right_on='user_steamid', how='left')"
   ]
  },
  {
   "cell_type": "code",
   "execution_count": 17,
   "id": "7cb3add9",
   "metadata": {},
   "outputs": [
    {
     "data": {
      "text/html": [
       "<div>\n",
       "<style scoped>\n",
       "    .dataframe tbody tr th:only-of-type {\n",
       "        vertical-align: middle;\n",
       "    }\n",
       "\n",
       "    .dataframe tbody tr th {\n",
       "        vertical-align: top;\n",
       "    }\n",
       "\n",
       "    .dataframe thead th {\n",
       "        text-align: right;\n",
       "    }\n",
       "</style>\n",
       "<table border=\"1\" class=\"dataframe\">\n",
       "  <thead>\n",
       "    <tr style=\"text-align: right;\">\n",
       "      <th></th>\n",
       "      <th>steamid</th>\n",
       "      <th>communityvisibilitystate</th>\n",
       "      <th>profilestate</th>\n",
       "      <th>personaname</th>\n",
       "      <th>profileurl</th>\n",
       "      <th>avatar</th>\n",
       "      <th>avatarmedium</th>\n",
       "      <th>avatarfull</th>\n",
       "      <th>avatarhash</th>\n",
       "      <th>personastate</th>\n",
       "      <th>...</th>\n",
       "      <th>gameid</th>\n",
       "      <th>lobbysteamid</th>\n",
       "      <th>gameserverip</th>\n",
       "      <th>gameserversteamid</th>\n",
       "      <th>user_steamid_x</th>\n",
       "      <th>user_friendlist</th>\n",
       "      <th>user_steamid_y</th>\n",
       "      <th>user_owned_games</th>\n",
       "      <th>user_steamid</th>\n",
       "      <th>user_recently_played_games</th>\n",
       "    </tr>\n",
       "  </thead>\n",
       "  <tbody>\n",
       "    <tr>\n",
       "      <th>0</th>\n",
       "      <td>76561198126277481</td>\n",
       "      <td>3</td>\n",
       "      <td>1.0</td>\n",
       "      <td>龍Black Dragon ☯ Syndicate王</td>\n",
       "      <td>https://steamcommunity.com/id/FactaNonVerba/</td>\n",
       "      <td>https://avatars.steamstatic.com/3479e0be80012a...</td>\n",
       "      <td>https://avatars.steamstatic.com/3479e0be80012a...</td>\n",
       "      <td>https://avatars.steamstatic.com/3479e0be80012a...</td>\n",
       "      <td>3479e0be80012aa5fe0e9df66f88ebc86080d10a</td>\n",
       "      <td>0</td>\n",
       "      <td>...</td>\n",
       "      <td>NaN</td>\n",
       "      <td>NaN</td>\n",
       "      <td>NaN</td>\n",
       "      <td>NaN</td>\n",
       "      <td>7.656120e+16</td>\n",
       "      <td>[{'steamid': '76561197962348788', 'relationshi...</td>\n",
       "      <td>NaN</td>\n",
       "      <td>NaN</td>\n",
       "      <td>76561198126277481</td>\n",
       "      <td>{}</td>\n",
       "    </tr>\n",
       "    <tr>\n",
       "      <th>1</th>\n",
       "      <td>76561198177301349</td>\n",
       "      <td>3</td>\n",
       "      <td>1.0</td>\n",
       "      <td>Leo Mystic Magic</td>\n",
       "      <td>https://steamcommunity.com/id/LeoMysticMagic/</td>\n",
       "      <td>https://avatars.steamstatic.com/66221fd9465109...</td>\n",
       "      <td>https://avatars.steamstatic.com/66221fd9465109...</td>\n",
       "      <td>https://avatars.steamstatic.com/66221fd9465109...</td>\n",
       "      <td>66221fd9465109f0a5162804a8de260630401d29</td>\n",
       "      <td>0</td>\n",
       "      <td>...</td>\n",
       "      <td>NaN</td>\n",
       "      <td>NaN</td>\n",
       "      <td>NaN</td>\n",
       "      <td>NaN</td>\n",
       "      <td>7.656120e+16</td>\n",
       "      <td>[{'steamid': '76561197961632157', 'relationshi...</td>\n",
       "      <td>NaN</td>\n",
       "      <td>NaN</td>\n",
       "      <td>76561198177301349</td>\n",
       "      <td>{}</td>\n",
       "    </tr>\n",
       "    <tr>\n",
       "      <th>2</th>\n",
       "      <td>76561198067594892</td>\n",
       "      <td>3</td>\n",
       "      <td>1.0</td>\n",
       "      <td>Khaios</td>\n",
       "      <td>https://steamcommunity.com/id/builds_by_khaios/</td>\n",
       "      <td>https://avatars.steamstatic.com/deb35641a3076b...</td>\n",
       "      <td>https://avatars.steamstatic.com/deb35641a3076b...</td>\n",
       "      <td>https://avatars.steamstatic.com/deb35641a3076b...</td>\n",
       "      <td>deb35641a3076b458f5dd00f1459b844369023e8</td>\n",
       "      <td>0</td>\n",
       "      <td>...</td>\n",
       "      <td>NaN</td>\n",
       "      <td>NaN</td>\n",
       "      <td>NaN</td>\n",
       "      <td>NaN</td>\n",
       "      <td>NaN</td>\n",
       "      <td>NaN</td>\n",
       "      <td>NaN</td>\n",
       "      <td>NaN</td>\n",
       "      <td>76561198067594892</td>\n",
       "      <td>{}</td>\n",
       "    </tr>\n",
       "    <tr>\n",
       "      <th>3</th>\n",
       "      <td>76561198327562167</td>\n",
       "      <td>3</td>\n",
       "      <td>1.0</td>\n",
       "      <td>st3pis_</td>\n",
       "      <td>https://steamcommunity.com/profiles/7656119832...</td>\n",
       "      <td>https://avatars.steamstatic.com/d248114c7b59d6...</td>\n",
       "      <td>https://avatars.steamstatic.com/d248114c7b59d6...</td>\n",
       "      <td>https://avatars.steamstatic.com/d248114c7b59d6...</td>\n",
       "      <td>d248114c7b59d618653c6e2b62505dbcc9da611c</td>\n",
       "      <td>0</td>\n",
       "      <td>...</td>\n",
       "      <td>NaN</td>\n",
       "      <td>NaN</td>\n",
       "      <td>NaN</td>\n",
       "      <td>NaN</td>\n",
       "      <td>NaN</td>\n",
       "      <td>NaN</td>\n",
       "      <td>NaN</td>\n",
       "      <td>NaN</td>\n",
       "      <td>76561198327562167</td>\n",
       "      <td>{}</td>\n",
       "    </tr>\n",
       "    <tr>\n",
       "      <th>4</th>\n",
       "      <td>76561198068398113</td>\n",
       "      <td>3</td>\n",
       "      <td>1.0</td>\n",
       "      <td>anarchy</td>\n",
       "      <td>https://steamcommunity.com/id/anarchy753/</td>\n",
       "      <td>https://avatars.steamstatic.com/33480dc39fa29b...</td>\n",
       "      <td>https://avatars.steamstatic.com/33480dc39fa29b...</td>\n",
       "      <td>https://avatars.steamstatic.com/33480dc39fa29b...</td>\n",
       "      <td>33480dc39fa29b328efc5cfada1f35c41cb0def5</td>\n",
       "      <td>0</td>\n",
       "      <td>...</td>\n",
       "      <td>NaN</td>\n",
       "      <td>NaN</td>\n",
       "      <td>NaN</td>\n",
       "      <td>NaN</td>\n",
       "      <td>7.656120e+16</td>\n",
       "      <td>[{'steamid': '76561197966178706', 'relationshi...</td>\n",
       "      <td>NaN</td>\n",
       "      <td>NaN</td>\n",
       "      <td>76561198068398113</td>\n",
       "      <td>{'total_count': 3, 'games': [{'appid': 1569580...</td>\n",
       "    </tr>\n",
       "  </tbody>\n",
       "</table>\n",
       "<p>5 rows × 29 columns</p>\n",
       "</div>"
      ],
      "text/plain": [
       "             steamid  communityvisibilitystate  profilestate  \\\n",
       "0  76561198126277481                         3           1.0   \n",
       "1  76561198177301349                         3           1.0   \n",
       "2  76561198067594892                         3           1.0   \n",
       "3  76561198327562167                         3           1.0   \n",
       "4  76561198068398113                         3           1.0   \n",
       "\n",
       "                  personaname  \\\n",
       "0  龍Black Dragon ☯ Syndicate王   \n",
       "1            Leo Mystic Magic   \n",
       "2                      Khaios   \n",
       "3                     st3pis_   \n",
       "4                     anarchy   \n",
       "\n",
       "                                          profileurl  \\\n",
       "0       https://steamcommunity.com/id/FactaNonVerba/   \n",
       "1      https://steamcommunity.com/id/LeoMysticMagic/   \n",
       "2    https://steamcommunity.com/id/builds_by_khaios/   \n",
       "3  https://steamcommunity.com/profiles/7656119832...   \n",
       "4          https://steamcommunity.com/id/anarchy753/   \n",
       "\n",
       "                                              avatar  \\\n",
       "0  https://avatars.steamstatic.com/3479e0be80012a...   \n",
       "1  https://avatars.steamstatic.com/66221fd9465109...   \n",
       "2  https://avatars.steamstatic.com/deb35641a3076b...   \n",
       "3  https://avatars.steamstatic.com/d248114c7b59d6...   \n",
       "4  https://avatars.steamstatic.com/33480dc39fa29b...   \n",
       "\n",
       "                                        avatarmedium  \\\n",
       "0  https://avatars.steamstatic.com/3479e0be80012a...   \n",
       "1  https://avatars.steamstatic.com/66221fd9465109...   \n",
       "2  https://avatars.steamstatic.com/deb35641a3076b...   \n",
       "3  https://avatars.steamstatic.com/d248114c7b59d6...   \n",
       "4  https://avatars.steamstatic.com/33480dc39fa29b...   \n",
       "\n",
       "                                          avatarfull  \\\n",
       "0  https://avatars.steamstatic.com/3479e0be80012a...   \n",
       "1  https://avatars.steamstatic.com/66221fd9465109...   \n",
       "2  https://avatars.steamstatic.com/deb35641a3076b...   \n",
       "3  https://avatars.steamstatic.com/d248114c7b59d6...   \n",
       "4  https://avatars.steamstatic.com/33480dc39fa29b...   \n",
       "\n",
       "                                 avatarhash  personastate  ... gameid  \\\n",
       "0  3479e0be80012aa5fe0e9df66f88ebc86080d10a             0  ...    NaN   \n",
       "1  66221fd9465109f0a5162804a8de260630401d29             0  ...    NaN   \n",
       "2  deb35641a3076b458f5dd00f1459b844369023e8             0  ...    NaN   \n",
       "3  d248114c7b59d618653c6e2b62505dbcc9da611c             0  ...    NaN   \n",
       "4  33480dc39fa29b328efc5cfada1f35c41cb0def5             0  ...    NaN   \n",
       "\n",
       "   lobbysteamid  gameserverip  gameserversteamid user_steamid_x  \\\n",
       "0           NaN           NaN                NaN   7.656120e+16   \n",
       "1           NaN           NaN                NaN   7.656120e+16   \n",
       "2           NaN           NaN                NaN            NaN   \n",
       "3           NaN           NaN                NaN            NaN   \n",
       "4           NaN           NaN                NaN   7.656120e+16   \n",
       "\n",
       "                                     user_friendlist  user_steamid_y  \\\n",
       "0  [{'steamid': '76561197962348788', 'relationshi...             NaN   \n",
       "1  [{'steamid': '76561197961632157', 'relationshi...             NaN   \n",
       "2                                                NaN             NaN   \n",
       "3                                                NaN             NaN   \n",
       "4  [{'steamid': '76561197966178706', 'relationshi...             NaN   \n",
       "\n",
       "   user_owned_games       user_steamid  \\\n",
       "0               NaN  76561198126277481   \n",
       "1               NaN  76561198177301349   \n",
       "2               NaN  76561198067594892   \n",
       "3               NaN  76561198327562167   \n",
       "4               NaN  76561198068398113   \n",
       "\n",
       "                          user_recently_played_games  \n",
       "0                                                 {}  \n",
       "1                                                 {}  \n",
       "2                                                 {}  \n",
       "3                                                 {}  \n",
       "4  {'total_count': 3, 'games': [{'appid': 1569580...  \n",
       "\n",
       "[5 rows x 29 columns]"
      ]
     },
     "execution_count": 17,
     "metadata": {},
     "output_type": "execute_result"
    }
   ],
   "source": [
    "df_users.head()"
   ]
  },
  {
   "cell_type": "code",
   "execution_count": null,
   "id": "64ec3caa",
   "metadata": {},
   "outputs": [],
   "source": []
  }
 ],
 "metadata": {
  "kernelspec": {
   "display_name": ".venv",
   "language": "python",
   "name": "python3"
  },
  "language_info": {
   "codemirror_mode": {
    "name": "ipython",
    "version": 3
   },
   "file_extension": ".py",
   "mimetype": "text/x-python",
   "name": "python",
   "nbconvert_exporter": "python",
   "pygments_lexer": "ipython3",
   "version": "3.11.9"
  }
 },
 "nbformat": 4,
 "nbformat_minor": 5
}
