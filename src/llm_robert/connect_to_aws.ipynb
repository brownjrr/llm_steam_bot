{
 "cells": [
  {
   "cell_type": "code",
   "execution_count": null,
   "id": "891d815f",
   "metadata": {},
   "outputs": [],
   "source": [
    "\"\"\"Credit: SIADS 676 2-1-welcome_and_setup.ipynb\"\"\"\n",
    "\n",
    "\n",
    "# Keep this string triple quoted to span lines, only replace the four lines of the string\n",
    "# Get the following information from Vocareum\n",
    "config=\"\"\"\n",
    "[default]\n",
    "\"<PASTE_AWS_CREDENTIALS_HERE>\\n\",\n",
    "\"\"\"\n",
    "\n",
    "# Parse credentials from string\n",
    "access_key_id=config.split(\"aws_access_key_id=\")[1].split(\"\\n\")[0]\n",
    "secret_access_key=config.split(\"aws_secret_access_key=\")[1].split(\"\\n\")[0]\n",
    "session_token=config.split(\"aws_session_token=\")[1].split(\"\\n\")[0]\n",
    "\n",
    "# Once the keys are generated you do the following to create your credentials file\n",
    "!aws configure set default.aws_access_key_id {access_key_id}\n",
    "!aws configure set default.aws_secret_access_key {secret_access_key}\n",
    "!aws configure set default.aws_session_token  {session_token}\n",
    "!aws configure set default.region us-east-1"
   ]
  },
  {
   "cell_type": "code",
   "execution_count": null,
   "id": "79202414",
   "metadata": {},
   "outputs": [],
   "source": [
    "\"\"\"TESTING\"\"\"\n",
    "\n",
    "# Then you can verify that it works with the following\n",
    "from langchain_aws.chat_models import ChatBedrockConverse\n",
    "\n",
    "model = ChatBedrockConverse(\n",
    "    model=\"us.meta.llama3-1-70b-instruct-v1:0\"\n",
    ")\n",
    "\n",
    "print(model.invoke(\"Give me an inspirational quote for me to start my day please.\").content)\n"
   ]
  }
 ],
 "metadata": {
  "kernelspec": {
   "display_name": "venv",
   "language": "python",
   "name": "python3"
  },
  "language_info": {
   "codemirror_mode": {
    "name": "ipython",
    "version": 3
   },
   "file_extension": ".py",
   "mimetype": "text/x-python",
   "name": "python",
   "nbconvert_exporter": "python",
   "pygments_lexer": "ipython3",
   "version": "3.11.9"
  }
 },
 "nbformat": 4,
 "nbformat_minor": 5
}
