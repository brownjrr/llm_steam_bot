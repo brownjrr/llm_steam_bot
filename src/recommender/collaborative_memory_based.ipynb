{
 "cells": [
  {
   "cell_type": "markdown",
   "id": "bbd9346f",
   "metadata": {
    "id": "bbd9346f"
   },
   "source": [
    "### Libs"
   ]
  },
  {
   "cell_type": "code",
   "execution_count": 3,
   "id": "63cbe7d2",
   "metadata": {
    "executionInfo": {
     "elapsed": 2076,
     "status": "ok",
     "timestamp": 1754392704091,
     "user": {
      "displayName": "Lucas Marra",
      "userId": "17497059184945251516"
     },
     "user_tz": 180
    },
    "id": "63cbe7d2"
   },
   "outputs": [],
   "source": [
    "import pandas as pd\n",
    "import numpy as np\n",
    "import ast\n",
    "import requests\n",
    "from sklearn.metrics.pairwise import cosine_similarity\n",
    "from scipy.sparse import csr_matrix"
   ]
  },
  {
   "cell_type": "code",
   "execution_count": 4,
   "id": "9a48be07",
   "metadata": {
    "executionInfo": {
     "elapsed": 1,
     "status": "ok",
     "timestamp": 1754392772671,
     "user": {
      "displayName": "Lucas Marra",
      "userId": "17497059184945251516"
     },
     "user_tz": 180
    },
    "id": "9a48be07"
   },
   "outputs": [],
   "source": [
    "pd.set_option('display.max_colwidth', 150)"
   ]
  },
  {
   "cell_type": "code",
   "execution_count": 5,
   "id": "6aa2f6fc",
   "metadata": {},
   "outputs": [],
   "source": [
    "# df_memory_based_ndcg = pd.read_csv('../../data/df_memory_based_ndcg.csv')\n",
    "# df_memory_based_ndcg_lower_threshold = pd.read_csv('../../data/df_memory_based_ndcg_lower_threshold.csv')\n",
    "# df_memory_based_precision = pd.read_csv('../../data/df_memory_based_precision.csv')\n",
    "# df_memory_based_precision_lower_threshold = pd.read_csv('../../data/df_memory_based_precision_lower_threshold.csv')"
   ]
  },
  {
   "cell_type": "markdown",
   "id": "42b05482",
   "metadata": {},
   "source": [
    "### To run in Colab"
   ]
  },
  {
   "cell_type": "code",
   "execution_count": 2,
   "id": "xe2Eb3kbZQ6f",
   "metadata": {
    "colab": {
     "base_uri": "https://localhost:8080/"
    },
    "executionInfo": {
     "elapsed": 55815,
     "status": "ok",
     "timestamp": 1754392759907,
     "user": {
      "displayName": "Lucas Marra",
      "userId": "17497059184945251516"
     },
     "user_tz": 180
    },
    "id": "xe2Eb3kbZQ6f",
    "outputId": "0f6eef72-9c8e-4f61-db1e-5bebf9ec8656"
   },
   "outputs": [
    {
     "ename": "ModuleNotFoundError",
     "evalue": "No module named 'google.colab'",
     "output_type": "error",
     "traceback": [
      "\u001b[31m---------------------------------------------------------------------------\u001b[39m",
      "\u001b[31mModuleNotFoundError\u001b[39m                       Traceback (most recent call last)",
      "\u001b[36mCell\u001b[39m\u001b[36m \u001b[39m\u001b[32mIn[2]\u001b[39m\u001b[32m, line 3\u001b[39m\n\u001b[32m      1\u001b[39m \u001b[38;5;66;03m# To work on google colab\u001b[39;00m\n\u001b[32m      2\u001b[39m \u001b[38;5;66;03m# Connect\u001b[39;00m\n\u001b[32m----> \u001b[39m\u001b[32m3\u001b[39m \u001b[38;5;28;01mfrom\u001b[39;00m\u001b[38;5;250m \u001b[39m\u001b[34;01mgoogle\u001b[39;00m\u001b[34;01m.\u001b[39;00m\u001b[34;01mcolab\u001b[39;00m\u001b[38;5;250m \u001b[39m\u001b[38;5;28;01mimport\u001b[39;00m drive\n\u001b[32m      4\u001b[39m drive.mount(\u001b[33m'\u001b[39m\u001b[33m/content/drive\u001b[39m\u001b[33m'\u001b[39m)\n\u001b[32m      6\u001b[39m \u001b[38;5;66;03m# Move to work folder location\u001b[39;00m\n",
      "\u001b[31mModuleNotFoundError\u001b[39m: No module named 'google.colab'"
     ]
    }
   ],
   "source": [
    "# To work on google colab\n",
    "# Connect\n",
    "from google.colab import drive\n",
    "drive.mount('/content/drive')\n",
    "\n",
    "# Move to work folder location\n",
    "%cd /content/drive/MyDrive/Capstone/llm_steam_bot/src/recommender\n",
    "\n",
    "# Check location\n",
    "!ls"
   ]
  },
  {
   "cell_type": "markdown",
   "id": "348b3450",
   "metadata": {
    "id": "348b3450"
   },
   "source": [
    "### Upload files and transform data"
   ]
  },
  {
   "cell_type": "code",
   "execution_count": 6,
   "id": "0773d7be",
   "metadata": {
    "executionInfo": {
     "elapsed": 18360,
     "status": "ok",
     "timestamp": 1754392892931,
     "user": {
      "displayName": "Lucas Marra",
      "userId": "17497059184945251516"
     },
     "user_tz": 180
    },
    "id": "0773d7be"
   },
   "outputs": [],
   "source": [
    "# To filter only the top 100 most played games, for first implementation and faster processing\n",
    "#df_top_100_game_reviews = pd.read_csv('../../data/top_100_game_reviews.gz', compression='gzip')\n",
    "df_top_100_game_details = pd.read_csv('../../data/top_100_game_details.csv')\n",
    "# To filter the top 1000 most played games, for full implementation\n",
    "#df_top_1000_game_reviews = pd.read_csv('../../data/top_100_game_reviews.gz', compression='gzip')\n",
    "df_top_1000_game_details = pd.read_csv('../../data/top_1000_game_details.csv')\n",
    "# Users data\n",
    "df_users_profile = pd.read_csv('../../data/users_profile.csv')\n",
    "df_users_friendlist = pd.read_csv('../../data/users_friendlist.csv')\n",
    "df_users_owned_games = pd.read_csv('../../data/users_owned_games.csv') # users of the 1000 game reviews\n",
    "df_users_recently_played_games = pd.read_csv('../../data/users_recently_played_games.csv')"
   ]
  },
  {
   "cell_type": "code",
   "execution_count": 7,
   "id": "c21e80f8",
   "metadata": {
    "executionInfo": {
     "elapsed": 1508,
     "status": "ok",
     "timestamp": 1754392894436,
     "user": {
      "displayName": "Lucas Marra",
      "userId": "17497059184945251516"
     },
     "user_tz": 180
    },
    "id": "c21e80f8"
   },
   "outputs": [],
   "source": [
    "# Add our steam ids for tests\n",
    "key = \"06273B6FCBD23D875865DFC7E0EAFC06\"\n",
    "list_team_steamids = [76561198080989870, 76561199062172023, 76561198164574454]\n",
    "users_owned_games = []\n",
    "for steamid in list_team_steamids:\n",
    "    dict_users_owned_games = {}\n",
    "    url = f\"http://api.steampowered.com/IPlayerService/GetOwnedGames/v0001/?key={key}&steamid={steamid}&include_appinfo=true&include_extended_appinfo=true&format=json\"\n",
    "    response = requests.get(url)\n",
    "    dict_users_owned_games['user_steamid'] =  steamid\n",
    "    try: # in case of no owned games\n",
    "        dict_users_owned_games['user_owned_games'] =  response.json()['response']['games']\n",
    "        users_owned_games.append(dict_users_owned_games)\n",
    "    except:\n",
    "        pass\n",
    "\n",
    "# Concat in users df\n",
    "users_owned_games\n",
    "df_users_owned_games_team = pd.DataFrame(users_owned_games)\n",
    "df_users_owned_games = pd.concat([df_users_owned_games,df_users_owned_games_team])"
   ]
  },
  {
   "cell_type": "code",
   "execution_count": 9,
   "id": "67ddce76",
   "metadata": {
    "executionInfo": {
     "elapsed": 300999,
     "status": "ok",
     "timestamp": 1754393195440,
     "user": {
      "displayName": "Lucas Marra",
      "userId": "17497059184945251516"
     },
     "user_tz": 180
    },
    "id": "67ddce76"
   },
   "outputs": [],
   "source": [
    "# Transform the user_owned_games JSON-like column\n",
    "def safe_parse_owned_games(val):\n",
    "    if isinstance(val, str):\n",
    "        try:\n",
    "            return ast.literal_eval(val)\n",
    "        except Exception as e:\n",
    "            return None\n",
    "    return val  # If it's already a list/dict, just return as is\n",
    "\n",
    "df_users_owned_games[\"parsed_owned_games\"] = df_users_owned_games[\"user_owned_games\"].apply(safe_parse_owned_games)"
   ]
  },
  {
   "cell_type": "code",
   "execution_count": null,
   "id": "6dcd3cd0",
   "metadata": {},
   "outputs": [],
   "source": [
    "#df_users_owned_games.to_csv('../../data/df_users_owned_games.csv', index=True)"
   ]
  },
  {
   "cell_type": "code",
   "execution_count": 10,
   "id": "b844d318",
   "metadata": {
    "executionInfo": {
     "elapsed": 2608,
     "status": "ok",
     "timestamp": 1754393198036,
     "user": {
      "displayName": "Lucas Marra",
      "userId": "17497059184945251516"
     },
     "user_tz": 180
    },
    "id": "b844d318"
   },
   "outputs": [],
   "source": [
    "# Flatten the data into rows of (user, appid, playtime)\n",
    "rows = []\n",
    "for _, row in df_users_owned_games.iterrows():\n",
    "    user_id = row[\"user_steamid\"]\n",
    "    for game in row[\"parsed_owned_games\"]:\n",
    "        appid = game.get(\"appid\")\n",
    "        playtime = game.get(\"playtime_forever\", 0)\n",
    "        if appid is not None:\n",
    "            rows.append((user_id, appid, playtime))"
   ]
  },
  {
   "cell_type": "code",
   "execution_count": 11,
   "id": "d305d723",
   "metadata": {
    "executionInfo": {
     "elapsed": 2043,
     "status": "ok",
     "timestamp": 1754393200083,
     "user": {
      "displayName": "Lucas Marra",
      "userId": "17497059184945251516"
     },
     "user_tz": 180
    },
    "id": "d305d723"
   },
   "outputs": [],
   "source": [
    "# Create a DataFrame from the flattened rows\n",
    "interaction_df = pd.DataFrame(rows, columns=[\"user_steamid\", \"appid\", \"playtime_forever\"])"
   ]
  },
  {
   "cell_type": "code",
   "execution_count": 13,
   "id": "bca856c7",
   "metadata": {},
   "outputs": [
    {
     "data": {
      "text/html": [
       "<div>\n",
       "<style scoped>\n",
       "    .dataframe tbody tr th:only-of-type {\n",
       "        vertical-align: middle;\n",
       "    }\n",
       "\n",
       "    .dataframe tbody tr th {\n",
       "        vertical-align: top;\n",
       "    }\n",
       "\n",
       "    .dataframe thead th {\n",
       "        text-align: right;\n",
       "    }\n",
       "</style>\n",
       "<table border=\"1\" class=\"dataframe\">\n",
       "  <thead>\n",
       "    <tr style=\"text-align: right;\">\n",
       "      <th></th>\n",
       "      <th>user_steamid</th>\n",
       "      <th>appid</th>\n",
       "      <th>playtime_forever</th>\n",
       "    </tr>\n",
       "  </thead>\n",
       "  <tbody>\n",
       "    <tr>\n",
       "      <th>0</th>\n",
       "      <td>76561198974520522</td>\n",
       "      <td>10</td>\n",
       "      <td>1</td>\n",
       "    </tr>\n",
       "    <tr>\n",
       "      <th>1</th>\n",
       "      <td>76561198974520522</td>\n",
       "      <td>80</td>\n",
       "      <td>0</td>\n",
       "    </tr>\n",
       "    <tr>\n",
       "      <th>2</th>\n",
       "      <td>76561198974520522</td>\n",
       "      <td>100</td>\n",
       "      <td>434</td>\n",
       "    </tr>\n",
       "    <tr>\n",
       "      <th>3</th>\n",
       "      <td>76561198974520522</td>\n",
       "      <td>300</td>\n",
       "      <td>1</td>\n",
       "    </tr>\n",
       "    <tr>\n",
       "      <th>4</th>\n",
       "      <td>76561198974520522</td>\n",
       "      <td>20</td>\n",
       "      <td>82</td>\n",
       "    </tr>\n",
       "  </tbody>\n",
       "</table>\n",
       "</div>"
      ],
      "text/plain": [
       "        user_steamid  appid  playtime_forever\n",
       "0  76561198974520522     10                 1\n",
       "1  76561198974520522     80                 0\n",
       "2  76561198974520522    100               434\n",
       "3  76561198974520522    300                 1\n",
       "4  76561198974520522     20                82"
      ]
     },
     "execution_count": 13,
     "metadata": {},
     "output_type": "execute_result"
    }
   ],
   "source": [
    "interaction_df.head()"
   ]
  },
  {
   "cell_type": "code",
   "execution_count": null,
   "id": "d1139220",
   "metadata": {},
   "outputs": [],
   "source": [
    "#interaction_df.to_csv('../../data/df_memory_based_interaction_1000_games.csv', index=True)"
   ]
  },
  {
   "cell_type": "markdown",
   "id": "1913a5b3",
   "metadata": {
    "id": "1913a5b3"
   },
   "source": [
    "### Functions to calculate similarity and recommendation"
   ]
  },
  {
   "cell_type": "code",
   "execution_count": null,
   "id": "be4f15a6",
   "metadata": {
    "executionInfo": {
     "elapsed": 4,
     "status": "ok",
     "timestamp": 1754393200148,
     "user": {
      "displayName": "Lucas Marra",
      "userId": "17497059184945251516"
     },
     "user_tz": 180
    },
    "id": "be4f15a6"
   },
   "outputs": [],
   "source": [
    "# Get item similarity memory based on defined threshold\n",
    "def get_item_similarity(interaction, threshold=None):\n",
    "    if threshold==None:\n",
    "        interaction[\"interaction\"] = interaction[\"playtime_forever\"]\n",
    "    # Binarize playtime as implicit feedback (1 if played > x minutes)\n",
    "    else:\n",
    "        interaction[\"interaction\"] = (interaction[\"playtime_forever\"] >= threshold).astype(int)\n",
    "    # Pivot to a user-item matrix\n",
    "    user_item_matrix = interaction.pivot_table(\n",
    "        index=\"user_steamid\", columns=\"appid\", values=\"interaction\", fill_value=0\n",
    "    )\n",
    "    # Compute item-item similarity using cosine similarity\n",
    "    item_user_matrix = user_item_matrix.T  # Transpose to get items x users\n",
    "    item_similarity = cosine_similarity(item_user_matrix)\n",
    "    # Build item similarity DataFrame\n",
    "    item_similarity_df = pd.DataFrame(\n",
    "        item_similarity, index=item_user_matrix.index, columns=item_user_matrix.index\n",
    "    )\n",
    "    return user_item_matrix, item_similarity_df\n",
    "\n",
    "# Get recommendation for user\n",
    "def recommend_games_for_user(user_id, interaction, user_item_matrix, item_similarity_df, df_top_n_game_details, df_users_owned_games, show_output=False, top_n=5):\n",
    "    # Get the user’s interaction vector\n",
    "    if user_id not in user_item_matrix.index:\n",
    "        print(f\"User {user_id} not found.\")\n",
    "        return []\n",
    "    # Filter played used games\n",
    "    played_games = interaction[interaction[\"user_steamid\"] == user_id][\"appid\"].unique()\n",
    "    # Store recommendation scores\n",
    "    scores = pd.Series(dtype=float)\n",
    "    for game in played_games:\n",
    "        similar_scores = item_similarity_df[game]\n",
    "        scores = scores.add(similar_scores, fill_value=0)\n",
    "    # Remove all games the user ever played, not just liked ones\n",
    "    scores = scores.drop(labels=played_games, errors=\"ignore\")\n",
    "    # Get top N recommendations\n",
    "    top_recommendations = scores.sort_values(ascending=False).head(top_n)\n",
    "    top_recommendations = pd.DataFrame(top_recommendations).reset_index().rename(columns={0: 'similarity_score'})\n",
    "    top_recommendations = pd.merge(top_recommendations, df_top_n_game_details, on='appid')\n",
    "    top_recommendations = top_recommendations[['appid','name','similarity_score']]\n",
    "\n",
    "    if show_output==True:\n",
    "      print(f'-----------------------\\nUser: {user_id}')\n",
    "      # Print played games\n",
    "      games = list(df_users_owned_games[df_users_owned_games['user_steamid']==user_id]['parsed_owned_games'])[0]\n",
    "      games_sorted = sorted(games, key=lambda x: x['playtime_forever'], reverse=True)\n",
    "      print('---\\nUser most played games:')\n",
    "      for game in games_sorted[:5]:\n",
    "          print(f\"- {game['name']}\")\n",
    "      # Print Recommendations\n",
    "      print(\"---\\nTop Recommended Games:\")\n",
    "      print(top_recommendations)\n",
    "      print(\"\\n\")\n",
    "    pass\n",
    "    return top_recommendations"
   ]
  },
  {
   "cell_type": "markdown",
   "id": "01060d88",
   "metadata": {
    "id": "01060d88"
   },
   "source": [
    "### First implementation: Filtering only top 100 most played games"
   ]
  },
  {
   "cell_type": "markdown",
   "id": "986200c0",
   "metadata": {
    "id": "986200c0"
   },
   "source": [
    "**Tests with different thresholds to consider a player liked a games**:\n",
    "- No threshold, raw played time\n",
    "- More than 10 horas played (600 min)\n",
    "- More than 20 horas played (1200 min)\n",
    "- More than 30 horas played (1800 min)"
   ]
  },
  {
   "cell_type": "code",
   "execution_count": 16,
   "id": "4dced583",
   "metadata": {
    "colab": {
     "base_uri": "https://localhost:8080/",
     "height": 0
    },
    "collapsed": true,
    "executionInfo": {
     "elapsed": 200,
     "status": "error",
     "timestamp": 1754400488660,
     "user": {
      "displayName": "Lucas Marra",
      "userId": "17497059184945251516"
     },
     "user_tz": 180
    },
    "id": "4dced583",
    "outputId": "58a2547d-48b1-41db-8eaa-8e3184c462d1"
   },
   "outputs": [
    {
     "name": "stdout",
     "output_type": "stream",
     "text": [
      "-----------------------\n",
      "User: 76561198080989870\n",
      "---\n",
      "User most played games:\n",
      "- Red Dead Redemption 2\n",
      "- The Elder Scrolls V: Skyrim\n",
      "- Counter-Strike 2\n",
      "- Grand Theft Auto V Legacy\n",
      "- The Elder Scrolls V: Skyrim Special Edition\n",
      "---\n",
      "Top Recommended Games:\n",
      "     appid                               name  similarity_score\n",
      "0   578080                PUBG: BATTLEGROUNDS          1.269749\n",
      "1  1091500                     Cyberpunk 2077          1.265525\n",
      "2     4000                        Garry's Mod          1.257913\n",
      "3   359550  Tom Clancy's Rainbow Six® Siege X          1.243093\n",
      "4   218620                           PAYDAY 2          1.184105\n",
      "\n",
      "\n"
     ]
    },
    {
     "name": "stderr",
     "output_type": "stream",
     "text": [
      "C:\\Users\\lucas\\AppData\\Local\\Temp\\ipykernel_6212\\4127428350.py:7: SettingWithCopyWarning: \n",
      "A value is trying to be set on a copy of a slice from a DataFrame.\n",
      "Try using .loc[row_indexer,col_indexer] = value instead\n",
      "\n",
      "See the caveats in the documentation: https://pandas.pydata.org/pandas-docs/stable/user_guide/indexing.html#returning-a-view-versus-a-copy\n",
      "  interaction[\"interaction\"] = (interaction[\"playtime_forever\"] >= threshold).astype(int)\n"
     ]
    }
   ],
   "source": [
    "# Filter only top 100 played games before sparse matrix for first evaluation and faster processing\n",
    "top_100_games = list(df_top_100_game_details['appid'])\n",
    "interaction_df_100 = interaction_df[interaction_df['appid'].isin(top_100_games)]\n",
    "\n",
    "# Define threshold\n",
    "threshold=None\n",
    "threshold=1200\n",
    "threshold=1600\n",
    "threshold=1800\n",
    "\n",
    "# Make user_item_matrix and similarity\n",
    "user_item_matrix, item_similarity_df = get_item_similarity(interaction_df_100, threshold=threshold)\n",
    "\n",
    "# Get recomendations\n",
    "recommendations = recommend_games_for_user(76561198080989870, interaction_df_100, user_item_matrix, item_similarity_df, df_top_100_game_details, df_users_owned_games, top_n=5, show_output=True)\n",
    "recommendations = recommend_games_for_user(76561198164574454, interaction_df_100, user_item_matrix, item_similarity_df, df_top_100_game_details, df_users_owned_games, top_n=5)\n",
    "recommendations = recommend_games_for_user(76561199062172023, interaction_df_100, user_item_matrix, item_similarity_df, df_top_100_game_details, df_users_owned_games, top_n=5)"
   ]
  },
  {
   "cell_type": "markdown",
   "id": "939547d7",
   "metadata": {
    "id": "939547d7"
   },
   "source": [
    "### Full implementation: Filtering top 1000 most played games"
   ]
  },
  {
   "cell_type": "markdown",
   "id": "6ca52360",
   "metadata": {
    "id": "6ca52360"
   },
   "source": [
    "**Tests with different thresholds to consider a player liked a games**:\n",
    "- No threshold, raw played time\n",
    "- More than 10 horas played (600 min)\n",
    "- More than 20 horas played (1200 min)\n",
    "- More than 30 horas played (1800 min)"
   ]
  },
  {
   "cell_type": "code",
   "execution_count": 17,
   "id": "96713ab3",
   "metadata": {
    "colab": {
     "base_uri": "https://localhost:8080/",
     "height": 225
    },
    "executionInfo": {
     "elapsed": 102,
     "status": "error",
     "timestamp": 1754427197715,
     "user": {
      "displayName": "Lucas Marra",
      "userId": "17497059184945251516"
     },
     "user_tz": 180
    },
    "id": "96713ab3",
    "outputId": "c1219c0b-b387-4f3e-e9c0-373b627ae8aa"
   },
   "outputs": [
    {
     "name": "stderr",
     "output_type": "stream",
     "text": [
      "C:\\Users\\lucas\\AppData\\Local\\Temp\\ipykernel_6212\\4127428350.py:7: SettingWithCopyWarning: \n",
      "A value is trying to be set on a copy of a slice from a DataFrame.\n",
      "Try using .loc[row_indexer,col_indexer] = value instead\n",
      "\n",
      "See the caveats in the documentation: https://pandas.pydata.org/pandas-docs/stable/user_guide/indexing.html#returning-a-view-versus-a-copy\n",
      "  interaction[\"interaction\"] = (interaction[\"playtime_forever\"] >= threshold).astype(int)\n"
     ]
    },
    {
     "name": "stdout",
     "output_type": "stream",
     "text": [
      "-----------------------\n",
      "User: 76561198080989870\n",
      "---\n",
      "User most played games:\n",
      "- Red Dead Redemption 2\n",
      "- The Elder Scrolls V: Skyrim\n",
      "- Counter-Strike 2\n",
      "- Grand Theft Auto V Legacy\n",
      "- The Elder Scrolls V: Skyrim Special Edition\n",
      "---\n",
      "Top Recommended Games:\n",
      "    appid                               name  similarity_score\n",
      "0  377160                          Fallout 4          1.990360\n",
      "1    4000                        Garry's Mod          1.808666\n",
      "2  105600                           Terraria          1.804034\n",
      "3  218620                           PAYDAY 2          1.772381\n",
      "4   49520                      Borderlands 2          1.768351\n",
      "5  292030           The Witcher 3: Wild Hunt          1.727495\n",
      "6  578080                PUBG: BATTLEGROUNDS          1.672340\n",
      "7  359550  Tom Clancy's Rainbow Six® Siege X          1.651508\n",
      "8  230410                           Warframe          1.646363\n",
      "9     550                      Left 4 Dead 2          1.639346\n",
      "\n",
      "\n"
     ]
    }
   ],
   "source": [
    "# Filter top 1000 most played games, for full implementation\n",
    "top_1000_games = list(df_top_1000_game_details['appid'])\n",
    "interaction_df_1000 = interaction_df[interaction_df['appid'].isin(top_1000_games)]\n",
    "\n",
    "# Define threshold\n",
    "threshold=None\n",
    "threshold=1200\n",
    "threshold=1600\n",
    "threshold=1800\n",
    "\n",
    "# Make user_item_matrix and similarity\n",
    "user_item_matrix, item_similarity_df = get_item_similarity(interaction_df_1000, threshold=threshold)\n",
    "\n",
    "# Get recomendations\n",
    "recommendations = recommend_games_for_user(76561198080989870, interaction_df_1000, user_item_matrix, item_similarity_df, df_top_1000_game_details, df_users_owned_games, top_n=10, show_output=True)\n",
    "recommendations = recommend_games_for_user(76561198164574454, interaction_df_1000, user_item_matrix, item_similarity_df, df_top_1000_game_details, df_users_owned_games, top_n=5)\n",
    "recommendations = recommend_games_for_user(76561199062172023, interaction_df_1000, user_item_matrix, item_similarity_df, df_top_1000_game_details, df_users_owned_games, top_n=5)"
   ]
  },
  {
   "cell_type": "code",
   "execution_count": null,
   "id": "3bb9e721",
   "metadata": {},
   "outputs": [],
   "source": [
    "# user_item_matrix.to_csv('../../data/memory_based_user_item_matrix_1000_games.csv', index=True)\n",
    "# item_similarity_df.to_csv('../../data/df_memory_based_item_similarity_1000_games.csv', index=True)\n",
    "# interaction_df_1000.to_csv('../../data/df_memory_based_interaction_1000_games.csv', index=True)"
   ]
  },
  {
   "cell_type": "markdown",
   "id": "OLgEP3WvEBvN",
   "metadata": {
    "id": "OLgEP3WvEBvN"
   },
   "source": [
    "### Offline evaluation"
   ]
  },
  {
   "cell_type": "code",
   "execution_count": 18,
   "id": "-_LPBvHQHNPx",
   "metadata": {
    "executionInfo": {
     "elapsed": 45,
     "status": "ok",
     "timestamp": 1754330113573,
     "user": {
      "displayName": "Lucas Marra",
      "userId": "17497059184945251516"
     },
     "user_tz": 180
    },
    "id": "-_LPBvHQHNPx"
   },
   "outputs": [],
   "source": [
    "from collections import defaultdict"
   ]
  },
  {
   "cell_type": "code",
   "execution_count": 19,
   "id": "SEAo3IKXbRPo",
   "metadata": {
    "colab": {
     "base_uri": "https://localhost:8080/"
    },
    "executionInfo": {
     "elapsed": 228828,
     "status": "ok",
     "timestamp": 1754330342706,
     "user": {
      "displayName": "Lucas Marra",
      "userId": "17497059184945251516"
     },
     "user_tz": 180
    },
    "id": "SEAo3IKXbRPo",
    "outputId": "3cbbd11c-1edf-4e62-cb71-d19605495619"
   },
   "outputs": [
    {
     "name": "stdout",
     "output_type": "stream",
     "text": [
      "Total users with train/test split: 4334\n"
     ]
    }
   ],
   "source": [
    "# Split into train and test (for offline evaluation) and make train interaction_df\n",
    "user_game_dict = defaultdict(list)\n",
    "for _, row in interaction_df.iterrows():\n",
    "    user_game_dict[row['user_steamid']].append(row['appid'])\n",
    "\n",
    "train = {}\n",
    "test = {}\n",
    "rng = np.random.default_rng(42)\n",
    "\n",
    "for user, games in user_game_dict.items():\n",
    "    if len(games) < 2:\n",
    "        continue  # Skip users with fewer than 2 relevant games\n",
    "    games = rng.permutation(games)\n",
    "    split = int(len(games) * 0.7)\n",
    "    train[user] = list(games[:split])\n",
    "    test[user] = list(games[split:])\n",
    "\n",
    "print(f\"Total users with train/test split: {len(train)}\")\n",
    "\n",
    "\n",
    "interaction_df_train = interaction_df[\n",
    "    interaction_df[\"user_steamid\"].isin(train) &\n",
    "    interaction_df.apply(lambda row: row[\"appid\"] in train.get(row[\"user_steamid\"], []), axis=1)\n",
    "]"
   ]
  },
  {
   "cell_type": "code",
   "execution_count": 20,
   "id": "d3476cbb",
   "metadata": {
    "executionInfo": {
     "elapsed": 67,
     "status": "ok",
     "timestamp": 1754330342770,
     "user": {
      "displayName": "Lucas Marra",
      "userId": "17497059184945251516"
     },
     "user_tz": 180
    },
    "id": "d3476cbb"
   },
   "outputs": [],
   "source": [
    "# Filter only top 100 played games before sparse matrix for first evaluation and faster processing (offline evaluation)\n",
    "top_100_games = list(df_top_100_game_details['appid'])\n",
    "interaction_df_100_train = interaction_df_train[interaction_df_train['appid'].isin(top_100_games)]\n",
    "\n",
    "# Filter top 1000 most played games, for full implementation\n",
    "top_1000_games = list(df_top_1000_game_details['appid'])\n",
    "interaction_df_1000_train = interaction_df_train[interaction_df_train['appid'].isin(top_1000_games)]"
   ]
  },
  {
   "cell_type": "markdown",
   "id": "brEtRpUks1uy",
   "metadata": {
    "id": "brEtRpUks1uy"
   },
   "source": [
    "#### Hit Rate@k"
   ]
  },
  {
   "cell_type": "code",
   "execution_count": null,
   "id": "CqSLgYCDJKp7",
   "metadata": {
    "colab": {
     "base_uri": "https://localhost:8080/"
    },
    "collapsed": true,
    "executionInfo": {
     "elapsed": 1993030,
     "status": "ok",
     "timestamp": 1754346619801,
     "user": {
      "displayName": "Lucas Marra",
      "userId": "17497059184945251516"
     },
     "user_tz": 180
    },
    "id": "CqSLgYCDJKp7",
    "outputId": "e53c3f96-0b1c-4012-c666-fced7bd00a4b"
   },
   "outputs": [],
   "source": [
    "# Compare for each user in test, if at least one played game is recommended\n",
    "hit_rate = []\n",
    "total_games = 100\n",
    "#for interaction_df_train in [interaction_df_100_train, interaction_df_1000_train]: # 100 most played games and 1000 most played\n",
    "for interaction_df_train, df_top_game_details in [(interaction_df_100_train, df_top_100_game_details),(interaction_df_1000_train, df_top_1000_game_details)]: # 100 most played games and 1000 most played\n",
    "  print(\"starting for interaction_df_train\")\n",
    "  for threshold in [None, 150, 300, 600, 1200, 1800]:\n",
    "    print(f\"starting for threshold: {threshold}\")\n",
    "    # Make similarity\n",
    "    user_item_matrix_train, item_similarity_df_train = get_item_similarity(interaction_df_train, threshold=threshold)\n",
    "    for k in [1,5,10,20]: # multiples k's\n",
    "      print(f\"starting for k: {k}\")\n",
    "      hits = 0\n",
    "      for user in test:\n",
    "          true_items = set(test[user])\n",
    "          try:\n",
    "            recommended = list(recommend_games_for_user(user, interaction_df_train, user_item_matrix_train, item_similarity_df_train, df_top_game_details, df_users_owned_games, top_n=k)['appid'])\n",
    "          except:\n",
    "            continue\n",
    "            #print('error due to not fiding test user in train')\n",
    "          if set(recommended) & true_items:\n",
    "              hits += 1\n",
    "      score = hits / len(test)\n",
    "      hit_rate_dict = {}\n",
    "      hit_rate_dict[f\"total_games\"] = total_games\n",
    "      hit_rate_dict[f\"threshold\"] = threshold\n",
    "      hit_rate_dict[f\"k\"] = k\n",
    "      hit_rate_dict[\"hit_rate\"] = score\n",
    "      hit_rate.append(hit_rate_dict)\n",
    "  total_games = 1000\n",
    "\n",
    "# Convert to DataFrame\n",
    "df_memory_based_hit_rate = pd.DataFrame(hit_rate)\n",
    "df_memory_based_hit_rate[\"threshold\"] = df_memory_based_hit_rate[\"threshold\"].astype(str)\n",
    "# Save .csv\n",
    "df_memory_based_hit_rate.to_csv('../../data/df_memory_based_hit_rate.csv', index=False)"
   ]
  },
  {
   "cell_type": "markdown",
   "id": "hGhRReCIs_cf",
   "metadata": {
    "id": "hGhRReCIs_cf"
   },
   "source": [
    "#### Precision@k"
   ]
  },
  {
   "cell_type": "code",
   "execution_count": 22,
   "id": "eXX-q9JftIRE",
   "metadata": {
    "executionInfo": {
     "elapsed": 1,
     "status": "ok",
     "timestamp": 1754404739551,
     "user": {
      "displayName": "Lucas Marra",
      "userId": "17497059184945251516"
     },
     "user_tz": 180
    },
    "id": "eXX-q9JftIRE"
   },
   "outputs": [],
   "source": [
    "# Unlike Hit Rate, which gives 1 point if any relevant item is found, Precision rewards more for getting multiple relevant items right.\n",
    "def precision_at_k(recommended_items, true_items, k):\n",
    "    recommended_top_k = recommended_items[:k]\n",
    "    if not recommended_top_k:\n",
    "        return 0.0\n",
    "    hits = len(set(recommended_top_k) & set(true_items))\n",
    "    return hits / k"
   ]
  },
  {
   "cell_type": "code",
   "execution_count": null,
   "id": "AvjcXchYtIT3",
   "metadata": {
    "colab": {
     "base_uri": "https://localhost:8080/"
    },
    "collapsed": true,
    "executionInfo": {
     "elapsed": 2206215,
     "status": "ok",
     "timestamp": 1754354575821,
     "user": {
      "displayName": "Lucas Marra",
      "userId": "17497059184945251516"
     },
     "user_tz": 180
    },
    "id": "AvjcXchYtIT3",
    "outputId": "57790a30-8450-4cb5-cf82-fd685e9a9e2b"
   },
   "outputs": [],
   "source": [
    "precision_results = []\n",
    "total_games = 100\n",
    "for interaction_df_train, df_top_game_details in [(interaction_df_100_train, df_top_100_game_details),(interaction_df_1000_train, df_top_1000_game_details)]: # 100 most played games and 1000 most played\n",
    "  print(\"starting for interaction_df_train\")\n",
    "  for threshold in [None, 150, 300, 600, 1200, 1800]:\n",
    "    print(f\"starting for threshold: {threshold}\")\n",
    "    # Make similarity\n",
    "    user_item_matrix_train, item_similarity_df_train = get_item_similarity(interaction_df_train, threshold=threshold)\n",
    "    for k in [1,5,10,20]: # multiples k's\n",
    "      print(f\"starting for k: {k}\")\n",
    "      precisions = []\n",
    "      for user in test:\n",
    "          true_items = set(test[user])\n",
    "          try:\n",
    "              recs_df = recommend_games_for_user(user, interaction_df_train, user_item_matrix_train, item_similarity_df_train, df_top_game_details, df_users_owned_games, top_n=k)\n",
    "              recommended = list(recs_df[\"appid\"])\n",
    "          except:\n",
    "              continue\n",
    "          prec = precision_at_k(recommended, true_items, k)\n",
    "          precisions.append(prec)\n",
    "      precision_score = np.mean(precisions)\n",
    "      precision_results.append({\n",
    "          \"total_games\": total_games,\n",
    "          \"threshold\": threshold,\n",
    "          \"k\": k,\n",
    "          \"precision\": precision_score\n",
    "      })\n",
    "  total_games = 1000\n",
    "\n",
    "# Convert to DataFrame\n",
    "df_memory_based_precision = pd.DataFrame(precision_results)\n",
    "df_memory_based_precision[\"threshold\"] = df_memory_based_precision[\"threshold\"].astype(str)\n",
    "# Save .csv\n",
    "df_memory_based_precision.to_csv('../../data/df_memory_based_precision.csv', index=False)"
   ]
  },
  {
   "cell_type": "markdown",
   "id": "wdYfyAwWvgLQ",
   "metadata": {
    "id": "wdYfyAwWvgLQ"
   },
   "source": [
    "#### NDCG@k"
   ]
  },
  {
   "cell_type": "code",
   "execution_count": 24,
   "id": "jY5qjK-BtIc4",
   "metadata": {
    "executionInfo": {
     "elapsed": 9,
     "status": "ok",
     "timestamp": 1754354575823,
     "user": {
      "displayName": "Lucas Marra",
      "userId": "17497059184945251516"
     },
     "user_tz": 180
    },
    "id": "jY5qjK-BtIc4"
   },
   "outputs": [],
   "source": [
    "# evaluates not just what relevant items are recommended, but also where they appear in the ranked list. It gives higher scores for relevant items that appear earlier in the list"
   ]
  },
  {
   "cell_type": "code",
   "execution_count": 25,
   "id": "OW5ztGGHxZHx",
   "metadata": {
    "executionInfo": {
     "elapsed": 6,
     "status": "ok",
     "timestamp": 1754354575823,
     "user": {
      "displayName": "Lucas Marra",
      "userId": "17497059184945251516"
     },
     "user_tz": 180
    },
    "id": "OW5ztGGHxZHx"
   },
   "outputs": [],
   "source": [
    "def ndcg_at_k(recommended_items, true_items, k):\n",
    "    recommended_top_k = recommended_items[:k]\n",
    "    dcg = 0.0\n",
    "    for i, item in enumerate(recommended_top_k):\n",
    "        if item in true_items:\n",
    "            dcg += 1 / np.log2(i + 2)  # i+2 because log2(1) = 0\n",
    "    # Ideal DCG\n",
    "    ideal_hits = min(len(true_items), k)\n",
    "    idcg = sum(1 / np.log2(i + 2) for i in range(ideal_hits))\n",
    "    return dcg / idcg if idcg > 0 else 0.0"
   ]
  },
  {
   "cell_type": "code",
   "execution_count": null,
   "id": "oLDKbJtNxoCN",
   "metadata": {
    "colab": {
     "base_uri": "https://localhost:8080/"
    },
    "collapsed": true,
    "executionInfo": {
     "elapsed": 1981931,
     "status": "ok",
     "timestamp": 1754356557750,
     "user": {
      "displayName": "Lucas Marra",
      "userId": "17497059184945251516"
     },
     "user_tz": 180
    },
    "id": "oLDKbJtNxoCN",
    "outputId": "8f5e6e4c-adf7-40ea-c17a-560b871f2689"
   },
   "outputs": [],
   "source": [
    "ndcg_results = []\n",
    "total_games = 100\n",
    "for interaction_df_train, df_top_game_details in [(interaction_df_100_train, df_top_100_game_details),(interaction_df_1000_train, df_top_1000_game_details)]: # 100 most played games and 1000 most played\n",
    "  print(\"starting for interaction_df_train\")\n",
    "  for threshold in [None, 150, 300, 600, 1200, 1800]:\n",
    "    print(f\"starting for threshold: {threshold}\")\n",
    "    # Make similarity\n",
    "    user_item_matrix_train, item_similarity_df_train = get_item_similarity(interaction_df_train, threshold=threshold)\n",
    "    for k in [1,5,10,20]: # multiples k's\n",
    "      print(f\"starting for k: {k}\")\n",
    "      ndcgs = []\n",
    "      for user in test:\n",
    "          true_items = set(test[user])\n",
    "          try:\n",
    "              recs_df = recommend_games_for_user(user, interaction_df_train, user_item_matrix_train, item_similarity_df_train, df_top_game_details, df_users_owned_games, top_n=k)\n",
    "              recommended = list(recs_df[\"appid\"])\n",
    "          except:\n",
    "              continue\n",
    "          ndcg = ndcg_at_k(recommended, true_items, k)\n",
    "          ndcgs.append(ndcg)\n",
    "      ndcg_score = np.mean(ndcgs)\n",
    "      ndcg_results.append({\n",
    "          \"total_games\": total_games,\n",
    "          \"threshold\": threshold,\n",
    "          \"k\": k,\n",
    "          \"ndcg\": ndcg_score\n",
    "      })\n",
    "  total_games = 1000\n",
    "\n",
    "# Convert to DataFrame\n",
    "df_memory_based_ndcg = pd.DataFrame(ndcg_results)\n",
    "df_memory_based_ndcg[\"threshold\"] = df_memory_based_ndcg[\"threshold\"].astype(str)\n",
    "# Save .csv\n",
    "df_memory_based_ndcg.to_csv('../../data/df_memory_based_ndcg.csv', index=False)"
   ]
  },
  {
   "cell_type": "code",
   "execution_count": null,
   "id": "2cd30e81",
   "metadata": {},
   "outputs": [],
   "source": []
  },
  {
   "cell_type": "markdown",
   "id": "a9115751",
   "metadata": {},
   "source": [
    "### Make static recommendation df to use in app"
   ]
  },
  {
   "cell_type": "code",
   "execution_count": 42,
   "id": "1585019d",
   "metadata": {},
   "outputs": [
    {
     "name": "stderr",
     "output_type": "stream",
     "text": [
      "C:\\Users\\lucas\\AppData\\Local\\Temp\\ipykernel_6212\\533120212.py:7: FutureWarning: The behavior of DataFrame concatenation with empty or all-NA entries is deprecated. In a future version, this will no longer exclude empty or all-NA columns when determining the result dtypes. To retain the old behavior, exclude the relevant entries before the concat operation.\n",
      "  df__memory_based_recommendations = pd.concat([df__memory_based_recommendations, df_recommendation])\n"
     ]
    }
   ],
   "source": [
    "users = user_item_matrix.index.tolist()\n",
    "df__memory_based_recommendations = pd.DataFrame(columns=['user_id','appid','name','similarity_score'])\n",
    "#recommendations = []\n",
    "for user in users:\n",
    "    df_recommendation = recommend_games_for_user(user, interaction_df_1000, user_item_matrix, item_similarity_df, df_top_1000_game_details, df_users_owned_games, top_n=10, show_output=False)\n",
    "    df_recommendation['user_id'] = user\n",
    "    df__memory_based_recommendations = pd.concat([df__memory_based_recommendations, df_recommendation])\n",
    "\n",
    "df_memory_based_recommendations = df__memory_based_recommendations.reset_index(drop=True)\n",
    "df_memory_based_recommendations.to_csv('../../data/df_memory_based_recommendations.csv', index=False)"
   ]
  },
  {
   "cell_type": "code",
   "execution_count": 43,
   "id": "2dbfb644",
   "metadata": {},
   "outputs": [
    {
     "data": {
      "text/html": [
       "<div>\n",
       "<style scoped>\n",
       "    .dataframe tbody tr th:only-of-type {\n",
       "        vertical-align: middle;\n",
       "    }\n",
       "\n",
       "    .dataframe tbody tr th {\n",
       "        vertical-align: top;\n",
       "    }\n",
       "\n",
       "    .dataframe thead th {\n",
       "        text-align: right;\n",
       "    }\n",
       "</style>\n",
       "<table border=\"1\" class=\"dataframe\">\n",
       "  <thead>\n",
       "    <tr style=\"text-align: right;\">\n",
       "      <th></th>\n",
       "      <th>user_id</th>\n",
       "      <th>appid</th>\n",
       "      <th>name</th>\n",
       "      <th>similarity_score</th>\n",
       "    </tr>\n",
       "  </thead>\n",
       "  <tbody>\n",
       "    <tr>\n",
       "      <th>0</th>\n",
       "      <td>76561197960281451</td>\n",
       "      <td>271590</td>\n",
       "      <td>Grand Theft Auto V Legacy</td>\n",
       "      <td>43.344413</td>\n",
       "    </tr>\n",
       "    <tr>\n",
       "      <th>1</th>\n",
       "      <td>76561197960281451</td>\n",
       "      <td>489830</td>\n",
       "      <td>The Elder Scrolls V: Skyrim Special Edition</td>\n",
       "      <td>38.050557</td>\n",
       "    </tr>\n",
       "    <tr>\n",
       "      <th>2</th>\n",
       "      <td>76561197960281451</td>\n",
       "      <td>553850</td>\n",
       "      <td>HELLDIVERS™ 2</td>\n",
       "      <td>35.324982</td>\n",
       "    </tr>\n",
       "    <tr>\n",
       "      <th>3</th>\n",
       "      <td>76561197960281451</td>\n",
       "      <td>20920</td>\n",
       "      <td>The Witcher 2: Assassins of Kings Enhanced Edition</td>\n",
       "      <td>35.109585</td>\n",
       "    </tr>\n",
       "    <tr>\n",
       "      <th>4</th>\n",
       "      <td>76561197960281451</td>\n",
       "      <td>374320</td>\n",
       "      <td>DARK SOULS™ III</td>\n",
       "      <td>34.993592</td>\n",
       "    </tr>\n",
       "    <tr>\n",
       "      <th>...</th>\n",
       "      <td>...</td>\n",
       "      <td>...</td>\n",
       "      <td>...</td>\n",
       "      <td>...</td>\n",
       "    </tr>\n",
       "    <tr>\n",
       "      <th>43335</th>\n",
       "      <td>76561199862430366</td>\n",
       "      <td>218620</td>\n",
       "      <td>PAYDAY 2</td>\n",
       "      <td>1.757663</td>\n",
       "    </tr>\n",
       "    <tr>\n",
       "      <th>43336</th>\n",
       "      <td>76561199862430366</td>\n",
       "      <td>4000</td>\n",
       "      <td>Garry's Mod</td>\n",
       "      <td>1.731645</td>\n",
       "    </tr>\n",
       "    <tr>\n",
       "      <th>43337</th>\n",
       "      <td>76561199862430366</td>\n",
       "      <td>22380</td>\n",
       "      <td>Fallout: New Vegas</td>\n",
       "      <td>1.661827</td>\n",
       "    </tr>\n",
       "    <tr>\n",
       "      <th>43338</th>\n",
       "      <td>76561199862430366</td>\n",
       "      <td>292030</td>\n",
       "      <td>The Witcher 3: Wild Hunt</td>\n",
       "      <td>1.661073</td>\n",
       "    </tr>\n",
       "    <tr>\n",
       "      <th>43339</th>\n",
       "      <td>76561199862430366</td>\n",
       "      <td>105600</td>\n",
       "      <td>Terraria</td>\n",
       "      <td>1.622668</td>\n",
       "    </tr>\n",
       "  </tbody>\n",
       "</table>\n",
       "<p>43340 rows × 4 columns</p>\n",
       "</div>"
      ],
      "text/plain": [
       "                 user_id   appid  \\\n",
       "0      76561197960281451  271590   \n",
       "1      76561197960281451  489830   \n",
       "2      76561197960281451  553850   \n",
       "3      76561197960281451   20920   \n",
       "4      76561197960281451  374320   \n",
       "...                  ...     ...   \n",
       "43335  76561199862430366  218620   \n",
       "43336  76561199862430366    4000   \n",
       "43337  76561199862430366   22380   \n",
       "43338  76561199862430366  292030   \n",
       "43339  76561199862430366  105600   \n",
       "\n",
       "                                                     name  similarity_score  \n",
       "0                               Grand Theft Auto V Legacy         43.344413  \n",
       "1             The Elder Scrolls V: Skyrim Special Edition         38.050557  \n",
       "2                                           HELLDIVERS™ 2         35.324982  \n",
       "3      The Witcher 2: Assassins of Kings Enhanced Edition         35.109585  \n",
       "4                                         DARK SOULS™ III         34.993592  \n",
       "...                                                   ...               ...  \n",
       "43335                                            PAYDAY 2          1.757663  \n",
       "43336                                         Garry's Mod          1.731645  \n",
       "43337                                  Fallout: New Vegas          1.661827  \n",
       "43338                            The Witcher 3: Wild Hunt          1.661073  \n",
       "43339                                            Terraria          1.622668  \n",
       "\n",
       "[43340 rows x 4 columns]"
      ]
     },
     "execution_count": 43,
     "metadata": {},
     "output_type": "execute_result"
    }
   ],
   "source": [
    "df_memory_based_recommendations"
   ]
  },
  {
   "cell_type": "code",
   "execution_count": 44,
   "id": "d21ee893",
   "metadata": {},
   "outputs": [],
   "source": [
    "df_memory_based_recommendations = pd.read_csv(\"../../data/df_memory_based_recommendations.csv\")"
   ]
  }
 ],
 "metadata": {
  "colab": {
   "provenance": []
  },
  "kernelspec": {
   "display_name": ".venv",
   "language": "python",
   "name": "python3"
  },
  "language_info": {
   "codemirror_mode": {
    "name": "ipython",
    "version": 3
   },
   "file_extension": ".py",
   "mimetype": "text/x-python",
   "name": "python",
   "nbconvert_exporter": "python",
   "pygments_lexer": "ipython3",
   "version": "3.11.9"
  }
 },
 "nbformat": 4,
 "nbformat_minor": 5
}
