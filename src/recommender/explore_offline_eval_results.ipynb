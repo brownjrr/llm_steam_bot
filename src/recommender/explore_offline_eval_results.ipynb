{
 "cells": [
  {
   "cell_type": "code",
   "execution_count": 68,
   "id": "f9e7344b",
   "metadata": {},
   "outputs": [],
   "source": [
    "import pandas as pd\n",
    "import numpy as np\n",
    "import matplotlib.pyplot as plt\n",
    "import plotly.express as px\n",
    "from plotly.subplots import make_subplots\n",
    "import plotly.graph_objects as go"
   ]
  },
  {
   "cell_type": "markdown",
   "id": "5888a723",
   "metadata": {},
   "source": [
    "# Generating Plots for Final Report\n",
    "\n",
    "- Llama-3.1-70b  Recommendations vs. Content-Based Filtering\n",
    "- Content-Based Filtering vs Collaborative Filtering\n",
    "- Collaborative-Based Filtering vs Hybrid Filtering\n",
    "\n",
    "\n",
    "For each comparison mentioned above, include charts for Hit Rate, Mean Average Precision, and Normalized Discounted Cumulative Gain charts*"
   ]
  },
  {
   "cell_type": "code",
   "execution_count": 201,
   "id": "a0f28476",
   "metadata": {},
   "outputs": [],
   "source": [
    "def create_bar_chart_plotly(df, x, y, color, title, labels, category_orders=None, subplot_titles=None, yaxis_range=None):\n",
    "    df[x] = df[x].astype(str)\n",
    "\n",
    "    if isinstance(y, list):\n",
    "        fig = make_subplots(1, len(y), subplot_titles=subplot_titles)\n",
    "        \n",
    "        for idx, metric in enumerate(y):\n",
    "            temp_fig = px.bar(\n",
    "                df,\n",
    "                x=x,\n",
    "                y=metric,\n",
    "                color=color,\n",
    "                barmode=\"group\",\n",
    "                # title=title,\n",
    "                labels=labels,\n",
    "                category_orders=category_orders,\n",
    "            )\n",
    "            for trace in temp_fig.data:\n",
    "                trace.legendgroup = trace.name\n",
    "                trace.showlegend = True if idx==0 else False\n",
    "                fig.append_trace(\n",
    "                    trace,\n",
    "                    row=1, col=idx+1,\n",
    "                )\n",
    "        \n",
    "        fig.update_xaxes(tickvals=sorted(df[x].unique()))\n",
    "        fig.update_layout(\n",
    "            title_text=title,\n",
    "            legend=dict(orientation='h', yanchor='bottom', xanchor='left', y=-0.3)\n",
    "            # showlegend=False\n",
    "        )\n",
    "    else:\n",
    "        fig = px.bar(\n",
    "            df,\n",
    "            x=x,\n",
    "            y=y,\n",
    "            color=color,\n",
    "            barmode=\"group\",\n",
    "            title=title,\n",
    "            labels=labels,\n",
    "            category_orders=category_orders\n",
    "        )\n",
    "\n",
    "        fig.update_xaxes(tickvals=sorted(df[x].unique()))\n",
    "        fig.update_layout(showlegend=False)\n",
    "    \n",
    "    if yaxis_range:\n",
    "        # Using update_layout()\n",
    "        fig.update_layout(yaxis_range=yaxis_range)\n",
    "\n",
    "    fig.show()"
   ]
  },
  {
   "cell_type": "markdown",
   "id": "bc1482f3",
   "metadata": {},
   "source": [
    "### Vanilla LLM Recommendations vs. Content-Based Filtering"
   ]
  },
  {
   "cell_type": "code",
   "execution_count": 187,
   "id": "cdba6216",
   "metadata": {},
   "outputs": [
    {
     "data": {
      "text/html": [
       "<div>\n",
       "<style scoped>\n",
       "    .dataframe tbody tr th:only-of-type {\n",
       "        vertical-align: middle;\n",
       "    }\n",
       "\n",
       "    .dataframe tbody tr th {\n",
       "        vertical-align: top;\n",
       "    }\n",
       "\n",
       "    .dataframe thead th {\n",
       "        text-align: right;\n",
       "    }\n",
       "</style>\n",
       "<table border=\"1\" class=\"dataframe\">\n",
       "  <thead>\n",
       "    <tr style=\"text-align: right;\">\n",
       "      <th></th>\n",
       "      <th>name</th>\n",
       "      <th>k</th>\n",
       "      <th>hit_rate</th>\n",
       "      <th>mean_avg_prec</th>\n",
       "      <th>ndcg</th>\n",
       "    </tr>\n",
       "  </thead>\n",
       "  <tbody>\n",
       "    <tr>\n",
       "      <th>8</th>\n",
       "      <td>Image Summary (Keywords)</td>\n",
       "      <td>1</td>\n",
       "      <td>0.180213</td>\n",
       "      <td>0.180213</td>\n",
       "      <td>0.0</td>\n",
       "    </tr>\n",
       "    <tr>\n",
       "      <th>20</th>\n",
       "      <td>Llama-3.1 Recommendations</td>\n",
       "      <td>1</td>\n",
       "      <td>0.277850</td>\n",
       "      <td>0.277850</td>\n",
       "      <td>0.0</td>\n",
       "    </tr>\n",
       "    <tr>\n",
       "      <th>0</th>\n",
       "      <td>Normal</td>\n",
       "      <td>1</td>\n",
       "      <td>0.165152</td>\n",
       "      <td>0.165152</td>\n",
       "      <td>0.0</td>\n",
       "    </tr>\n",
       "    <tr>\n",
       "      <th>12</th>\n",
       "      <td>Screenshot Summary (Keywords)</td>\n",
       "      <td>1</td>\n",
       "      <td>0.185926</td>\n",
       "      <td>0.185926</td>\n",
       "      <td>0.0</td>\n",
       "    </tr>\n",
       "    <tr>\n",
       "      <th>16</th>\n",
       "      <td>Screenshot and Header Image Keywords</td>\n",
       "      <td>1</td>\n",
       "      <td>0.203064</td>\n",
       "      <td>0.203064</td>\n",
       "      <td>0.0</td>\n",
       "    </tr>\n",
       "  </tbody>\n",
       "</table>\n",
       "</div>"
      ],
      "text/plain": [
       "                                    name  k  hit_rate  mean_avg_prec  ndcg\n",
       "8               Image Summary (Keywords)  1  0.180213       0.180213   0.0\n",
       "20             Llama-3.1 Recommendations  1  0.277850       0.277850   0.0\n",
       "0                                 Normal  1  0.165152       0.165152   0.0\n",
       "12         Screenshot Summary (Keywords)  1  0.185926       0.185926   0.0\n",
       "16  Screenshot and Header Image Keywords  1  0.203064       0.203064   0.0"
      ]
     },
     "execution_count": 187,
     "metadata": {},
     "output_type": "execute_result"
    }
   ],
   "source": [
    "df = pd.read_csv(\"offline_eval_results.csv\")\n",
    "llm_df = pd.read_csv(\"llm_offline_eval_results.csv\")\n",
    "\n",
    "df = pd.concat([df, llm_df]).reset_index(drop=True)\n",
    "\n",
    "df = df.sort_values(by=['k', 'name'], ascending=[True, True])\n",
    "\n",
    "# dropping Image Summary (Tone) rows\n",
    "df = df[df['name']!=\"Image Summary (Tone)\"]\n",
    "\n",
    "df.head(5)\n"
   ]
  },
  {
   "cell_type": "code",
   "execution_count": 195,
   "id": "96c81552",
   "metadata": {},
   "outputs": [
    {
     "data": {
      "application/vnd.plotly.v1+json": {
       "config": {
        "plotlyServerURL": "https://plot.ly"
       },
       "data": [
        {
         "alignmentgroup": "True",
         "hovertemplate": "Method=Llama-3.1 Recommendations<br>k=%{x}<br>Hit Rate=%{y}<extra></extra>",
         "legendgroup": "Llama-3.1 Recommendations",
         "marker": {
          "color": "#636efa",
          "pattern": {
           "shape": ""
          }
         },
         "name": "Llama-3.1 Recommendations",
         "offsetgroup": "Llama-3.1 Recommendations",
         "orientation": "v",
         "showlegend": true,
         "textposition": "auto",
         "type": "bar",
         "x": [
          "1",
          "5",
          "10",
          "20"
         ],
         "xaxis": "x",
         "y": {
          "bdata": "jPo1/ErI0T8o4W9nRNHcP5/3Ocg0ct4/AkK9Qy9L3z8=",
          "dtype": "f8"
         },
         "yaxis": "y"
        },
        {
         "alignmentgroup": "True",
         "hovertemplate": "Method=Normal<br>k=%{x}<br>Hit Rate=%{y}<extra></extra>",
         "legendgroup": "Normal",
         "marker": {
          "color": "#EF553B",
          "pattern": {
           "shape": ""
          }
         },
         "name": "Normal",
         "offsetgroup": "Normal",
         "orientation": "v",
         "showlegend": true,
         "textposition": "auto",
         "type": "bar",
         "x": [
          "1",
          "5",
          "10",
          "20"
         ],
         "xaxis": "x",
         "y": {
          "bdata": "8uQkn7IjxT8FbchLJFrcP0HVaOWvPuM/KvXIM/+j5z8=",
          "dtype": "f8"
         },
         "yaxis": "y"
        },
        {
         "alignmentgroup": "True",
         "hovertemplate": "Method=Image Summary (Keywords)<br>k=%{x}<br>Hit Rate=%{y}<extra></extra>",
         "legendgroup": "Image Summary (Keywords)",
         "marker": {
          "color": "#00cc96",
          "pattern": {
           "shape": ""
          }
         },
         "name": "Image Summary (Keywords)",
         "offsetgroup": "Image Summary (Keywords)",
         "orientation": "v",
         "showlegend": true,
         "textposition": "auto",
         "type": "bar",
         "x": [
          "1",
          "5",
          "10",
          "20"
         ],
         "xaxis": "x",
         "y": {
          "bdata": "xjP/ozcRxz834j8d2AfeP9uPJM6JFeQ/H9Yh6Qc76D8=",
          "dtype": "f8"
         },
         "yaxis": "y"
        },
        {
         "alignmentgroup": "True",
         "hovertemplate": "Method=Screenshot Summary (Keywords)<br>k=%{x}<br>Hit Rate=%{y}<extra></extra>",
         "legendgroup": "Screenshot Summary (Keywords)",
         "marker": {
          "color": "#ab63fa",
          "pattern": {
           "shape": ""
          }
         },
         "name": "Screenshot Summary (Keywords)",
         "offsetgroup": "Screenshot Summary (Keywords)",
         "orientation": "v",
         "showlegend": true,
         "textposition": "auto",
         "type": "bar",
         "x": [
          "1",
          "5",
          "10",
          "20"
         ],
         "xaxis": "x",
         "y": {
          "bdata": "I6GYGGrMxz8VtZSpu4vePwRY/AQ/ZOQ/ZgAuZHd06D8=",
          "dtype": "f8"
         },
         "yaxis": "y"
        },
        {
         "alignmentgroup": "True",
         "hovertemplate": "Method=Screenshot and Header Image Keywords<br>k=%{x}<br>Hit Rate=%{y}<extra></extra>",
         "legendgroup": "Screenshot and Header Image Keywords",
         "marker": {
          "color": "#FFA15A",
          "pattern": {
           "shape": ""
          }
         },
         "name": "Screenshot and Header Image Keywords",
         "offsetgroup": "Screenshot and Header Image Keywords",
         "orientation": "v",
         "showlegend": true,
         "textposition": "auto",
         "type": "bar",
         "x": [
          "1",
          "5",
          "10",
          "20"
         ],
         "xaxis": "x",
         "y": {
          "bdata": "MOlkdgH+yT8zRqDfFBLgPwhqb9yk8OQ/OvaY6ZLa6D8=",
          "dtype": "f8"
         },
         "yaxis": "y"
        },
        {
         "alignmentgroup": "True",
         "hovertemplate": "Method=Llama-3.1 Recommendations<br>k=%{x}<br>mean_avg_prec=%{y}<extra></extra>",
         "legendgroup": "Llama-3.1 Recommendations",
         "marker": {
          "color": "#636efa",
          "pattern": {
           "shape": ""
          }
         },
         "name": "Llama-3.1 Recommendations",
         "offsetgroup": "Llama-3.1 Recommendations",
         "orientation": "v",
         "showlegend": false,
         "textposition": "auto",
         "type": "bar",
         "x": [
          "1",
          "5",
          "10",
          "20"
         ],
         "xaxis": "x2",
         "y": {
          "bdata": "jPo1/ErI0T/Dn+mEJdbDP3KNl88OisA/9sSoZH/2vD8=",
          "dtype": "f8"
         },
         "yaxis": "y2"
        },
        {
         "alignmentgroup": "True",
         "hovertemplate": "Method=Normal<br>k=%{x}<br>mean_avg_prec=%{y}<extra></extra>",
         "legendgroup": "Normal",
         "marker": {
          "color": "#EF553B",
          "pattern": {
           "shape": ""
          }
         },
         "name": "Normal",
         "offsetgroup": "Normal",
         "orientation": "v",
         "showlegend": false,
         "textposition": "auto",
         "type": "bar",
         "x": [
          "1",
          "5",
          "10",
          "20"
         ],
         "xaxis": "x2",
         "y": {
          "bdata": "8uQkn7IjxT/S43BTZKrAP+tYmZ5Ro7w/9yXoDWYcuD8=",
          "dtype": "f8"
         },
         "yaxis": "y2"
        },
        {
         "alignmentgroup": "True",
         "hovertemplate": "Method=Image Summary (Keywords)<br>k=%{x}<br>mean_avg_prec=%{y}<extra></extra>",
         "legendgroup": "Image Summary (Keywords)",
         "marker": {
          "color": "#00cc96",
          "pattern": {
           "shape": ""
          }
         },
         "name": "Image Summary (Keywords)",
         "offsetgroup": "Image Summary (Keywords)",
         "orientation": "v",
         "showlegend": false,
         "textposition": "auto",
         "type": "bar",
         "x": [
          "1",
          "5",
          "10",
          "20"
         ],
         "xaxis": "x2",
         "y": {
          "bdata": "xjP/ozcRxz/8CuONMCTCP5VhTGlwT78/dJYNDpk4uT8=",
          "dtype": "f8"
         },
         "yaxis": "y2"
        },
        {
         "alignmentgroup": "True",
         "hovertemplate": "Method=Screenshot Summary (Keywords)<br>k=%{x}<br>mean_avg_prec=%{y}<extra></extra>",
         "legendgroup": "Screenshot Summary (Keywords)",
         "marker": {
          "color": "#ab63fa",
          "pattern": {
           "shape": ""
          }
         },
         "name": "Screenshot Summary (Keywords)",
         "offsetgroup": "Screenshot Summary (Keywords)",
         "orientation": "v",
         "showlegend": false,
         "textposition": "auto",
         "type": "bar",
         "x": [
          "1",
          "5",
          "10",
          "20"
         ],
         "xaxis": "x2",
         "y": {
          "bdata": "I6GYGGrMxz9J3HHUk3fCP6eMOwcgob8/fIVq7MbiuT8=",
          "dtype": "f8"
         },
         "yaxis": "y2"
        },
        {
         "alignmentgroup": "True",
         "hovertemplate": "Method=Screenshot and Header Image Keywords<br>k=%{x}<br>mean_avg_prec=%{y}<extra></extra>",
         "legendgroup": "Screenshot and Header Image Keywords",
         "marker": {
          "color": "#FFA15A",
          "pattern": {
           "shape": ""
          }
         },
         "name": "Screenshot and Header Image Keywords",
         "offsetgroup": "Screenshot and Header Image Keywords",
         "orientation": "v",
         "showlegend": false,
         "textposition": "auto",
         "type": "bar",
         "x": [
          "1",
          "5",
          "10",
          "20"
         ],
         "xaxis": "x2",
         "y": {
          "bdata": "MOlkdgH+yT+JamVskerDP/iTqi4GycA/LRKYPkQluz8=",
          "dtype": "f8"
         },
         "yaxis": "y2"
        },
        {
         "alignmentgroup": "True",
         "hovertemplate": "Method=Llama-3.1 Recommendations<br>k=%{x}<br>ndcg=%{y}<extra></extra>",
         "legendgroup": "Llama-3.1 Recommendations",
         "marker": {
          "color": "#636efa",
          "pattern": {
           "shape": ""
          }
         },
         "name": "Llama-3.1 Recommendations",
         "offsetgroup": "Llama-3.1 Recommendations",
         "orientation": "v",
         "showlegend": false,
         "textposition": "auto",
         "type": "bar",
         "x": [
          "1",
          "5",
          "10",
          "20"
         ],
         "xaxis": "x3",
         "y": {
          "bdata": "AAAAAAAAAAAStJ2kWtrUPzvcKP7bltM/N7LKe71s0j8=",
          "dtype": "f8"
         },
         "yaxis": "y3"
        },
        {
         "alignmentgroup": "True",
         "hovertemplate": "Method=Normal<br>k=%{x}<br>ndcg=%{y}<extra></extra>",
         "legendgroup": "Normal",
         "marker": {
          "color": "#EF553B",
          "pattern": {
           "shape": ""
          }
         },
         "name": "Normal",
         "offsetgroup": "Normal",
         "orientation": "v",
         "showlegend": false,
         "textposition": "auto",
         "type": "bar",
         "x": [
          "1",
          "5",
          "10",
          "20"
         ],
         "xaxis": "x3",
         "y": {
          "bdata": "AAAAAAAAAAB0Rq6UX27UP3aSGocSmdc/hD/bRkNl2T8=",
          "dtype": "f8"
         },
         "yaxis": "y3"
        },
        {
         "alignmentgroup": "True",
         "hovertemplate": "Method=Image Summary (Keywords)<br>k=%{x}<br>ndcg=%{y}<extra></extra>",
         "legendgroup": "Image Summary (Keywords)",
         "marker": {
          "color": "#00cc96",
          "pattern": {
           "shape": ""
          }
         },
         "name": "Image Summary (Keywords)",
         "offsetgroup": "Image Summary (Keywords)",
         "orientation": "v",
         "showlegend": false,
         "textposition": "auto",
         "type": "bar",
         "x": [
          "1",
          "5",
          "10",
          "20"
         ],
         "xaxis": "x3",
         "y": {
          "bdata": "AAAAAAAAAAD1bBiZ0wDWP5MDsWGSIdk/fQNAjxbO2j8=",
          "dtype": "f8"
         },
         "yaxis": "y3"
        },
        {
         "alignmentgroup": "True",
         "hovertemplate": "Method=Screenshot Summary (Keywords)<br>k=%{x}<br>ndcg=%{y}<extra></extra>",
         "legendgroup": "Screenshot Summary (Keywords)",
         "marker": {
          "color": "#ab63fa",
          "pattern": {
           "shape": ""
          }
         },
         "name": "Screenshot Summary (Keywords)",
         "offsetgroup": "Screenshot Summary (Keywords)",
         "orientation": "v",
         "showlegend": false,
         "textposition": "auto",
         "type": "bar",
         "x": [
          "1",
          "5",
          "10",
          "20"
         ],
         "xaxis": "x3",
         "y": {
          "bdata": "AAAAAAAAAAANO+onaovWP4bdZiwXqdk/Pev5kuUv2z8=",
          "dtype": "f8"
         },
         "yaxis": "y3"
        },
        {
         "alignmentgroup": "True",
         "hovertemplate": "Method=Screenshot and Header Image Keywords<br>k=%{x}<br>ndcg=%{y}<extra></extra>",
         "legendgroup": "Screenshot and Header Image Keywords",
         "marker": {
          "color": "#FFA15A",
          "pattern": {
           "shape": ""
          }
         },
         "name": "Screenshot and Header Image Keywords",
         "offsetgroup": "Screenshot and Header Image Keywords",
         "orientation": "v",
         "showlegend": false,
         "textposition": "auto",
         "type": "bar",
         "x": [
          "1",
          "5",
          "10",
          "20"
         ],
         "xaxis": "x3",
         "y": {
          "bdata": "AAAAAAAAAABhbiGH1QjYP6PxJS7+Ats/Zm/uZ/1k3D8=",
          "dtype": "f8"
         },
         "yaxis": "y3"
        }
       ],
       "layout": {
        "annotations": [
         {
          "font": {
           "size": 16
          },
          "showarrow": false,
          "text": "HitRate@k",
          "x": 0.14444444444444446,
          "xanchor": "center",
          "xref": "paper",
          "y": 1,
          "yanchor": "bottom",
          "yref": "paper"
         },
         {
          "font": {
           "size": 16
          },
          "showarrow": false,
          "text": "MAP@k",
          "x": 0.5,
          "xanchor": "center",
          "xref": "paper",
          "y": 1,
          "yanchor": "bottom",
          "yref": "paper"
         },
         {
          "font": {
           "size": 16
          },
          "showarrow": false,
          "text": "NDCG@k",
          "x": 0.8555555555555556,
          "xanchor": "center",
          "xref": "paper",
          "y": 1,
          "yanchor": "bottom",
          "yref": "paper"
         }
        ],
        "legend": {
         "orientation": "h",
         "xanchor": "left",
         "y": -0.3,
         "yanchor": "bottom"
        },
        "template": {
         "data": {
          "bar": [
           {
            "error_x": {
             "color": "#2a3f5f"
            },
            "error_y": {
             "color": "#2a3f5f"
            },
            "marker": {
             "line": {
              "color": "#E5ECF6",
              "width": 0.5
             },
             "pattern": {
              "fillmode": "overlay",
              "size": 10,
              "solidity": 0.2
             }
            },
            "type": "bar"
           }
          ],
          "barpolar": [
           {
            "marker": {
             "line": {
              "color": "#E5ECF6",
              "width": 0.5
             },
             "pattern": {
              "fillmode": "overlay",
              "size": 10,
              "solidity": 0.2
             }
            },
            "type": "barpolar"
           }
          ],
          "carpet": [
           {
            "aaxis": {
             "endlinecolor": "#2a3f5f",
             "gridcolor": "white",
             "linecolor": "white",
             "minorgridcolor": "white",
             "startlinecolor": "#2a3f5f"
            },
            "baxis": {
             "endlinecolor": "#2a3f5f",
             "gridcolor": "white",
             "linecolor": "white",
             "minorgridcolor": "white",
             "startlinecolor": "#2a3f5f"
            },
            "type": "carpet"
           }
          ],
          "choropleth": [
           {
            "colorbar": {
             "outlinewidth": 0,
             "ticks": ""
            },
            "type": "choropleth"
           }
          ],
          "contour": [
           {
            "colorbar": {
             "outlinewidth": 0,
             "ticks": ""
            },
            "colorscale": [
             [
              0,
              "#0d0887"
             ],
             [
              0.1111111111111111,
              "#46039f"
             ],
             [
              0.2222222222222222,
              "#7201a8"
             ],
             [
              0.3333333333333333,
              "#9c179e"
             ],
             [
              0.4444444444444444,
              "#bd3786"
             ],
             [
              0.5555555555555556,
              "#d8576b"
             ],
             [
              0.6666666666666666,
              "#ed7953"
             ],
             [
              0.7777777777777778,
              "#fb9f3a"
             ],
             [
              0.8888888888888888,
              "#fdca26"
             ],
             [
              1,
              "#f0f921"
             ]
            ],
            "type": "contour"
           }
          ],
          "contourcarpet": [
           {
            "colorbar": {
             "outlinewidth": 0,
             "ticks": ""
            },
            "type": "contourcarpet"
           }
          ],
          "heatmap": [
           {
            "colorbar": {
             "outlinewidth": 0,
             "ticks": ""
            },
            "colorscale": [
             [
              0,
              "#0d0887"
             ],
             [
              0.1111111111111111,
              "#46039f"
             ],
             [
              0.2222222222222222,
              "#7201a8"
             ],
             [
              0.3333333333333333,
              "#9c179e"
             ],
             [
              0.4444444444444444,
              "#bd3786"
             ],
             [
              0.5555555555555556,
              "#d8576b"
             ],
             [
              0.6666666666666666,
              "#ed7953"
             ],
             [
              0.7777777777777778,
              "#fb9f3a"
             ],
             [
              0.8888888888888888,
              "#fdca26"
             ],
             [
              1,
              "#f0f921"
             ]
            ],
            "type": "heatmap"
           }
          ],
          "histogram": [
           {
            "marker": {
             "pattern": {
              "fillmode": "overlay",
              "size": 10,
              "solidity": 0.2
             }
            },
            "type": "histogram"
           }
          ],
          "histogram2d": [
           {
            "colorbar": {
             "outlinewidth": 0,
             "ticks": ""
            },
            "colorscale": [
             [
              0,
              "#0d0887"
             ],
             [
              0.1111111111111111,
              "#46039f"
             ],
             [
              0.2222222222222222,
              "#7201a8"
             ],
             [
              0.3333333333333333,
              "#9c179e"
             ],
             [
              0.4444444444444444,
              "#bd3786"
             ],
             [
              0.5555555555555556,
              "#d8576b"
             ],
             [
              0.6666666666666666,
              "#ed7953"
             ],
             [
              0.7777777777777778,
              "#fb9f3a"
             ],
             [
              0.8888888888888888,
              "#fdca26"
             ],
             [
              1,
              "#f0f921"
             ]
            ],
            "type": "histogram2d"
           }
          ],
          "histogram2dcontour": [
           {
            "colorbar": {
             "outlinewidth": 0,
             "ticks": ""
            },
            "colorscale": [
             [
              0,
              "#0d0887"
             ],
             [
              0.1111111111111111,
              "#46039f"
             ],
             [
              0.2222222222222222,
              "#7201a8"
             ],
             [
              0.3333333333333333,
              "#9c179e"
             ],
             [
              0.4444444444444444,
              "#bd3786"
             ],
             [
              0.5555555555555556,
              "#d8576b"
             ],
             [
              0.6666666666666666,
              "#ed7953"
             ],
             [
              0.7777777777777778,
              "#fb9f3a"
             ],
             [
              0.8888888888888888,
              "#fdca26"
             ],
             [
              1,
              "#f0f921"
             ]
            ],
            "type": "histogram2dcontour"
           }
          ],
          "mesh3d": [
           {
            "colorbar": {
             "outlinewidth": 0,
             "ticks": ""
            },
            "type": "mesh3d"
           }
          ],
          "parcoords": [
           {
            "line": {
             "colorbar": {
              "outlinewidth": 0,
              "ticks": ""
             }
            },
            "type": "parcoords"
           }
          ],
          "pie": [
           {
            "automargin": true,
            "type": "pie"
           }
          ],
          "scatter": [
           {
            "fillpattern": {
             "fillmode": "overlay",
             "size": 10,
             "solidity": 0.2
            },
            "type": "scatter"
           }
          ],
          "scatter3d": [
           {
            "line": {
             "colorbar": {
              "outlinewidth": 0,
              "ticks": ""
             }
            },
            "marker": {
             "colorbar": {
              "outlinewidth": 0,
              "ticks": ""
             }
            },
            "type": "scatter3d"
           }
          ],
          "scattercarpet": [
           {
            "marker": {
             "colorbar": {
              "outlinewidth": 0,
              "ticks": ""
             }
            },
            "type": "scattercarpet"
           }
          ],
          "scattergeo": [
           {
            "marker": {
             "colorbar": {
              "outlinewidth": 0,
              "ticks": ""
             }
            },
            "type": "scattergeo"
           }
          ],
          "scattergl": [
           {
            "marker": {
             "colorbar": {
              "outlinewidth": 0,
              "ticks": ""
             }
            },
            "type": "scattergl"
           }
          ],
          "scattermap": [
           {
            "marker": {
             "colorbar": {
              "outlinewidth": 0,
              "ticks": ""
             }
            },
            "type": "scattermap"
           }
          ],
          "scattermapbox": [
           {
            "marker": {
             "colorbar": {
              "outlinewidth": 0,
              "ticks": ""
             }
            },
            "type": "scattermapbox"
           }
          ],
          "scatterpolar": [
           {
            "marker": {
             "colorbar": {
              "outlinewidth": 0,
              "ticks": ""
             }
            },
            "type": "scatterpolar"
           }
          ],
          "scatterpolargl": [
           {
            "marker": {
             "colorbar": {
              "outlinewidth": 0,
              "ticks": ""
             }
            },
            "type": "scatterpolargl"
           }
          ],
          "scatterternary": [
           {
            "marker": {
             "colorbar": {
              "outlinewidth": 0,
              "ticks": ""
             }
            },
            "type": "scatterternary"
           }
          ],
          "surface": [
           {
            "colorbar": {
             "outlinewidth": 0,
             "ticks": ""
            },
            "colorscale": [
             [
              0,
              "#0d0887"
             ],
             [
              0.1111111111111111,
              "#46039f"
             ],
             [
              0.2222222222222222,
              "#7201a8"
             ],
             [
              0.3333333333333333,
              "#9c179e"
             ],
             [
              0.4444444444444444,
              "#bd3786"
             ],
             [
              0.5555555555555556,
              "#d8576b"
             ],
             [
              0.6666666666666666,
              "#ed7953"
             ],
             [
              0.7777777777777778,
              "#fb9f3a"
             ],
             [
              0.8888888888888888,
              "#fdca26"
             ],
             [
              1,
              "#f0f921"
             ]
            ],
            "type": "surface"
           }
          ],
          "table": [
           {
            "cells": {
             "fill": {
              "color": "#EBF0F8"
             },
             "line": {
              "color": "white"
             }
            },
            "header": {
             "fill": {
              "color": "#C8D4E3"
             },
             "line": {
              "color": "white"
             }
            },
            "type": "table"
           }
          ]
         },
         "layout": {
          "annotationdefaults": {
           "arrowcolor": "#2a3f5f",
           "arrowhead": 0,
           "arrowwidth": 1
          },
          "autotypenumbers": "strict",
          "coloraxis": {
           "colorbar": {
            "outlinewidth": 0,
            "ticks": ""
           }
          },
          "colorscale": {
           "diverging": [
            [
             0,
             "#8e0152"
            ],
            [
             0.1,
             "#c51b7d"
            ],
            [
             0.2,
             "#de77ae"
            ],
            [
             0.3,
             "#f1b6da"
            ],
            [
             0.4,
             "#fde0ef"
            ],
            [
             0.5,
             "#f7f7f7"
            ],
            [
             0.6,
             "#e6f5d0"
            ],
            [
             0.7,
             "#b8e186"
            ],
            [
             0.8,
             "#7fbc41"
            ],
            [
             0.9,
             "#4d9221"
            ],
            [
             1,
             "#276419"
            ]
           ],
           "sequential": [
            [
             0,
             "#0d0887"
            ],
            [
             0.1111111111111111,
             "#46039f"
            ],
            [
             0.2222222222222222,
             "#7201a8"
            ],
            [
             0.3333333333333333,
             "#9c179e"
            ],
            [
             0.4444444444444444,
             "#bd3786"
            ],
            [
             0.5555555555555556,
             "#d8576b"
            ],
            [
             0.6666666666666666,
             "#ed7953"
            ],
            [
             0.7777777777777778,
             "#fb9f3a"
            ],
            [
             0.8888888888888888,
             "#fdca26"
            ],
            [
             1,
             "#f0f921"
            ]
           ],
           "sequentialminus": [
            [
             0,
             "#0d0887"
            ],
            [
             0.1111111111111111,
             "#46039f"
            ],
            [
             0.2222222222222222,
             "#7201a8"
            ],
            [
             0.3333333333333333,
             "#9c179e"
            ],
            [
             0.4444444444444444,
             "#bd3786"
            ],
            [
             0.5555555555555556,
             "#d8576b"
            ],
            [
             0.6666666666666666,
             "#ed7953"
            ],
            [
             0.7777777777777778,
             "#fb9f3a"
            ],
            [
             0.8888888888888888,
             "#fdca26"
            ],
            [
             1,
             "#f0f921"
            ]
           ]
          },
          "colorway": [
           "#636efa",
           "#EF553B",
           "#00cc96",
           "#ab63fa",
           "#FFA15A",
           "#19d3f3",
           "#FF6692",
           "#B6E880",
           "#FF97FF",
           "#FECB52"
          ],
          "font": {
           "color": "#2a3f5f"
          },
          "geo": {
           "bgcolor": "white",
           "lakecolor": "white",
           "landcolor": "#E5ECF6",
           "showlakes": true,
           "showland": true,
           "subunitcolor": "white"
          },
          "hoverlabel": {
           "align": "left"
          },
          "hovermode": "closest",
          "mapbox": {
           "style": "light"
          },
          "paper_bgcolor": "white",
          "plot_bgcolor": "#E5ECF6",
          "polar": {
           "angularaxis": {
            "gridcolor": "white",
            "linecolor": "white",
            "ticks": ""
           },
           "bgcolor": "#E5ECF6",
           "radialaxis": {
            "gridcolor": "white",
            "linecolor": "white",
            "ticks": ""
           }
          },
          "scene": {
           "xaxis": {
            "backgroundcolor": "#E5ECF6",
            "gridcolor": "white",
            "gridwidth": 2,
            "linecolor": "white",
            "showbackground": true,
            "ticks": "",
            "zerolinecolor": "white"
           },
           "yaxis": {
            "backgroundcolor": "#E5ECF6",
            "gridcolor": "white",
            "gridwidth": 2,
            "linecolor": "white",
            "showbackground": true,
            "ticks": "",
            "zerolinecolor": "white"
           },
           "zaxis": {
            "backgroundcolor": "#E5ECF6",
            "gridcolor": "white",
            "gridwidth": 2,
            "linecolor": "white",
            "showbackground": true,
            "ticks": "",
            "zerolinecolor": "white"
           }
          },
          "shapedefaults": {
           "line": {
            "color": "#2a3f5f"
           }
          },
          "ternary": {
           "aaxis": {
            "gridcolor": "white",
            "linecolor": "white",
            "ticks": ""
           },
           "baxis": {
            "gridcolor": "white",
            "linecolor": "white",
            "ticks": ""
           },
           "bgcolor": "#E5ECF6",
           "caxis": {
            "gridcolor": "white",
            "linecolor": "white",
            "ticks": ""
           }
          },
          "title": {
           "x": 0.05
          },
          "xaxis": {
           "automargin": true,
           "gridcolor": "white",
           "linecolor": "white",
           "ticks": "",
           "title": {
            "standoff": 15
           },
           "zerolinecolor": "white",
           "zerolinewidth": 2
          },
          "yaxis": {
           "automargin": true,
           "gridcolor": "white",
           "linecolor": "white",
           "ticks": "",
           "title": {
            "standoff": 15
           },
           "zerolinecolor": "white",
           "zerolinewidth": 2
          }
         }
        },
        "title": {
         "text": "Llama-3.1-70b vs. Content-based Recommenders"
        },
        "xaxis": {
         "anchor": "y",
         "domain": [
          0,
          0.2888888888888889
         ],
         "tickvals": [
          "1",
          "10",
          "20",
          "5"
         ]
        },
        "xaxis2": {
         "anchor": "y2",
         "domain": [
          0.35555555555555557,
          0.6444444444444445
         ],
         "tickvals": [
          "1",
          "10",
          "20",
          "5"
         ]
        },
        "xaxis3": {
         "anchor": "y3",
         "domain": [
          0.7111111111111111,
          1
         ],
         "tickvals": [
          "1",
          "10",
          "20",
          "5"
         ]
        },
        "yaxis": {
         "anchor": "x",
         "domain": [
          0,
          1
         ]
        },
        "yaxis2": {
         "anchor": "x2",
         "domain": [
          0,
          1
         ]
        },
        "yaxis3": {
         "anchor": "x3",
         "domain": [
          0,
          1
         ]
        }
       }
      }
     },
     "metadata": {},
     "output_type": "display_data"
    }
   ],
   "source": [
    "create_bar_chart_plotly(\n",
    "    df, \n",
    "    'k', \n",
    "    ['hit_rate', 'mean_avg_prec', 'ndcg'], \n",
    "    'name', \n",
    "    title=\"Llama-3.1-70b vs. Content-based Recommenders\", \n",
    "    labels={\"k\": \"k\", \"hit_rate\": \"Hit Rate\", \"name\": \"Method\"},\n",
    "    category_orders={\n",
    "        'name': [\n",
    "            'Llama-3.1 Recommendations',\n",
    "            'Normal',\n",
    "            'Image Summary (Keywords)',\n",
    "            'Screenshot Summary (Keywords)',\n",
    "            'Screenshot and Header Image Keywords',\n",
    "        ]\n",
    "    },\n",
    "    subplot_titles=['HitRate@k', 'MAP@k', 'NDCG@k']\n",
    ")"
   ]
  },
  {
   "cell_type": "markdown",
   "id": "58ef653a",
   "metadata": {},
   "source": [
    "### Content-Based Filtering vs Collaborative Filtering"
   ]
  },
  {
   "cell_type": "code",
   "execution_count": 189,
   "id": "e275fb84",
   "metadata": {},
   "outputs": [
    {
     "data": {
      "text/html": [
       "<div>\n",
       "<style scoped>\n",
       "    .dataframe tbody tr th:only-of-type {\n",
       "        vertical-align: middle;\n",
       "    }\n",
       "\n",
       "    .dataframe tbody tr th {\n",
       "        vertical-align: top;\n",
       "    }\n",
       "\n",
       "    .dataframe thead th {\n",
       "        text-align: right;\n",
       "    }\n",
       "</style>\n",
       "<table border=\"1\" class=\"dataframe\">\n",
       "  <thead>\n",
       "    <tr style=\"text-align: right;\">\n",
       "      <th></th>\n",
       "      <th>name</th>\n",
       "      <th>k</th>\n",
       "      <th>hit_rate</th>\n",
       "      <th>mean_avg_prec</th>\n",
       "      <th>ndcg</th>\n",
       "    </tr>\n",
       "  </thead>\n",
       "  <tbody>\n",
       "    <tr>\n",
       "      <th>0</th>\n",
       "      <td>Memory-Based Collaborative Filtering</td>\n",
       "      <td>1</td>\n",
       "      <td>0.641392</td>\n",
       "      <td>0.641392</td>\n",
       "      <td>0.000000</td>\n",
       "    </tr>\n",
       "    <tr>\n",
       "      <th>1</th>\n",
       "      <td>Memory-Based Collaborative Filtering</td>\n",
       "      <td>5</td>\n",
       "      <td>0.896650</td>\n",
       "      <td>0.490548</td>\n",
       "      <td>0.767332</td>\n",
       "    </tr>\n",
       "    <tr>\n",
       "      <th>2</th>\n",
       "      <td>Memory-Based Collaborative Filtering</td>\n",
       "      <td>10</td>\n",
       "      <td>0.952480</td>\n",
       "      <td>0.407150</td>\n",
       "      <td>0.763806</td>\n",
       "    </tr>\n",
       "    <tr>\n",
       "      <th>3</th>\n",
       "      <td>Memory-Based Collaborative Filtering</td>\n",
       "      <td>20</td>\n",
       "      <td>0.977668</td>\n",
       "      <td>0.345812</td>\n",
       "      <td>0.744820</td>\n",
       "    </tr>\n",
       "    <tr>\n",
       "      <th>16</th>\n",
       "      <td>Screenshot and Header Image Keywords</td>\n",
       "      <td>1</td>\n",
       "      <td>0.203064</td>\n",
       "      <td>0.203064</td>\n",
       "      <td>0.000000</td>\n",
       "    </tr>\n",
       "    <tr>\n",
       "      <th>17</th>\n",
       "      <td>Screenshot and Header Image Keywords</td>\n",
       "      <td>5</td>\n",
       "      <td>0.502207</td>\n",
       "      <td>0.155596</td>\n",
       "      <td>0.375539</td>\n",
       "    </tr>\n",
       "    <tr>\n",
       "      <th>18</th>\n",
       "      <td>Screenshot and Header Image Keywords</td>\n",
       "      <td>10</td>\n",
       "      <td>0.654375</td>\n",
       "      <td>0.131135</td>\n",
       "      <td>0.422058</td>\n",
       "    </tr>\n",
       "    <tr>\n",
       "      <th>19</th>\n",
       "      <td>Screenshot and Header Image Keywords</td>\n",
       "      <td>20</td>\n",
       "      <td>0.776681</td>\n",
       "      <td>0.106037</td>\n",
       "      <td>0.443664</td>\n",
       "    </tr>\n",
       "  </tbody>\n",
       "</table>\n",
       "</div>"
      ],
      "text/plain": [
       "                                    name   k  hit_rate  mean_avg_prec  \\\n",
       "0   Memory-Based Collaborative Filtering   1  0.641392       0.641392   \n",
       "1   Memory-Based Collaborative Filtering   5  0.896650       0.490548   \n",
       "2   Memory-Based Collaborative Filtering  10  0.952480       0.407150   \n",
       "3   Memory-Based Collaborative Filtering  20  0.977668       0.345812   \n",
       "16  Screenshot and Header Image Keywords   1  0.203064       0.203064   \n",
       "17  Screenshot and Header Image Keywords   5  0.502207       0.155596   \n",
       "18  Screenshot and Header Image Keywords  10  0.654375       0.131135   \n",
       "19  Screenshot and Header Image Keywords  20  0.776681       0.106037   \n",
       "\n",
       "        ndcg  \n",
       "0   0.000000  \n",
       "1   0.767332  \n",
       "2   0.763806  \n",
       "3   0.744820  \n",
       "16  0.000000  \n",
       "17  0.375539  \n",
       "18  0.422058  \n",
       "19  0.443664  "
      ]
     },
     "execution_count": 189,
     "metadata": {},
     "output_type": "execute_result"
    }
   ],
   "source": [
    "collab_filtering_df = pd.read_csv(\"collaborative_offline_eval_results.csv\")\n",
    "collab_filtering_df\n",
    "\n",
    "# combine results from collaborative filtering with results from content-based filtering\n",
    "cbf_df = pd.read_csv(\"offline_eval_results.csv\")\n",
    "cbf_df = cbf_df[cbf_df['name']=='Screenshot and Header Image Keywords']\n",
    "\n",
    "cf_cbf_df = pd.concat([collab_filtering_df, cbf_df])\n",
    "cf_cbf_df"
   ]
  },
  {
   "cell_type": "code",
   "execution_count": 196,
   "id": "75513a64",
   "metadata": {},
   "outputs": [
    {
     "data": {
      "application/vnd.plotly.v1+json": {
       "config": {
        "plotlyServerURL": "https://plot.ly"
       },
       "data": [
        {
         "alignmentgroup": "True",
         "hovertemplate": "Method=Memory-Based Collaborative Filtering<br>k=%{x}<br>Hit Rate=%{y}<extra></extra>",
         "legendgroup": "Memory-Based Collaborative Filtering",
         "marker": {
          "color": "#636efa",
          "pattern": {
           "shape": ""
          }
         },
         "name": "Memory-Based Collaborative Filtering",
         "offsetgroup": "Memory-Based Collaborative Filtering",
         "orientation": "v",
         "showlegend": true,
         "textposition": "auto",
         "type": "bar",
         "x": [
          "1",
          "5",
          "10",
          "20"
         ],
         "xaxis": "x",
         "y": {
          "bdata": "oFR1MUiG5D9VdL7NW7HsP8Y2WBO3eu4/OLL1sA5J7z8=",
          "dtype": "f8"
         },
         "yaxis": "y"
        },
        {
         "alignmentgroup": "True",
         "hovertemplate": "Method=Screenshot and Header Image Keywords<br>k=%{x}<br>Hit Rate=%{y}<extra></extra>",
         "legendgroup": "Screenshot and Header Image Keywords",
         "marker": {
          "color": "#EF553B",
          "pattern": {
           "shape": ""
          }
         },
         "name": "Screenshot and Header Image Keywords",
         "offsetgroup": "Screenshot and Header Image Keywords",
         "orientation": "v",
         "showlegend": true,
         "textposition": "auto",
         "type": "bar",
         "x": [
          "1",
          "5",
          "10",
          "20"
         ],
         "xaxis": "x",
         "y": {
          "bdata": "MOlkdgH+yT8zRqDfFBLgPwhqb9yk8OQ/OvaY6ZLa6D8=",
          "dtype": "f8"
         },
         "yaxis": "y"
        },
        {
         "alignmentgroup": "True",
         "hovertemplate": "Method=Memory-Based Collaborative Filtering<br>k=%{x}<br>mean_avg_prec=%{y}<extra></extra>",
         "legendgroup": "Memory-Based Collaborative Filtering",
         "marker": {
          "color": "#636efa",
          "pattern": {
           "shape": ""
          }
         },
         "name": "Memory-Based Collaborative Filtering",
         "offsetgroup": "Memory-Based Collaborative Filtering",
         "orientation": "v",
         "showlegend": false,
         "textposition": "auto",
         "type": "bar",
         "x": [
          "1",
          "5",
          "10",
          "20"
         ],
         "xaxis": "x2",
         "y": {
          "bdata": "oFR1MUiG5D8G6T8PI2XfP8vLhnC9Dto/ZrgzP8gh1j8=",
          "dtype": "f8"
         },
         "yaxis": "y2"
        },
        {
         "alignmentgroup": "True",
         "hovertemplate": "Method=Screenshot and Header Image Keywords<br>k=%{x}<br>mean_avg_prec=%{y}<extra></extra>",
         "legendgroup": "Screenshot and Header Image Keywords",
         "marker": {
          "color": "#EF553B",
          "pattern": {
           "shape": ""
          }
         },
         "name": "Screenshot and Header Image Keywords",
         "offsetgroup": "Screenshot and Header Image Keywords",
         "orientation": "v",
         "showlegend": false,
         "textposition": "auto",
         "type": "bar",
         "x": [
          "1",
          "5",
          "10",
          "20"
         ],
         "xaxis": "x2",
         "y": {
          "bdata": "MOlkdgH+yT+JamVskerDP/iTqi4GycA/LRKYPkQluz8=",
          "dtype": "f8"
         },
         "yaxis": "y2"
        },
        {
         "alignmentgroup": "True",
         "hovertemplate": "Method=Memory-Based Collaborative Filtering<br>k=%{x}<br>ndcg=%{y}<extra></extra>",
         "legendgroup": "Memory-Based Collaborative Filtering",
         "marker": {
          "color": "#636efa",
          "pattern": {
           "shape": ""
          }
         },
         "name": "Memory-Based Collaborative Filtering",
         "offsetgroup": "Memory-Based Collaborative Filtering",
         "orientation": "v",
         "showlegend": false,
         "textposition": "auto",
         "type": "bar",
         "x": [
          "1",
          "5",
          "10",
          "20"
         ],
         "xaxis": "x3",
         "y": {
          "bdata": "AAAAAAAAAACn62BE/I3oP9t7jCsZceg/te7zP5DV5z8=",
          "dtype": "f8"
         },
         "yaxis": "y3"
        },
        {
         "alignmentgroup": "True",
         "hovertemplate": "Method=Screenshot and Header Image Keywords<br>k=%{x}<br>ndcg=%{y}<extra></extra>",
         "legendgroup": "Screenshot and Header Image Keywords",
         "marker": {
          "color": "#EF553B",
          "pattern": {
           "shape": ""
          }
         },
         "name": "Screenshot and Header Image Keywords",
         "offsetgroup": "Screenshot and Header Image Keywords",
         "orientation": "v",
         "showlegend": false,
         "textposition": "auto",
         "type": "bar",
         "x": [
          "1",
          "5",
          "10",
          "20"
         ],
         "xaxis": "x3",
         "y": {
          "bdata": "AAAAAAAAAABhbiGH1QjYP6PxJS7+Ats/Zm/uZ/1k3D8=",
          "dtype": "f8"
         },
         "yaxis": "y3"
        }
       ],
       "layout": {
        "annotations": [
         {
          "font": {
           "size": 16
          },
          "showarrow": false,
          "text": "HitRate@k",
          "x": 0.14444444444444446,
          "xanchor": "center",
          "xref": "paper",
          "y": 1,
          "yanchor": "bottom",
          "yref": "paper"
         },
         {
          "font": {
           "size": 16
          },
          "showarrow": false,
          "text": "MAP@k",
          "x": 0.5,
          "xanchor": "center",
          "xref": "paper",
          "y": 1,
          "yanchor": "bottom",
          "yref": "paper"
         },
         {
          "font": {
           "size": 16
          },
          "showarrow": false,
          "text": "NDCG@k",
          "x": 0.8555555555555556,
          "xanchor": "center",
          "xref": "paper",
          "y": 1,
          "yanchor": "bottom",
          "yref": "paper"
         }
        ],
        "legend": {
         "orientation": "h",
         "xanchor": "left",
         "y": -0.3,
         "yanchor": "bottom"
        },
        "template": {
         "data": {
          "bar": [
           {
            "error_x": {
             "color": "#2a3f5f"
            },
            "error_y": {
             "color": "#2a3f5f"
            },
            "marker": {
             "line": {
              "color": "#E5ECF6",
              "width": 0.5
             },
             "pattern": {
              "fillmode": "overlay",
              "size": 10,
              "solidity": 0.2
             }
            },
            "type": "bar"
           }
          ],
          "barpolar": [
           {
            "marker": {
             "line": {
              "color": "#E5ECF6",
              "width": 0.5
             },
             "pattern": {
              "fillmode": "overlay",
              "size": 10,
              "solidity": 0.2
             }
            },
            "type": "barpolar"
           }
          ],
          "carpet": [
           {
            "aaxis": {
             "endlinecolor": "#2a3f5f",
             "gridcolor": "white",
             "linecolor": "white",
             "minorgridcolor": "white",
             "startlinecolor": "#2a3f5f"
            },
            "baxis": {
             "endlinecolor": "#2a3f5f",
             "gridcolor": "white",
             "linecolor": "white",
             "minorgridcolor": "white",
             "startlinecolor": "#2a3f5f"
            },
            "type": "carpet"
           }
          ],
          "choropleth": [
           {
            "colorbar": {
             "outlinewidth": 0,
             "ticks": ""
            },
            "type": "choropleth"
           }
          ],
          "contour": [
           {
            "colorbar": {
             "outlinewidth": 0,
             "ticks": ""
            },
            "colorscale": [
             [
              0,
              "#0d0887"
             ],
             [
              0.1111111111111111,
              "#46039f"
             ],
             [
              0.2222222222222222,
              "#7201a8"
             ],
             [
              0.3333333333333333,
              "#9c179e"
             ],
             [
              0.4444444444444444,
              "#bd3786"
             ],
             [
              0.5555555555555556,
              "#d8576b"
             ],
             [
              0.6666666666666666,
              "#ed7953"
             ],
             [
              0.7777777777777778,
              "#fb9f3a"
             ],
             [
              0.8888888888888888,
              "#fdca26"
             ],
             [
              1,
              "#f0f921"
             ]
            ],
            "type": "contour"
           }
          ],
          "contourcarpet": [
           {
            "colorbar": {
             "outlinewidth": 0,
             "ticks": ""
            },
            "type": "contourcarpet"
           }
          ],
          "heatmap": [
           {
            "colorbar": {
             "outlinewidth": 0,
             "ticks": ""
            },
            "colorscale": [
             [
              0,
              "#0d0887"
             ],
             [
              0.1111111111111111,
              "#46039f"
             ],
             [
              0.2222222222222222,
              "#7201a8"
             ],
             [
              0.3333333333333333,
              "#9c179e"
             ],
             [
              0.4444444444444444,
              "#bd3786"
             ],
             [
              0.5555555555555556,
              "#d8576b"
             ],
             [
              0.6666666666666666,
              "#ed7953"
             ],
             [
              0.7777777777777778,
              "#fb9f3a"
             ],
             [
              0.8888888888888888,
              "#fdca26"
             ],
             [
              1,
              "#f0f921"
             ]
            ],
            "type": "heatmap"
           }
          ],
          "histogram": [
           {
            "marker": {
             "pattern": {
              "fillmode": "overlay",
              "size": 10,
              "solidity": 0.2
             }
            },
            "type": "histogram"
           }
          ],
          "histogram2d": [
           {
            "colorbar": {
             "outlinewidth": 0,
             "ticks": ""
            },
            "colorscale": [
             [
              0,
              "#0d0887"
             ],
             [
              0.1111111111111111,
              "#46039f"
             ],
             [
              0.2222222222222222,
              "#7201a8"
             ],
             [
              0.3333333333333333,
              "#9c179e"
             ],
             [
              0.4444444444444444,
              "#bd3786"
             ],
             [
              0.5555555555555556,
              "#d8576b"
             ],
             [
              0.6666666666666666,
              "#ed7953"
             ],
             [
              0.7777777777777778,
              "#fb9f3a"
             ],
             [
              0.8888888888888888,
              "#fdca26"
             ],
             [
              1,
              "#f0f921"
             ]
            ],
            "type": "histogram2d"
           }
          ],
          "histogram2dcontour": [
           {
            "colorbar": {
             "outlinewidth": 0,
             "ticks": ""
            },
            "colorscale": [
             [
              0,
              "#0d0887"
             ],
             [
              0.1111111111111111,
              "#46039f"
             ],
             [
              0.2222222222222222,
              "#7201a8"
             ],
             [
              0.3333333333333333,
              "#9c179e"
             ],
             [
              0.4444444444444444,
              "#bd3786"
             ],
             [
              0.5555555555555556,
              "#d8576b"
             ],
             [
              0.6666666666666666,
              "#ed7953"
             ],
             [
              0.7777777777777778,
              "#fb9f3a"
             ],
             [
              0.8888888888888888,
              "#fdca26"
             ],
             [
              1,
              "#f0f921"
             ]
            ],
            "type": "histogram2dcontour"
           }
          ],
          "mesh3d": [
           {
            "colorbar": {
             "outlinewidth": 0,
             "ticks": ""
            },
            "type": "mesh3d"
           }
          ],
          "parcoords": [
           {
            "line": {
             "colorbar": {
              "outlinewidth": 0,
              "ticks": ""
             }
            },
            "type": "parcoords"
           }
          ],
          "pie": [
           {
            "automargin": true,
            "type": "pie"
           }
          ],
          "scatter": [
           {
            "fillpattern": {
             "fillmode": "overlay",
             "size": 10,
             "solidity": 0.2
            },
            "type": "scatter"
           }
          ],
          "scatter3d": [
           {
            "line": {
             "colorbar": {
              "outlinewidth": 0,
              "ticks": ""
             }
            },
            "marker": {
             "colorbar": {
              "outlinewidth": 0,
              "ticks": ""
             }
            },
            "type": "scatter3d"
           }
          ],
          "scattercarpet": [
           {
            "marker": {
             "colorbar": {
              "outlinewidth": 0,
              "ticks": ""
             }
            },
            "type": "scattercarpet"
           }
          ],
          "scattergeo": [
           {
            "marker": {
             "colorbar": {
              "outlinewidth": 0,
              "ticks": ""
             }
            },
            "type": "scattergeo"
           }
          ],
          "scattergl": [
           {
            "marker": {
             "colorbar": {
              "outlinewidth": 0,
              "ticks": ""
             }
            },
            "type": "scattergl"
           }
          ],
          "scattermap": [
           {
            "marker": {
             "colorbar": {
              "outlinewidth": 0,
              "ticks": ""
             }
            },
            "type": "scattermap"
           }
          ],
          "scattermapbox": [
           {
            "marker": {
             "colorbar": {
              "outlinewidth": 0,
              "ticks": ""
             }
            },
            "type": "scattermapbox"
           }
          ],
          "scatterpolar": [
           {
            "marker": {
             "colorbar": {
              "outlinewidth": 0,
              "ticks": ""
             }
            },
            "type": "scatterpolar"
           }
          ],
          "scatterpolargl": [
           {
            "marker": {
             "colorbar": {
              "outlinewidth": 0,
              "ticks": ""
             }
            },
            "type": "scatterpolargl"
           }
          ],
          "scatterternary": [
           {
            "marker": {
             "colorbar": {
              "outlinewidth": 0,
              "ticks": ""
             }
            },
            "type": "scatterternary"
           }
          ],
          "surface": [
           {
            "colorbar": {
             "outlinewidth": 0,
             "ticks": ""
            },
            "colorscale": [
             [
              0,
              "#0d0887"
             ],
             [
              0.1111111111111111,
              "#46039f"
             ],
             [
              0.2222222222222222,
              "#7201a8"
             ],
             [
              0.3333333333333333,
              "#9c179e"
             ],
             [
              0.4444444444444444,
              "#bd3786"
             ],
             [
              0.5555555555555556,
              "#d8576b"
             ],
             [
              0.6666666666666666,
              "#ed7953"
             ],
             [
              0.7777777777777778,
              "#fb9f3a"
             ],
             [
              0.8888888888888888,
              "#fdca26"
             ],
             [
              1,
              "#f0f921"
             ]
            ],
            "type": "surface"
           }
          ],
          "table": [
           {
            "cells": {
             "fill": {
              "color": "#EBF0F8"
             },
             "line": {
              "color": "white"
             }
            },
            "header": {
             "fill": {
              "color": "#C8D4E3"
             },
             "line": {
              "color": "white"
             }
            },
            "type": "table"
           }
          ]
         },
         "layout": {
          "annotationdefaults": {
           "arrowcolor": "#2a3f5f",
           "arrowhead": 0,
           "arrowwidth": 1
          },
          "autotypenumbers": "strict",
          "coloraxis": {
           "colorbar": {
            "outlinewidth": 0,
            "ticks": ""
           }
          },
          "colorscale": {
           "diverging": [
            [
             0,
             "#8e0152"
            ],
            [
             0.1,
             "#c51b7d"
            ],
            [
             0.2,
             "#de77ae"
            ],
            [
             0.3,
             "#f1b6da"
            ],
            [
             0.4,
             "#fde0ef"
            ],
            [
             0.5,
             "#f7f7f7"
            ],
            [
             0.6,
             "#e6f5d0"
            ],
            [
             0.7,
             "#b8e186"
            ],
            [
             0.8,
             "#7fbc41"
            ],
            [
             0.9,
             "#4d9221"
            ],
            [
             1,
             "#276419"
            ]
           ],
           "sequential": [
            [
             0,
             "#0d0887"
            ],
            [
             0.1111111111111111,
             "#46039f"
            ],
            [
             0.2222222222222222,
             "#7201a8"
            ],
            [
             0.3333333333333333,
             "#9c179e"
            ],
            [
             0.4444444444444444,
             "#bd3786"
            ],
            [
             0.5555555555555556,
             "#d8576b"
            ],
            [
             0.6666666666666666,
             "#ed7953"
            ],
            [
             0.7777777777777778,
             "#fb9f3a"
            ],
            [
             0.8888888888888888,
             "#fdca26"
            ],
            [
             1,
             "#f0f921"
            ]
           ],
           "sequentialminus": [
            [
             0,
             "#0d0887"
            ],
            [
             0.1111111111111111,
             "#46039f"
            ],
            [
             0.2222222222222222,
             "#7201a8"
            ],
            [
             0.3333333333333333,
             "#9c179e"
            ],
            [
             0.4444444444444444,
             "#bd3786"
            ],
            [
             0.5555555555555556,
             "#d8576b"
            ],
            [
             0.6666666666666666,
             "#ed7953"
            ],
            [
             0.7777777777777778,
             "#fb9f3a"
            ],
            [
             0.8888888888888888,
             "#fdca26"
            ],
            [
             1,
             "#f0f921"
            ]
           ]
          },
          "colorway": [
           "#636efa",
           "#EF553B",
           "#00cc96",
           "#ab63fa",
           "#FFA15A",
           "#19d3f3",
           "#FF6692",
           "#B6E880",
           "#FF97FF",
           "#FECB52"
          ],
          "font": {
           "color": "#2a3f5f"
          },
          "geo": {
           "bgcolor": "white",
           "lakecolor": "white",
           "landcolor": "#E5ECF6",
           "showlakes": true,
           "showland": true,
           "subunitcolor": "white"
          },
          "hoverlabel": {
           "align": "left"
          },
          "hovermode": "closest",
          "mapbox": {
           "style": "light"
          },
          "paper_bgcolor": "white",
          "plot_bgcolor": "#E5ECF6",
          "polar": {
           "angularaxis": {
            "gridcolor": "white",
            "linecolor": "white",
            "ticks": ""
           },
           "bgcolor": "#E5ECF6",
           "radialaxis": {
            "gridcolor": "white",
            "linecolor": "white",
            "ticks": ""
           }
          },
          "scene": {
           "xaxis": {
            "backgroundcolor": "#E5ECF6",
            "gridcolor": "white",
            "gridwidth": 2,
            "linecolor": "white",
            "showbackground": true,
            "ticks": "",
            "zerolinecolor": "white"
           },
           "yaxis": {
            "backgroundcolor": "#E5ECF6",
            "gridcolor": "white",
            "gridwidth": 2,
            "linecolor": "white",
            "showbackground": true,
            "ticks": "",
            "zerolinecolor": "white"
           },
           "zaxis": {
            "backgroundcolor": "#E5ECF6",
            "gridcolor": "white",
            "gridwidth": 2,
            "linecolor": "white",
            "showbackground": true,
            "ticks": "",
            "zerolinecolor": "white"
           }
          },
          "shapedefaults": {
           "line": {
            "color": "#2a3f5f"
           }
          },
          "ternary": {
           "aaxis": {
            "gridcolor": "white",
            "linecolor": "white",
            "ticks": ""
           },
           "baxis": {
            "gridcolor": "white",
            "linecolor": "white",
            "ticks": ""
           },
           "bgcolor": "#E5ECF6",
           "caxis": {
            "gridcolor": "white",
            "linecolor": "white",
            "ticks": ""
           }
          },
          "title": {
           "x": 0.05
          },
          "xaxis": {
           "automargin": true,
           "gridcolor": "white",
           "linecolor": "white",
           "ticks": "",
           "title": {
            "standoff": 15
           },
           "zerolinecolor": "white",
           "zerolinewidth": 2
          },
          "yaxis": {
           "automargin": true,
           "gridcolor": "white",
           "linecolor": "white",
           "ticks": "",
           "title": {
            "standoff": 15
           },
           "zerolinecolor": "white",
           "zerolinewidth": 2
          }
         }
        },
        "title": {
         "text": "Enhanced Content-Based Recommender vs. Collaborative Recommender"
        },
        "xaxis": {
         "anchor": "y",
         "domain": [
          0,
          0.2888888888888889
         ],
         "tickvals": [
          "1",
          "10",
          "20",
          "5"
         ]
        },
        "xaxis2": {
         "anchor": "y2",
         "domain": [
          0.35555555555555557,
          0.6444444444444445
         ],
         "tickvals": [
          "1",
          "10",
          "20",
          "5"
         ]
        },
        "xaxis3": {
         "anchor": "y3",
         "domain": [
          0.7111111111111111,
          1
         ],
         "tickvals": [
          "1",
          "10",
          "20",
          "5"
         ]
        },
        "yaxis": {
         "anchor": "x",
         "domain": [
          0,
          1
         ]
        },
        "yaxis2": {
         "anchor": "x2",
         "domain": [
          0,
          1
         ]
        },
        "yaxis3": {
         "anchor": "x3",
         "domain": [
          0,
          1
         ]
        }
       }
      }
     },
     "metadata": {},
     "output_type": "display_data"
    }
   ],
   "source": [
    "create_bar_chart_plotly(\n",
    "    cf_cbf_df, \n",
    "    'k', \n",
    "    ['hit_rate', 'mean_avg_prec', 'ndcg'], \n",
    "    'name', \n",
    "    title=\"Enhanced Content-Based Recommender vs. Collaborative Recommender\", \n",
    "    labels={\"k\": \"k\", \"hit_rate\": \"Hit Rate\", \"name\": \"Method\"},\n",
    "    category_orders={\n",
    "        'name': [\n",
    "            'Memory-Based Collaborative Filtering',\n",
    "            'Screenshot and Header Image Keywords',\n",
    "        ]\n",
    "    },\n",
    "    subplot_titles=['HitRate@k', 'MAP@k', 'NDCG@k']\n",
    ")"
   ]
  },
  {
   "cell_type": "markdown",
   "id": "652a183b",
   "metadata": {},
   "source": [
    "### Collaborative-Based Filtering vs Hybrid Filtering"
   ]
  },
  {
   "cell_type": "code",
   "execution_count": 198,
   "id": "d0f42cbe",
   "metadata": {},
   "outputs": [
    {
     "data": {
      "text/html": [
       "<div>\n",
       "<style scoped>\n",
       "    .dataframe tbody tr th:only-of-type {\n",
       "        vertical-align: middle;\n",
       "    }\n",
       "\n",
       "    .dataframe tbody tr th {\n",
       "        vertical-align: top;\n",
       "    }\n",
       "\n",
       "    .dataframe thead th {\n",
       "        text-align: right;\n",
       "    }\n",
       "</style>\n",
       "<table border=\"1\" class=\"dataframe\">\n",
       "  <thead>\n",
       "    <tr style=\"text-align: right;\">\n",
       "      <th></th>\n",
       "      <th>name</th>\n",
       "      <th>k</th>\n",
       "      <th>hit_rate</th>\n",
       "      <th>mean_avg_prec</th>\n",
       "      <th>ndcg</th>\n",
       "      <th>game_threshold</th>\n",
       "      <th>num_train_examples</th>\n",
       "      <th>mrr</th>\n",
       "    </tr>\n",
       "  </thead>\n",
       "  <tbody>\n",
       "    <tr>\n",
       "      <th>0</th>\n",
       "      <td>Memory-Based Collaborative Filtering</td>\n",
       "      <td>1</td>\n",
       "      <td>0.641392</td>\n",
       "      <td>0.641392</td>\n",
       "      <td>0.000000</td>\n",
       "      <td>NaN</td>\n",
       "      <td>NaN</td>\n",
       "      <td>NaN</td>\n",
       "    </tr>\n",
       "    <tr>\n",
       "      <th>1</th>\n",
       "      <td>Memory-Based Collaborative Filtering</td>\n",
       "      <td>5</td>\n",
       "      <td>0.896650</td>\n",
       "      <td>0.490548</td>\n",
       "      <td>0.767332</td>\n",
       "      <td>NaN</td>\n",
       "      <td>NaN</td>\n",
       "      <td>NaN</td>\n",
       "    </tr>\n",
       "    <tr>\n",
       "      <th>2</th>\n",
       "      <td>Memory-Based Collaborative Filtering</td>\n",
       "      <td>10</td>\n",
       "      <td>0.952480</td>\n",
       "      <td>0.407150</td>\n",
       "      <td>0.763806</td>\n",
       "      <td>NaN</td>\n",
       "      <td>NaN</td>\n",
       "      <td>NaN</td>\n",
       "    </tr>\n",
       "    <tr>\n",
       "      <th>3</th>\n",
       "      <td>Memory-Based Collaborative Filtering</td>\n",
       "      <td>20</td>\n",
       "      <td>0.977668</td>\n",
       "      <td>0.345812</td>\n",
       "      <td>0.744820</td>\n",
       "      <td>NaN</td>\n",
       "      <td>NaN</td>\n",
       "      <td>NaN</td>\n",
       "    </tr>\n",
       "    <tr>\n",
       "      <th>0</th>\n",
       "      <td>Switching Hyrbid Model</td>\n",
       "      <td>1</td>\n",
       "      <td>0.641392</td>\n",
       "      <td>0.641392</td>\n",
       "      <td>0.000000</td>\n",
       "      <td>5.0</td>\n",
       "      <td>NaN</td>\n",
       "      <td>0.641392</td>\n",
       "    </tr>\n",
       "    <tr>\n",
       "      <th>1</th>\n",
       "      <td>Switching Hyrbid Model</td>\n",
       "      <td>5</td>\n",
       "      <td>0.896650</td>\n",
       "      <td>0.490574</td>\n",
       "      <td>0.767351</td>\n",
       "      <td>5.0</td>\n",
       "      <td>NaN</td>\n",
       "      <td>0.742708</td>\n",
       "    </tr>\n",
       "    <tr>\n",
       "      <th>2</th>\n",
       "      <td>Switching Hyrbid Model</td>\n",
       "      <td>10</td>\n",
       "      <td>0.952480</td>\n",
       "      <td>0.407141</td>\n",
       "      <td>0.763806</td>\n",
       "      <td>5.0</td>\n",
       "      <td>NaN</td>\n",
       "      <td>0.750434</td>\n",
       "    </tr>\n",
       "    <tr>\n",
       "      <th>3</th>\n",
       "      <td>Switching Hyrbid Model</td>\n",
       "      <td>20</td>\n",
       "      <td>0.977668</td>\n",
       "      <td>0.345803</td>\n",
       "      <td>0.744820</td>\n",
       "      <td>5.0</td>\n",
       "      <td>NaN</td>\n",
       "      <td>0.752290</td>\n",
       "    </tr>\n",
       "  </tbody>\n",
       "</table>\n",
       "</div>"
      ],
      "text/plain": [
       "                                   name   k  hit_rate  mean_avg_prec  \\\n",
       "0  Memory-Based Collaborative Filtering   1  0.641392       0.641392   \n",
       "1  Memory-Based Collaborative Filtering   5  0.896650       0.490548   \n",
       "2  Memory-Based Collaborative Filtering  10  0.952480       0.407150   \n",
       "3  Memory-Based Collaborative Filtering  20  0.977668       0.345812   \n",
       "0                Switching Hyrbid Model   1  0.641392       0.641392   \n",
       "1                Switching Hyrbid Model   5  0.896650       0.490574   \n",
       "2                Switching Hyrbid Model  10  0.952480       0.407141   \n",
       "3                Switching Hyrbid Model  20  0.977668       0.345803   \n",
       "\n",
       "       ndcg  game_threshold  num_train_examples       mrr  \n",
       "0  0.000000             NaN                 NaN       NaN  \n",
       "1  0.767332             NaN                 NaN       NaN  \n",
       "2  0.763806             NaN                 NaN       NaN  \n",
       "3  0.744820             NaN                 NaN       NaN  \n",
       "0  0.000000             5.0                 NaN  0.641392  \n",
       "1  0.767351             5.0                 NaN  0.742708  \n",
       "2  0.763806             5.0                 NaN  0.750434  \n",
       "3  0.744820             5.0                 NaN  0.752290  "
      ]
     },
     "execution_count": 198,
     "metadata": {},
     "output_type": "execute_result"
    }
   ],
   "source": [
    "# hybrid_filtering_df = pd.read_csv(\"hybrid_hyperparameter_tuning_20250729_014354.csv\")\n",
    "# hybrid_filtering_df_v2 = pd.read_csv(\"hybrid_hyperparameter_tuning_20250729_155537.csv\")\n",
    "# hybrid_filtering_df = pd.concat([hybrid_filtering_df, hybrid_filtering_df_v2])\n",
    "\n",
    "# def get_method_name(row):\n",
    "#     return f\"Weight={row['weight']} | Num_Train_Examples={row['num_train_examples']}\"\n",
    "# hybrid_filtering_df['method'] = hybrid_filtering_df[['weight', 'num_train_examples']].apply(get_method_name, axis=1)\n",
    "\n",
    "# temp_hybrid_filtering_df = hybrid_filtering_df.rename(columns={'method': 'name'})\n",
    "# temp_hybrid_filtering_df = temp_hybrid_filtering_df[['name', 'k', 'hit_rate', 'mean_avg_prec', 'ndcg']]\n",
    "# temp_hybrid_filtering_df = temp_hybrid_filtering_df[temp_hybrid_filtering_df['name']==\"Weight=0.999 | Num_Train_Examples=nan\"]\n",
    "\n",
    "temp_hybrid_filtering_df = pd.read_csv(\"switching_hybrid_model_results.csv\")\n",
    "temp_hybrid_filtering_df['name'] = \"Switching Hyrbid Model\"\n",
    "\n",
    "combined_df = pd.concat([collab_filtering_df, temp_hybrid_filtering_df])\n",
    "combined_df"
   ]
  },
  {
   "cell_type": "code",
   "execution_count": 199,
   "id": "b36c9be6",
   "metadata": {},
   "outputs": [
    {
     "data": {
      "application/vnd.plotly.v1+json": {
       "config": {
        "plotlyServerURL": "https://plot.ly"
       },
       "data": [
        {
         "alignmentgroup": "True",
         "hovertemplate": "Method=Memory-Based Collaborative Filtering<br>k=%{x}<br>Hit Rate=%{y}<extra></extra>",
         "legendgroup": "Memory-Based Collaborative Filtering",
         "marker": {
          "color": "#636efa",
          "pattern": {
           "shape": ""
          }
         },
         "name": "Memory-Based Collaborative Filtering",
         "offsetgroup": "Memory-Based Collaborative Filtering",
         "orientation": "v",
         "showlegend": true,
         "textposition": "auto",
         "type": "bar",
         "x": [
          "1",
          "5",
          "10",
          "20"
         ],
         "xaxis": "x",
         "y": {
          "bdata": "oFR1MUiG5D9VdL7NW7HsP8Y2WBO3eu4/OLL1sA5J7z8=",
          "dtype": "f8"
         },
         "yaxis": "y"
        },
        {
         "alignmentgroup": "True",
         "hovertemplate": "Method=Switching Hyrbid Model<br>k=%{x}<br>Hit Rate=%{y}<extra></extra>",
         "legendgroup": "Switching Hyrbid Model",
         "marker": {
          "color": "#EF553B",
          "pattern": {
           "shape": ""
          }
         },
         "name": "Switching Hyrbid Model",
         "offsetgroup": "Switching Hyrbid Model",
         "orientation": "v",
         "showlegend": true,
         "textposition": "auto",
         "type": "bar",
         "x": [
          "1",
          "5",
          "10",
          "20"
         ],
         "xaxis": "x",
         "y": {
          "bdata": "oFR1MUiG5D9VdL7NW7HsP8Y2WBO3eu4/OLL1sA5J7z8=",
          "dtype": "f8"
         },
         "yaxis": "y"
        },
        {
         "alignmentgroup": "True",
         "hovertemplate": "Method=Memory-Based Collaborative Filtering<br>k=%{x}<br>mean_avg_prec=%{y}<extra></extra>",
         "legendgroup": "Memory-Based Collaborative Filtering",
         "marker": {
          "color": "#636efa",
          "pattern": {
           "shape": ""
          }
         },
         "name": "Memory-Based Collaborative Filtering",
         "offsetgroup": "Memory-Based Collaborative Filtering",
         "orientation": "v",
         "showlegend": false,
         "textposition": "auto",
         "type": "bar",
         "x": [
          "1",
          "5",
          "10",
          "20"
         ],
         "xaxis": "x2",
         "y": {
          "bdata": "oFR1MUiG5D8G6T8PI2XfP8vLhnC9Dto/ZrgzP8gh1j8=",
          "dtype": "f8"
         },
         "yaxis": "y2"
        },
        {
         "alignmentgroup": "True",
         "hovertemplate": "Method=Switching Hyrbid Model<br>k=%{x}<br>mean_avg_prec=%{y}<extra></extra>",
         "legendgroup": "Switching Hyrbid Model",
         "marker": {
          "color": "#EF553B",
          "pattern": {
           "shape": ""
          }
         },
         "name": "Switching Hyrbid Model",
         "offsetgroup": "Switching Hyrbid Model",
         "orientation": "v",
         "showlegend": false,
         "textposition": "auto",
         "type": "bar",
         "x": [
          "1",
          "5",
          "10",
          "20"
         ],
         "xaxis": "x2",
         "y": {
          "bdata": "oFR1MUiG5D+W0mf5j2XfP/J9eSKZDto/AiaEWaIh1j8=",
          "dtype": "f8"
         },
         "yaxis": "y2"
        },
        {
         "alignmentgroup": "True",
         "hovertemplate": "Method=Memory-Based Collaborative Filtering<br>k=%{x}<br>ndcg=%{y}<extra></extra>",
         "legendgroup": "Memory-Based Collaborative Filtering",
         "marker": {
          "color": "#636efa",
          "pattern": {
           "shape": ""
          }
         },
         "name": "Memory-Based Collaborative Filtering",
         "offsetgroup": "Memory-Based Collaborative Filtering",
         "orientation": "v",
         "showlegend": false,
         "textposition": "auto",
         "type": "bar",
         "x": [
          "1",
          "5",
          "10",
          "20"
         ],
         "xaxis": "x3",
         "y": {
          "bdata": "AAAAAAAAAACn62BE/I3oP9t7jCsZceg/te7zP5DV5z8=",
          "dtype": "f8"
         },
         "yaxis": "y3"
        },
        {
         "alignmentgroup": "True",
         "hovertemplate": "Method=Switching Hyrbid Model<br>k=%{x}<br>ndcg=%{y}<extra></extra>",
         "legendgroup": "Switching Hyrbid Model",
         "marker": {
          "color": "#EF553B",
          "pattern": {
           "shape": ""
          }
         },
         "name": "Switching Hyrbid Model",
         "offsetgroup": "Switching Hyrbid Model",
         "orientation": "v",
         "showlegend": false,
         "textposition": "auto",
         "type": "bar",
         "x": [
          "1",
          "5",
          "10",
          "20"
         ],
         "xaxis": "x3",
         "y": {
          "bdata": "AAAAAAAAAAB65ki1Io7oP9t7jCsZceg/te7zP5DV5z8=",
          "dtype": "f8"
         },
         "yaxis": "y3"
        }
       ],
       "layout": {
        "annotations": [
         {
          "font": {
           "size": 16
          },
          "showarrow": false,
          "text": "HitRate@k",
          "x": 0.14444444444444446,
          "xanchor": "center",
          "xref": "paper",
          "y": 1,
          "yanchor": "bottom",
          "yref": "paper"
         },
         {
          "font": {
           "size": 16
          },
          "showarrow": false,
          "text": "MAP@k",
          "x": 0.5,
          "xanchor": "center",
          "xref": "paper",
          "y": 1,
          "yanchor": "bottom",
          "yref": "paper"
         },
         {
          "font": {
           "size": 16
          },
          "showarrow": false,
          "text": "NDCG@k",
          "x": 0.8555555555555556,
          "xanchor": "center",
          "xref": "paper",
          "y": 1,
          "yanchor": "bottom",
          "yref": "paper"
         }
        ],
        "legend": {
         "orientation": "h",
         "xanchor": "left",
         "y": -0.3,
         "yanchor": "bottom"
        },
        "template": {
         "data": {
          "bar": [
           {
            "error_x": {
             "color": "#2a3f5f"
            },
            "error_y": {
             "color": "#2a3f5f"
            },
            "marker": {
             "line": {
              "color": "#E5ECF6",
              "width": 0.5
             },
             "pattern": {
              "fillmode": "overlay",
              "size": 10,
              "solidity": 0.2
             }
            },
            "type": "bar"
           }
          ],
          "barpolar": [
           {
            "marker": {
             "line": {
              "color": "#E5ECF6",
              "width": 0.5
             },
             "pattern": {
              "fillmode": "overlay",
              "size": 10,
              "solidity": 0.2
             }
            },
            "type": "barpolar"
           }
          ],
          "carpet": [
           {
            "aaxis": {
             "endlinecolor": "#2a3f5f",
             "gridcolor": "white",
             "linecolor": "white",
             "minorgridcolor": "white",
             "startlinecolor": "#2a3f5f"
            },
            "baxis": {
             "endlinecolor": "#2a3f5f",
             "gridcolor": "white",
             "linecolor": "white",
             "minorgridcolor": "white",
             "startlinecolor": "#2a3f5f"
            },
            "type": "carpet"
           }
          ],
          "choropleth": [
           {
            "colorbar": {
             "outlinewidth": 0,
             "ticks": ""
            },
            "type": "choropleth"
           }
          ],
          "contour": [
           {
            "colorbar": {
             "outlinewidth": 0,
             "ticks": ""
            },
            "colorscale": [
             [
              0,
              "#0d0887"
             ],
             [
              0.1111111111111111,
              "#46039f"
             ],
             [
              0.2222222222222222,
              "#7201a8"
             ],
             [
              0.3333333333333333,
              "#9c179e"
             ],
             [
              0.4444444444444444,
              "#bd3786"
             ],
             [
              0.5555555555555556,
              "#d8576b"
             ],
             [
              0.6666666666666666,
              "#ed7953"
             ],
             [
              0.7777777777777778,
              "#fb9f3a"
             ],
             [
              0.8888888888888888,
              "#fdca26"
             ],
             [
              1,
              "#f0f921"
             ]
            ],
            "type": "contour"
           }
          ],
          "contourcarpet": [
           {
            "colorbar": {
             "outlinewidth": 0,
             "ticks": ""
            },
            "type": "contourcarpet"
           }
          ],
          "heatmap": [
           {
            "colorbar": {
             "outlinewidth": 0,
             "ticks": ""
            },
            "colorscale": [
             [
              0,
              "#0d0887"
             ],
             [
              0.1111111111111111,
              "#46039f"
             ],
             [
              0.2222222222222222,
              "#7201a8"
             ],
             [
              0.3333333333333333,
              "#9c179e"
             ],
             [
              0.4444444444444444,
              "#bd3786"
             ],
             [
              0.5555555555555556,
              "#d8576b"
             ],
             [
              0.6666666666666666,
              "#ed7953"
             ],
             [
              0.7777777777777778,
              "#fb9f3a"
             ],
             [
              0.8888888888888888,
              "#fdca26"
             ],
             [
              1,
              "#f0f921"
             ]
            ],
            "type": "heatmap"
           }
          ],
          "histogram": [
           {
            "marker": {
             "pattern": {
              "fillmode": "overlay",
              "size": 10,
              "solidity": 0.2
             }
            },
            "type": "histogram"
           }
          ],
          "histogram2d": [
           {
            "colorbar": {
             "outlinewidth": 0,
             "ticks": ""
            },
            "colorscale": [
             [
              0,
              "#0d0887"
             ],
             [
              0.1111111111111111,
              "#46039f"
             ],
             [
              0.2222222222222222,
              "#7201a8"
             ],
             [
              0.3333333333333333,
              "#9c179e"
             ],
             [
              0.4444444444444444,
              "#bd3786"
             ],
             [
              0.5555555555555556,
              "#d8576b"
             ],
             [
              0.6666666666666666,
              "#ed7953"
             ],
             [
              0.7777777777777778,
              "#fb9f3a"
             ],
             [
              0.8888888888888888,
              "#fdca26"
             ],
             [
              1,
              "#f0f921"
             ]
            ],
            "type": "histogram2d"
           }
          ],
          "histogram2dcontour": [
           {
            "colorbar": {
             "outlinewidth": 0,
             "ticks": ""
            },
            "colorscale": [
             [
              0,
              "#0d0887"
             ],
             [
              0.1111111111111111,
              "#46039f"
             ],
             [
              0.2222222222222222,
              "#7201a8"
             ],
             [
              0.3333333333333333,
              "#9c179e"
             ],
             [
              0.4444444444444444,
              "#bd3786"
             ],
             [
              0.5555555555555556,
              "#d8576b"
             ],
             [
              0.6666666666666666,
              "#ed7953"
             ],
             [
              0.7777777777777778,
              "#fb9f3a"
             ],
             [
              0.8888888888888888,
              "#fdca26"
             ],
             [
              1,
              "#f0f921"
             ]
            ],
            "type": "histogram2dcontour"
           }
          ],
          "mesh3d": [
           {
            "colorbar": {
             "outlinewidth": 0,
             "ticks": ""
            },
            "type": "mesh3d"
           }
          ],
          "parcoords": [
           {
            "line": {
             "colorbar": {
              "outlinewidth": 0,
              "ticks": ""
             }
            },
            "type": "parcoords"
           }
          ],
          "pie": [
           {
            "automargin": true,
            "type": "pie"
           }
          ],
          "scatter": [
           {
            "fillpattern": {
             "fillmode": "overlay",
             "size": 10,
             "solidity": 0.2
            },
            "type": "scatter"
           }
          ],
          "scatter3d": [
           {
            "line": {
             "colorbar": {
              "outlinewidth": 0,
              "ticks": ""
             }
            },
            "marker": {
             "colorbar": {
              "outlinewidth": 0,
              "ticks": ""
             }
            },
            "type": "scatter3d"
           }
          ],
          "scattercarpet": [
           {
            "marker": {
             "colorbar": {
              "outlinewidth": 0,
              "ticks": ""
             }
            },
            "type": "scattercarpet"
           }
          ],
          "scattergeo": [
           {
            "marker": {
             "colorbar": {
              "outlinewidth": 0,
              "ticks": ""
             }
            },
            "type": "scattergeo"
           }
          ],
          "scattergl": [
           {
            "marker": {
             "colorbar": {
              "outlinewidth": 0,
              "ticks": ""
             }
            },
            "type": "scattergl"
           }
          ],
          "scattermap": [
           {
            "marker": {
             "colorbar": {
              "outlinewidth": 0,
              "ticks": ""
             }
            },
            "type": "scattermap"
           }
          ],
          "scattermapbox": [
           {
            "marker": {
             "colorbar": {
              "outlinewidth": 0,
              "ticks": ""
             }
            },
            "type": "scattermapbox"
           }
          ],
          "scatterpolar": [
           {
            "marker": {
             "colorbar": {
              "outlinewidth": 0,
              "ticks": ""
             }
            },
            "type": "scatterpolar"
           }
          ],
          "scatterpolargl": [
           {
            "marker": {
             "colorbar": {
              "outlinewidth": 0,
              "ticks": ""
             }
            },
            "type": "scatterpolargl"
           }
          ],
          "scatterternary": [
           {
            "marker": {
             "colorbar": {
              "outlinewidth": 0,
              "ticks": ""
             }
            },
            "type": "scatterternary"
           }
          ],
          "surface": [
           {
            "colorbar": {
             "outlinewidth": 0,
             "ticks": ""
            },
            "colorscale": [
             [
              0,
              "#0d0887"
             ],
             [
              0.1111111111111111,
              "#46039f"
             ],
             [
              0.2222222222222222,
              "#7201a8"
             ],
             [
              0.3333333333333333,
              "#9c179e"
             ],
             [
              0.4444444444444444,
              "#bd3786"
             ],
             [
              0.5555555555555556,
              "#d8576b"
             ],
             [
              0.6666666666666666,
              "#ed7953"
             ],
             [
              0.7777777777777778,
              "#fb9f3a"
             ],
             [
              0.8888888888888888,
              "#fdca26"
             ],
             [
              1,
              "#f0f921"
             ]
            ],
            "type": "surface"
           }
          ],
          "table": [
           {
            "cells": {
             "fill": {
              "color": "#EBF0F8"
             },
             "line": {
              "color": "white"
             }
            },
            "header": {
             "fill": {
              "color": "#C8D4E3"
             },
             "line": {
              "color": "white"
             }
            },
            "type": "table"
           }
          ]
         },
         "layout": {
          "annotationdefaults": {
           "arrowcolor": "#2a3f5f",
           "arrowhead": 0,
           "arrowwidth": 1
          },
          "autotypenumbers": "strict",
          "coloraxis": {
           "colorbar": {
            "outlinewidth": 0,
            "ticks": ""
           }
          },
          "colorscale": {
           "diverging": [
            [
             0,
             "#8e0152"
            ],
            [
             0.1,
             "#c51b7d"
            ],
            [
             0.2,
             "#de77ae"
            ],
            [
             0.3,
             "#f1b6da"
            ],
            [
             0.4,
             "#fde0ef"
            ],
            [
             0.5,
             "#f7f7f7"
            ],
            [
             0.6,
             "#e6f5d0"
            ],
            [
             0.7,
             "#b8e186"
            ],
            [
             0.8,
             "#7fbc41"
            ],
            [
             0.9,
             "#4d9221"
            ],
            [
             1,
             "#276419"
            ]
           ],
           "sequential": [
            [
             0,
             "#0d0887"
            ],
            [
             0.1111111111111111,
             "#46039f"
            ],
            [
             0.2222222222222222,
             "#7201a8"
            ],
            [
             0.3333333333333333,
             "#9c179e"
            ],
            [
             0.4444444444444444,
             "#bd3786"
            ],
            [
             0.5555555555555556,
             "#d8576b"
            ],
            [
             0.6666666666666666,
             "#ed7953"
            ],
            [
             0.7777777777777778,
             "#fb9f3a"
            ],
            [
             0.8888888888888888,
             "#fdca26"
            ],
            [
             1,
             "#f0f921"
            ]
           ],
           "sequentialminus": [
            [
             0,
             "#0d0887"
            ],
            [
             0.1111111111111111,
             "#46039f"
            ],
            [
             0.2222222222222222,
             "#7201a8"
            ],
            [
             0.3333333333333333,
             "#9c179e"
            ],
            [
             0.4444444444444444,
             "#bd3786"
            ],
            [
             0.5555555555555556,
             "#d8576b"
            ],
            [
             0.6666666666666666,
             "#ed7953"
            ],
            [
             0.7777777777777778,
             "#fb9f3a"
            ],
            [
             0.8888888888888888,
             "#fdca26"
            ],
            [
             1,
             "#f0f921"
            ]
           ]
          },
          "colorway": [
           "#636efa",
           "#EF553B",
           "#00cc96",
           "#ab63fa",
           "#FFA15A",
           "#19d3f3",
           "#FF6692",
           "#B6E880",
           "#FF97FF",
           "#FECB52"
          ],
          "font": {
           "color": "#2a3f5f"
          },
          "geo": {
           "bgcolor": "white",
           "lakecolor": "white",
           "landcolor": "#E5ECF6",
           "showlakes": true,
           "showland": true,
           "subunitcolor": "white"
          },
          "hoverlabel": {
           "align": "left"
          },
          "hovermode": "closest",
          "mapbox": {
           "style": "light"
          },
          "paper_bgcolor": "white",
          "plot_bgcolor": "#E5ECF6",
          "polar": {
           "angularaxis": {
            "gridcolor": "white",
            "linecolor": "white",
            "ticks": ""
           },
           "bgcolor": "#E5ECF6",
           "radialaxis": {
            "gridcolor": "white",
            "linecolor": "white",
            "ticks": ""
           }
          },
          "scene": {
           "xaxis": {
            "backgroundcolor": "#E5ECF6",
            "gridcolor": "white",
            "gridwidth": 2,
            "linecolor": "white",
            "showbackground": true,
            "ticks": "",
            "zerolinecolor": "white"
           },
           "yaxis": {
            "backgroundcolor": "#E5ECF6",
            "gridcolor": "white",
            "gridwidth": 2,
            "linecolor": "white",
            "showbackground": true,
            "ticks": "",
            "zerolinecolor": "white"
           },
           "zaxis": {
            "backgroundcolor": "#E5ECF6",
            "gridcolor": "white",
            "gridwidth": 2,
            "linecolor": "white",
            "showbackground": true,
            "ticks": "",
            "zerolinecolor": "white"
           }
          },
          "shapedefaults": {
           "line": {
            "color": "#2a3f5f"
           }
          },
          "ternary": {
           "aaxis": {
            "gridcolor": "white",
            "linecolor": "white",
            "ticks": ""
           },
           "baxis": {
            "gridcolor": "white",
            "linecolor": "white",
            "ticks": ""
           },
           "bgcolor": "#E5ECF6",
           "caxis": {
            "gridcolor": "white",
            "linecolor": "white",
            "ticks": ""
           }
          },
          "title": {
           "x": 0.05
          },
          "xaxis": {
           "automargin": true,
           "gridcolor": "white",
           "linecolor": "white",
           "ticks": "",
           "title": {
            "standoff": 15
           },
           "zerolinecolor": "white",
           "zerolinewidth": 2
          },
          "yaxis": {
           "automargin": true,
           "gridcolor": "white",
           "linecolor": "white",
           "ticks": "",
           "title": {
            "standoff": 15
           },
           "zerolinecolor": "white",
           "zerolinewidth": 2
          }
         }
        },
        "title": {
         "text": "Collaborative Recommender vs Hybrid Recommender"
        },
        "xaxis": {
         "anchor": "y",
         "domain": [
          0,
          0.2888888888888889
         ],
         "tickvals": [
          "1",
          "10",
          "20",
          "5"
         ]
        },
        "xaxis2": {
         "anchor": "y2",
         "domain": [
          0.35555555555555557,
          0.6444444444444445
         ],
         "tickvals": [
          "1",
          "10",
          "20",
          "5"
         ]
        },
        "xaxis3": {
         "anchor": "y3",
         "domain": [
          0.7111111111111111,
          1
         ],
         "tickvals": [
          "1",
          "10",
          "20",
          "5"
         ]
        },
        "yaxis": {
         "anchor": "x",
         "domain": [
          0,
          1
         ]
        },
        "yaxis2": {
         "anchor": "x2",
         "domain": [
          0,
          1
         ]
        },
        "yaxis3": {
         "anchor": "x3",
         "domain": [
          0,
          1
         ]
        }
       }
      }
     },
     "metadata": {},
     "output_type": "display_data"
    }
   ],
   "source": [
    "create_bar_chart_plotly(\n",
    "    combined_df, \n",
    "    'k', \n",
    "    ['hit_rate', 'mean_avg_prec', 'ndcg'], \n",
    "    'name', \n",
    "    title=\"Collaborative Recommender vs Hybrid Recommender\", \n",
    "    labels={\"k\": \"k\", \"hit_rate\": \"Hit Rate\", \"name\": \"Method\"},\n",
    "    subplot_titles=['HitRate@k', 'MAP@k', 'NDCG@k']\n",
    ")"
   ]
  },
  {
   "cell_type": "code",
   "execution_count": 205,
   "id": "b56857f5",
   "metadata": {},
   "outputs": [
    {
     "name": "stderr",
     "output_type": "stream",
     "text": [
      "C:\\Users\\brown\\AppData\\Local\\Temp\\ipykernel_17396\\4039316079.py:2: SettingWithCopyWarning:\n",
      "\n",
      "\n",
      "A value is trying to be set on a copy of a slice from a DataFrame.\n",
      "Try using .loc[row_indexer,col_indexer] = value instead\n",
      "\n",
      "See the caveats in the documentation: https://pandas.pydata.org/pandas-docs/stable/user_guide/indexing.html#returning-a-view-versus-a-copy\n",
      "\n"
     ]
    },
    {
     "data": {
      "application/vnd.plotly.v1+json": {
       "config": {
        "plotlyServerURL": "https://plot.ly"
       },
       "data": [
        {
         "alignmentgroup": "True",
         "hovertemplate": "Method=Memory-Based Collaborative Filtering<br>k=%{x}<br>Hit Rate=%{y}<extra></extra>",
         "legendgroup": "Memory-Based Collaborative Filtering",
         "marker": {
          "color": "#636efa",
          "pattern": {
           "shape": ""
          }
         },
         "name": "Memory-Based Collaborative Filtering",
         "offsetgroup": "Memory-Based Collaborative Filtering",
         "orientation": "v",
         "showlegend": true,
         "textposition": "auto",
         "type": "bar",
         "x": [
          "5"
         ],
         "xaxis": "x",
         "y": {
          "bdata": "VXS+zVux7D8=",
          "dtype": "f8"
         },
         "yaxis": "y"
        },
        {
         "alignmentgroup": "True",
         "hovertemplate": "Method=Switching Hyrbid Model<br>k=%{x}<br>Hit Rate=%{y}<extra></extra>",
         "legendgroup": "Switching Hyrbid Model",
         "marker": {
          "color": "#EF553B",
          "pattern": {
           "shape": ""
          }
         },
         "name": "Switching Hyrbid Model",
         "offsetgroup": "Switching Hyrbid Model",
         "orientation": "v",
         "showlegend": true,
         "textposition": "auto",
         "type": "bar",
         "x": [
          "5"
         ],
         "xaxis": "x",
         "y": {
          "bdata": "VXS+zVux7D8=",
          "dtype": "f8"
         },
         "yaxis": "y"
        },
        {
         "alignmentgroup": "True",
         "hovertemplate": "Method=Memory-Based Collaborative Filtering<br>k=%{x}<br>mean_avg_prec=%{y}<extra></extra>",
         "legendgroup": "Memory-Based Collaborative Filtering",
         "marker": {
          "color": "#636efa",
          "pattern": {
           "shape": ""
          }
         },
         "name": "Memory-Based Collaborative Filtering",
         "offsetgroup": "Memory-Based Collaborative Filtering",
         "orientation": "v",
         "showlegend": false,
         "textposition": "auto",
         "type": "bar",
         "x": [
          "5"
         ],
         "xaxis": "x2",
         "y": {
          "bdata": "Buk/DyNl3z8=",
          "dtype": "f8"
         },
         "yaxis": "y2"
        },
        {
         "alignmentgroup": "True",
         "hovertemplate": "Method=Switching Hyrbid Model<br>k=%{x}<br>mean_avg_prec=%{y}<extra></extra>",
         "legendgroup": "Switching Hyrbid Model",
         "marker": {
          "color": "#EF553B",
          "pattern": {
           "shape": ""
          }
         },
         "name": "Switching Hyrbid Model",
         "offsetgroup": "Switching Hyrbid Model",
         "orientation": "v",
         "showlegend": false,
         "textposition": "auto",
         "type": "bar",
         "x": [
          "5"
         ],
         "xaxis": "x2",
         "y": {
          "bdata": "ltJn+Y9l3z8=",
          "dtype": "f8"
         },
         "yaxis": "y2"
        },
        {
         "alignmentgroup": "True",
         "hovertemplate": "Method=Memory-Based Collaborative Filtering<br>k=%{x}<br>ndcg=%{y}<extra></extra>",
         "legendgroup": "Memory-Based Collaborative Filtering",
         "marker": {
          "color": "#636efa",
          "pattern": {
           "shape": ""
          }
         },
         "name": "Memory-Based Collaborative Filtering",
         "offsetgroup": "Memory-Based Collaborative Filtering",
         "orientation": "v",
         "showlegend": false,
         "textposition": "auto",
         "type": "bar",
         "x": [
          "5"
         ],
         "xaxis": "x3",
         "y": {
          "bdata": "p+tgRPyN6D8=",
          "dtype": "f8"
         },
         "yaxis": "y3"
        },
        {
         "alignmentgroup": "True",
         "hovertemplate": "Method=Switching Hyrbid Model<br>k=%{x}<br>ndcg=%{y}<extra></extra>",
         "legendgroup": "Switching Hyrbid Model",
         "marker": {
          "color": "#EF553B",
          "pattern": {
           "shape": ""
          }
         },
         "name": "Switching Hyrbid Model",
         "offsetgroup": "Switching Hyrbid Model",
         "orientation": "v",
         "showlegend": false,
         "textposition": "auto",
         "type": "bar",
         "x": [
          "5"
         ],
         "xaxis": "x3",
         "y": {
          "bdata": "euZItSKO6D8=",
          "dtype": "f8"
         },
         "yaxis": "y3"
        }
       ],
       "layout": {
        "annotations": [
         {
          "font": {
           "size": 16
          },
          "showarrow": false,
          "text": "HitRate@k",
          "x": 0.14444444444444446,
          "xanchor": "center",
          "xref": "paper",
          "y": 1,
          "yanchor": "bottom",
          "yref": "paper"
         },
         {
          "font": {
           "size": 16
          },
          "showarrow": false,
          "text": "MAP@k",
          "x": 0.5,
          "xanchor": "center",
          "xref": "paper",
          "y": 1,
          "yanchor": "bottom",
          "yref": "paper"
         },
         {
          "font": {
           "size": 16
          },
          "showarrow": false,
          "text": "NDCG@k",
          "x": 0.8555555555555556,
          "xanchor": "center",
          "xref": "paper",
          "y": 1,
          "yanchor": "bottom",
          "yref": "paper"
         }
        ],
        "legend": {
         "orientation": "h",
         "xanchor": "left",
         "y": -0.3,
         "yanchor": "bottom"
        },
        "template": {
         "data": {
          "bar": [
           {
            "error_x": {
             "color": "#2a3f5f"
            },
            "error_y": {
             "color": "#2a3f5f"
            },
            "marker": {
             "line": {
              "color": "#E5ECF6",
              "width": 0.5
             },
             "pattern": {
              "fillmode": "overlay",
              "size": 10,
              "solidity": 0.2
             }
            },
            "type": "bar"
           }
          ],
          "barpolar": [
           {
            "marker": {
             "line": {
              "color": "#E5ECF6",
              "width": 0.5
             },
             "pattern": {
              "fillmode": "overlay",
              "size": 10,
              "solidity": 0.2
             }
            },
            "type": "barpolar"
           }
          ],
          "carpet": [
           {
            "aaxis": {
             "endlinecolor": "#2a3f5f",
             "gridcolor": "white",
             "linecolor": "white",
             "minorgridcolor": "white",
             "startlinecolor": "#2a3f5f"
            },
            "baxis": {
             "endlinecolor": "#2a3f5f",
             "gridcolor": "white",
             "linecolor": "white",
             "minorgridcolor": "white",
             "startlinecolor": "#2a3f5f"
            },
            "type": "carpet"
           }
          ],
          "choropleth": [
           {
            "colorbar": {
             "outlinewidth": 0,
             "ticks": ""
            },
            "type": "choropleth"
           }
          ],
          "contour": [
           {
            "colorbar": {
             "outlinewidth": 0,
             "ticks": ""
            },
            "colorscale": [
             [
              0,
              "#0d0887"
             ],
             [
              0.1111111111111111,
              "#46039f"
             ],
             [
              0.2222222222222222,
              "#7201a8"
             ],
             [
              0.3333333333333333,
              "#9c179e"
             ],
             [
              0.4444444444444444,
              "#bd3786"
             ],
             [
              0.5555555555555556,
              "#d8576b"
             ],
             [
              0.6666666666666666,
              "#ed7953"
             ],
             [
              0.7777777777777778,
              "#fb9f3a"
             ],
             [
              0.8888888888888888,
              "#fdca26"
             ],
             [
              1,
              "#f0f921"
             ]
            ],
            "type": "contour"
           }
          ],
          "contourcarpet": [
           {
            "colorbar": {
             "outlinewidth": 0,
             "ticks": ""
            },
            "type": "contourcarpet"
           }
          ],
          "heatmap": [
           {
            "colorbar": {
             "outlinewidth": 0,
             "ticks": ""
            },
            "colorscale": [
             [
              0,
              "#0d0887"
             ],
             [
              0.1111111111111111,
              "#46039f"
             ],
             [
              0.2222222222222222,
              "#7201a8"
             ],
             [
              0.3333333333333333,
              "#9c179e"
             ],
             [
              0.4444444444444444,
              "#bd3786"
             ],
             [
              0.5555555555555556,
              "#d8576b"
             ],
             [
              0.6666666666666666,
              "#ed7953"
             ],
             [
              0.7777777777777778,
              "#fb9f3a"
             ],
             [
              0.8888888888888888,
              "#fdca26"
             ],
             [
              1,
              "#f0f921"
             ]
            ],
            "type": "heatmap"
           }
          ],
          "histogram": [
           {
            "marker": {
             "pattern": {
              "fillmode": "overlay",
              "size": 10,
              "solidity": 0.2
             }
            },
            "type": "histogram"
           }
          ],
          "histogram2d": [
           {
            "colorbar": {
             "outlinewidth": 0,
             "ticks": ""
            },
            "colorscale": [
             [
              0,
              "#0d0887"
             ],
             [
              0.1111111111111111,
              "#46039f"
             ],
             [
              0.2222222222222222,
              "#7201a8"
             ],
             [
              0.3333333333333333,
              "#9c179e"
             ],
             [
              0.4444444444444444,
              "#bd3786"
             ],
             [
              0.5555555555555556,
              "#d8576b"
             ],
             [
              0.6666666666666666,
              "#ed7953"
             ],
             [
              0.7777777777777778,
              "#fb9f3a"
             ],
             [
              0.8888888888888888,
              "#fdca26"
             ],
             [
              1,
              "#f0f921"
             ]
            ],
            "type": "histogram2d"
           }
          ],
          "histogram2dcontour": [
           {
            "colorbar": {
             "outlinewidth": 0,
             "ticks": ""
            },
            "colorscale": [
             [
              0,
              "#0d0887"
             ],
             [
              0.1111111111111111,
              "#46039f"
             ],
             [
              0.2222222222222222,
              "#7201a8"
             ],
             [
              0.3333333333333333,
              "#9c179e"
             ],
             [
              0.4444444444444444,
              "#bd3786"
             ],
             [
              0.5555555555555556,
              "#d8576b"
             ],
             [
              0.6666666666666666,
              "#ed7953"
             ],
             [
              0.7777777777777778,
              "#fb9f3a"
             ],
             [
              0.8888888888888888,
              "#fdca26"
             ],
             [
              1,
              "#f0f921"
             ]
            ],
            "type": "histogram2dcontour"
           }
          ],
          "mesh3d": [
           {
            "colorbar": {
             "outlinewidth": 0,
             "ticks": ""
            },
            "type": "mesh3d"
           }
          ],
          "parcoords": [
           {
            "line": {
             "colorbar": {
              "outlinewidth": 0,
              "ticks": ""
             }
            },
            "type": "parcoords"
           }
          ],
          "pie": [
           {
            "automargin": true,
            "type": "pie"
           }
          ],
          "scatter": [
           {
            "fillpattern": {
             "fillmode": "overlay",
             "size": 10,
             "solidity": 0.2
            },
            "type": "scatter"
           }
          ],
          "scatter3d": [
           {
            "line": {
             "colorbar": {
              "outlinewidth": 0,
              "ticks": ""
             }
            },
            "marker": {
             "colorbar": {
              "outlinewidth": 0,
              "ticks": ""
             }
            },
            "type": "scatter3d"
           }
          ],
          "scattercarpet": [
           {
            "marker": {
             "colorbar": {
              "outlinewidth": 0,
              "ticks": ""
             }
            },
            "type": "scattercarpet"
           }
          ],
          "scattergeo": [
           {
            "marker": {
             "colorbar": {
              "outlinewidth": 0,
              "ticks": ""
             }
            },
            "type": "scattergeo"
           }
          ],
          "scattergl": [
           {
            "marker": {
             "colorbar": {
              "outlinewidth": 0,
              "ticks": ""
             }
            },
            "type": "scattergl"
           }
          ],
          "scattermap": [
           {
            "marker": {
             "colorbar": {
              "outlinewidth": 0,
              "ticks": ""
             }
            },
            "type": "scattermap"
           }
          ],
          "scattermapbox": [
           {
            "marker": {
             "colorbar": {
              "outlinewidth": 0,
              "ticks": ""
             }
            },
            "type": "scattermapbox"
           }
          ],
          "scatterpolar": [
           {
            "marker": {
             "colorbar": {
              "outlinewidth": 0,
              "ticks": ""
             }
            },
            "type": "scatterpolar"
           }
          ],
          "scatterpolargl": [
           {
            "marker": {
             "colorbar": {
              "outlinewidth": 0,
              "ticks": ""
             }
            },
            "type": "scatterpolargl"
           }
          ],
          "scatterternary": [
           {
            "marker": {
             "colorbar": {
              "outlinewidth": 0,
              "ticks": ""
             }
            },
            "type": "scatterternary"
           }
          ],
          "surface": [
           {
            "colorbar": {
             "outlinewidth": 0,
             "ticks": ""
            },
            "colorscale": [
             [
              0,
              "#0d0887"
             ],
             [
              0.1111111111111111,
              "#46039f"
             ],
             [
              0.2222222222222222,
              "#7201a8"
             ],
             [
              0.3333333333333333,
              "#9c179e"
             ],
             [
              0.4444444444444444,
              "#bd3786"
             ],
             [
              0.5555555555555556,
              "#d8576b"
             ],
             [
              0.6666666666666666,
              "#ed7953"
             ],
             [
              0.7777777777777778,
              "#fb9f3a"
             ],
             [
              0.8888888888888888,
              "#fdca26"
             ],
             [
              1,
              "#f0f921"
             ]
            ],
            "type": "surface"
           }
          ],
          "table": [
           {
            "cells": {
             "fill": {
              "color": "#EBF0F8"
             },
             "line": {
              "color": "white"
             }
            },
            "header": {
             "fill": {
              "color": "#C8D4E3"
             },
             "line": {
              "color": "white"
             }
            },
            "type": "table"
           }
          ]
         },
         "layout": {
          "annotationdefaults": {
           "arrowcolor": "#2a3f5f",
           "arrowhead": 0,
           "arrowwidth": 1
          },
          "autotypenumbers": "strict",
          "coloraxis": {
           "colorbar": {
            "outlinewidth": 0,
            "ticks": ""
           }
          },
          "colorscale": {
           "diverging": [
            [
             0,
             "#8e0152"
            ],
            [
             0.1,
             "#c51b7d"
            ],
            [
             0.2,
             "#de77ae"
            ],
            [
             0.3,
             "#f1b6da"
            ],
            [
             0.4,
             "#fde0ef"
            ],
            [
             0.5,
             "#f7f7f7"
            ],
            [
             0.6,
             "#e6f5d0"
            ],
            [
             0.7,
             "#b8e186"
            ],
            [
             0.8,
             "#7fbc41"
            ],
            [
             0.9,
             "#4d9221"
            ],
            [
             1,
             "#276419"
            ]
           ],
           "sequential": [
            [
             0,
             "#0d0887"
            ],
            [
             0.1111111111111111,
             "#46039f"
            ],
            [
             0.2222222222222222,
             "#7201a8"
            ],
            [
             0.3333333333333333,
             "#9c179e"
            ],
            [
             0.4444444444444444,
             "#bd3786"
            ],
            [
             0.5555555555555556,
             "#d8576b"
            ],
            [
             0.6666666666666666,
             "#ed7953"
            ],
            [
             0.7777777777777778,
             "#fb9f3a"
            ],
            [
             0.8888888888888888,
             "#fdca26"
            ],
            [
             1,
             "#f0f921"
            ]
           ],
           "sequentialminus": [
            [
             0,
             "#0d0887"
            ],
            [
             0.1111111111111111,
             "#46039f"
            ],
            [
             0.2222222222222222,
             "#7201a8"
            ],
            [
             0.3333333333333333,
             "#9c179e"
            ],
            [
             0.4444444444444444,
             "#bd3786"
            ],
            [
             0.5555555555555556,
             "#d8576b"
            ],
            [
             0.6666666666666666,
             "#ed7953"
            ],
            [
             0.7777777777777778,
             "#fb9f3a"
            ],
            [
             0.8888888888888888,
             "#fdca26"
            ],
            [
             1,
             "#f0f921"
            ]
           ]
          },
          "colorway": [
           "#636efa",
           "#EF553B",
           "#00cc96",
           "#ab63fa",
           "#FFA15A",
           "#19d3f3",
           "#FF6692",
           "#B6E880",
           "#FF97FF",
           "#FECB52"
          ],
          "font": {
           "color": "#2a3f5f"
          },
          "geo": {
           "bgcolor": "white",
           "lakecolor": "white",
           "landcolor": "#E5ECF6",
           "showlakes": true,
           "showland": true,
           "subunitcolor": "white"
          },
          "hoverlabel": {
           "align": "left"
          },
          "hovermode": "closest",
          "mapbox": {
           "style": "light"
          },
          "paper_bgcolor": "white",
          "plot_bgcolor": "#E5ECF6",
          "polar": {
           "angularaxis": {
            "gridcolor": "white",
            "linecolor": "white",
            "ticks": ""
           },
           "bgcolor": "#E5ECF6",
           "radialaxis": {
            "gridcolor": "white",
            "linecolor": "white",
            "ticks": ""
           }
          },
          "scene": {
           "xaxis": {
            "backgroundcolor": "#E5ECF6",
            "gridcolor": "white",
            "gridwidth": 2,
            "linecolor": "white",
            "showbackground": true,
            "ticks": "",
            "zerolinecolor": "white"
           },
           "yaxis": {
            "backgroundcolor": "#E5ECF6",
            "gridcolor": "white",
            "gridwidth": 2,
            "linecolor": "white",
            "showbackground": true,
            "ticks": "",
            "zerolinecolor": "white"
           },
           "zaxis": {
            "backgroundcolor": "#E5ECF6",
            "gridcolor": "white",
            "gridwidth": 2,
            "linecolor": "white",
            "showbackground": true,
            "ticks": "",
            "zerolinecolor": "white"
           }
          },
          "shapedefaults": {
           "line": {
            "color": "#2a3f5f"
           }
          },
          "ternary": {
           "aaxis": {
            "gridcolor": "white",
            "linecolor": "white",
            "ticks": ""
           },
           "baxis": {
            "gridcolor": "white",
            "linecolor": "white",
            "ticks": ""
           },
           "bgcolor": "#E5ECF6",
           "caxis": {
            "gridcolor": "white",
            "linecolor": "white",
            "ticks": ""
           }
          },
          "title": {
           "x": 0.05
          },
          "xaxis": {
           "automargin": true,
           "gridcolor": "white",
           "linecolor": "white",
           "ticks": "",
           "title": {
            "standoff": 15
           },
           "zerolinecolor": "white",
           "zerolinewidth": 2
          },
          "yaxis": {
           "automargin": true,
           "gridcolor": "white",
           "linecolor": "white",
           "ticks": "",
           "title": {
            "standoff": 15
           },
           "zerolinecolor": "white",
           "zerolinewidth": 2
          }
         }
        },
        "title": {
         "text": "Collaborative Recommender vs Hybrid Recommender"
        },
        "xaxis": {
         "anchor": "y",
         "domain": [
          0,
          0.2888888888888889
         ],
         "tickvals": [
          "5"
         ]
        },
        "xaxis2": {
         "anchor": "y2",
         "domain": [
          0.35555555555555557,
          0.6444444444444445
         ],
         "tickvals": [
          "5"
         ]
        },
        "xaxis3": {
         "anchor": "y3",
         "domain": [
          0.7111111111111111,
          1
         ],
         "tickvals": [
          "5"
         ]
        },
        "yaxis": {
         "anchor": "x",
         "domain": [
          0,
          1
         ]
        },
        "yaxis2": {
         "anchor": "x2",
         "domain": [
          0,
          1
         ]
        },
        "yaxis3": {
         "anchor": "x3",
         "domain": [
          0,
          1
         ]
        }
       }
      }
     },
     "metadata": {},
     "output_type": "display_data"
    }
   ],
   "source": [
    "create_bar_chart_plotly(\n",
    "    combined_df[combined_df['k']=='5'], \n",
    "    'k', \n",
    "    ['hit_rate', 'mean_avg_prec', 'ndcg'], \n",
    "    'name', \n",
    "    title=\"Collaborative Recommender vs Hybrid Recommender\", \n",
    "    labels={\"k\": \"k\", \"hit_rate\": \"Hit Rate\", \"name\": \"Method\"},\n",
    "    subplot_titles=['HitRate@k', 'MAP@k', 'NDCG@k'],\n",
    ")"
   ]
  },
  {
   "cell_type": "markdown",
   "id": "627a823b",
   "metadata": {},
   "source": [
    "## Find Cases Where Hyrbid Outperforms Model-Based"
   ]
  },
  {
   "cell_type": "code",
   "execution_count": 206,
   "id": "54d67267",
   "metadata": {},
   "outputs": [
    {
     "name": "stderr",
     "output_type": "stream",
     "text": [
      "C:\\Users\\brown\\AppData\\Local\\Temp\\ipykernel_17396\\2784845858.py:14: SettingWithCopyWarning:\n",
      "\n",
      "\n",
      "A value is trying to be set on a copy of a slice from a DataFrame.\n",
      "Try using .loc[row_indexer,col_indexer] = value instead\n",
      "\n",
      "See the caveats in the documentation: https://pandas.pydata.org/pandas-docs/stable/user_guide/indexing.html#returning-a-view-versus-a-copy\n",
      "\n",
      "C:\\Users\\brown\\AppData\\Local\\Temp\\ipykernel_17396\\2784845858.py:18: SettingWithCopyWarning:\n",
      "\n",
      "\n",
      "A value is trying to be set on a copy of a slice from a DataFrame.\n",
      "Try using .loc[row_indexer,col_indexer] = value instead\n",
      "\n",
      "See the caveats in the documentation: https://pandas.pydata.org/pandas-docs/stable/user_guide/indexing.html#returning-a-view-versus-a-copy\n",
      "\n"
     ]
    },
    {
     "data": {
      "application/vnd.plotly.v1+json": {
       "config": {
        "plotlyServerURL": "https://plot.ly"
       },
       "data": [
        {
         "alignmentgroup": "True",
         "hovertemplate": "Method=Collaborative Filtering Model<br>k=%{x}<br>precision@5=%{y}<extra></extra>",
         "legendgroup": "Collaborative Filtering Model",
         "marker": {
          "color": "#636efa",
          "pattern": {
           "shape": ""
          }
         },
         "name": "Collaborative Filtering Model",
         "offsetgroup": "Collaborative Filtering Model",
         "orientation": "v",
         "showlegend": true,
         "textposition": "auto",
         "type": "bar",
         "x": [
          "5"
         ],
         "xaxis": "x",
         "y": {
          "bdata": "AAAAAAAA0D8=",
          "dtype": "f8"
         },
         "yaxis": "y"
        },
        {
         "alignmentgroup": "True",
         "hovertemplate": "Method=Switch Hybrid Model<br>k=%{x}<br>precision@5=%{y}<extra></extra>",
         "legendgroup": "Switch Hybrid Model",
         "marker": {
          "color": "#EF553B",
          "pattern": {
           "shape": ""
          }
         },
         "name": "Switch Hybrid Model",
         "offsetgroup": "Switch Hybrid Model",
         "orientation": "v",
         "showlegend": true,
         "textposition": "auto",
         "type": "bar",
         "x": [
          "5"
         ],
         "xaxis": "x",
         "y": {
          "bdata": "mpmZmZmZ2T8=",
          "dtype": "f8"
         },
         "yaxis": "y"
        },
        {
         "alignmentgroup": "True",
         "hovertemplate": "Method=Collaborative Filtering Model<br>k=%{x}<br>recall@5=%{y}<extra></extra>",
         "legendgroup": "Collaborative Filtering Model",
         "marker": {
          "color": "#636efa",
          "pattern": {
           "shape": ""
          }
         },
         "name": "Collaborative Filtering Model",
         "offsetgroup": "Collaborative Filtering Model",
         "orientation": "v",
         "showlegend": false,
         "textposition": "auto",
         "type": "bar",
         "x": [
          "5"
         ],
         "xaxis": "x2",
         "y": {
          "bdata": "mpmZmZmZyT8=",
          "dtype": "f8"
         },
         "yaxis": "y2"
        },
        {
         "alignmentgroup": "True",
         "hovertemplate": "Method=Switch Hybrid Model<br>k=%{x}<br>recall@5=%{y}<extra></extra>",
         "legendgroup": "Switch Hybrid Model",
         "marker": {
          "color": "#EF553B",
          "pattern": {
           "shape": ""
          }
         },
         "name": "Switch Hybrid Model",
         "offsetgroup": "Switch Hybrid Model",
         "orientation": "v",
         "showlegend": false,
         "textposition": "auto",
         "type": "bar",
         "x": [
          "5"
         ],
         "xaxis": "x2",
         "y": {
          "bdata": "mpmZmZmZ2T8=",
          "dtype": "f8"
         },
         "yaxis": "y2"
        },
        {
         "alignmentgroup": "True",
         "hovertemplate": "Method=Collaborative Filtering Model<br>k=%{x}<br>NDCG@5=%{y}<extra></extra>",
         "legendgroup": "Collaborative Filtering Model",
         "marker": {
          "color": "#636efa",
          "pattern": {
           "shape": ""
          }
         },
         "name": "Collaborative Filtering Model",
         "offsetgroup": "Collaborative Filtering Model",
         "orientation": "v",
         "showlegend": false,
         "textposition": "auto",
         "type": "bar",
         "x": [
          "5"
         ],
         "xaxis": "x3",
         "y": {
          "bdata": "cA8FaTSQ2z8=",
          "dtype": "f8"
         },
         "yaxis": "y3"
        },
        {
         "alignmentgroup": "True",
         "hovertemplate": "Method=Switch Hybrid Model<br>k=%{x}<br>NDCG@5=%{y}<extra></extra>",
         "legendgroup": "Switch Hybrid Model",
         "marker": {
          "color": "#EF553B",
          "pattern": {
           "shape": ""
          }
         },
         "name": "Switch Hybrid Model",
         "offsetgroup": "Switch Hybrid Model",
         "orientation": "v",
         "showlegend": false,
         "textposition": "auto",
         "type": "bar",
         "x": [
          "5"
         ],
         "xaxis": "x3",
         "y": {
          "bdata": "Jqgspl4K4D8=",
          "dtype": "f8"
         },
         "yaxis": "y3"
        }
       ],
       "layout": {
        "annotations": [
         {
          "font": {
           "size": 16
          },
          "showarrow": false,
          "text": "precision@5",
          "x": 0.14444444444444446,
          "xanchor": "center",
          "xref": "paper",
          "y": 1,
          "yanchor": "bottom",
          "yref": "paper"
         },
         {
          "font": {
           "size": 16
          },
          "showarrow": false,
          "text": "recall@5",
          "x": 0.5,
          "xanchor": "center",
          "xref": "paper",
          "y": 1,
          "yanchor": "bottom",
          "yref": "paper"
         },
         {
          "font": {
           "size": 16
          },
          "showarrow": false,
          "text": "NDCG@5",
          "x": 0.8555555555555556,
          "xanchor": "center",
          "xref": "paper",
          "y": 1,
          "yanchor": "bottom",
          "yref": "paper"
         }
        ],
        "legend": {
         "orientation": "h",
         "xanchor": "left",
         "y": -0.3,
         "yanchor": "bottom"
        },
        "template": {
         "data": {
          "bar": [
           {
            "error_x": {
             "color": "#2a3f5f"
            },
            "error_y": {
             "color": "#2a3f5f"
            },
            "marker": {
             "line": {
              "color": "#E5ECF6",
              "width": 0.5
             },
             "pattern": {
              "fillmode": "overlay",
              "size": 10,
              "solidity": 0.2
             }
            },
            "type": "bar"
           }
          ],
          "barpolar": [
           {
            "marker": {
             "line": {
              "color": "#E5ECF6",
              "width": 0.5
             },
             "pattern": {
              "fillmode": "overlay",
              "size": 10,
              "solidity": 0.2
             }
            },
            "type": "barpolar"
           }
          ],
          "carpet": [
           {
            "aaxis": {
             "endlinecolor": "#2a3f5f",
             "gridcolor": "white",
             "linecolor": "white",
             "minorgridcolor": "white",
             "startlinecolor": "#2a3f5f"
            },
            "baxis": {
             "endlinecolor": "#2a3f5f",
             "gridcolor": "white",
             "linecolor": "white",
             "minorgridcolor": "white",
             "startlinecolor": "#2a3f5f"
            },
            "type": "carpet"
           }
          ],
          "choropleth": [
           {
            "colorbar": {
             "outlinewidth": 0,
             "ticks": ""
            },
            "type": "choropleth"
           }
          ],
          "contour": [
           {
            "colorbar": {
             "outlinewidth": 0,
             "ticks": ""
            },
            "colorscale": [
             [
              0,
              "#0d0887"
             ],
             [
              0.1111111111111111,
              "#46039f"
             ],
             [
              0.2222222222222222,
              "#7201a8"
             ],
             [
              0.3333333333333333,
              "#9c179e"
             ],
             [
              0.4444444444444444,
              "#bd3786"
             ],
             [
              0.5555555555555556,
              "#d8576b"
             ],
             [
              0.6666666666666666,
              "#ed7953"
             ],
             [
              0.7777777777777778,
              "#fb9f3a"
             ],
             [
              0.8888888888888888,
              "#fdca26"
             ],
             [
              1,
              "#f0f921"
             ]
            ],
            "type": "contour"
           }
          ],
          "contourcarpet": [
           {
            "colorbar": {
             "outlinewidth": 0,
             "ticks": ""
            },
            "type": "contourcarpet"
           }
          ],
          "heatmap": [
           {
            "colorbar": {
             "outlinewidth": 0,
             "ticks": ""
            },
            "colorscale": [
             [
              0,
              "#0d0887"
             ],
             [
              0.1111111111111111,
              "#46039f"
             ],
             [
              0.2222222222222222,
              "#7201a8"
             ],
             [
              0.3333333333333333,
              "#9c179e"
             ],
             [
              0.4444444444444444,
              "#bd3786"
             ],
             [
              0.5555555555555556,
              "#d8576b"
             ],
             [
              0.6666666666666666,
              "#ed7953"
             ],
             [
              0.7777777777777778,
              "#fb9f3a"
             ],
             [
              0.8888888888888888,
              "#fdca26"
             ],
             [
              1,
              "#f0f921"
             ]
            ],
            "type": "heatmap"
           }
          ],
          "histogram": [
           {
            "marker": {
             "pattern": {
              "fillmode": "overlay",
              "size": 10,
              "solidity": 0.2
             }
            },
            "type": "histogram"
           }
          ],
          "histogram2d": [
           {
            "colorbar": {
             "outlinewidth": 0,
             "ticks": ""
            },
            "colorscale": [
             [
              0,
              "#0d0887"
             ],
             [
              0.1111111111111111,
              "#46039f"
             ],
             [
              0.2222222222222222,
              "#7201a8"
             ],
             [
              0.3333333333333333,
              "#9c179e"
             ],
             [
              0.4444444444444444,
              "#bd3786"
             ],
             [
              0.5555555555555556,
              "#d8576b"
             ],
             [
              0.6666666666666666,
              "#ed7953"
             ],
             [
              0.7777777777777778,
              "#fb9f3a"
             ],
             [
              0.8888888888888888,
              "#fdca26"
             ],
             [
              1,
              "#f0f921"
             ]
            ],
            "type": "histogram2d"
           }
          ],
          "histogram2dcontour": [
           {
            "colorbar": {
             "outlinewidth": 0,
             "ticks": ""
            },
            "colorscale": [
             [
              0,
              "#0d0887"
             ],
             [
              0.1111111111111111,
              "#46039f"
             ],
             [
              0.2222222222222222,
              "#7201a8"
             ],
             [
              0.3333333333333333,
              "#9c179e"
             ],
             [
              0.4444444444444444,
              "#bd3786"
             ],
             [
              0.5555555555555556,
              "#d8576b"
             ],
             [
              0.6666666666666666,
              "#ed7953"
             ],
             [
              0.7777777777777778,
              "#fb9f3a"
             ],
             [
              0.8888888888888888,
              "#fdca26"
             ],
             [
              1,
              "#f0f921"
             ]
            ],
            "type": "histogram2dcontour"
           }
          ],
          "mesh3d": [
           {
            "colorbar": {
             "outlinewidth": 0,
             "ticks": ""
            },
            "type": "mesh3d"
           }
          ],
          "parcoords": [
           {
            "line": {
             "colorbar": {
              "outlinewidth": 0,
              "ticks": ""
             }
            },
            "type": "parcoords"
           }
          ],
          "pie": [
           {
            "automargin": true,
            "type": "pie"
           }
          ],
          "scatter": [
           {
            "fillpattern": {
             "fillmode": "overlay",
             "size": 10,
             "solidity": 0.2
            },
            "type": "scatter"
           }
          ],
          "scatter3d": [
           {
            "line": {
             "colorbar": {
              "outlinewidth": 0,
              "ticks": ""
             }
            },
            "marker": {
             "colorbar": {
              "outlinewidth": 0,
              "ticks": ""
             }
            },
            "type": "scatter3d"
           }
          ],
          "scattercarpet": [
           {
            "marker": {
             "colorbar": {
              "outlinewidth": 0,
              "ticks": ""
             }
            },
            "type": "scattercarpet"
           }
          ],
          "scattergeo": [
           {
            "marker": {
             "colorbar": {
              "outlinewidth": 0,
              "ticks": ""
             }
            },
            "type": "scattergeo"
           }
          ],
          "scattergl": [
           {
            "marker": {
             "colorbar": {
              "outlinewidth": 0,
              "ticks": ""
             }
            },
            "type": "scattergl"
           }
          ],
          "scattermap": [
           {
            "marker": {
             "colorbar": {
              "outlinewidth": 0,
              "ticks": ""
             }
            },
            "type": "scattermap"
           }
          ],
          "scattermapbox": [
           {
            "marker": {
             "colorbar": {
              "outlinewidth": 0,
              "ticks": ""
             }
            },
            "type": "scattermapbox"
           }
          ],
          "scatterpolar": [
           {
            "marker": {
             "colorbar": {
              "outlinewidth": 0,
              "ticks": ""
             }
            },
            "type": "scatterpolar"
           }
          ],
          "scatterpolargl": [
           {
            "marker": {
             "colorbar": {
              "outlinewidth": 0,
              "ticks": ""
             }
            },
            "type": "scatterpolargl"
           }
          ],
          "scatterternary": [
           {
            "marker": {
             "colorbar": {
              "outlinewidth": 0,
              "ticks": ""
             }
            },
            "type": "scatterternary"
           }
          ],
          "surface": [
           {
            "colorbar": {
             "outlinewidth": 0,
             "ticks": ""
            },
            "colorscale": [
             [
              0,
              "#0d0887"
             ],
             [
              0.1111111111111111,
              "#46039f"
             ],
             [
              0.2222222222222222,
              "#7201a8"
             ],
             [
              0.3333333333333333,
              "#9c179e"
             ],
             [
              0.4444444444444444,
              "#bd3786"
             ],
             [
              0.5555555555555556,
              "#d8576b"
             ],
             [
              0.6666666666666666,
              "#ed7953"
             ],
             [
              0.7777777777777778,
              "#fb9f3a"
             ],
             [
              0.8888888888888888,
              "#fdca26"
             ],
             [
              1,
              "#f0f921"
             ]
            ],
            "type": "surface"
           }
          ],
          "table": [
           {
            "cells": {
             "fill": {
              "color": "#EBF0F8"
             },
             "line": {
              "color": "white"
             }
            },
            "header": {
             "fill": {
              "color": "#C8D4E3"
             },
             "line": {
              "color": "white"
             }
            },
            "type": "table"
           }
          ]
         },
         "layout": {
          "annotationdefaults": {
           "arrowcolor": "#2a3f5f",
           "arrowhead": 0,
           "arrowwidth": 1
          },
          "autotypenumbers": "strict",
          "coloraxis": {
           "colorbar": {
            "outlinewidth": 0,
            "ticks": ""
           }
          },
          "colorscale": {
           "diverging": [
            [
             0,
             "#8e0152"
            ],
            [
             0.1,
             "#c51b7d"
            ],
            [
             0.2,
             "#de77ae"
            ],
            [
             0.3,
             "#f1b6da"
            ],
            [
             0.4,
             "#fde0ef"
            ],
            [
             0.5,
             "#f7f7f7"
            ],
            [
             0.6,
             "#e6f5d0"
            ],
            [
             0.7,
             "#b8e186"
            ],
            [
             0.8,
             "#7fbc41"
            ],
            [
             0.9,
             "#4d9221"
            ],
            [
             1,
             "#276419"
            ]
           ],
           "sequential": [
            [
             0,
             "#0d0887"
            ],
            [
             0.1111111111111111,
             "#46039f"
            ],
            [
             0.2222222222222222,
             "#7201a8"
            ],
            [
             0.3333333333333333,
             "#9c179e"
            ],
            [
             0.4444444444444444,
             "#bd3786"
            ],
            [
             0.5555555555555556,
             "#d8576b"
            ],
            [
             0.6666666666666666,
             "#ed7953"
            ],
            [
             0.7777777777777778,
             "#fb9f3a"
            ],
            [
             0.8888888888888888,
             "#fdca26"
            ],
            [
             1,
             "#f0f921"
            ]
           ],
           "sequentialminus": [
            [
             0,
             "#0d0887"
            ],
            [
             0.1111111111111111,
             "#46039f"
            ],
            [
             0.2222222222222222,
             "#7201a8"
            ],
            [
             0.3333333333333333,
             "#9c179e"
            ],
            [
             0.4444444444444444,
             "#bd3786"
            ],
            [
             0.5555555555555556,
             "#d8576b"
            ],
            [
             0.6666666666666666,
             "#ed7953"
            ],
            [
             0.7777777777777778,
             "#fb9f3a"
            ],
            [
             0.8888888888888888,
             "#fdca26"
            ],
            [
             1,
             "#f0f921"
            ]
           ]
          },
          "colorway": [
           "#636efa",
           "#EF553B",
           "#00cc96",
           "#ab63fa",
           "#FFA15A",
           "#19d3f3",
           "#FF6692",
           "#B6E880",
           "#FF97FF",
           "#FECB52"
          ],
          "font": {
           "color": "#2a3f5f"
          },
          "geo": {
           "bgcolor": "white",
           "lakecolor": "white",
           "landcolor": "#E5ECF6",
           "showlakes": true,
           "showland": true,
           "subunitcolor": "white"
          },
          "hoverlabel": {
           "align": "left"
          },
          "hovermode": "closest",
          "mapbox": {
           "style": "light"
          },
          "paper_bgcolor": "white",
          "plot_bgcolor": "#E5ECF6",
          "polar": {
           "angularaxis": {
            "gridcolor": "white",
            "linecolor": "white",
            "ticks": ""
           },
           "bgcolor": "#E5ECF6",
           "radialaxis": {
            "gridcolor": "white",
            "linecolor": "white",
            "ticks": ""
           }
          },
          "scene": {
           "xaxis": {
            "backgroundcolor": "#E5ECF6",
            "gridcolor": "white",
            "gridwidth": 2,
            "linecolor": "white",
            "showbackground": true,
            "ticks": "",
            "zerolinecolor": "white"
           },
           "yaxis": {
            "backgroundcolor": "#E5ECF6",
            "gridcolor": "white",
            "gridwidth": 2,
            "linecolor": "white",
            "showbackground": true,
            "ticks": "",
            "zerolinecolor": "white"
           },
           "zaxis": {
            "backgroundcolor": "#E5ECF6",
            "gridcolor": "white",
            "gridwidth": 2,
            "linecolor": "white",
            "showbackground": true,
            "ticks": "",
            "zerolinecolor": "white"
           }
          },
          "shapedefaults": {
           "line": {
            "color": "#2a3f5f"
           }
          },
          "ternary": {
           "aaxis": {
            "gridcolor": "white",
            "linecolor": "white",
            "ticks": ""
           },
           "baxis": {
            "gridcolor": "white",
            "linecolor": "white",
            "ticks": ""
           },
           "bgcolor": "#E5ECF6",
           "caxis": {
            "gridcolor": "white",
            "linecolor": "white",
            "ticks": ""
           }
          },
          "title": {
           "x": 0.05
          },
          "xaxis": {
           "automargin": true,
           "gridcolor": "white",
           "linecolor": "white",
           "ticks": "",
           "title": {
            "standoff": 15
           },
           "zerolinecolor": "white",
           "zerolinewidth": 2
          },
          "yaxis": {
           "automargin": true,
           "gridcolor": "white",
           "linecolor": "white",
           "ticks": "",
           "title": {
            "standoff": 15
           },
           "zerolinecolor": "white",
           "zerolinewidth": 2
          }
         }
        },
        "title": {
         "text": "Recommendation Results For User: 76561197991621393"
        },
        "xaxis": {
         "anchor": "y",
         "domain": [
          0,
          0.2888888888888889
         ],
         "tickvals": [
          "5"
         ]
        },
        "xaxis2": {
         "anchor": "y2",
         "domain": [
          0.35555555555555557,
          0.6444444444444445
         ],
         "tickvals": [
          "5"
         ]
        },
        "xaxis3": {
         "anchor": "y3",
         "domain": [
          0.7111111111111111,
          1
         ],
         "tickvals": [
          "5"
         ]
        },
        "yaxis": {
         "anchor": "x",
         "domain": [
          0,
          1
         ]
        },
        "yaxis2": {
         "anchor": "x2",
         "domain": [
          0,
          1
         ]
        },
        "yaxis3": {
         "anchor": "x3",
         "domain": [
          0,
          1
         ]
        }
       }
      }
     },
     "metadata": {},
     "output_type": "display_data"
    }
   ],
   "source": [
    "full_casc_results_df = pd.read_csv(\"switching_hybrid_model_full_results.csv\")\n",
    "top_5_casc_rec_df = full_casc_results_df[full_casc_results_df['k']==5]\n",
    "\n",
    "full_collab_results_df = pd.read_csv(\"collaborative_offline_eval_results_full.csv\")\n",
    "top_5_collab_rec_df = full_collab_results_df[full_collab_results_df['k']==5]\n",
    "\n",
    "combined_recs_df = top_5_casc_rec_df.merge(top_5_collab_rec_df, on='userid', how='inner', suffixes=[\"_casc\", \"_collab\"])\n",
    "temp_df = combined_recs_df[combined_recs_df['NDCG@k_casc']>combined_recs_df['NDCG@k_collab']]\n",
    "\n",
    "user = temp_df['userid'].values[0]\n",
    "\n",
    "casc_df = temp_df[['k_casc', 'precision@k_casc', 'recall@k_casc', 'NDCG@k_casc']]\n",
    "casc_df.columns = ['k', 'precision@5', 'recall@5', 'NDCG@5']\n",
    "casc_df['name'] = \"Switch Hybrid Model\"\n",
    "\n",
    "collab_df = temp_df[['k_collab', 'precision@k_collab', 'recall@k_collab', 'NDCG@k_collab']]\n",
    "collab_df.columns = ['k', 'precision@5', 'recall@5', 'NDCG@5']\n",
    "collab_df['name'] = \"Collaborative Filtering Model\"\n",
    "\n",
    "graph_df = pd.concat([collab_df, casc_df])\n",
    "\n",
    "create_bar_chart_plotly(\n",
    "    graph_df,\n",
    "    'k', \n",
    "    ['precision@5', 'recall@5', 'NDCG@5'], \n",
    "    'name', \n",
    "    title=f\"Recommendation Results For User: {user}\", \n",
    "    labels={\"k\": \"k\", \"hit_rate\": \"Hit Rate\", \"name\": \"Method\"},\n",
    "    subplot_titles=['precision@5', 'recall@5', 'NDCG@5']\n",
    ")\n"
   ]
  },
  {
   "cell_type": "code",
   "execution_count": 210,
   "id": "779faa71",
   "metadata": {},
   "outputs": [],
   "source": [
    "import json\n",
    "\n",
    "def get_train_test(verbose=False):\n",
    "    with open(\"../../data/offline_evaluation/train.json\", \"r\") as f:\n",
    "        train_set = json.load(f)\n",
    "    \n",
    "    with open(\"../../data/offline_evaluation/test.json\", \"r\") as f:\n",
    "        test_set = json.load(f)\n",
    "    \n",
    "    # remove users from train and test set\n",
    "    # (removing those without a sample in train or test)\n",
    "    del_keys  = []\n",
    "    for key in train_set:\n",
    "        user = key\n",
    "        num_games_train = len(train_set[key])\n",
    "        num_games_test = len(test_set[key])\n",
    "\n",
    "        if num_games_train==0 or num_games_test==0: # ignore these users\n",
    "            if verbose: print(f\"Deleting user ({user}):\\n\\t{num_games_train} games in the train set\\n\\t{num_games_test} games in the test set\")\n",
    "            del_keys.append(key)\n",
    "    \n",
    "    for key in del_keys:\n",
    "        del train_set[key]\n",
    "        del test_set[key]\n",
    "\n",
    "    return train_set, test_set"
   ]
  },
  {
   "cell_type": "code",
   "execution_count": null,
   "id": "f201947e",
   "metadata": {},
   "outputs": [
    {
     "data": {
      "text/plain": [
       "76561197991621393"
      ]
     },
     "execution_count": 215,
     "metadata": {},
     "output_type": "execute_result"
    }
   ],
   "source": [
    "# user\n",
    "\"\"\"\n",
    "Collaborative Model Results For user:\n",
    "        appid                        name     score\n",
    "    0  599390          Battle for Wesnoth  0.424866\n",
    "    1  271590   Grand Theft Auto V Legacy  0.391422\n",
    "    2  719890           Beasts of Bermuda  0.382591\n",
    "    3  378120       Football Manager 2016  0.381385\n",
    "    4    8930  Sid Meier's Civilization V  0.359771\n",
    "\n",
    "    - hit: True, precision@k: 0.2, recall@k: 0.2, NDCG@K: 0.38653, MRR: 0.2\n",
    "\n",
    "Hybrid Model Results For user:\n",
    "rec_df:\n",
    "        appid                         name     score\n",
    "    0  599390           Battle for Wesnoth  0.424866\n",
    "    1  271590    Grand Theft Auto V Legacy  0.391422\n",
    "    2  719890            Beasts of Bermuda  0.382591\n",
    "    3    8930  Sid Meier's Civilization® V  0.359771\n",
    "    4     730             Counter-Strike 2  0.355516\n",
    "\n",
    "    - hit: True, precision@k: 0.4, recall@k: 0.4, NDCG@K: 0.5012658, MRR: \n",
    "\"\"\""
   ]
  },
  {
   "cell_type": "code",
   "execution_count": 235,
   "id": "28bd8c07",
   "metadata": {},
   "outputs": [
    {
     "name": "stdout",
     "output_type": "stream",
     "text": [
      "Num Train Examples: 5\n",
      "Num Test Examples: 5\n"
     ]
    }
   ],
   "source": [
    "train, test = get_train_test()\n",
    "print(f\"Num Train Examples: {len(train[str(user)])}\")\n",
    "print(f\"Num Test Examples: {len(test[str(user)])}\")"
   ]
  },
  {
   "cell_type": "code",
   "execution_count": 217,
   "id": "da87fb0a",
   "metadata": {},
   "outputs": [],
   "source": [
    "temp_game_df = pd.read_csv(\"../../data/game_player_cnt_ranked_top_1k.csv\")"
   ]
  },
  {
   "cell_type": "code",
   "execution_count": 231,
   "id": "0a3c9d21",
   "metadata": {},
   "outputs": [
    {
     "data": {
      "text/html": [
       "<div>\n",
       "<style scoped>\n",
       "    .dataframe tbody tr th:only-of-type {\n",
       "        vertical-align: middle;\n",
       "    }\n",
       "\n",
       "    .dataframe tbody tr th {\n",
       "        vertical-align: top;\n",
       "    }\n",
       "\n",
       "    .dataframe thead th {\n",
       "        text-align: right;\n",
       "    }\n",
       "</style>\n",
       "<table border=\"1\" class=\"dataframe\">\n",
       "  <thead>\n",
       "    <tr style=\"text-align: right;\">\n",
       "      <th></th>\n",
       "      <th>name</th>\n",
       "      <th>player_count</th>\n",
       "      <th>result</th>\n",
       "    </tr>\n",
       "    <tr>\n",
       "      <th>appid</th>\n",
       "      <th></th>\n",
       "      <th></th>\n",
       "      <th></th>\n",
       "    </tr>\n",
       "  </thead>\n",
       "  <tbody>\n",
       "    <tr>\n",
       "      <th>71270</th>\n",
       "      <td>Football Manager 2012</td>\n",
       "      <td>79.0</td>\n",
       "      <td>1</td>\n",
       "    </tr>\n",
       "    <tr>\n",
       "      <th>3910</th>\n",
       "      <td>Sid Meier's Civilization III: Complete</td>\n",
       "      <td>1253.0</td>\n",
       "      <td>1</td>\n",
       "    </tr>\n",
       "    <tr>\n",
       "      <th>230290</th>\n",
       "      <td>Universe Sandbox</td>\n",
       "      <td>367.0</td>\n",
       "      <td>1</td>\n",
       "    </tr>\n",
       "    <tr>\n",
       "      <th>24780</th>\n",
       "      <td>SimCity 4 Deluxe</td>\n",
       "      <td>344.0</td>\n",
       "      <td>1</td>\n",
       "    </tr>\n",
       "    <tr>\n",
       "      <th>578080</th>\n",
       "      <td>PUBG: BATTLEGROUNDS</td>\n",
       "      <td>207046.0</td>\n",
       "      <td>1</td>\n",
       "    </tr>\n",
       "  </tbody>\n",
       "</table>\n",
       "</div>"
      ],
      "text/plain": [
       "                                          name  player_count  result\n",
       "appid                                                               \n",
       "71270                    Football Manager 2012          79.0       1\n",
       "3910    Sid Meier's Civilization III: Complete        1253.0       1\n",
       "230290                        Universe Sandbox         367.0       1\n",
       "24780                         SimCity 4 Deluxe         344.0       1\n",
       "578080                     PUBG: BATTLEGROUNDS      207046.0       1"
      ]
     },
     "execution_count": 231,
     "metadata": {},
     "output_type": "execute_result"
    }
   ],
   "source": [
    "sorted_train_games = sorted([(i, train[str(user)][i]) for i in train[str(user)]], key=lambda x: x[1], reverse=True)\n",
    "temp_game_df.set_index(\"appid\").loc[[int(i[0]) for i in sorted_train_games]]"
   ]
  },
  {
   "cell_type": "code",
   "execution_count": 232,
   "id": "6d3e88d0",
   "metadata": {},
   "outputs": [
    {
     "data": {
      "text/html": [
       "<div>\n",
       "<style scoped>\n",
       "    .dataframe tbody tr th:only-of-type {\n",
       "        vertical-align: middle;\n",
       "    }\n",
       "\n",
       "    .dataframe tbody tr th {\n",
       "        vertical-align: top;\n",
       "    }\n",
       "\n",
       "    .dataframe thead th {\n",
       "        text-align: right;\n",
       "    }\n",
       "</style>\n",
       "<table border=\"1\" class=\"dataframe\">\n",
       "  <thead>\n",
       "    <tr style=\"text-align: right;\">\n",
       "      <th></th>\n",
       "      <th>name</th>\n",
       "      <th>player_count</th>\n",
       "      <th>result</th>\n",
       "    </tr>\n",
       "    <tr>\n",
       "      <th>appid</th>\n",
       "      <th></th>\n",
       "      <th></th>\n",
       "      <th></th>\n",
       "    </tr>\n",
       "  </thead>\n",
       "  <tbody>\n",
       "    <tr>\n",
       "      <th>730</th>\n",
       "      <td>Counter-Strike 2</td>\n",
       "      <td>682378.0</td>\n",
       "      <td>1</td>\n",
       "    </tr>\n",
       "    <tr>\n",
       "      <th>8930</th>\n",
       "      <td>Sid Meier's Civilization V</td>\n",
       "      <td>11670.0</td>\n",
       "      <td>1</td>\n",
       "    </tr>\n",
       "    <tr>\n",
       "      <th>603850</th>\n",
       "      <td>Age of History II</td>\n",
       "      <td>299.0</td>\n",
       "      <td>1</td>\n",
       "    </tr>\n",
       "    <tr>\n",
       "      <th>289070</th>\n",
       "      <td>Sid Meier's Civilization VI</td>\n",
       "      <td>25747.0</td>\n",
       "      <td>1</td>\n",
       "    </tr>\n",
       "    <tr>\n",
       "      <th>35140</th>\n",
       "      <td>Batman: Arkham Asylum GOTY Edition</td>\n",
       "      <td>681.0</td>\n",
       "      <td>1</td>\n",
       "    </tr>\n",
       "  </tbody>\n",
       "</table>\n",
       "</div>"
      ],
      "text/plain": [
       "                                      name  player_count  result\n",
       "appid                                                           \n",
       "730                       Counter-Strike 2      682378.0       1\n",
       "8930            Sid Meier's Civilization V       11670.0       1\n",
       "603850                   Age of History II         299.0       1\n",
       "289070         Sid Meier's Civilization VI       25747.0       1\n",
       "35140   Batman: Arkham Asylum GOTY Edition         681.0       1"
      ]
     },
     "execution_count": 232,
     "metadata": {},
     "output_type": "execute_result"
    }
   ],
   "source": [
    "sorted_test_games = sorted([(i, test[str(user)][i]) for i in test[str(user)]], key=lambda x: x[1], reverse=True)\n",
    "temp_game_df.set_index(\"appid\").loc[[int(i[0]) for i in sorted_test_games]]"
   ]
  },
  {
   "cell_type": "code",
   "execution_count": 239,
   "id": "e68acf69",
   "metadata": {},
   "outputs": [
    {
     "data": {
      "text/html": [
       "<div>\n",
       "<style scoped>\n",
       "    .dataframe tbody tr th:only-of-type {\n",
       "        vertical-align: middle;\n",
       "    }\n",
       "\n",
       "    .dataframe tbody tr th {\n",
       "        vertical-align: top;\n",
       "    }\n",
       "\n",
       "    .dataframe thead th {\n",
       "        text-align: right;\n",
       "    }\n",
       "</style>\n",
       "<table border=\"1\" class=\"dataframe\">\n",
       "  <thead>\n",
       "    <tr style=\"text-align: right;\">\n",
       "      <th></th>\n",
       "      <th>appid</th>\n",
       "      <th>name</th>\n",
       "      <th>player_count</th>\n",
       "      <th>result</th>\n",
       "    </tr>\n",
       "  </thead>\n",
       "  <tbody>\n",
       "    <tr>\n",
       "      <th>0</th>\n",
       "      <td>730</td>\n",
       "      <td>Counter-Strike 2</td>\n",
       "      <td>682378.0</td>\n",
       "      <td>1</td>\n",
       "    </tr>\n",
       "    <tr>\n",
       "      <th>1</th>\n",
       "      <td>570</td>\n",
       "      <td>Dota 2</td>\n",
       "      <td>284438.0</td>\n",
       "      <td>1</td>\n",
       "    </tr>\n",
       "    <tr>\n",
       "      <th>2</th>\n",
       "      <td>578080</td>\n",
       "      <td>PUBG: BATTLEGROUNDS</td>\n",
       "      <td>207046.0</td>\n",
       "      <td>1</td>\n",
       "    </tr>\n",
       "    <tr>\n",
       "      <th>3</th>\n",
       "      <td>252490</td>\n",
       "      <td>Rust</td>\n",
       "      <td>100213.0</td>\n",
       "      <td>1</td>\n",
       "    </tr>\n",
       "    <tr>\n",
       "      <th>4</th>\n",
       "      <td>359550</td>\n",
       "      <td>Tom Clancy's Rainbow Six® Siege X</td>\n",
       "      <td>82809.0</td>\n",
       "      <td>1</td>\n",
       "    </tr>\n",
       "    <tr>\n",
       "      <th>...</th>\n",
       "      <td>...</td>\n",
       "      <td>...</td>\n",
       "      <td>...</td>\n",
       "      <td>...</td>\n",
       "    </tr>\n",
       "    <tr>\n",
       "      <th>995</th>\n",
       "      <td>315660</td>\n",
       "      <td>Trainz: A New Era</td>\n",
       "      <td>67.0</td>\n",
       "      <td>1</td>\n",
       "    </tr>\n",
       "    <tr>\n",
       "      <th>996</th>\n",
       "      <td>441550</td>\n",
       "      <td>STAR WARS™ Rebellion</td>\n",
       "      <td>67.0</td>\n",
       "      <td>1</td>\n",
       "    </tr>\n",
       "    <tr>\n",
       "      <th>997</th>\n",
       "      <td>302510</td>\n",
       "      <td>Ryse: Son of Rome</td>\n",
       "      <td>67.0</td>\n",
       "      <td>1</td>\n",
       "    </tr>\n",
       "    <tr>\n",
       "      <th>998</th>\n",
       "      <td>423580</td>\n",
       "      <td>Project Highrise</td>\n",
       "      <td>67.0</td>\n",
       "      <td>1</td>\n",
       "    </tr>\n",
       "    <tr>\n",
       "      <th>999</th>\n",
       "      <td>294860</td>\n",
       "      <td>Valkyria Chronicles™</td>\n",
       "      <td>67.0</td>\n",
       "      <td>1</td>\n",
       "    </tr>\n",
       "  </tbody>\n",
       "</table>\n",
       "<p>1000 rows × 4 columns</p>\n",
       "</div>"
      ],
      "text/plain": [
       "      appid                               name  player_count  result\n",
       "0       730                   Counter-Strike 2      682378.0       1\n",
       "1       570                             Dota 2      284438.0       1\n",
       "2    578080                PUBG: BATTLEGROUNDS      207046.0       1\n",
       "3    252490                               Rust      100213.0       1\n",
       "4    359550  Tom Clancy's Rainbow Six® Siege X       82809.0       1\n",
       "..      ...                                ...           ...     ...\n",
       "995  315660                  Trainz: A New Era          67.0       1\n",
       "996  441550               STAR WARS™ Rebellion          67.0       1\n",
       "997  302510                  Ryse: Son of Rome          67.0       1\n",
       "998  423580                   Project Highrise          67.0       1\n",
       "999  294860               Valkyria Chronicles™          67.0       1\n",
       "\n",
       "[1000 rows x 4 columns]"
      ]
     },
     "execution_count": 239,
     "metadata": {},
     "output_type": "execute_result"
    }
   ],
   "source": [
    "top_1000_games_df = pd.read_csv(\"../../data/game_player_cnt_ranked_top_1k.csv\")\n",
    "top_1000_games_df"
   ]
  },
  {
   "cell_type": "code",
   "execution_count": 249,
   "id": "0febc6b5",
   "metadata": {},
   "outputs": [
    {
     "data": {
      "text/html": [
       "<div>\n",
       "<style scoped>\n",
       "    .dataframe tbody tr th:only-of-type {\n",
       "        vertical-align: middle;\n",
       "    }\n",
       "\n",
       "    .dataframe tbody tr th {\n",
       "        vertical-align: top;\n",
       "    }\n",
       "\n",
       "    .dataframe thead th {\n",
       "        text-align: right;\n",
       "    }\n",
       "</style>\n",
       "<table border=\"1\" class=\"dataframe\">\n",
       "  <thead>\n",
       "    <tr style=\"text-align: right;\">\n",
       "      <th></th>\n",
       "      <th>appid</th>\n",
       "      <th>name</th>\n",
       "      <th>about_the_game</th>\n",
       "      <th>achievements</th>\n",
       "      <th>background</th>\n",
       "      <th>background_raw</th>\n",
       "      <th>capsule_image</th>\n",
       "      <th>capsule_imagev5</th>\n",
       "      <th>categories</th>\n",
       "      <th>content_descriptors</th>\n",
       "      <th>...</th>\n",
       "      <th>recommendations</th>\n",
       "      <th>release_date</th>\n",
       "      <th>required_age</th>\n",
       "      <th>reviews</th>\n",
       "      <th>screenshots</th>\n",
       "      <th>short_description</th>\n",
       "      <th>support_info</th>\n",
       "      <th>supported_languages</th>\n",
       "      <th>type</th>\n",
       "      <th>website</th>\n",
       "    </tr>\n",
       "  </thead>\n",
       "  <tbody>\n",
       "    <tr>\n",
       "      <th>17</th>\n",
       "      <td>550</td>\n",
       "      <td>Left 4 Dead 2</td>\n",
       "      <td>Set in the zombie apocalypse, Left 4 Dead 2 (L...</td>\n",
       "      <td>{'total': 101, 'highlighted': [{'name': 'CL0WN...</td>\n",
       "      <td>https://store.akamai.steamstatic.com/images/st...</td>\n",
       "      <td>https://store.akamai.steamstatic.com/images/st...</td>\n",
       "      <td>https://shared.akamai.steamstatic.com/store_it...</td>\n",
       "      <td>https://shared.akamai.steamstatic.com/store_it...</td>\n",
       "      <td>[{'id': 2, 'description': 'Single-player'}, {'...</td>\n",
       "      <td>{'ids': [2, 5], 'notes': 'Left 4 Dead 2 featur...</td>\n",
       "      <td>...</td>\n",
       "      <td>{'total': 738644}</td>\n",
       "      <td>{'coming_soon': False, 'date': 'Nov 16, 2009'}</td>\n",
       "      <td>0.0</td>\n",
       "      <td>NaN</td>\n",
       "      <td>[{'id': 0, 'path_thumbnail': 'https://shared.a...</td>\n",
       "      <td>Set in the zombie apocalypse, Left 4 Dead 2 (L...</td>\n",
       "      <td>{'url': 'http://steamcommunity.com/app/550', '...</td>\n",
       "      <td>Danish, Dutch, English&lt;strong&gt;*&lt;/strong&gt;, Finn...</td>\n",
       "      <td>game</td>\n",
       "      <td>http://www.l4d.com</td>\n",
       "    </tr>\n",
       "    <tr>\n",
       "      <th>226</th>\n",
       "      <td>500</td>\n",
       "      <td>Left 4 Dead</td>\n",
       "      <td>From Valve (the creators of Counter-Strike, Ha...</td>\n",
       "      <td>{'total': 73, 'highlighted': [{'name': 'DEAD S...</td>\n",
       "      <td>https://store.akamai.steamstatic.com/images/st...</td>\n",
       "      <td>https://store.akamai.steamstatic.com/images/st...</td>\n",
       "      <td>https://shared.akamai.steamstatic.com/store_it...</td>\n",
       "      <td>https://shared.akamai.steamstatic.com/store_it...</td>\n",
       "      <td>[{'id': 2, 'description': 'Single-player'}, {'...</td>\n",
       "      <td>{'ids': [2, 5], 'notes': 'Includes realistic v...</td>\n",
       "      <td>...</td>\n",
       "      <td>{'total': 52735}</td>\n",
       "      <td>{'coming_soon': False, 'date': 'Nov 17, 2008'}</td>\n",
       "      <td>0.0</td>\n",
       "      <td>NaN</td>\n",
       "      <td>[{'id': 0, 'path_thumbnail': 'https://shared.a...</td>\n",
       "      <td>From Valve (the creators of Counter-Strike, Ha...</td>\n",
       "      <td>{'url': 'http://steamcommunity.com/app/500', '...</td>\n",
       "      <td>English&lt;strong&gt;*&lt;/strong&gt;, French&lt;strong&gt;*&lt;/st...</td>\n",
       "      <td>game</td>\n",
       "      <td>http://www.l4d.com/</td>\n",
       "    </tr>\n",
       "    <tr>\n",
       "      <th>424</th>\n",
       "      <td>564</td>\n",
       "      <td>Left 4 Dead 2 Add-on Support</td>\n",
       "      <td>NaN</td>\n",
       "      <td>NaN</td>\n",
       "      <td>NaN</td>\n",
       "      <td>NaN</td>\n",
       "      <td>NaN</td>\n",
       "      <td>NaN</td>\n",
       "      <td>NaN</td>\n",
       "      <td>NaN</td>\n",
       "      <td>...</td>\n",
       "      <td>NaN</td>\n",
       "      <td>NaN</td>\n",
       "      <td>NaN</td>\n",
       "      <td>NaN</td>\n",
       "      <td>NaN</td>\n",
       "      <td>NaN</td>\n",
       "      <td>NaN</td>\n",
       "      <td>NaN</td>\n",
       "      <td>NaN</td>\n",
       "      <td>NaN</td>\n",
       "    </tr>\n",
       "  </tbody>\n",
       "</table>\n",
       "<p>3 rows × 43 columns</p>\n",
       "</div>"
      ],
      "text/plain": [
       "     appid                          name  \\\n",
       "17     550                 Left 4 Dead 2   \n",
       "226    500                   Left 4 Dead   \n",
       "424    564  Left 4 Dead 2 Add-on Support   \n",
       "\n",
       "                                        about_the_game  \\\n",
       "17   Set in the zombie apocalypse, Left 4 Dead 2 (L...   \n",
       "226  From Valve (the creators of Counter-Strike, Ha...   \n",
       "424                                                NaN   \n",
       "\n",
       "                                          achievements  \\\n",
       "17   {'total': 101, 'highlighted': [{'name': 'CL0WN...   \n",
       "226  {'total': 73, 'highlighted': [{'name': 'DEAD S...   \n",
       "424                                                NaN   \n",
       "\n",
       "                                            background  \\\n",
       "17   https://store.akamai.steamstatic.com/images/st...   \n",
       "226  https://store.akamai.steamstatic.com/images/st...   \n",
       "424                                                NaN   \n",
       "\n",
       "                                        background_raw  \\\n",
       "17   https://store.akamai.steamstatic.com/images/st...   \n",
       "226  https://store.akamai.steamstatic.com/images/st...   \n",
       "424                                                NaN   \n",
       "\n",
       "                                         capsule_image  \\\n",
       "17   https://shared.akamai.steamstatic.com/store_it...   \n",
       "226  https://shared.akamai.steamstatic.com/store_it...   \n",
       "424                                                NaN   \n",
       "\n",
       "                                       capsule_imagev5  \\\n",
       "17   https://shared.akamai.steamstatic.com/store_it...   \n",
       "226  https://shared.akamai.steamstatic.com/store_it...   \n",
       "424                                                NaN   \n",
       "\n",
       "                                            categories  \\\n",
       "17   [{'id': 2, 'description': 'Single-player'}, {'...   \n",
       "226  [{'id': 2, 'description': 'Single-player'}, {'...   \n",
       "424                                                NaN   \n",
       "\n",
       "                                   content_descriptors  ...  \\\n",
       "17   {'ids': [2, 5], 'notes': 'Left 4 Dead 2 featur...  ...   \n",
       "226  {'ids': [2, 5], 'notes': 'Includes realistic v...  ...   \n",
       "424                                                NaN  ...   \n",
       "\n",
       "       recommendations                                    release_date  \\\n",
       "17   {'total': 738644}  {'coming_soon': False, 'date': 'Nov 16, 2009'}   \n",
       "226   {'total': 52735}  {'coming_soon': False, 'date': 'Nov 17, 2008'}   \n",
       "424                NaN                                             NaN   \n",
       "\n",
       "    required_age reviews                                        screenshots  \\\n",
       "17           0.0     NaN  [{'id': 0, 'path_thumbnail': 'https://shared.a...   \n",
       "226          0.0     NaN  [{'id': 0, 'path_thumbnail': 'https://shared.a...   \n",
       "424          NaN     NaN                                                NaN   \n",
       "\n",
       "                                     short_description  \\\n",
       "17   Set in the zombie apocalypse, Left 4 Dead 2 (L...   \n",
       "226  From Valve (the creators of Counter-Strike, Ha...   \n",
       "424                                                NaN   \n",
       "\n",
       "                                          support_info  \\\n",
       "17   {'url': 'http://steamcommunity.com/app/550', '...   \n",
       "226  {'url': 'http://steamcommunity.com/app/500', '...   \n",
       "424                                                NaN   \n",
       "\n",
       "                                   supported_languages  type  \\\n",
       "17   Danish, Dutch, English<strong>*</strong>, Finn...  game   \n",
       "226  English<strong>*</strong>, French<strong>*</st...  game   \n",
       "424                                                NaN   NaN   \n",
       "\n",
       "                 website  \n",
       "17    http://www.l4d.com  \n",
       "226  http://www.l4d.com/  \n",
       "424                  NaN  \n",
       "\n",
       "[3 rows x 43 columns]"
      ]
     },
     "execution_count": 249,
     "metadata": {},
     "output_type": "execute_result"
    }
   ],
   "source": [
    "top_1000_details_df = pd.read_csv(\"../../data/top_1000_game_details.csv\")\n",
    "top_1000_details_df\n",
    "\n",
    "top_1000_details_df[top_1000_details_df['name'].str.lower().str.startswith(\"left\")]"
   ]
  },
  {
   "cell_type": "code",
   "execution_count": 244,
   "id": "40f5db83",
   "metadata": {},
   "outputs": [
    {
     "data": {
      "text/html": [
       "<div>\n",
       "<style scoped>\n",
       "    .dataframe tbody tr th:only-of-type {\n",
       "        vertical-align: middle;\n",
       "    }\n",
       "\n",
       "    .dataframe tbody tr th {\n",
       "        vertical-align: top;\n",
       "    }\n",
       "\n",
       "    .dataframe thead th {\n",
       "        text-align: right;\n",
       "    }\n",
       "</style>\n",
       "<table border=\"1\" class=\"dataframe\">\n",
       "  <thead>\n",
       "    <tr style=\"text-align: right;\">\n",
       "      <th></th>\n",
       "      <th>appid</th>\n",
       "      <th>name</th>\n",
       "      <th>about_the_game</th>\n",
       "      <th>achievements</th>\n",
       "      <th>background</th>\n",
       "      <th>background_raw</th>\n",
       "      <th>capsule_image</th>\n",
       "      <th>capsule_imagev5</th>\n",
       "      <th>categories</th>\n",
       "      <th>content_descriptors</th>\n",
       "      <th>...</th>\n",
       "      <th>recommendations</th>\n",
       "      <th>release_date</th>\n",
       "      <th>required_age</th>\n",
       "      <th>reviews</th>\n",
       "      <th>screenshots</th>\n",
       "      <th>short_description</th>\n",
       "      <th>support_info</th>\n",
       "      <th>supported_languages</th>\n",
       "      <th>type</th>\n",
       "      <th>website</th>\n",
       "    </tr>\n",
       "  </thead>\n",
       "  <tbody>\n",
       "    <tr>\n",
       "      <th>0</th>\n",
       "      <td>730</td>\n",
       "      <td>Counter-Strike 2</td>\n",
       "      <td>For over two decades, Counter-Strike has offer...</td>\n",
       "      <td>{'total': 1, 'highlighted': [{'name': 'A New B...</td>\n",
       "      <td>https://store.akamai.steamstatic.com/images/st...</td>\n",
       "      <td>https://shared.akamai.steamstatic.com/store_it...</td>\n",
       "      <td>https://shared.akamai.steamstatic.com/store_it...</td>\n",
       "      <td>https://shared.akamai.steamstatic.com/store_it...</td>\n",
       "      <td>[{'id': 1, 'description': 'Multi-player'}, {'i...</td>\n",
       "      <td>{'ids': [2, 5], 'notes': 'Includes intense vio...</td>\n",
       "      <td>...</td>\n",
       "      <td>{'total': 4551811}</td>\n",
       "      <td>{'coming_soon': False, 'date': '21 Aug, 2012'}</td>\n",
       "      <td>0.0</td>\n",
       "      <td>NaN</td>\n",
       "      <td>[{'id': 0, 'path_thumbnail': 'https://shared.a...</td>\n",
       "      <td>For over two decades, Counter-Strike has offer...</td>\n",
       "      <td>{'url': '', 'email': ''}</td>\n",
       "      <td>Czech, Danish, Dutch, English&lt;strong&gt;*&lt;/strong...</td>\n",
       "      <td>game</td>\n",
       "      <td>http://counter-strike.net/</td>\n",
       "    </tr>\n",
       "    <tr>\n",
       "      <th>1</th>\n",
       "      <td>570</td>\n",
       "      <td>Dota 2</td>\n",
       "      <td>&lt;strong&gt;The most-played game on Steam.&lt;/strong...</td>\n",
       "      <td>NaN</td>\n",
       "      <td>https://store.akamai.steamstatic.com/images/st...</td>\n",
       "      <td>https://shared.akamai.steamstatic.com/store_it...</td>\n",
       "      <td>https://shared.akamai.steamstatic.com/store_it...</td>\n",
       "      <td>https://shared.akamai.steamstatic.com/store_it...</td>\n",
       "      <td>[{'id': 1, 'description': 'Multi-player'}, {'i...</td>\n",
       "      <td>{'ids': [5], 'notes': 'Dota 2 includes fantasy...</td>\n",
       "      <td>...</td>\n",
       "      <td>{'total': 14350}</td>\n",
       "      <td>{'coming_soon': False, 'date': '9 Jul, 2013'}</td>\n",
       "      <td>0.0</td>\n",
       "      <td>“A modern multiplayer masterpiece.”&lt;br&gt;9.5/10 ...</td>\n",
       "      <td>[{'id': 0, 'path_thumbnail': 'https://shared.a...</td>\n",
       "      <td>Every day, millions of players worldwide enter...</td>\n",
       "      <td>{'url': '', 'email': ''}</td>\n",
       "      <td>Bulgarian, Czech, Danish, Dutch, English&lt;stron...</td>\n",
       "      <td>game</td>\n",
       "      <td>http://www.dota2.com/</td>\n",
       "    </tr>\n",
       "    <tr>\n",
       "      <th>2</th>\n",
       "      <td>578080</td>\n",
       "      <td>PUBG: BATTLEGROUNDS</td>\n",
       "      <td>&lt;p class=\"bb_paragraph\"&gt;&lt;img class=\"bb_img\" sr...</td>\n",
       "      <td>{'total': 37, 'highlighted': [{'name': 'Last S...</td>\n",
       "      <td>https://store.akamai.steamstatic.com/images/st...</td>\n",
       "      <td>https://shared.akamai.steamstatic.com/store_it...</td>\n",
       "      <td>https://shared.akamai.steamstatic.com/store_it...</td>\n",
       "      <td>https://shared.akamai.steamstatic.com/store_it...</td>\n",
       "      <td>[{'id': 1, 'description': 'Multi-player'}, {'i...</td>\n",
       "      <td>{'ids': [2, 5], 'notes': None}</td>\n",
       "      <td>...</td>\n",
       "      <td>{'total': 1741534}</td>\n",
       "      <td>{'coming_soon': False, 'date': 'Dec 21, 2017'}</td>\n",
       "      <td>0.0</td>\n",
       "      <td>NaN</td>\n",
       "      <td>[{'id': 0, 'path_thumbnail': 'https://shared.a...</td>\n",
       "      <td>PUBG: BATTLEGROUNDS, the high-stakes winner-ta...</td>\n",
       "      <td>{'url': 'https://support.pubg.com/hc/en-us', '...</td>\n",
       "      <td>English, Korean, Simplified Chinese, French, G...</td>\n",
       "      <td>game</td>\n",
       "      <td>https://www.pubg.com</td>\n",
       "    </tr>\n",
       "    <tr>\n",
       "      <th>3</th>\n",
       "      <td>252490</td>\n",
       "      <td>Rust</td>\n",
       "      <td>&lt;p class=\"bb_paragraph\"&gt;The only aim in Rust i...</td>\n",
       "      <td>{'total': 92, 'highlighted': [{'name': 'Place ...</td>\n",
       "      <td>https://store.akamai.steamstatic.com/images/st...</td>\n",
       "      <td>https://shared.akamai.steamstatic.com/store_it...</td>\n",
       "      <td>https://shared.akamai.steamstatic.com/store_it...</td>\n",
       "      <td>https://shared.akamai.steamstatic.com/store_it...</td>\n",
       "      <td>[{'id': 1, 'description': 'Multi-player'}, {'i...</td>\n",
       "      <td>{'ids': [1, 2, 5], 'notes': 'Contains violence...</td>\n",
       "      <td>...</td>\n",
       "      <td>{'total': 1023708}</td>\n",
       "      <td>{'coming_soon': False, 'date': '8 Feb, 2018'}</td>\n",
       "      <td>0.0</td>\n",
       "      <td>“Rust is one of the cruelest games on Steam, a...</td>\n",
       "      <td>[{'id': 0, 'path_thumbnail': 'https://shared.a...</td>\n",
       "      <td>The only aim in Rust is to survive. Everything...</td>\n",
       "      <td>{'url': 'http://support.facepunchstudios.com/'...</td>\n",
       "      <td>English&lt;strong&gt;*&lt;/strong&gt;, French&lt;strong&gt;*&lt;/st...</td>\n",
       "      <td>game</td>\n",
       "      <td>http://rust.facepunch.com/</td>\n",
       "    </tr>\n",
       "    <tr>\n",
       "      <th>4</th>\n",
       "      <td>359550</td>\n",
       "      <td>Tom Clancy's Rainbow Six® Siege X</td>\n",
       "      <td>Tom Clancy's Rainbow Six Siege X is the undisp...</td>\n",
       "      <td>NaN</td>\n",
       "      <td>https://store.akamai.steamstatic.com/images/st...</td>\n",
       "      <td>https://shared.akamai.steamstatic.com/store_it...</td>\n",
       "      <td>https://shared.akamai.steamstatic.com/store_it...</td>\n",
       "      <td>https://shared.akamai.steamstatic.com/store_it...</td>\n",
       "      <td>[{'id': 2, 'description': 'Single-player'}, {'...</td>\n",
       "      <td>{'ids': [5], 'notes': 'This is a first-person ...</td>\n",
       "      <td>...</td>\n",
       "      <td>{'total': 1199549}</td>\n",
       "      <td>{'coming_soon': False, 'date': 'Dec 1, 2015'}</td>\n",
       "      <td>17.0</td>\n",
       "      <td>NaN</td>\n",
       "      <td>[{'id': 0, 'path_thumbnail': 'https://shared.a...</td>\n",
       "      <td>Rainbow Six Siege X is the reference in tactic...</td>\n",
       "      <td>{'url': 'http://support.ubi.com', 'email': ''}</td>\n",
       "      <td>English&lt;strong&gt;*&lt;/strong&gt;, French&lt;strong&gt;*&lt;/st...</td>\n",
       "      <td>game</td>\n",
       "      <td>http://rainbow6.ubi.com/</td>\n",
       "    </tr>\n",
       "    <tr>\n",
       "      <th>...</th>\n",
       "      <td>...</td>\n",
       "      <td>...</td>\n",
       "      <td>...</td>\n",
       "      <td>...</td>\n",
       "      <td>...</td>\n",
       "      <td>...</td>\n",
       "      <td>...</td>\n",
       "      <td>...</td>\n",
       "      <td>...</td>\n",
       "      <td>...</td>\n",
       "      <td>...</td>\n",
       "      <td>...</td>\n",
       "      <td>...</td>\n",
       "      <td>...</td>\n",
       "      <td>...</td>\n",
       "      <td>...</td>\n",
       "      <td>...</td>\n",
       "      <td>...</td>\n",
       "      <td>...</td>\n",
       "      <td>...</td>\n",
       "      <td>...</td>\n",
       "    </tr>\n",
       "    <tr>\n",
       "      <th>999</th>\n",
       "      <td>315660</td>\n",
       "      <td>Trainz: A New Era</td>\n",
       "      <td>&lt;img class=\"bb_img\" src=\"https://shared.akamai...</td>\n",
       "      <td>{'total': 23, 'highlighted': [{'name': 'Traine...</td>\n",
       "      <td>https://store.akamai.steamstatic.com/images/st...</td>\n",
       "      <td>https://shared.akamai.steamstatic.com/store_it...</td>\n",
       "      <td>https://shared.akamai.steamstatic.com/store_it...</td>\n",
       "      <td>https://shared.akamai.steamstatic.com/store_it...</td>\n",
       "      <td>[{'id': 2, 'description': 'Single-player'}, {'...</td>\n",
       "      <td>{'ids': [], 'notes': None}</td>\n",
       "      <td>...</td>\n",
       "      <td>{'total': 2166}</td>\n",
       "      <td>{'coming_soon': False, 'date': 'May 14, 2015'}</td>\n",
       "      <td>0.0</td>\n",
       "      <td>NaN</td>\n",
       "      <td>[{'id': 0, 'path_thumbnail': 'https://shared.a...</td>\n",
       "      <td>Our &amp;quot;Platinum Edition&amp;quot; bundle provid...</td>\n",
       "      <td>{'url': 'http://support.trainzportal.com/', 'e...</td>\n",
       "      <td>English, French, German, Polish</td>\n",
       "      <td>game</td>\n",
       "      <td>http://www.trainzportal.com/product/view/train...</td>\n",
       "    </tr>\n",
       "    <tr>\n",
       "      <th>1000</th>\n",
       "      <td>441550</td>\n",
       "      <td>STAR WARS™ Rebellion</td>\n",
       "      <td>It is a time of great upheaval. The first Deat...</td>\n",
       "      <td>NaN</td>\n",
       "      <td>https://store.akamai.steamstatic.com/images/st...</td>\n",
       "      <td>https://store.akamai.steamstatic.com/images/st...</td>\n",
       "      <td>https://shared.akamai.steamstatic.com/store_it...</td>\n",
       "      <td>https://shared.akamai.steamstatic.com/store_it...</td>\n",
       "      <td>[{'id': 2, 'description': 'Single-player'}, {'...</td>\n",
       "      <td>{'ids': [], 'notes': None}</td>\n",
       "      <td>...</td>\n",
       "      <td>{'total': 1161}</td>\n",
       "      <td>{'coming_soon': False, 'date': 'Mar 1, 2016'}</td>\n",
       "      <td>0.0</td>\n",
       "      <td>NaN</td>\n",
       "      <td>[{'id': 0, 'path_thumbnail': 'https://shared.a...</td>\n",
       "      <td>It is a time of great upheaval. The first Deat...</td>\n",
       "      <td>{'url': 'http://help.disney.com/en_US/Games/St...</td>\n",
       "      <td>English&lt;strong&gt;*&lt;/strong&gt;, German&lt;strong&gt;*&lt;/st...</td>\n",
       "      <td>game</td>\n",
       "      <td>NaN</td>\n",
       "    </tr>\n",
       "    <tr>\n",
       "      <th>1001</th>\n",
       "      <td>302510</td>\n",
       "      <td>Ryse: Son of Rome</td>\n",
       "      <td>&lt;strong&gt;Fight as a soldier. Lead as a general....</td>\n",
       "      <td>{'total': 73, 'highlighted': [{'name': 'First ...</td>\n",
       "      <td>https://store.akamai.steamstatic.com/images/st...</td>\n",
       "      <td>https://store.akamai.steamstatic.com/images/st...</td>\n",
       "      <td>https://shared.akamai.steamstatic.com/store_it...</td>\n",
       "      <td>https://shared.akamai.steamstatic.com/store_it...</td>\n",
       "      <td>[{'id': 2, 'description': 'Single-player'}, {'...</td>\n",
       "      <td>{'ids': [2, 5], 'notes': None}</td>\n",
       "      <td>...</td>\n",
       "      <td>{'total': 34297}</td>\n",
       "      <td>{'coming_soon': False, 'date': 'Oct 10, 2014'}</td>\n",
       "      <td>16.0</td>\n",
       "      <td>NaN</td>\n",
       "      <td>[{'id': 0, 'path_thumbnail': 'https://shared.a...</td>\n",
       "      <td>“Ryse: Son of Rome” tells the story of Marius ...</td>\n",
       "      <td>{'url': 'https://crytek.kayako.com/', 'email':...</td>\n",
       "      <td>English&lt;strong&gt;*&lt;/strong&gt;, French&lt;strong&gt;*&lt;/st...</td>\n",
       "      <td>game</td>\n",
       "      <td>http://www.rysegame.com</td>\n",
       "    </tr>\n",
       "    <tr>\n",
       "      <th>1002</th>\n",
       "      <td>423580</td>\n",
       "      <td>Project Highrise</td>\n",
       "      <td>&lt;img class=\"bb_img\" src=\"https://shared.akamai...</td>\n",
       "      <td>{'total': 88, 'highlighted': [{'name': 'Baron ...</td>\n",
       "      <td>https://store.akamai.steamstatic.com/images/st...</td>\n",
       "      <td>https://shared.akamai.steamstatic.com/store_it...</td>\n",
       "      <td>https://shared.akamai.steamstatic.com/store_it...</td>\n",
       "      <td>https://shared.akamai.steamstatic.com/store_it...</td>\n",
       "      <td>[{'id': 2, 'description': 'Single-player'}, {'...</td>\n",
       "      <td>{'ids': [], 'notes': None}</td>\n",
       "      <td>...</td>\n",
       "      <td>{'total': 3685}</td>\n",
       "      <td>{'coming_soon': False, 'date': 'Sep 8, 2016'}</td>\n",
       "      <td>0.0</td>\n",
       "      <td>“Project Highrise is the game that SimTower sh...</td>\n",
       "      <td>[{'id': 0, 'path_thumbnail': 'https://shared.a...</td>\n",
       "      <td>Project Highrise is a skyscraper construction ...</td>\n",
       "      <td>{'url': 'https://www.kasedogames.com/contact',...</td>\n",
       "      <td>English, French, Italian, German, Spanish - Sp...</td>\n",
       "      <td>game</td>\n",
       "      <td>http://www.kasedogames.com/projecthighrise</td>\n",
       "    </tr>\n",
       "    <tr>\n",
       "      <th>1003</th>\n",
       "      <td>294860</td>\n",
       "      <td>Valkyria Chronicles™</td>\n",
       "      <td>&lt;strong&gt;The critically acclaimed RPG Valkyria ...</td>\n",
       "      <td>{'total': 20, 'highlighted': [{'name': 'Gallia...</td>\n",
       "      <td>https://store.akamai.steamstatic.com/images/st...</td>\n",
       "      <td>https://store.akamai.steamstatic.com/images/st...</td>\n",
       "      <td>https://shared.akamai.steamstatic.com/store_it...</td>\n",
       "      <td>https://shared.akamai.steamstatic.com/store_it...</td>\n",
       "      <td>[{'id': 2, 'description': 'Single-player'}, {'...</td>\n",
       "      <td>{'ids': [], 'notes': None}</td>\n",
       "      <td>...</td>\n",
       "      <td>{'total': 10466}</td>\n",
       "      <td>{'coming_soon': False, 'date': 'Nov 11, 2014'}</td>\n",
       "      <td>0.0</td>\n",
       "      <td>NaN</td>\n",
       "      <td>[{'id': 0, 'path_thumbnail': 'https://shared.a...</td>\n",
       "      <td>The critically acclaimed Valkyria Chronicles i...</td>\n",
       "      <td>{'url': 'https://support.sega.co.uk', 'email':...</td>\n",
       "      <td>English&lt;strong&gt;*&lt;/strong&gt;&lt;br&gt;&lt;strong&gt;*&lt;/strong...</td>\n",
       "      <td>game</td>\n",
       "      <td>NaN</td>\n",
       "    </tr>\n",
       "  </tbody>\n",
       "</table>\n",
       "<p>1000 rows × 43 columns</p>\n",
       "</div>"
      ],
      "text/plain": [
       "       appid                               name  \\\n",
       "0        730                   Counter-Strike 2   \n",
       "1        570                             Dota 2   \n",
       "2     578080                PUBG: BATTLEGROUNDS   \n",
       "3     252490                               Rust   \n",
       "4     359550  Tom Clancy's Rainbow Six® Siege X   \n",
       "...      ...                                ...   \n",
       "999   315660                  Trainz: A New Era   \n",
       "1000  441550               STAR WARS™ Rebellion   \n",
       "1001  302510                  Ryse: Son of Rome   \n",
       "1002  423580                   Project Highrise   \n",
       "1003  294860               Valkyria Chronicles™   \n",
       "\n",
       "                                         about_the_game  \\\n",
       "0     For over two decades, Counter-Strike has offer...   \n",
       "1     <strong>The most-played game on Steam.</strong...   \n",
       "2     <p class=\"bb_paragraph\"><img class=\"bb_img\" sr...   \n",
       "3     <p class=\"bb_paragraph\">The only aim in Rust i...   \n",
       "4     Tom Clancy's Rainbow Six Siege X is the undisp...   \n",
       "...                                                 ...   \n",
       "999   <img class=\"bb_img\" src=\"https://shared.akamai...   \n",
       "1000  It is a time of great upheaval. The first Deat...   \n",
       "1001  <strong>Fight as a soldier. Lead as a general....   \n",
       "1002  <img class=\"bb_img\" src=\"https://shared.akamai...   \n",
       "1003  <strong>The critically acclaimed RPG Valkyria ...   \n",
       "\n",
       "                                           achievements  \\\n",
       "0     {'total': 1, 'highlighted': [{'name': 'A New B...   \n",
       "1                                                   NaN   \n",
       "2     {'total': 37, 'highlighted': [{'name': 'Last S...   \n",
       "3     {'total': 92, 'highlighted': [{'name': 'Place ...   \n",
       "4                                                   NaN   \n",
       "...                                                 ...   \n",
       "999   {'total': 23, 'highlighted': [{'name': 'Traine...   \n",
       "1000                                                NaN   \n",
       "1001  {'total': 73, 'highlighted': [{'name': 'First ...   \n",
       "1002  {'total': 88, 'highlighted': [{'name': 'Baron ...   \n",
       "1003  {'total': 20, 'highlighted': [{'name': 'Gallia...   \n",
       "\n",
       "                                             background  \\\n",
       "0     https://store.akamai.steamstatic.com/images/st...   \n",
       "1     https://store.akamai.steamstatic.com/images/st...   \n",
       "2     https://store.akamai.steamstatic.com/images/st...   \n",
       "3     https://store.akamai.steamstatic.com/images/st...   \n",
       "4     https://store.akamai.steamstatic.com/images/st...   \n",
       "...                                                 ...   \n",
       "999   https://store.akamai.steamstatic.com/images/st...   \n",
       "1000  https://store.akamai.steamstatic.com/images/st...   \n",
       "1001  https://store.akamai.steamstatic.com/images/st...   \n",
       "1002  https://store.akamai.steamstatic.com/images/st...   \n",
       "1003  https://store.akamai.steamstatic.com/images/st...   \n",
       "\n",
       "                                         background_raw  \\\n",
       "0     https://shared.akamai.steamstatic.com/store_it...   \n",
       "1     https://shared.akamai.steamstatic.com/store_it...   \n",
       "2     https://shared.akamai.steamstatic.com/store_it...   \n",
       "3     https://shared.akamai.steamstatic.com/store_it...   \n",
       "4     https://shared.akamai.steamstatic.com/store_it...   \n",
       "...                                                 ...   \n",
       "999   https://shared.akamai.steamstatic.com/store_it...   \n",
       "1000  https://store.akamai.steamstatic.com/images/st...   \n",
       "1001  https://store.akamai.steamstatic.com/images/st...   \n",
       "1002  https://shared.akamai.steamstatic.com/store_it...   \n",
       "1003  https://store.akamai.steamstatic.com/images/st...   \n",
       "\n",
       "                                          capsule_image  \\\n",
       "0     https://shared.akamai.steamstatic.com/store_it...   \n",
       "1     https://shared.akamai.steamstatic.com/store_it...   \n",
       "2     https://shared.akamai.steamstatic.com/store_it...   \n",
       "3     https://shared.akamai.steamstatic.com/store_it...   \n",
       "4     https://shared.akamai.steamstatic.com/store_it...   \n",
       "...                                                 ...   \n",
       "999   https://shared.akamai.steamstatic.com/store_it...   \n",
       "1000  https://shared.akamai.steamstatic.com/store_it...   \n",
       "1001  https://shared.akamai.steamstatic.com/store_it...   \n",
       "1002  https://shared.akamai.steamstatic.com/store_it...   \n",
       "1003  https://shared.akamai.steamstatic.com/store_it...   \n",
       "\n",
       "                                        capsule_imagev5  \\\n",
       "0     https://shared.akamai.steamstatic.com/store_it...   \n",
       "1     https://shared.akamai.steamstatic.com/store_it...   \n",
       "2     https://shared.akamai.steamstatic.com/store_it...   \n",
       "3     https://shared.akamai.steamstatic.com/store_it...   \n",
       "4     https://shared.akamai.steamstatic.com/store_it...   \n",
       "...                                                 ...   \n",
       "999   https://shared.akamai.steamstatic.com/store_it...   \n",
       "1000  https://shared.akamai.steamstatic.com/store_it...   \n",
       "1001  https://shared.akamai.steamstatic.com/store_it...   \n",
       "1002  https://shared.akamai.steamstatic.com/store_it...   \n",
       "1003  https://shared.akamai.steamstatic.com/store_it...   \n",
       "\n",
       "                                             categories  \\\n",
       "0     [{'id': 1, 'description': 'Multi-player'}, {'i...   \n",
       "1     [{'id': 1, 'description': 'Multi-player'}, {'i...   \n",
       "2     [{'id': 1, 'description': 'Multi-player'}, {'i...   \n",
       "3     [{'id': 1, 'description': 'Multi-player'}, {'i...   \n",
       "4     [{'id': 2, 'description': 'Single-player'}, {'...   \n",
       "...                                                 ...   \n",
       "999   [{'id': 2, 'description': 'Single-player'}, {'...   \n",
       "1000  [{'id': 2, 'description': 'Single-player'}, {'...   \n",
       "1001  [{'id': 2, 'description': 'Single-player'}, {'...   \n",
       "1002  [{'id': 2, 'description': 'Single-player'}, {'...   \n",
       "1003  [{'id': 2, 'description': 'Single-player'}, {'...   \n",
       "\n",
       "                                    content_descriptors  ...  \\\n",
       "0     {'ids': [2, 5], 'notes': 'Includes intense vio...  ...   \n",
       "1     {'ids': [5], 'notes': 'Dota 2 includes fantasy...  ...   \n",
       "2                        {'ids': [2, 5], 'notes': None}  ...   \n",
       "3     {'ids': [1, 2, 5], 'notes': 'Contains violence...  ...   \n",
       "4     {'ids': [5], 'notes': 'This is a first-person ...  ...   \n",
       "...                                                 ...  ...   \n",
       "999                          {'ids': [], 'notes': None}  ...   \n",
       "1000                         {'ids': [], 'notes': None}  ...   \n",
       "1001                     {'ids': [2, 5], 'notes': None}  ...   \n",
       "1002                         {'ids': [], 'notes': None}  ...   \n",
       "1003                         {'ids': [], 'notes': None}  ...   \n",
       "\n",
       "         recommendations                                    release_date  \\\n",
       "0     {'total': 4551811}  {'coming_soon': False, 'date': '21 Aug, 2012'}   \n",
       "1       {'total': 14350}   {'coming_soon': False, 'date': '9 Jul, 2013'}   \n",
       "2     {'total': 1741534}  {'coming_soon': False, 'date': 'Dec 21, 2017'}   \n",
       "3     {'total': 1023708}   {'coming_soon': False, 'date': '8 Feb, 2018'}   \n",
       "4     {'total': 1199549}   {'coming_soon': False, 'date': 'Dec 1, 2015'}   \n",
       "...                  ...                                             ...   \n",
       "999      {'total': 2166}  {'coming_soon': False, 'date': 'May 14, 2015'}   \n",
       "1000     {'total': 1161}   {'coming_soon': False, 'date': 'Mar 1, 2016'}   \n",
       "1001    {'total': 34297}  {'coming_soon': False, 'date': 'Oct 10, 2014'}   \n",
       "1002     {'total': 3685}   {'coming_soon': False, 'date': 'Sep 8, 2016'}   \n",
       "1003    {'total': 10466}  {'coming_soon': False, 'date': 'Nov 11, 2014'}   \n",
       "\n",
       "     required_age                                            reviews  \\\n",
       "0             0.0                                                NaN   \n",
       "1             0.0  “A modern multiplayer masterpiece.”<br>9.5/10 ...   \n",
       "2             0.0                                                NaN   \n",
       "3             0.0  “Rust is one of the cruelest games on Steam, a...   \n",
       "4            17.0                                                NaN   \n",
       "...           ...                                                ...   \n",
       "999           0.0                                                NaN   \n",
       "1000          0.0                                                NaN   \n",
       "1001         16.0                                                NaN   \n",
       "1002          0.0  “Project Highrise is the game that SimTower sh...   \n",
       "1003          0.0                                                NaN   \n",
       "\n",
       "                                            screenshots  \\\n",
       "0     [{'id': 0, 'path_thumbnail': 'https://shared.a...   \n",
       "1     [{'id': 0, 'path_thumbnail': 'https://shared.a...   \n",
       "2     [{'id': 0, 'path_thumbnail': 'https://shared.a...   \n",
       "3     [{'id': 0, 'path_thumbnail': 'https://shared.a...   \n",
       "4     [{'id': 0, 'path_thumbnail': 'https://shared.a...   \n",
       "...                                                 ...   \n",
       "999   [{'id': 0, 'path_thumbnail': 'https://shared.a...   \n",
       "1000  [{'id': 0, 'path_thumbnail': 'https://shared.a...   \n",
       "1001  [{'id': 0, 'path_thumbnail': 'https://shared.a...   \n",
       "1002  [{'id': 0, 'path_thumbnail': 'https://shared.a...   \n",
       "1003  [{'id': 0, 'path_thumbnail': 'https://shared.a...   \n",
       "\n",
       "                                      short_description  \\\n",
       "0     For over two decades, Counter-Strike has offer...   \n",
       "1     Every day, millions of players worldwide enter...   \n",
       "2     PUBG: BATTLEGROUNDS, the high-stakes winner-ta...   \n",
       "3     The only aim in Rust is to survive. Everything...   \n",
       "4     Rainbow Six Siege X is the reference in tactic...   \n",
       "...                                                 ...   \n",
       "999   Our &quot;Platinum Edition&quot; bundle provid...   \n",
       "1000  It is a time of great upheaval. The first Deat...   \n",
       "1001  “Ryse: Son of Rome” tells the story of Marius ...   \n",
       "1002  Project Highrise is a skyscraper construction ...   \n",
       "1003  The critically acclaimed Valkyria Chronicles i...   \n",
       "\n",
       "                                           support_info  \\\n",
       "0                              {'url': '', 'email': ''}   \n",
       "1                              {'url': '', 'email': ''}   \n",
       "2     {'url': 'https://support.pubg.com/hc/en-us', '...   \n",
       "3     {'url': 'http://support.facepunchstudios.com/'...   \n",
       "4        {'url': 'http://support.ubi.com', 'email': ''}   \n",
       "...                                                 ...   \n",
       "999   {'url': 'http://support.trainzportal.com/', 'e...   \n",
       "1000  {'url': 'http://help.disney.com/en_US/Games/St...   \n",
       "1001  {'url': 'https://crytek.kayako.com/', 'email':...   \n",
       "1002  {'url': 'https://www.kasedogames.com/contact',...   \n",
       "1003  {'url': 'https://support.sega.co.uk', 'email':...   \n",
       "\n",
       "                                    supported_languages  type  \\\n",
       "0     Czech, Danish, Dutch, English<strong>*</strong...  game   \n",
       "1     Bulgarian, Czech, Danish, Dutch, English<stron...  game   \n",
       "2     English, Korean, Simplified Chinese, French, G...  game   \n",
       "3     English<strong>*</strong>, French<strong>*</st...  game   \n",
       "4     English<strong>*</strong>, French<strong>*</st...  game   \n",
       "...                                                 ...   ...   \n",
       "999                     English, French, German, Polish  game   \n",
       "1000  English<strong>*</strong>, German<strong>*</st...  game   \n",
       "1001  English<strong>*</strong>, French<strong>*</st...  game   \n",
       "1002  English, French, Italian, German, Spanish - Sp...  game   \n",
       "1003  English<strong>*</strong><br><strong>*</strong...  game   \n",
       "\n",
       "                                                website  \n",
       "0                            http://counter-strike.net/  \n",
       "1                                 http://www.dota2.com/  \n",
       "2                                  https://www.pubg.com  \n",
       "3                            http://rust.facepunch.com/  \n",
       "4                              http://rainbow6.ubi.com/  \n",
       "...                                                 ...  \n",
       "999   http://www.trainzportal.com/product/view/train...  \n",
       "1000                                                NaN  \n",
       "1001                            http://www.rysegame.com  \n",
       "1002         http://www.kasedogames.com/projecthighrise  \n",
       "1003                                                NaN  \n",
       "\n",
       "[1000 rows x 43 columns]"
      ]
     },
     "execution_count": 244,
     "metadata": {},
     "output_type": "execute_result"
    }
   ],
   "source": [
    "new_game_details = top_1000_games_df[['appid', 'name']].merge(\n",
    "    top_1000_details_df[[i for i in top_1000_details_df.columns if i != 'name']], \n",
    "    on=\"appid\", \n",
    "    how=\"left\"\n",
    ").drop_duplicates(subset=['appid'])\n",
    "new_game_details"
   ]
  },
  {
   "cell_type": "code",
   "execution_count": 245,
   "id": "79f79bd6",
   "metadata": {},
   "outputs": [],
   "source": [
    "new_game_details.to_csv(\"../../data/top_1000_game_details.csv\", index=False)"
   ]
  },
  {
   "cell_type": "code",
   "execution_count": 248,
   "id": "0495631e",
   "metadata": {},
   "outputs": [
    {
     "data": {
      "text/html": [
       "<div>\n",
       "<style scoped>\n",
       "    .dataframe tbody tr th:only-of-type {\n",
       "        vertical-align: middle;\n",
       "    }\n",
       "\n",
       "    .dataframe tbody tr th {\n",
       "        vertical-align: top;\n",
       "    }\n",
       "\n",
       "    .dataframe thead th {\n",
       "        text-align: right;\n",
       "    }\n",
       "</style>\n",
       "<table border=\"1\" class=\"dataframe\">\n",
       "  <thead>\n",
       "    <tr style=\"text-align: right;\">\n",
       "      <th></th>\n",
       "      <th>appid</th>\n",
       "      <th>name</th>\n",
       "      <th>about_the_game</th>\n",
       "      <th>achievements</th>\n",
       "      <th>background</th>\n",
       "      <th>background_raw</th>\n",
       "      <th>capsule_image</th>\n",
       "      <th>capsule_imagev5</th>\n",
       "      <th>categories</th>\n",
       "      <th>content_descriptors</th>\n",
       "      <th>...</th>\n",
       "      <th>recommendations</th>\n",
       "      <th>release_date</th>\n",
       "      <th>required_age</th>\n",
       "      <th>reviews</th>\n",
       "      <th>screenshots</th>\n",
       "      <th>short_description</th>\n",
       "      <th>support_info</th>\n",
       "      <th>supported_languages</th>\n",
       "      <th>type</th>\n",
       "      <th>website</th>\n",
       "    </tr>\n",
       "  </thead>\n",
       "  <tbody>\n",
       "    <tr>\n",
       "      <th>17</th>\n",
       "      <td>550</td>\n",
       "      <td>Left 4 Dead 2</td>\n",
       "      <td>Set in the zombie apocalypse, Left 4 Dead 2 (L...</td>\n",
       "      <td>{'total': 101, 'highlighted': [{'name': 'CL0WN...</td>\n",
       "      <td>https://store.akamai.steamstatic.com/images/st...</td>\n",
       "      <td>https://store.akamai.steamstatic.com/images/st...</td>\n",
       "      <td>https://shared.akamai.steamstatic.com/store_it...</td>\n",
       "      <td>https://shared.akamai.steamstatic.com/store_it...</td>\n",
       "      <td>[{'id': 2, 'description': 'Single-player'}, {'...</td>\n",
       "      <td>{'ids': [2, 5], 'notes': 'Left 4 Dead 2 featur...</td>\n",
       "      <td>...</td>\n",
       "      <td>{'total': 738644}</td>\n",
       "      <td>{'coming_soon': False, 'date': 'Nov 16, 2009'}</td>\n",
       "      <td>0.0</td>\n",
       "      <td>NaN</td>\n",
       "      <td>[{'id': 0, 'path_thumbnail': 'https://shared.a...</td>\n",
       "      <td>Set in the zombie apocalypse, Left 4 Dead 2 (L...</td>\n",
       "      <td>{'url': 'http://steamcommunity.com/app/550', '...</td>\n",
       "      <td>Danish, Dutch, English&lt;strong&gt;*&lt;/strong&gt;, Finn...</td>\n",
       "      <td>game</td>\n",
       "      <td>http://www.l4d.com</td>\n",
       "    </tr>\n",
       "    <tr>\n",
       "      <th>226</th>\n",
       "      <td>500</td>\n",
       "      <td>Left 4 Dead</td>\n",
       "      <td>From Valve (the creators of Counter-Strike, Ha...</td>\n",
       "      <td>{'total': 73, 'highlighted': [{'name': 'DEAD S...</td>\n",
       "      <td>https://store.akamai.steamstatic.com/images/st...</td>\n",
       "      <td>https://store.akamai.steamstatic.com/images/st...</td>\n",
       "      <td>https://shared.akamai.steamstatic.com/store_it...</td>\n",
       "      <td>https://shared.akamai.steamstatic.com/store_it...</td>\n",
       "      <td>[{'id': 2, 'description': 'Single-player'}, {'...</td>\n",
       "      <td>{'ids': [2, 5], 'notes': 'Includes realistic v...</td>\n",
       "      <td>...</td>\n",
       "      <td>{'total': 52735}</td>\n",
       "      <td>{'coming_soon': False, 'date': 'Nov 17, 2008'}</td>\n",
       "      <td>0.0</td>\n",
       "      <td>NaN</td>\n",
       "      <td>[{'id': 0, 'path_thumbnail': 'https://shared.a...</td>\n",
       "      <td>From Valve (the creators of Counter-Strike, Ha...</td>\n",
       "      <td>{'url': 'http://steamcommunity.com/app/500', '...</td>\n",
       "      <td>English&lt;strong&gt;*&lt;/strong&gt;, French&lt;strong&gt;*&lt;/st...</td>\n",
       "      <td>game</td>\n",
       "      <td>http://www.l4d.com/</td>\n",
       "    </tr>\n",
       "    <tr>\n",
       "      <th>425</th>\n",
       "      <td>564</td>\n",
       "      <td>Left 4 Dead 2 Add-on Support</td>\n",
       "      <td>NaN</td>\n",
       "      <td>NaN</td>\n",
       "      <td>NaN</td>\n",
       "      <td>NaN</td>\n",
       "      <td>NaN</td>\n",
       "      <td>NaN</td>\n",
       "      <td>NaN</td>\n",
       "      <td>NaN</td>\n",
       "      <td>...</td>\n",
       "      <td>NaN</td>\n",
       "      <td>NaN</td>\n",
       "      <td>NaN</td>\n",
       "      <td>NaN</td>\n",
       "      <td>NaN</td>\n",
       "      <td>NaN</td>\n",
       "      <td>NaN</td>\n",
       "      <td>NaN</td>\n",
       "      <td>NaN</td>\n",
       "      <td>NaN</td>\n",
       "    </tr>\n",
       "  </tbody>\n",
       "</table>\n",
       "<p>3 rows × 43 columns</p>\n",
       "</div>"
      ],
      "text/plain": [
       "     appid                          name  \\\n",
       "17     550                 Left 4 Dead 2   \n",
       "226    500                   Left 4 Dead   \n",
       "425    564  Left 4 Dead 2 Add-on Support   \n",
       "\n",
       "                                        about_the_game  \\\n",
       "17   Set in the zombie apocalypse, Left 4 Dead 2 (L...   \n",
       "226  From Valve (the creators of Counter-Strike, Ha...   \n",
       "425                                                NaN   \n",
       "\n",
       "                                          achievements  \\\n",
       "17   {'total': 101, 'highlighted': [{'name': 'CL0WN...   \n",
       "226  {'total': 73, 'highlighted': [{'name': 'DEAD S...   \n",
       "425                                                NaN   \n",
       "\n",
       "                                            background  \\\n",
       "17   https://store.akamai.steamstatic.com/images/st...   \n",
       "226  https://store.akamai.steamstatic.com/images/st...   \n",
       "425                                                NaN   \n",
       "\n",
       "                                        background_raw  \\\n",
       "17   https://store.akamai.steamstatic.com/images/st...   \n",
       "226  https://store.akamai.steamstatic.com/images/st...   \n",
       "425                                                NaN   \n",
       "\n",
       "                                         capsule_image  \\\n",
       "17   https://shared.akamai.steamstatic.com/store_it...   \n",
       "226  https://shared.akamai.steamstatic.com/store_it...   \n",
       "425                                                NaN   \n",
       "\n",
       "                                       capsule_imagev5  \\\n",
       "17   https://shared.akamai.steamstatic.com/store_it...   \n",
       "226  https://shared.akamai.steamstatic.com/store_it...   \n",
       "425                                                NaN   \n",
       "\n",
       "                                            categories  \\\n",
       "17   [{'id': 2, 'description': 'Single-player'}, {'...   \n",
       "226  [{'id': 2, 'description': 'Single-player'}, {'...   \n",
       "425                                                NaN   \n",
       "\n",
       "                                   content_descriptors  ...  \\\n",
       "17   {'ids': [2, 5], 'notes': 'Left 4 Dead 2 featur...  ...   \n",
       "226  {'ids': [2, 5], 'notes': 'Includes realistic v...  ...   \n",
       "425                                                NaN  ...   \n",
       "\n",
       "       recommendations                                    release_date  \\\n",
       "17   {'total': 738644}  {'coming_soon': False, 'date': 'Nov 16, 2009'}   \n",
       "226   {'total': 52735}  {'coming_soon': False, 'date': 'Nov 17, 2008'}   \n",
       "425                NaN                                             NaN   \n",
       "\n",
       "    required_age reviews                                        screenshots  \\\n",
       "17           0.0     NaN  [{'id': 0, 'path_thumbnail': 'https://shared.a...   \n",
       "226          0.0     NaN  [{'id': 0, 'path_thumbnail': 'https://shared.a...   \n",
       "425          NaN     NaN                                                NaN   \n",
       "\n",
       "                                     short_description  \\\n",
       "17   Set in the zombie apocalypse, Left 4 Dead 2 (L...   \n",
       "226  From Valve (the creators of Counter-Strike, Ha...   \n",
       "425                                                NaN   \n",
       "\n",
       "                                          support_info  \\\n",
       "17   {'url': 'http://steamcommunity.com/app/550', '...   \n",
       "226  {'url': 'http://steamcommunity.com/app/500', '...   \n",
       "425                                                NaN   \n",
       "\n",
       "                                   supported_languages  type  \\\n",
       "17   Danish, Dutch, English<strong>*</strong>, Finn...  game   \n",
       "226  English<strong>*</strong>, French<strong>*</st...  game   \n",
       "425                                                NaN   NaN   \n",
       "\n",
       "                 website  \n",
       "17    http://www.l4d.com  \n",
       "226  http://www.l4d.com/  \n",
       "425                  NaN  \n",
       "\n",
       "[3 rows x 43 columns]"
      ]
     },
     "execution_count": 248,
     "metadata": {},
     "output_type": "execute_result"
    }
   ],
   "source": [
    "new_game_details[new_game_details['name'].str.lower().str.startswith(\"left\")]"
   ]
  },
  {
   "cell_type": "code",
   "execution_count": null,
   "id": "3306a69e",
   "metadata": {},
   "outputs": [],
   "source": []
  }
 ],
 "metadata": {
  "kernelspec": {
   "display_name": "capstone",
   "language": "python",
   "name": "python3"
  },
  "language_info": {
   "codemirror_mode": {
    "name": "ipython",
    "version": 3
   },
   "file_extension": ".py",
   "mimetype": "text/x-python",
   "name": "python",
   "nbconvert_exporter": "python",
   "pygments_lexer": "ipython3",
   "version": "3.11.13"
  }
 },
 "nbformat": 4,
 "nbformat_minor": 5
}
