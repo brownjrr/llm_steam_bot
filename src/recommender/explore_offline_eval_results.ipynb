{
 "cells": [
  {
   "cell_type": "code",
   "execution_count": 3,
   "id": "f9e7344b",
   "metadata": {},
   "outputs": [],
   "source": [
    "import pandas as pd\n",
    "import numpy as np\n",
    "import matplotlib.pyplot as plt"
   ]
  },
  {
   "cell_type": "markdown",
   "id": "ac69acfe",
   "metadata": {},
   "source": [
    "# Import Offline Evaluation Results"
   ]
  },
  {
   "cell_type": "code",
   "execution_count": 4,
   "id": "6f3183d3",
   "metadata": {},
   "outputs": [
    {
     "data": {
      "text/html": [
       "<div>\n",
       "<style scoped>\n",
       "    .dataframe tbody tr th:only-of-type {\n",
       "        vertical-align: middle;\n",
       "    }\n",
       "\n",
       "    .dataframe tbody tr th {\n",
       "        vertical-align: top;\n",
       "    }\n",
       "\n",
       "    .dataframe thead th {\n",
       "        text-align: right;\n",
       "    }\n",
       "</style>\n",
       "<table border=\"1\" class=\"dataframe\">\n",
       "  <thead>\n",
       "    <tr style=\"text-align: right;\">\n",
       "      <th></th>\n",
       "      <th>name</th>\n",
       "      <th>k</th>\n",
       "      <th>hit_rate</th>\n",
       "      <th>mean_avg_prec</th>\n",
       "      <th>ndcg</th>\n",
       "    </tr>\n",
       "  </thead>\n",
       "  <tbody>\n",
       "    <tr>\n",
       "      <th>8</th>\n",
       "      <td>Image Summary (Keywords)</td>\n",
       "      <td>1</td>\n",
       "      <td>0.180213</td>\n",
       "      <td>0.180213</td>\n",
       "      <td>0.000000</td>\n",
       "    </tr>\n",
       "    <tr>\n",
       "      <th>20</th>\n",
       "      <td>Llama-3.1 Recommendations</td>\n",
       "      <td>1</td>\n",
       "      <td>0.277850</td>\n",
       "      <td>0.277850</td>\n",
       "      <td>0.000000</td>\n",
       "    </tr>\n",
       "    <tr>\n",
       "      <th>0</th>\n",
       "      <td>Normal</td>\n",
       "      <td>1</td>\n",
       "      <td>0.165152</td>\n",
       "      <td>0.165152</td>\n",
       "      <td>0.000000</td>\n",
       "    </tr>\n",
       "    <tr>\n",
       "      <th>12</th>\n",
       "      <td>Screenshot Summary (Keywords)</td>\n",
       "      <td>1</td>\n",
       "      <td>0.185926</td>\n",
       "      <td>0.185926</td>\n",
       "      <td>0.000000</td>\n",
       "    </tr>\n",
       "    <tr>\n",
       "      <th>16</th>\n",
       "      <td>Screenshot and Header Image Keywords</td>\n",
       "      <td>1</td>\n",
       "      <td>0.203064</td>\n",
       "      <td>0.203064</td>\n",
       "      <td>0.000000</td>\n",
       "    </tr>\n",
       "    <tr>\n",
       "      <th>9</th>\n",
       "      <td>Image Summary (Keywords)</td>\n",
       "      <td>5</td>\n",
       "      <td>0.469229</td>\n",
       "      <td>0.141729</td>\n",
       "      <td>0.343800</td>\n",
       "    </tr>\n",
       "    <tr>\n",
       "      <th>21</th>\n",
       "      <td>Llama-3.1 Recommendations</td>\n",
       "      <td>5</td>\n",
       "      <td>0.450273</td>\n",
       "      <td>0.154973</td>\n",
       "      <td>0.325827</td>\n",
       "    </tr>\n",
       "    <tr>\n",
       "      <th>1</th>\n",
       "      <td>Normal</td>\n",
       "      <td>5</td>\n",
       "      <td>0.443002</td>\n",
       "      <td>0.130200</td>\n",
       "      <td>0.319237</td>\n",
       "    </tr>\n",
       "    <tr>\n",
       "      <th>13</th>\n",
       "      <td>Screenshot Summary (Keywords)</td>\n",
       "      <td>5</td>\n",
       "      <td>0.477279</td>\n",
       "      <td>0.144274</td>\n",
       "      <td>0.352259</td>\n",
       "    </tr>\n",
       "    <tr>\n",
       "      <th>17</th>\n",
       "      <td>Screenshot and Header Image Keywords</td>\n",
       "      <td>5</td>\n",
       "      <td>0.502207</td>\n",
       "      <td>0.155596</td>\n",
       "      <td>0.375539</td>\n",
       "    </tr>\n",
       "    <tr>\n",
       "      <th>10</th>\n",
       "      <td>Image Summary (Keywords)</td>\n",
       "      <td>10</td>\n",
       "      <td>0.627629</td>\n",
       "      <td>0.122306</td>\n",
       "      <td>0.392674</td>\n",
       "    </tr>\n",
       "    <tr>\n",
       "      <th>22</th>\n",
       "      <td>Llama-3.1 Recommendations</td>\n",
       "      <td>10</td>\n",
       "      <td>0.475721</td>\n",
       "      <td>0.129213</td>\n",
       "      <td>0.306083</td>\n",
       "    </tr>\n",
       "    <tr>\n",
       "      <th>2</th>\n",
       "      <td>Normal</td>\n",
       "      <td>10</td>\n",
       "      <td>0.601402</td>\n",
       "      <td>0.111867</td>\n",
       "      <td>0.368718</td>\n",
       "    </tr>\n",
       "    <tr>\n",
       "      <th>14</th>\n",
       "      <td>Screenshot Summary (Keywords)</td>\n",
       "      <td>10</td>\n",
       "      <td>0.637237</td>\n",
       "      <td>0.123552</td>\n",
       "      <td>0.400945</td>\n",
       "    </tr>\n",
       "    <tr>\n",
       "      <th>18</th>\n",
       "      <td>Screenshot and Header Image Keywords</td>\n",
       "      <td>10</td>\n",
       "      <td>0.654375</td>\n",
       "      <td>0.131135</td>\n",
       "      <td>0.422058</td>\n",
       "    </tr>\n",
       "    <tr>\n",
       "      <th>11</th>\n",
       "      <td>Image Summary (Keywords)</td>\n",
       "      <td>20</td>\n",
       "      <td>0.757206</td>\n",
       "      <td>0.098520</td>\n",
       "      <td>0.418829</td>\n",
       "    </tr>\n",
       "    <tr>\n",
       "      <th>23</th>\n",
       "      <td>Llama-3.1 Recommendations</td>\n",
       "      <td>20</td>\n",
       "      <td>0.488964</td>\n",
       "      <td>0.113136</td>\n",
       "      <td>0.287887</td>\n",
       "    </tr>\n",
       "    <tr>\n",
       "      <th>3</th>\n",
       "      <td>Normal</td>\n",
       "      <td>20</td>\n",
       "      <td>0.738769</td>\n",
       "      <td>0.094183</td>\n",
       "      <td>0.396806</td>\n",
       "    </tr>\n",
       "    <tr>\n",
       "      <th>15</th>\n",
       "      <td>Screenshot Summary (Keywords)</td>\n",
       "      <td>20</td>\n",
       "      <td>0.764217</td>\n",
       "      <td>0.101117</td>\n",
       "      <td>0.424798</td>\n",
       "    </tr>\n",
       "    <tr>\n",
       "      <th>19</th>\n",
       "      <td>Screenshot and Header Image Keywords</td>\n",
       "      <td>20</td>\n",
       "      <td>0.776681</td>\n",
       "      <td>0.106037</td>\n",
       "      <td>0.443664</td>\n",
       "    </tr>\n",
       "  </tbody>\n",
       "</table>\n",
       "</div>"
      ],
      "text/plain": [
       "                                    name   k  hit_rate  mean_avg_prec  \\\n",
       "8               Image Summary (Keywords)   1  0.180213       0.180213   \n",
       "20             Llama-3.1 Recommendations   1  0.277850       0.277850   \n",
       "0                                 Normal   1  0.165152       0.165152   \n",
       "12         Screenshot Summary (Keywords)   1  0.185926       0.185926   \n",
       "16  Screenshot and Header Image Keywords   1  0.203064       0.203064   \n",
       "9               Image Summary (Keywords)   5  0.469229       0.141729   \n",
       "21             Llama-3.1 Recommendations   5  0.450273       0.154973   \n",
       "1                                 Normal   5  0.443002       0.130200   \n",
       "13         Screenshot Summary (Keywords)   5  0.477279       0.144274   \n",
       "17  Screenshot and Header Image Keywords   5  0.502207       0.155596   \n",
       "10              Image Summary (Keywords)  10  0.627629       0.122306   \n",
       "22             Llama-3.1 Recommendations  10  0.475721       0.129213   \n",
       "2                                 Normal  10  0.601402       0.111867   \n",
       "14         Screenshot Summary (Keywords)  10  0.637237       0.123552   \n",
       "18  Screenshot and Header Image Keywords  10  0.654375       0.131135   \n",
       "11              Image Summary (Keywords)  20  0.757206       0.098520   \n",
       "23             Llama-3.1 Recommendations  20  0.488964       0.113136   \n",
       "3                                 Normal  20  0.738769       0.094183   \n",
       "15         Screenshot Summary (Keywords)  20  0.764217       0.101117   \n",
       "19  Screenshot and Header Image Keywords  20  0.776681       0.106037   \n",
       "\n",
       "        ndcg  \n",
       "8   0.000000  \n",
       "20  0.000000  \n",
       "0   0.000000  \n",
       "12  0.000000  \n",
       "16  0.000000  \n",
       "9   0.343800  \n",
       "21  0.325827  \n",
       "1   0.319237  \n",
       "13  0.352259  \n",
       "17  0.375539  \n",
       "10  0.392674  \n",
       "22  0.306083  \n",
       "2   0.368718  \n",
       "14  0.400945  \n",
       "18  0.422058  \n",
       "11  0.418829  \n",
       "23  0.287887  \n",
       "3   0.396806  \n",
       "15  0.424798  \n",
       "19  0.443664  "
      ]
     },
     "execution_count": 4,
     "metadata": {},
     "output_type": "execute_result"
    }
   ],
   "source": [
    "df = pd.read_csv(\"offline_eval_results.csv\")\n",
    "llm_df = pd.read_csv(\"llm_offline_eval_results.csv\")\n",
    "\n",
    "df = pd.concat([df, llm_df]).reset_index(drop=True)\n",
    "\n",
    "df = df.sort_values(by=['k', 'name'], ascending=[True, True])\n",
    "\n",
    "# dropping Image Summary (Tone) rows\n",
    "df = df[df['name']!=\"Image Summary (Tone)\"]\n",
    "df"
   ]
  },
  {
   "cell_type": "code",
   "execution_count": 5,
   "id": "da08395e",
   "metadata": {},
   "outputs": [
    {
     "data": {
      "image/png": "[encoded data removed]",
      "text/plain": [
       "<Figure size 800x500 with 1 Axes>"
      ]
     },
     "metadata": {},
     "output_type": "display_data"
    }
   ],
   "source": [
    "plt.figure(figsize=(8, 5))\n",
    "\n",
    "for method in df['name'].unique():\n",
    "    subset = df[df['name'] == method]\n",
    "    plt.plot(subset['k'], subset['hit_rate'], marker='o', label=method)\n",
    "\n",
    "plt.xlabel('k')\n",
    "plt.xticks(sorted(list(df['k'].unique())))\n",
    "plt.ylabel('Hit Rate')\n",
    "plt.title('Hit Rate@k')\n",
    "plt.legend(\n",
    "    title='Method', \n",
    ")\n",
    "plt.tight_layout()\n",
    "plt.show()"
   ]
  },
  {
   "cell_type": "code",
   "execution_count": 6,
   "id": "1519eb67",
   "metadata": {},
   "outputs": [
    {
     "data": {
      "image/png": "[encoded data removed]",
      "text/plain": [
       "<Figure size 800x500 with 1 Axes>"
      ]
     },
     "metadata": {},
     "output_type": "display_data"
    }
   ],
   "source": [
    "plt.figure(figsize=(8, 5))\n",
    "\n",
    "for method in df['name'].unique():\n",
    "    subset = df[df['name'] == method]\n",
    "    plt.plot(subset['k'], subset['mean_avg_prec'], marker='o', label=method)\n",
    "\n",
    "plt.xlabel('k')\n",
    "plt.xticks(sorted(list(df['k'].unique())))\n",
    "plt.ylabel('Mean Avg Precision')\n",
    "plt.title('MAP@k')\n",
    "plt.legend(\n",
    "    title='Method', \n",
    ")\n",
    "plt.tight_layout()\n",
    "plt.show()"
   ]
  },
  {
   "cell_type": "code",
   "execution_count": 7,
   "id": "ec9a4a20",
   "metadata": {},
   "outputs": [
    {
     "data": {
      "image/png": "[encoded data removed]",
      "text/plain": [
       "<Figure size 800x500 with 1 Axes>"
      ]
     },
     "metadata": {},
     "output_type": "display_data"
    }
   ],
   "source": [
    "plt.figure(figsize=(8, 5))\n",
    "\n",
    "for method in df['name'].unique():\n",
    "    subset = df[df['name'] == method]\n",
    "    plt.plot(subset['k'], subset['ndcg'], marker='o', label=method)\n",
    "\n",
    "plt.xlabel('k')\n",
    "plt.xticks(sorted(list(df['k'].unique())))\n",
    "plt.ylabel('Normalized Discounted Cumulative Gain')\n",
    "plt.title('NDCG@k')\n",
    "plt.legend(\n",
    "    title='Method', \n",
    ")\n",
    "plt.tight_layout()\n",
    "plt.show()"
   ]
  },
  {
   "cell_type": "markdown",
   "id": "765bd9a9",
   "metadata": {},
   "source": [
    "# Explore Memory-based Collaborative Model Results"
   ]
  },
  {
   "cell_type": "code",
   "execution_count": 53,
   "id": "3e3302b6",
   "metadata": {},
   "outputs": [
    {
     "data": {
      "text/html": [
       "<div>\n",
       "<style scoped>\n",
       "    .dataframe tbody tr th:only-of-type {\n",
       "        vertical-align: middle;\n",
       "    }\n",
       "\n",
       "    .dataframe tbody tr th {\n",
       "        vertical-align: top;\n",
       "    }\n",
       "\n",
       "    .dataframe thead th {\n",
       "        text-align: right;\n",
       "    }\n",
       "</style>\n",
       "<table border=\"1\" class=\"dataframe\">\n",
       "  <thead>\n",
       "    <tr style=\"text-align: right;\">\n",
       "      <th></th>\n",
       "      <th>name</th>\n",
       "      <th>k</th>\n",
       "      <th>hit_rate</th>\n",
       "      <th>mean_avg_prec</th>\n",
       "      <th>ndcg</th>\n",
       "    </tr>\n",
       "  </thead>\n",
       "  <tbody>\n",
       "    <tr>\n",
       "      <th>0</th>\n",
       "      <td>Memory-Based Collaborative Filtering</td>\n",
       "      <td>1</td>\n",
       "      <td>0.641392</td>\n",
       "      <td>0.641392</td>\n",
       "      <td>0.000000</td>\n",
       "    </tr>\n",
       "    <tr>\n",
       "      <th>1</th>\n",
       "      <td>Memory-Based Collaborative Filtering</td>\n",
       "      <td>5</td>\n",
       "      <td>0.896650</td>\n",
       "      <td>0.490548</td>\n",
       "      <td>0.767332</td>\n",
       "    </tr>\n",
       "    <tr>\n",
       "      <th>2</th>\n",
       "      <td>Memory-Based Collaborative Filtering</td>\n",
       "      <td>10</td>\n",
       "      <td>0.952480</td>\n",
       "      <td>0.407150</td>\n",
       "      <td>0.763806</td>\n",
       "    </tr>\n",
       "    <tr>\n",
       "      <th>3</th>\n",
       "      <td>Memory-Based Collaborative Filtering</td>\n",
       "      <td>20</td>\n",
       "      <td>0.977668</td>\n",
       "      <td>0.345812</td>\n",
       "      <td>0.744820</td>\n",
       "    </tr>\n",
       "  </tbody>\n",
       "</table>\n",
       "</div>"
      ],
      "text/plain": [
       "                                   name   k  hit_rate  mean_avg_prec      ndcg\n",
       "0  Memory-Based Collaborative Filtering   1  0.641392       0.641392  0.000000\n",
       "1  Memory-Based Collaborative Filtering   5  0.896650       0.490548  0.767332\n",
       "2  Memory-Based Collaborative Filtering  10  0.952480       0.407150  0.763806\n",
       "3  Memory-Based Collaborative Filtering  20  0.977668       0.345812  0.744820"
      ]
     },
     "execution_count": 53,
     "metadata": {},
     "output_type": "execute_result"
    }
   ],
   "source": [
    "collab_filtering_df = pd.read_csv(\"collaborative_offline_eval_results.csv\")\n",
    "collab_filtering_df"
   ]
  },
  {
   "cell_type": "code",
   "execution_count": 54,
   "id": "4b72c3f2",
   "metadata": {},
   "outputs": [
    {
     "data": {
      "image/png": "[encoded data removed]",
      "text/plain": [
       "<Figure size 800x500 with 1 Axes>"
      ]
     },
     "metadata": {},
     "output_type": "display_data"
    }
   ],
   "source": [
    "plt.figure(figsize=(8, 5))\n",
    "\n",
    "for method in collab_filtering_df['name'].unique():\n",
    "    subset = collab_filtering_df[collab_filtering_df['name'] == method]\n",
    "    plt.plot(subset['k'], subset['hit_rate'], marker='o', label=method)\n",
    "\n",
    "plt.xlabel('k')\n",
    "plt.xticks(sorted(list(collab_filtering_df['k'].unique())))\n",
    "plt.ylabel('Hit Rate')\n",
    "plt.title('Hit Rate@k')\n",
    "plt.legend(\n",
    "    title='Method', \n",
    ")\n",
    "plt.tight_layout()\n",
    "plt.show()"
   ]
  },
  {
   "cell_type": "code",
   "execution_count": 55,
   "id": "dd3de57d",
   "metadata": {},
   "outputs": [
    {
     "data": {
      "image/png": "[encoded data removed]",
      "text/plain": [
       "<Figure size 800x500 with 1 Axes>"
      ]
     },
     "metadata": {},
     "output_type": "display_data"
    }
   ],
   "source": [
    "plt.figure(figsize=(8, 5))\n",
    "\n",
    "for method in collab_filtering_df['name'].unique():\n",
    "    subset = collab_filtering_df[collab_filtering_df['name'] == method]\n",
    "    plt.plot(subset['k'], subset['mean_avg_prec'], marker='o', label=method)\n",
    "\n",
    "plt.xlabel('k')\n",
    "plt.xticks(sorted(list(collab_filtering_df['k'].unique())))\n",
    "plt.ylabel('Mean Avg Precision')\n",
    "plt.title('MAP@k')\n",
    "plt.legend(\n",
    "    title='Method', \n",
    ")\n",
    "plt.tight_layout()\n",
    "plt.show()"
   ]
  },
  {
   "cell_type": "code",
   "execution_count": 56,
   "id": "bbd427e8",
   "metadata": {},
   "outputs": [
    {
     "data": {
      "image/png": "[encoded data removed]",
      "text/plain": [
       "<Figure size 800x500 with 1 Axes>"
      ]
     },
     "metadata": {},
     "output_type": "display_data"
    }
   ],
   "source": [
    "plt.figure(figsize=(8, 5))\n",
    "\n",
    "for method in collab_filtering_df['name'].unique():\n",
    "    subset = collab_filtering_df[collab_filtering_df['name'] == method]\n",
    "    plt.plot(subset['k'], subset['ndcg'], marker='o', label=method)\n",
    "\n",
    "plt.xlabel('k')\n",
    "plt.xticks(sorted(list(collab_filtering_df['k'].unique())))\n",
    "plt.ylabel('Normalized Discounted Cumulative Gain')\n",
    "plt.title('NDCG@k')\n",
    "plt.legend(\n",
    "    title='Method', \n",
    ")\n",
    "plt.tight_layout()\n",
    "plt.show()"
   ]
  },
  {
   "cell_type": "markdown",
   "id": "92e3782c",
   "metadata": {},
   "source": [
    "# Explore Hyrbid Model Results"
   ]
  },
  {
   "cell_type": "code",
   "execution_count": null,
   "id": "f138cff7",
   "metadata": {},
   "outputs": [
    {
     "data": {
      "text/html": [
       "<div>\n",
       "<style scoped>\n",
       "    .dataframe tbody tr th:only-of-type {\n",
       "        vertical-align: middle;\n",
       "    }\n",
       "\n",
       "    .dataframe tbody tr th {\n",
       "        vertical-align: top;\n",
       "    }\n",
       "\n",
       "    .dataframe thead th {\n",
       "        text-align: right;\n",
       "    }\n",
       "</style>\n",
       "<table border=\"1\" class=\"dataframe\">\n",
       "  <thead>\n",
       "    <tr style=\"text-align: right;\">\n",
       "      <th></th>\n",
       "      <th>weight</th>\n",
       "      <th>num_train_examples</th>\n",
       "      <th>k</th>\n",
       "      <th>hit_rate</th>\n",
       "      <th>mean_avg_prec</th>\n",
       "      <th>ndcg</th>\n",
       "      <th>method</th>\n",
       "    </tr>\n",
       "  </thead>\n",
       "  <tbody>\n",
       "    <tr>\n",
       "      <th>0</th>\n",
       "      <td>0.800</td>\n",
       "      <td>NaN</td>\n",
       "      <td>1</td>\n",
       "      <td>0.672812</td>\n",
       "      <td>0.600623</td>\n",
       "      <td>0.363412</td>\n",
       "      <td>Weight=0.8 | Num_Train_Examples=nan</td>\n",
       "    </tr>\n",
       "    <tr>\n",
       "      <th>1</th>\n",
       "      <td>0.800</td>\n",
       "      <td>NaN</td>\n",
       "      <td>5</td>\n",
       "      <td>0.921579</td>\n",
       "      <td>0.413763</td>\n",
       "      <td>0.629114</td>\n",
       "      <td>Weight=0.8 | Num_Train_Examples=nan</td>\n",
       "    </tr>\n",
       "    <tr>\n",
       "      <th>2</th>\n",
       "      <td>0.800</td>\n",
       "      <td>NaN</td>\n",
       "      <td>10</td>\n",
       "      <td>0.968839</td>\n",
       "      <td>0.335939</td>\n",
       "      <td>0.643888</td>\n",
       "      <td>Weight=0.8 | Num_Train_Examples=nan</td>\n",
       "    </tr>\n",
       "    <tr>\n",
       "      <th>3</th>\n",
       "      <td>0.800</td>\n",
       "      <td>NaN</td>\n",
       "      <td>20</td>\n",
       "      <td>0.983900</td>\n",
       "      <td>0.275396</td>\n",
       "      <td>0.633107</td>\n",
       "      <td>Weight=0.8 | Num_Train_Examples=nan</td>\n",
       "    </tr>\n",
       "    <tr>\n",
       "      <th>4</th>\n",
       "      <td>0.800</td>\n",
       "      <td>5.0</td>\n",
       "      <td>1</td>\n",
       "      <td>0.704233</td>\n",
       "      <td>0.555959</td>\n",
       "      <td>0.364970</td>\n",
       "      <td>Weight=0.8 | Num_Train_Examples=5.0</td>\n",
       "    </tr>\n",
       "    <tr>\n",
       "      <th>5</th>\n",
       "      <td>0.800</td>\n",
       "      <td>5.0</td>\n",
       "      <td>5</td>\n",
       "      <td>0.926513</td>\n",
       "      <td>0.408933</td>\n",
       "      <td>0.645001</td>\n",
       "      <td>Weight=0.8 | Num_Train_Examples=5.0</td>\n",
       "    </tr>\n",
       "    <tr>\n",
       "      <th>6</th>\n",
       "      <td>0.800</td>\n",
       "      <td>5.0</td>\n",
       "      <td>10</td>\n",
       "      <td>0.969878</td>\n",
       "      <td>0.334329</td>\n",
       "      <td>0.648602</td>\n",
       "      <td>Weight=0.8 | Num_Train_Examples=5.0</td>\n",
       "    </tr>\n",
       "    <tr>\n",
       "      <th>7</th>\n",
       "      <td>0.800</td>\n",
       "      <td>5.0</td>\n",
       "      <td>20</td>\n",
       "      <td>0.984160</td>\n",
       "      <td>0.271579</td>\n",
       "      <td>0.639952</td>\n",
       "      <td>Weight=0.8 | Num_Train_Examples=5.0</td>\n",
       "    </tr>\n",
       "    <tr>\n",
       "      <th>8</th>\n",
       "      <td>0.800</td>\n",
       "      <td>10.0</td>\n",
       "      <td>1</td>\n",
       "      <td>0.686315</td>\n",
       "      <td>0.581148</td>\n",
       "      <td>0.360815</td>\n",
       "      <td>Weight=0.8 | Num_Train_Examples=10.0</td>\n",
       "    </tr>\n",
       "    <tr>\n",
       "      <th>9</th>\n",
       "      <td>0.800</td>\n",
       "      <td>10.0</td>\n",
       "      <td>5</td>\n",
       "      <td>0.926513</td>\n",
       "      <td>0.415736</td>\n",
       "      <td>0.635209</td>\n",
       "      <td>Weight=0.8 | Num_Train_Examples=10.0</td>\n",
       "    </tr>\n",
       "    <tr>\n",
       "      <th>10</th>\n",
       "      <td>0.800</td>\n",
       "      <td>10.0</td>\n",
       "      <td>10</td>\n",
       "      <td>0.969618</td>\n",
       "      <td>0.336874</td>\n",
       "      <td>0.641824</td>\n",
       "      <td>Weight=0.8 | Num_Train_Examples=10.0</td>\n",
       "    </tr>\n",
       "    <tr>\n",
       "      <th>11</th>\n",
       "      <td>0.800</td>\n",
       "      <td>10.0</td>\n",
       "      <td>20</td>\n",
       "      <td>0.983900</td>\n",
       "      <td>0.273968</td>\n",
       "      <td>0.634306</td>\n",
       "      <td>Weight=0.8 | Num_Train_Examples=10.0</td>\n",
       "    </tr>\n",
       "    <tr>\n",
       "      <th>12</th>\n",
       "      <td>0.900</td>\n",
       "      <td>NaN</td>\n",
       "      <td>1</td>\n",
       "      <td>0.672812</td>\n",
       "      <td>0.600623</td>\n",
       "      <td>0.363412</td>\n",
       "      <td>Weight=0.9 | Num_Train_Examples=nan</td>\n",
       "    </tr>\n",
       "    <tr>\n",
       "      <th>13</th>\n",
       "      <td>0.900</td>\n",
       "      <td>NaN</td>\n",
       "      <td>5</td>\n",
       "      <td>0.921579</td>\n",
       "      <td>0.413763</td>\n",
       "      <td>0.645090</td>\n",
       "      <td>Weight=0.9 | Num_Train_Examples=nan</td>\n",
       "    </tr>\n",
       "    <tr>\n",
       "      <th>14</th>\n",
       "      <td>0.900</td>\n",
       "      <td>NaN</td>\n",
       "      <td>10</td>\n",
       "      <td>0.968839</td>\n",
       "      <td>0.335939</td>\n",
       "      <td>0.659380</td>\n",
       "      <td>Weight=0.9 | Num_Train_Examples=nan</td>\n",
       "    </tr>\n",
       "    <tr>\n",
       "      <th>15</th>\n",
       "      <td>0.900</td>\n",
       "      <td>NaN</td>\n",
       "      <td>20</td>\n",
       "      <td>0.983900</td>\n",
       "      <td>0.275396</td>\n",
       "      <td>0.650316</td>\n",
       "      <td>Weight=0.9 | Num_Train_Examples=nan</td>\n",
       "    </tr>\n",
       "    <tr>\n",
       "      <th>16</th>\n",
       "      <td>0.900</td>\n",
       "      <td>5.0</td>\n",
       "      <td>1</td>\n",
       "      <td>0.704233</td>\n",
       "      <td>0.555959</td>\n",
       "      <td>0.364970</td>\n",
       "      <td>Weight=0.9 | Num_Train_Examples=5.0</td>\n",
       "    </tr>\n",
       "    <tr>\n",
       "      <th>17</th>\n",
       "      <td>0.900</td>\n",
       "      <td>5.0</td>\n",
       "      <td>5</td>\n",
       "      <td>0.926513</td>\n",
       "      <td>0.408933</td>\n",
       "      <td>0.656634</td>\n",
       "      <td>Weight=0.9 | Num_Train_Examples=5.0</td>\n",
       "    </tr>\n",
       "    <tr>\n",
       "      <th>18</th>\n",
       "      <td>0.900</td>\n",
       "      <td>5.0</td>\n",
       "      <td>10</td>\n",
       "      <td>0.969878</td>\n",
       "      <td>0.334329</td>\n",
       "      <td>0.659562</td>\n",
       "      <td>Weight=0.9 | Num_Train_Examples=5.0</td>\n",
       "    </tr>\n",
       "    <tr>\n",
       "      <th>19</th>\n",
       "      <td>0.900</td>\n",
       "      <td>5.0</td>\n",
       "      <td>20</td>\n",
       "      <td>0.984160</td>\n",
       "      <td>0.271579</td>\n",
       "      <td>0.652090</td>\n",
       "      <td>Weight=0.9 | Num_Train_Examples=5.0</td>\n",
       "    </tr>\n",
       "    <tr>\n",
       "      <th>20</th>\n",
       "      <td>0.900</td>\n",
       "      <td>10.0</td>\n",
       "      <td>1</td>\n",
       "      <td>0.686315</td>\n",
       "      <td>0.581148</td>\n",
       "      <td>0.360815</td>\n",
       "      <td>Weight=0.9 | Num_Train_Examples=10.0</td>\n",
       "    </tr>\n",
       "    <tr>\n",
       "      <th>21</th>\n",
       "      <td>0.900</td>\n",
       "      <td>10.0</td>\n",
       "      <td>5</td>\n",
       "      <td>0.926513</td>\n",
       "      <td>0.415736</td>\n",
       "      <td>0.649220</td>\n",
       "      <td>Weight=0.9 | Num_Train_Examples=10.0</td>\n",
       "    </tr>\n",
       "    <tr>\n",
       "      <th>22</th>\n",
       "      <td>0.900</td>\n",
       "      <td>10.0</td>\n",
       "      <td>10</td>\n",
       "      <td>0.969618</td>\n",
       "      <td>0.336874</td>\n",
       "      <td>0.653700</td>\n",
       "      <td>Weight=0.9 | Num_Train_Examples=10.0</td>\n",
       "    </tr>\n",
       "    <tr>\n",
       "      <th>23</th>\n",
       "      <td>0.900</td>\n",
       "      <td>10.0</td>\n",
       "      <td>20</td>\n",
       "      <td>0.983900</td>\n",
       "      <td>0.273968</td>\n",
       "      <td>0.647134</td>\n",
       "      <td>Weight=0.9 | Num_Train_Examples=10.0</td>\n",
       "    </tr>\n",
       "    <tr>\n",
       "      <th>24</th>\n",
       "      <td>0.950</td>\n",
       "      <td>NaN</td>\n",
       "      <td>1</td>\n",
       "      <td>0.672812</td>\n",
       "      <td>0.600623</td>\n",
       "      <td>0.363412</td>\n",
       "      <td>Weight=0.95 | Num_Train_Examples=nan</td>\n",
       "    </tr>\n",
       "    <tr>\n",
       "      <th>25</th>\n",
       "      <td>0.950</td>\n",
       "      <td>NaN</td>\n",
       "      <td>5</td>\n",
       "      <td>0.921579</td>\n",
       "      <td>0.413763</td>\n",
       "      <td>0.652078</td>\n",
       "      <td>Weight=0.95 | Num_Train_Examples=nan</td>\n",
       "    </tr>\n",
       "    <tr>\n",
       "      <th>26</th>\n",
       "      <td>0.950</td>\n",
       "      <td>NaN</td>\n",
       "      <td>10</td>\n",
       "      <td>0.968839</td>\n",
       "      <td>0.335939</td>\n",
       "      <td>0.666412</td>\n",
       "      <td>Weight=0.95 | Num_Train_Examples=nan</td>\n",
       "    </tr>\n",
       "    <tr>\n",
       "      <th>27</th>\n",
       "      <td>0.950</td>\n",
       "      <td>NaN</td>\n",
       "      <td>20</td>\n",
       "      <td>0.983900</td>\n",
       "      <td>0.275396</td>\n",
       "      <td>0.659157</td>\n",
       "      <td>Weight=0.95 | Num_Train_Examples=nan</td>\n",
       "    </tr>\n",
       "    <tr>\n",
       "      <th>28</th>\n",
       "      <td>0.950</td>\n",
       "      <td>5.0</td>\n",
       "      <td>1</td>\n",
       "      <td>0.704233</td>\n",
       "      <td>0.555959</td>\n",
       "      <td>0.364970</td>\n",
       "      <td>Weight=0.95 | Num_Train_Examples=5.0</td>\n",
       "    </tr>\n",
       "    <tr>\n",
       "      <th>29</th>\n",
       "      <td>0.950</td>\n",
       "      <td>5.0</td>\n",
       "      <td>5</td>\n",
       "      <td>0.926513</td>\n",
       "      <td>0.408933</td>\n",
       "      <td>0.660887</td>\n",
       "      <td>Weight=0.95 | Num_Train_Examples=5.0</td>\n",
       "    </tr>\n",
       "    <tr>\n",
       "      <th>30</th>\n",
       "      <td>0.950</td>\n",
       "      <td>5.0</td>\n",
       "      <td>10</td>\n",
       "      <td>0.969878</td>\n",
       "      <td>0.334329</td>\n",
       "      <td>0.663908</td>\n",
       "      <td>Weight=0.95 | Num_Train_Examples=5.0</td>\n",
       "    </tr>\n",
       "    <tr>\n",
       "      <th>31</th>\n",
       "      <td>0.950</td>\n",
       "      <td>5.0</td>\n",
       "      <td>20</td>\n",
       "      <td>0.984160</td>\n",
       "      <td>0.271579</td>\n",
       "      <td>0.657686</td>\n",
       "      <td>Weight=0.95 | Num_Train_Examples=5.0</td>\n",
       "    </tr>\n",
       "    <tr>\n",
       "      <th>32</th>\n",
       "      <td>0.950</td>\n",
       "      <td>10.0</td>\n",
       "      <td>1</td>\n",
       "      <td>0.686315</td>\n",
       "      <td>0.581148</td>\n",
       "      <td>0.360815</td>\n",
       "      <td>Weight=0.95 | Num_Train_Examples=10.0</td>\n",
       "    </tr>\n",
       "    <tr>\n",
       "      <th>33</th>\n",
       "      <td>0.950</td>\n",
       "      <td>10.0</td>\n",
       "      <td>5</td>\n",
       "      <td>0.926513</td>\n",
       "      <td>0.415736</td>\n",
       "      <td>0.655643</td>\n",
       "      <td>Weight=0.95 | Num_Train_Examples=10.0</td>\n",
       "    </tr>\n",
       "    <tr>\n",
       "      <th>34</th>\n",
       "      <td>0.950</td>\n",
       "      <td>10.0</td>\n",
       "      <td>10</td>\n",
       "      <td>0.969618</td>\n",
       "      <td>0.336874</td>\n",
       "      <td>0.660184</td>\n",
       "      <td>Weight=0.95 | Num_Train_Examples=10.0</td>\n",
       "    </tr>\n",
       "    <tr>\n",
       "      <th>35</th>\n",
       "      <td>0.950</td>\n",
       "      <td>10.0</td>\n",
       "      <td>20</td>\n",
       "      <td>0.983900</td>\n",
       "      <td>0.273968</td>\n",
       "      <td>0.653975</td>\n",
       "      <td>Weight=0.95 | Num_Train_Examples=10.0</td>\n",
       "    </tr>\n",
       "    <tr>\n",
       "      <th>0</th>\n",
       "      <td>0.990</td>\n",
       "      <td>NaN</td>\n",
       "      <td>1</td>\n",
       "      <td>0.672812</td>\n",
       "      <td>0.600623</td>\n",
       "      <td>0.363412</td>\n",
       "      <td>Weight=0.99 | Num_Train_Examples=nan</td>\n",
       "    </tr>\n",
       "    <tr>\n",
       "      <th>1</th>\n",
       "      <td>0.990</td>\n",
       "      <td>NaN</td>\n",
       "      <td>5</td>\n",
       "      <td>0.921579</td>\n",
       "      <td>0.413763</td>\n",
       "      <td>0.658281</td>\n",
       "      <td>Weight=0.99 | Num_Train_Examples=nan</td>\n",
       "    </tr>\n",
       "    <tr>\n",
       "      <th>2</th>\n",
       "      <td>0.990</td>\n",
       "      <td>NaN</td>\n",
       "      <td>10</td>\n",
       "      <td>0.968839</td>\n",
       "      <td>0.335939</td>\n",
       "      <td>0.672654</td>\n",
       "      <td>Weight=0.99 | Num_Train_Examples=nan</td>\n",
       "    </tr>\n",
       "    <tr>\n",
       "      <th>3</th>\n",
       "      <td>0.990</td>\n",
       "      <td>NaN</td>\n",
       "      <td>20</td>\n",
       "      <td>0.983900</td>\n",
       "      <td>0.275396</td>\n",
       "      <td>0.667108</td>\n",
       "      <td>Weight=0.99 | Num_Train_Examples=nan</td>\n",
       "    </tr>\n",
       "    <tr>\n",
       "      <th>4</th>\n",
       "      <td>0.990</td>\n",
       "      <td>5.0</td>\n",
       "      <td>1</td>\n",
       "      <td>0.704233</td>\n",
       "      <td>0.555959</td>\n",
       "      <td>0.364970</td>\n",
       "      <td>Weight=0.99 | Num_Train_Examples=5.0</td>\n",
       "    </tr>\n",
       "    <tr>\n",
       "      <th>5</th>\n",
       "      <td>0.990</td>\n",
       "      <td>5.0</td>\n",
       "      <td>5</td>\n",
       "      <td>0.926513</td>\n",
       "      <td>0.408933</td>\n",
       "      <td>0.665853</td>\n",
       "      <td>Weight=0.99 | Num_Train_Examples=5.0</td>\n",
       "    </tr>\n",
       "    <tr>\n",
       "      <th>6</th>\n",
       "      <td>0.990</td>\n",
       "      <td>5.0</td>\n",
       "      <td>10</td>\n",
       "      <td>0.969878</td>\n",
       "      <td>0.334329</td>\n",
       "      <td>0.667398</td>\n",
       "      <td>Weight=0.99 | Num_Train_Examples=5.0</td>\n",
       "    </tr>\n",
       "    <tr>\n",
       "      <th>7</th>\n",
       "      <td>0.990</td>\n",
       "      <td>5.0</td>\n",
       "      <td>20</td>\n",
       "      <td>0.984160</td>\n",
       "      <td>0.271579</td>\n",
       "      <td>0.662620</td>\n",
       "      <td>Weight=0.99 | Num_Train_Examples=5.0</td>\n",
       "    </tr>\n",
       "    <tr>\n",
       "      <th>8</th>\n",
       "      <td>0.990</td>\n",
       "      <td>10.0</td>\n",
       "      <td>1</td>\n",
       "      <td>0.686315</td>\n",
       "      <td>0.581148</td>\n",
       "      <td>0.360815</td>\n",
       "      <td>Weight=0.99 | Num_Train_Examples=10.0</td>\n",
       "    </tr>\n",
       "    <tr>\n",
       "      <th>9</th>\n",
       "      <td>0.990</td>\n",
       "      <td>10.0</td>\n",
       "      <td>5</td>\n",
       "      <td>0.926513</td>\n",
       "      <td>0.415736</td>\n",
       "      <td>0.661191</td>\n",
       "      <td>Weight=0.99 | Num_Train_Examples=10.0</td>\n",
       "    </tr>\n",
       "    <tr>\n",
       "      <th>10</th>\n",
       "      <td>0.990</td>\n",
       "      <td>10.0</td>\n",
       "      <td>10</td>\n",
       "      <td>0.969618</td>\n",
       "      <td>0.336874</td>\n",
       "      <td>0.664907</td>\n",
       "      <td>Weight=0.99 | Num_Train_Examples=10.0</td>\n",
       "    </tr>\n",
       "    <tr>\n",
       "      <th>11</th>\n",
       "      <td>0.990</td>\n",
       "      <td>10.0</td>\n",
       "      <td>20</td>\n",
       "      <td>0.983900</td>\n",
       "      <td>0.273968</td>\n",
       "      <td>0.660245</td>\n",
       "      <td>Weight=0.99 | Num_Train_Examples=10.0</td>\n",
       "    </tr>\n",
       "    <tr>\n",
       "      <th>12</th>\n",
       "      <td>0.999</td>\n",
       "      <td>NaN</td>\n",
       "      <td>1</td>\n",
       "      <td>0.672812</td>\n",
       "      <td>0.600623</td>\n",
       "      <td>0.363412</td>\n",
       "      <td>Weight=0.999 | Num_Train_Examples=nan</td>\n",
       "    </tr>\n",
       "    <tr>\n",
       "      <th>13</th>\n",
       "      <td>0.999</td>\n",
       "      <td>NaN</td>\n",
       "      <td>5</td>\n",
       "      <td>0.921579</td>\n",
       "      <td>0.413763</td>\n",
       "      <td>0.659658</td>\n",
       "      <td>Weight=0.999 | Num_Train_Examples=nan</td>\n",
       "    </tr>\n",
       "    <tr>\n",
       "      <th>14</th>\n",
       "      <td>0.999</td>\n",
       "      <td>NaN</td>\n",
       "      <td>10</td>\n",
       "      <td>0.968839</td>\n",
       "      <td>0.335939</td>\n",
       "      <td>0.673698</td>\n",
       "      <td>Weight=0.999 | Num_Train_Examples=nan</td>\n",
       "    </tr>\n",
       "    <tr>\n",
       "      <th>15</th>\n",
       "      <td>0.999</td>\n",
       "      <td>NaN</td>\n",
       "      <td>20</td>\n",
       "      <td>0.983900</td>\n",
       "      <td>0.275396</td>\n",
       "      <td>0.668867</td>\n",
       "      <td>Weight=0.999 | Num_Train_Examples=nan</td>\n",
       "    </tr>\n",
       "    <tr>\n",
       "      <th>16</th>\n",
       "      <td>0.999</td>\n",
       "      <td>5.0</td>\n",
       "      <td>1</td>\n",
       "      <td>0.704233</td>\n",
       "      <td>0.555959</td>\n",
       "      <td>0.364970</td>\n",
       "      <td>Weight=0.999 | Num_Train_Examples=5.0</td>\n",
       "    </tr>\n",
       "    <tr>\n",
       "      <th>17</th>\n",
       "      <td>0.999</td>\n",
       "      <td>5.0</td>\n",
       "      <td>5</td>\n",
       "      <td>0.926513</td>\n",
       "      <td>0.408933</td>\n",
       "      <td>0.666949</td>\n",
       "      <td>Weight=0.999 | Num_Train_Examples=5.0</td>\n",
       "    </tr>\n",
       "    <tr>\n",
       "      <th>18</th>\n",
       "      <td>0.999</td>\n",
       "      <td>5.0</td>\n",
       "      <td>10</td>\n",
       "      <td>0.969878</td>\n",
       "      <td>0.334329</td>\n",
       "      <td>0.668106</td>\n",
       "      <td>Weight=0.999 | Num_Train_Examples=5.0</td>\n",
       "    </tr>\n",
       "    <tr>\n",
       "      <th>19</th>\n",
       "      <td>0.999</td>\n",
       "      <td>5.0</td>\n",
       "      <td>20</td>\n",
       "      <td>0.984160</td>\n",
       "      <td>0.271579</td>\n",
       "      <td>0.664028</td>\n",
       "      <td>Weight=0.999 | Num_Train_Examples=5.0</td>\n",
       "    </tr>\n",
       "    <tr>\n",
       "      <th>20</th>\n",
       "      <td>0.999</td>\n",
       "      <td>10.0</td>\n",
       "      <td>1</td>\n",
       "      <td>0.686315</td>\n",
       "      <td>0.581148</td>\n",
       "      <td>0.360815</td>\n",
       "      <td>Weight=0.999 | Num_Train_Examples=10.0</td>\n",
       "    </tr>\n",
       "    <tr>\n",
       "      <th>21</th>\n",
       "      <td>0.999</td>\n",
       "      <td>10.0</td>\n",
       "      <td>5</td>\n",
       "      <td>0.926513</td>\n",
       "      <td>0.415736</td>\n",
       "      <td>0.662618</td>\n",
       "      <td>Weight=0.999 | Num_Train_Examples=10.0</td>\n",
       "    </tr>\n",
       "    <tr>\n",
       "      <th>22</th>\n",
       "      <td>0.999</td>\n",
       "      <td>10.0</td>\n",
       "      <td>10</td>\n",
       "      <td>0.969618</td>\n",
       "      <td>0.336874</td>\n",
       "      <td>0.665973</td>\n",
       "      <td>Weight=0.999 | Num_Train_Examples=10.0</td>\n",
       "    </tr>\n",
       "    <tr>\n",
       "      <th>23</th>\n",
       "      <td>0.999</td>\n",
       "      <td>10.0</td>\n",
       "      <td>20</td>\n",
       "      <td>0.983900</td>\n",
       "      <td>0.273968</td>\n",
       "      <td>0.661879</td>\n",
       "      <td>Weight=0.999 | Num_Train_Examples=10.0</td>\n",
       "    </tr>\n",
       "  </tbody>\n",
       "</table>\n",
       "</div>"
      ],
      "text/plain": [
       "    weight  num_train_examples   k  hit_rate  mean_avg_prec      ndcg  \\\n",
       "0    0.800                 NaN   1  0.672812       0.600623  0.363412   \n",
       "1    0.800                 NaN   5  0.921579       0.413763  0.629114   \n",
       "2    0.800                 NaN  10  0.968839       0.335939  0.643888   \n",
       "3    0.800                 NaN  20  0.983900       0.275396  0.633107   \n",
       "4    0.800                 5.0   1  0.704233       0.555959  0.364970   \n",
       "5    0.800                 5.0   5  0.926513       0.408933  0.645001   \n",
       "6    0.800                 5.0  10  0.969878       0.334329  0.648602   \n",
       "7    0.800                 5.0  20  0.984160       0.271579  0.639952   \n",
       "8    0.800                10.0   1  0.686315       0.581148  0.360815   \n",
       "9    0.800                10.0   5  0.926513       0.415736  0.635209   \n",
       "10   0.800                10.0  10  0.969618       0.336874  0.641824   \n",
       "11   0.800                10.0  20  0.983900       0.273968  0.634306   \n",
       "12   0.900                 NaN   1  0.672812       0.600623  0.363412   \n",
       "13   0.900                 NaN   5  0.921579       0.413763  0.645090   \n",
       "14   0.900                 NaN  10  0.968839       0.335939  0.659380   \n",
       "15   0.900                 NaN  20  0.983900       0.275396  0.650316   \n",
       "16   0.900                 5.0   1  0.704233       0.555959  0.364970   \n",
       "17   0.900                 5.0   5  0.926513       0.408933  0.656634   \n",
       "18   0.900                 5.0  10  0.969878       0.334329  0.659562   \n",
       "19   0.900                 5.0  20  0.984160       0.271579  0.652090   \n",
       "20   0.900                10.0   1  0.686315       0.581148  0.360815   \n",
       "21   0.900                10.0   5  0.926513       0.415736  0.649220   \n",
       "22   0.900                10.0  10  0.969618       0.336874  0.653700   \n",
       "23   0.900                10.0  20  0.983900       0.273968  0.647134   \n",
       "24   0.950                 NaN   1  0.672812       0.600623  0.363412   \n",
       "25   0.950                 NaN   5  0.921579       0.413763  0.652078   \n",
       "26   0.950                 NaN  10  0.968839       0.335939  0.666412   \n",
       "27   0.950                 NaN  20  0.983900       0.275396  0.659157   \n",
       "28   0.950                 5.0   1  0.704233       0.555959  0.364970   \n",
       "29   0.950                 5.0   5  0.926513       0.408933  0.660887   \n",
       "30   0.950                 5.0  10  0.969878       0.334329  0.663908   \n",
       "31   0.950                 5.0  20  0.984160       0.271579  0.657686   \n",
       "32   0.950                10.0   1  0.686315       0.581148  0.360815   \n",
       "33   0.950                10.0   5  0.926513       0.415736  0.655643   \n",
       "34   0.950                10.0  10  0.969618       0.336874  0.660184   \n",
       "35   0.950                10.0  20  0.983900       0.273968  0.653975   \n",
       "0    0.990                 NaN   1  0.672812       0.600623  0.363412   \n",
       "1    0.990                 NaN   5  0.921579       0.413763  0.658281   \n",
       "2    0.990                 NaN  10  0.968839       0.335939  0.672654   \n",
       "3    0.990                 NaN  20  0.983900       0.275396  0.667108   \n",
       "4    0.990                 5.0   1  0.704233       0.555959  0.364970   \n",
       "5    0.990                 5.0   5  0.926513       0.408933  0.665853   \n",
       "6    0.990                 5.0  10  0.969878       0.334329  0.667398   \n",
       "7    0.990                 5.0  20  0.984160       0.271579  0.662620   \n",
       "8    0.990                10.0   1  0.686315       0.581148  0.360815   \n",
       "9    0.990                10.0   5  0.926513       0.415736  0.661191   \n",
       "10   0.990                10.0  10  0.969618       0.336874  0.664907   \n",
       "11   0.990                10.0  20  0.983900       0.273968  0.660245   \n",
       "12   0.999                 NaN   1  0.672812       0.600623  0.363412   \n",
       "13   0.999                 NaN   5  0.921579       0.413763  0.659658   \n",
       "14   0.999                 NaN  10  0.968839       0.335939  0.673698   \n",
       "15   0.999                 NaN  20  0.983900       0.275396  0.668867   \n",
       "16   0.999                 5.0   1  0.704233       0.555959  0.364970   \n",
       "17   0.999                 5.0   5  0.926513       0.408933  0.666949   \n",
       "18   0.999                 5.0  10  0.969878       0.334329  0.668106   \n",
       "19   0.999                 5.0  20  0.984160       0.271579  0.664028   \n",
       "20   0.999                10.0   1  0.686315       0.581148  0.360815   \n",
       "21   0.999                10.0   5  0.926513       0.415736  0.662618   \n",
       "22   0.999                10.0  10  0.969618       0.336874  0.665973   \n",
       "23   0.999                10.0  20  0.983900       0.273968  0.661879   \n",
       "\n",
       "                                    method  \n",
       "0      Weight=0.8 | Num_Train_Examples=nan  \n",
       "1      Weight=0.8 | Num_Train_Examples=nan  \n",
       "2      Weight=0.8 | Num_Train_Examples=nan  \n",
       "3      Weight=0.8 | Num_Train_Examples=nan  \n",
       "4      Weight=0.8 | Num_Train_Examples=5.0  \n",
       "5      Weight=0.8 | Num_Train_Examples=5.0  \n",
       "6      Weight=0.8 | Num_Train_Examples=5.0  \n",
       "7      Weight=0.8 | Num_Train_Examples=5.0  \n",
       "8     Weight=0.8 | Num_Train_Examples=10.0  \n",
       "9     Weight=0.8 | Num_Train_Examples=10.0  \n",
       "10    Weight=0.8 | Num_Train_Examples=10.0  \n",
       "11    Weight=0.8 | Num_Train_Examples=10.0  \n",
       "12     Weight=0.9 | Num_Train_Examples=nan  \n",
       "13     Weight=0.9 | Num_Train_Examples=nan  \n",
       "14     Weight=0.9 | Num_Train_Examples=nan  \n",
       "15     Weight=0.9 | Num_Train_Examples=nan  \n",
       "16     Weight=0.9 | Num_Train_Examples=5.0  \n",
       "17     Weight=0.9 | Num_Train_Examples=5.0  \n",
       "18     Weight=0.9 | Num_Train_Examples=5.0  \n",
       "19     Weight=0.9 | Num_Train_Examples=5.0  \n",
       "20    Weight=0.9 | Num_Train_Examples=10.0  \n",
       "21    Weight=0.9 | Num_Train_Examples=10.0  \n",
       "22    Weight=0.9 | Num_Train_Examples=10.0  \n",
       "23    Weight=0.9 | Num_Train_Examples=10.0  \n",
       "24    Weight=0.95 | Num_Train_Examples=nan  \n",
       "25    Weight=0.95 | Num_Train_Examples=nan  \n",
       "26    Weight=0.95 | Num_Train_Examples=nan  \n",
       "27    Weight=0.95 | Num_Train_Examples=nan  \n",
       "28    Weight=0.95 | Num_Train_Examples=5.0  \n",
       "29    Weight=0.95 | Num_Train_Examples=5.0  \n",
       "30    Weight=0.95 | Num_Train_Examples=5.0  \n",
       "31    Weight=0.95 | Num_Train_Examples=5.0  \n",
       "32   Weight=0.95 | Num_Train_Examples=10.0  \n",
       "33   Weight=0.95 | Num_Train_Examples=10.0  \n",
       "34   Weight=0.95 | Num_Train_Examples=10.0  \n",
       "35   Weight=0.95 | Num_Train_Examples=10.0  \n",
       "0     Weight=0.99 | Num_Train_Examples=nan  \n",
       "1     Weight=0.99 | Num_Train_Examples=nan  \n",
       "2     Weight=0.99 | Num_Train_Examples=nan  \n",
       "3     Weight=0.99 | Num_Train_Examples=nan  \n",
       "4     Weight=0.99 | Num_Train_Examples=5.0  \n",
       "5     Weight=0.99 | Num_Train_Examples=5.0  \n",
       "6     Weight=0.99 | Num_Train_Examples=5.0  \n",
       "7     Weight=0.99 | Num_Train_Examples=5.0  \n",
       "8    Weight=0.99 | Num_Train_Examples=10.0  \n",
       "9    Weight=0.99 | Num_Train_Examples=10.0  \n",
       "10   Weight=0.99 | Num_Train_Examples=10.0  \n",
       "11   Weight=0.99 | Num_Train_Examples=10.0  \n",
       "12   Weight=0.999 | Num_Train_Examples=nan  \n",
       "13   Weight=0.999 | Num_Train_Examples=nan  \n",
       "14   Weight=0.999 | Num_Train_Examples=nan  \n",
       "15   Weight=0.999 | Num_Train_Examples=nan  \n",
       "16   Weight=0.999 | Num_Train_Examples=5.0  \n",
       "17   Weight=0.999 | Num_Train_Examples=5.0  \n",
       "18   Weight=0.999 | Num_Train_Examples=5.0  \n",
       "19   Weight=0.999 | Num_Train_Examples=5.0  \n",
       "20  Weight=0.999 | Num_Train_Examples=10.0  \n",
       "21  Weight=0.999 | Num_Train_Examples=10.0  \n",
       "22  Weight=0.999 | Num_Train_Examples=10.0  \n",
       "23  Weight=0.999 | Num_Train_Examples=10.0  "
      ]
     },
     "execution_count": 57,
     "metadata": {},
     "output_type": "execute_result"
    }
   ],
   "source": [
    "hybrid_filtering_df = pd.read_csv(\"hybrid_hyperparameter_tuning_20250729_014354.csv\")\n",
    "hybrid_filtering_df_v2 = pd.read_csv(\"hybrid_hyperparameter_tuning_20250729_155537.csv\")\n",
    "\n",
    "hybrid_filtering_df = pd.concat([hybrid_filtering_df, hybrid_filtering_df_v2])\n",
    "\n",
    "def get_method_name(row):\n",
    "    return f\"Weight={row['weight']} | Num_Train_Examples={row['num_train_examples']}\"\n",
    "hybrid_filtering_df['method'] = hybrid_filtering_df[['weight', 'num_train_examples']].apply(get_method_name, axis=1)\n",
    "\n",
    "hybrid_filtering_df"
   ]
  },
  {
   "cell_type": "code",
   "execution_count": 28,
   "id": "80b77879",
   "metadata": {},
   "outputs": [
    {
     "data": {
      "image/png": "[encoded data removed]",
      "text/plain": [
       "<Figure size 800x500 with 1 Axes>"
      ]
     },
     "metadata": {},
     "output_type": "display_data"
    }
   ],
   "source": [
    "plt.figure(figsize=(8, 5))\n",
    "\n",
    "for method in hybrid_filtering_df['method'].unique():\n",
    "    subset = hybrid_filtering_df[hybrid_filtering_df['method'] == method]\n",
    "    plt.plot(subset['k'], subset['hit_rate'], marker='o', label=method)\n",
    "\n",
    "plt.xlabel('k')\n",
    "plt.xticks(sorted(list(hybrid_filtering_df['k'].unique())))\n",
    "plt.ylabel('Hit Rate')\n",
    "plt.title('Hit Rate@k')\n",
    "plt.legend(\n",
    "    title='Method', \n",
    ")\n",
    "plt.tight_layout()\n",
    "plt.show()"
   ]
  },
  {
   "cell_type": "code",
   "execution_count": 29,
   "id": "cc03b375",
   "metadata": {},
   "outputs": [
    {
     "data": {
      "image/png": "[encoded data removed]",
      "text/plain": [
       "<Figure size 800x500 with 1 Axes>"
      ]
     },
     "metadata": {},
     "output_type": "display_data"
    }
   ],
   "source": [
    "plt.figure(figsize=(8, 5))\n",
    "\n",
    "for method in hybrid_filtering_df['method'].unique():\n",
    "    subset = hybrid_filtering_df[hybrid_filtering_df['method'] == method]\n",
    "    plt.plot(subset['k'], subset['mean_avg_prec'], marker='o', label=method)\n",
    "\n",
    "plt.xlabel('k')\n",
    "plt.xticks(sorted(list(hybrid_filtering_df['k'].unique())))\n",
    "plt.ylabel('Mean Avg Precision')\n",
    "plt.title('MAP@k')\n",
    "plt.legend(\n",
    "    title='Method', \n",
    ")\n",
    "plt.tight_layout()\n",
    "plt.show()"
   ]
  },
  {
   "cell_type": "code",
   "execution_count": 30,
   "id": "9a3aa55d",
   "metadata": {},
   "outputs": [
    {
     "data": {
      "image/png": "[encoded data removed]",
      "text/plain": [
       "<Figure size 800x500 with 1 Axes>"
      ]
     },
     "metadata": {},
     "output_type": "display_data"
    }
   ],
   "source": [
    "plt.figure(figsize=(8, 5))\n",
    "\n",
    "for method in hybrid_filtering_df['method'].unique():\n",
    "    subset = hybrid_filtering_df[hybrid_filtering_df['method'] == method]\n",
    "    plt.plot(subset['k'], subset['ndcg'], marker='o', label=method)\n",
    "\n",
    "plt.xlabel('k')\n",
    "plt.xticks(sorted(list(hybrid_filtering_df['k'].unique())))\n",
    "plt.ylabel('Normalized Discounted Cumulative Gain')\n",
    "plt.title('NDCG@k')\n",
    "plt.legend(\n",
    "    title='Method', \n",
    ")\n",
    "plt.tight_layout()\n",
    "plt.show()"
   ]
  },
  {
   "cell_type": "markdown",
   "id": "6a7d7a9c",
   "metadata": {},
   "source": [
    "# Analyze Memory-based Collaborative Filtering and Hybrid Filtering Together"
   ]
  },
  {
   "cell_type": "code",
   "execution_count": 36,
   "id": "cdf3bde5",
   "metadata": {},
   "outputs": [
    {
     "data": {
      "text/html": [
       "<div>\n",
       "<style scoped>\n",
       "    .dataframe tbody tr th:only-of-type {\n",
       "        vertical-align: middle;\n",
       "    }\n",
       "\n",
       "    .dataframe tbody tr th {\n",
       "        vertical-align: top;\n",
       "    }\n",
       "\n",
       "    .dataframe thead th {\n",
       "        text-align: right;\n",
       "    }\n",
       "</style>\n",
       "<table border=\"1\" class=\"dataframe\">\n",
       "  <thead>\n",
       "    <tr style=\"text-align: right;\">\n",
       "      <th></th>\n",
       "      <th>name</th>\n",
       "      <th>k</th>\n",
       "      <th>hit_rate</th>\n",
       "      <th>mean_avg_prec</th>\n",
       "      <th>ndcg</th>\n",
       "    </tr>\n",
       "  </thead>\n",
       "  <tbody>\n",
       "    <tr>\n",
       "      <th>0</th>\n",
       "      <td>Memory-Based Collaborative Filtering</td>\n",
       "      <td>1</td>\n",
       "      <td>0.641392</td>\n",
       "      <td>0.641392</td>\n",
       "      <td>0.000000</td>\n",
       "    </tr>\n",
       "    <tr>\n",
       "      <th>1</th>\n",
       "      <td>Memory-Based Collaborative Filtering</td>\n",
       "      <td>5</td>\n",
       "      <td>0.896650</td>\n",
       "      <td>0.490548</td>\n",
       "      <td>0.767332</td>\n",
       "    </tr>\n",
       "    <tr>\n",
       "      <th>2</th>\n",
       "      <td>Memory-Based Collaborative Filtering</td>\n",
       "      <td>10</td>\n",
       "      <td>0.952480</td>\n",
       "      <td>0.407150</td>\n",
       "      <td>0.763806</td>\n",
       "    </tr>\n",
       "    <tr>\n",
       "      <th>3</th>\n",
       "      <td>Memory-Based Collaborative Filtering</td>\n",
       "      <td>20</td>\n",
       "      <td>0.977668</td>\n",
       "      <td>0.345812</td>\n",
       "      <td>0.744820</td>\n",
       "    </tr>\n",
       "  </tbody>\n",
       "</table>\n",
       "</div>"
      ],
      "text/plain": [
       "                                   name   k  hit_rate  mean_avg_prec      ndcg\n",
       "0  Memory-Based Collaborative Filtering   1  0.641392       0.641392  0.000000\n",
       "1  Memory-Based Collaborative Filtering   5  0.896650       0.490548  0.767332\n",
       "2  Memory-Based Collaborative Filtering  10  0.952480       0.407150  0.763806\n",
       "3  Memory-Based Collaborative Filtering  20  0.977668       0.345812  0.744820"
      ]
     },
     "execution_count": 36,
     "metadata": {},
     "output_type": "execute_result"
    }
   ],
   "source": [
    "collab_filtering_df"
   ]
  },
  {
   "cell_type": "code",
   "execution_count": 37,
   "id": "8c6b3344",
   "metadata": {},
   "outputs": [
    {
     "data": {
      "text/html": [
       "<div>\n",
       "<style scoped>\n",
       "    .dataframe tbody tr th:only-of-type {\n",
       "        vertical-align: middle;\n",
       "    }\n",
       "\n",
       "    .dataframe tbody tr th {\n",
       "        vertical-align: top;\n",
       "    }\n",
       "\n",
       "    .dataframe thead th {\n",
       "        text-align: right;\n",
       "    }\n",
       "</style>\n",
       "<table border=\"1\" class=\"dataframe\">\n",
       "  <thead>\n",
       "    <tr style=\"text-align: right;\">\n",
       "      <th></th>\n",
       "      <th>name</th>\n",
       "      <th>k</th>\n",
       "      <th>hit_rate</th>\n",
       "      <th>mean_avg_prec</th>\n",
       "      <th>ndcg</th>\n",
       "    </tr>\n",
       "  </thead>\n",
       "  <tbody>\n",
       "    <tr>\n",
       "      <th>0</th>\n",
       "      <td>Memory-Based Collaborative Filtering</td>\n",
       "      <td>1</td>\n",
       "      <td>0.641392</td>\n",
       "      <td>0.641392</td>\n",
       "      <td>0.000000</td>\n",
       "    </tr>\n",
       "    <tr>\n",
       "      <th>1</th>\n",
       "      <td>Memory-Based Collaborative Filtering</td>\n",
       "      <td>5</td>\n",
       "      <td>0.896650</td>\n",
       "      <td>0.490548</td>\n",
       "      <td>0.767332</td>\n",
       "    </tr>\n",
       "    <tr>\n",
       "      <th>2</th>\n",
       "      <td>Memory-Based Collaborative Filtering</td>\n",
       "      <td>10</td>\n",
       "      <td>0.952480</td>\n",
       "      <td>0.407150</td>\n",
       "      <td>0.763806</td>\n",
       "    </tr>\n",
       "    <tr>\n",
       "      <th>3</th>\n",
       "      <td>Memory-Based Collaborative Filtering</td>\n",
       "      <td>20</td>\n",
       "      <td>0.977668</td>\n",
       "      <td>0.345812</td>\n",
       "      <td>0.744820</td>\n",
       "    </tr>\n",
       "    <tr>\n",
       "      <th>0</th>\n",
       "      <td>Weight=0.8 | Num_Train_Examples=nan</td>\n",
       "      <td>1</td>\n",
       "      <td>0.672812</td>\n",
       "      <td>0.600623</td>\n",
       "      <td>0.363412</td>\n",
       "    </tr>\n",
       "    <tr>\n",
       "      <th>...</th>\n",
       "      <td>...</td>\n",
       "      <td>...</td>\n",
       "      <td>...</td>\n",
       "      <td>...</td>\n",
       "      <td>...</td>\n",
       "    </tr>\n",
       "    <tr>\n",
       "      <th>19</th>\n",
       "      <td>Weight=0.999 | Num_Train_Examples=5.0</td>\n",
       "      <td>20</td>\n",
       "      <td>0.984160</td>\n",
       "      <td>0.271579</td>\n",
       "      <td>0.664028</td>\n",
       "    </tr>\n",
       "    <tr>\n",
       "      <th>20</th>\n",
       "      <td>Weight=0.999 | Num_Train_Examples=10.0</td>\n",
       "      <td>1</td>\n",
       "      <td>0.686315</td>\n",
       "      <td>0.581148</td>\n",
       "      <td>0.360815</td>\n",
       "    </tr>\n",
       "    <tr>\n",
       "      <th>21</th>\n",
       "      <td>Weight=0.999 | Num_Train_Examples=10.0</td>\n",
       "      <td>5</td>\n",
       "      <td>0.926513</td>\n",
       "      <td>0.415736</td>\n",
       "      <td>0.662618</td>\n",
       "    </tr>\n",
       "    <tr>\n",
       "      <th>22</th>\n",
       "      <td>Weight=0.999 | Num_Train_Examples=10.0</td>\n",
       "      <td>10</td>\n",
       "      <td>0.969618</td>\n",
       "      <td>0.336874</td>\n",
       "      <td>0.665973</td>\n",
       "    </tr>\n",
       "    <tr>\n",
       "      <th>23</th>\n",
       "      <td>Weight=0.999 | Num_Train_Examples=10.0</td>\n",
       "      <td>20</td>\n",
       "      <td>0.983900</td>\n",
       "      <td>0.273968</td>\n",
       "      <td>0.661879</td>\n",
       "    </tr>\n",
       "  </tbody>\n",
       "</table>\n",
       "<p>64 rows × 5 columns</p>\n",
       "</div>"
      ],
      "text/plain": [
       "                                      name   k  hit_rate  mean_avg_prec  \\\n",
       "0     Memory-Based Collaborative Filtering   1  0.641392       0.641392   \n",
       "1     Memory-Based Collaborative Filtering   5  0.896650       0.490548   \n",
       "2     Memory-Based Collaborative Filtering  10  0.952480       0.407150   \n",
       "3     Memory-Based Collaborative Filtering  20  0.977668       0.345812   \n",
       "0      Weight=0.8 | Num_Train_Examples=nan   1  0.672812       0.600623   \n",
       "..                                     ...  ..       ...            ...   \n",
       "19   Weight=0.999 | Num_Train_Examples=5.0  20  0.984160       0.271579   \n",
       "20  Weight=0.999 | Num_Train_Examples=10.0   1  0.686315       0.581148   \n",
       "21  Weight=0.999 | Num_Train_Examples=10.0   5  0.926513       0.415736   \n",
       "22  Weight=0.999 | Num_Train_Examples=10.0  10  0.969618       0.336874   \n",
       "23  Weight=0.999 | Num_Train_Examples=10.0  20  0.983900       0.273968   \n",
       "\n",
       "        ndcg  \n",
       "0   0.000000  \n",
       "1   0.767332  \n",
       "2   0.763806  \n",
       "3   0.744820  \n",
       "0   0.363412  \n",
       "..       ...  \n",
       "19  0.664028  \n",
       "20  0.360815  \n",
       "21  0.662618  \n",
       "22  0.665973  \n",
       "23  0.661879  \n",
       "\n",
       "[64 rows x 5 columns]"
      ]
     },
     "execution_count": 37,
     "metadata": {},
     "output_type": "execute_result"
    }
   ],
   "source": [
    "temp_hybrid_filtering_df = hybrid_filtering_df.rename(columns={'method': 'name'})\n",
    "temp_hybrid_filtering_df = temp_hybrid_filtering_df[['name', 'k', 'hit_rate', 'mean_avg_prec', 'ndcg']]\n",
    "\n",
    "combined_df = pd.concat([collab_filtering_df, temp_hybrid_filtering_df])\n",
    "combined_df"
   ]
  },
  {
   "cell_type": "code",
   "execution_count": 46,
   "id": "4b9bb186",
   "metadata": {},
   "outputs": [],
   "source": [
    "import plotly.express as px"
   ]
  },
  {
   "cell_type": "code",
   "execution_count": 47,
   "id": "72d42920",
   "metadata": {},
   "outputs": [],
   "source": [
    "def create_bar_chart_plotly(df, x, y, color, title, labels):\n",
    "    df[x] = df[x].astype(str)\n",
    "\n",
    "    fig = px.bar(\n",
    "        df,\n",
    "        x=x,\n",
    "        y=y,\n",
    "        color=color,\n",
    "        barmode=\"group\",\n",
    "        title=title,\n",
    "        labels=labels\n",
    "    )\n",
    "\n",
    "    fig.update_xaxes(tickvals=sorted(df[x].unique()))\n",
    "    fig.show()"
   ]
  },
  {
   "cell_type": "code",
   "execution_count": 48,
   "id": "d0f24969",
   "metadata": {},
   "outputs": [
    {
     "data": {
      "application/vnd.plotly.v1+json": {
       "config": {
        "plotlyServerURL": "https://plot.ly"
       },
       "data": [
        {
         "alignmentgroup": "True",
         "hovertemplate": "Method=Memory-Based Collaborative Filtering<br>k=%{x}<br>Hit Rate=%{y}<extra></extra>",
         "legendgroup": "Memory-Based Collaborative Filtering",
         "marker": {
          "color": "#636efa",
          "pattern": {
           "shape": ""
          }
         },
         "name": "Memory-Based Collaborative Filtering",
         "offsetgroup": "Memory-Based Collaborative Filtering",
         "orientation": "v",
         "showlegend": true,
         "textposition": "auto",
         "type": "bar",
         "x": [
          "1",
          "5",
          "10",
          "20"
         ],
         "xaxis": "x",
         "y": {
          "bdata": "oFR1MUiG5D9VdL7NW7HsP8Y2WBO3eu4/OLL1sA5J7z8=",
          "dtype": "f8"
         },
         "yaxis": "y"
        },
        {
         "alignmentgroup": "True",
         "hovertemplate": "Method=Weight=0.8 | Num_Train_Examples=nan<br>k=%{x}<br>Hit Rate=%{y}<extra></extra>",
         "legendgroup": "Weight=0.8 | Num_Train_Examples=nan",
         "marker": {
          "color": "#EF553B",
          "pattern": {
           "shape": ""
          }
         },
         "name": "Weight=0.8 | Num_Train_Examples=nan",
         "offsetgroup": "Weight=0.8 | Num_Train_Examples=nan",
         "orientation": "v",
         "showlegend": true,
         "textposition": "auto",
         "type": "bar",
         "x": [
          "1",
          "5",
          "10",
          "20"
         ],
         "xaxis": "x",
         "y": {
          "bdata": "/ErIka2H5T//X5TYkn3tP22ZdDK7AO8/JC2rcxx87z8=",
          "dtype": "f8"
         },
         "yaxis": "y"
        },
        {
         "alignmentgroup": "True",
         "hovertemplate": "Method=Weight=0.8 | Num_Train_Examples=5.0<br>k=%{x}<br>Hit Rate=%{y}<extra></extra>",
         "legendgroup": "Weight=0.8 | Num_Train_Examples=5.0",
         "marker": {
          "color": "#00cc96",
          "pattern": {
           "shape": ""
          }
         },
         "name": "Weight=0.8 | Num_Train_Examples=5.0",
         "offsetgroup": "Weight=0.8 | Num_Train_Examples=5.0",
         "orientation": "v",
         "showlegend": true,
         "textposition": "auto",
         "type": "bar",
         "x": [
          "1",
          "5",
          "10",
          "20"
         ],
         "xaxis": "x",
         "y": {
          "bdata": "WUEb8hKJ5j/3C2S9/aXtP5TYkn09Ce8/7bxyBj1+7z8=",
          "dtype": "f8"
         },
         "yaxis": "y"
        },
        {
         "alignmentgroup": "True",
         "hovertemplate": "Method=Weight=0.8 | Num_Train_Examples=10.0<br>k=%{x}<br>Hit Rate=%{y}<extra></extra>",
         "legendgroup": "Weight=0.8 | Num_Train_Examples=10.0",
         "marker": {
          "color": "#ab63fa",
          "pattern": {
           "shape": ""
          }
         },
         "name": "Weight=0.8 | Num_Train_Examples=10.0",
         "offsetgroup": "Weight=0.8 | Num_Train_Examples=10.0",
         "orientation": "v",
         "showlegend": true,
         "textposition": "auto",
         "type": "bar",
         "x": [
          "1",
          "5",
          "10",
          "20"
         ],
         "xaxis": "x",
         "y": {
          "bdata": "939RYkv25T/3C2S9/aXtP8pIy+ocB+8/JC2rcxx87z8=",
          "dtype": "f8"
         },
         "yaxis": "y"
        },
        {
         "alignmentgroup": "True",
         "hovertemplate": "Method=Weight=0.9 | Num_Train_Examples=nan<br>k=%{x}<br>Hit Rate=%{y}<extra></extra>",
         "legendgroup": "Weight=0.9 | Num_Train_Examples=nan",
         "marker": {
          "color": "#FFA15A",
          "pattern": {
           "shape": ""
          }
         },
         "name": "Weight=0.9 | Num_Train_Examples=nan",
         "offsetgroup": "Weight=0.9 | Num_Train_Examples=nan",
         "orientation": "v",
         "showlegend": true,
         "textposition": "auto",
         "type": "bar",
         "x": [
          "1",
          "5",
          "10",
          "20"
         ],
         "xaxis": "x",
         "y": {
          "bdata": "/ErIka2H5T//X5TYkn3tP22ZdDK7AO8/JC2rcxx87z8=",
          "dtype": "f8"
         },
         "yaxis": "y"
        },
        {
         "alignmentgroup": "True",
         "hovertemplate": "Method=Weight=0.9 | Num_Train_Examples=5.0<br>k=%{x}<br>Hit Rate=%{y}<extra></extra>",
         "legendgroup": "Weight=0.9 | Num_Train_Examples=5.0",
         "marker": {
          "color": "#19d3f3",
          "pattern": {
           "shape": ""
          }
         },
         "name": "Weight=0.9 | Num_Train_Examples=5.0",
         "offsetgroup": "Weight=0.9 | Num_Train_Examples=5.0",
         "orientation": "v",
         "showlegend": true,
         "textposition": "auto",
         "type": "bar",
         "x": [
          "1",
          "5",
          "10",
          "20"
         ],
         "xaxis": "x",
         "y": {
          "bdata": "WUEb8hKJ5j/3C2S9/aXtP5TYkn09Ce8/7bxyBj1+7z8=",
          "dtype": "f8"
         },
         "yaxis": "y"
        },
        {
         "alignmentgroup": "True",
         "hovertemplate": "Method=Weight=0.9 | Num_Train_Examples=10.0<br>k=%{x}<br>Hit Rate=%{y}<extra></extra>",
         "legendgroup": "Weight=0.9 | Num_Train_Examples=10.0",
         "marker": {
          "color": "#FF6692",
          "pattern": {
           "shape": ""
          }
         },
         "name": "Weight=0.9 | Num_Train_Examples=10.0",
         "offsetgroup": "Weight=0.9 | Num_Train_Examples=10.0",
         "orientation": "v",
         "showlegend": true,
         "textposition": "auto",
         "type": "bar",
         "x": [
          "1",
          "5",
          "10",
          "20"
         ],
         "xaxis": "x",
         "y": {
          "bdata": "939RYkv25T/3C2S9/aXtP8pIy+ocB+8/JC2rcxx87z8=",
          "dtype": "f8"
         },
         "yaxis": "y"
        },
        {
         "alignmentgroup": "True",
         "hovertemplate": "Method=Weight=0.95 | Num_Train_Examples=nan<br>k=%{x}<br>Hit Rate=%{y}<extra></extra>",
         "legendgroup": "Weight=0.95 | Num_Train_Examples=nan",
         "marker": {
          "color": "#B6E880",
          "pattern": {
           "shape": ""
          }
         },
         "name": "Weight=0.95 | Num_Train_Examples=nan",
         "offsetgroup": "Weight=0.95 | Num_Train_Examples=nan",
         "orientation": "v",
         "showlegend": true,
         "textposition": "auto",
         "type": "bar",
         "x": [
          "1",
          "5",
          "10",
          "20"
         ],
         "xaxis": "x",
         "y": {
          "bdata": "/ErIka2H5T//X5TYkn3tP22ZdDK7AO8/JC2rcxx87z8=",
          "dtype": "f8"
         },
         "yaxis": "y"
        },
        {
         "alignmentgroup": "True",
         "hovertemplate": "Method=Weight=0.95 | Num_Train_Examples=5.0<br>k=%{x}<br>Hit Rate=%{y}<extra></extra>",
         "legendgroup": "Weight=0.95 | Num_Train_Examples=5.0",
         "marker": {
          "color": "#FF97FF",
          "pattern": {
           "shape": ""
          }
         },
         "name": "Weight=0.95 | Num_Train_Examples=5.0",
         "offsetgroup": "Weight=0.95 | Num_Train_Examples=5.0",
         "orientation": "v",
         "showlegend": true,
         "textposition": "auto",
         "type": "bar",
         "x": [
          "1",
          "5",
          "10",
          "20"
         ],
         "xaxis": "x",
         "y": {
          "bdata": "WUEb8hKJ5j/3C2S9/aXtP5TYkn09Ce8/7bxyBj1+7z8=",
          "dtype": "f8"
         },
         "yaxis": "y"
        },
        {
         "alignmentgroup": "True",
         "hovertemplate": "Method=Weight=0.95 | Num_Train_Examples=10.0<br>k=%{x}<br>Hit Rate=%{y}<extra></extra>",
         "legendgroup": "Weight=0.95 | Num_Train_Examples=10.0",
         "marker": {
          "color": "#FECB52",
          "pattern": {
           "shape": ""
          }
         },
         "name": "Weight=0.95 | Num_Train_Examples=10.0",
         "offsetgroup": "Weight=0.95 | Num_Train_Examples=10.0",
         "orientation": "v",
         "showlegend": true,
         "textposition": "auto",
         "type": "bar",
         "x": [
          "1",
          "5",
          "10",
          "20"
         ],
         "xaxis": "x",
         "y": {
          "bdata": "939RYkv25T/3C2S9/aXtP8pIy+ocB+8/JC2rcxx87z8=",
          "dtype": "f8"
         },
         "yaxis": "y"
        },
        {
         "alignmentgroup": "True",
         "hovertemplate": "Method=Weight=0.99 | Num_Train_Examples=nan<br>k=%{x}<br>Hit Rate=%{y}<extra></extra>",
         "legendgroup": "Weight=0.99 | Num_Train_Examples=nan",
         "marker": {
          "color": "#636efa",
          "pattern": {
           "shape": ""
          }
         },
         "name": "Weight=0.99 | Num_Train_Examples=nan",
         "offsetgroup": "Weight=0.99 | Num_Train_Examples=nan",
         "orientation": "v",
         "showlegend": true,
         "textposition": "auto",
         "type": "bar",
         "x": [
          "1",
          "5",
          "10",
          "20"
         ],
         "xaxis": "x",
         "y": {
          "bdata": "/ErIka2H5T//X5TYkn3tP22ZdDK7AO8/JC2rcxx87z8=",
          "dtype": "f8"
         },
         "yaxis": "y"
        },
        {
         "alignmentgroup": "True",
         "hovertemplate": "Method=Weight=0.99 | Num_Train_Examples=5.0<br>k=%{x}<br>Hit Rate=%{y}<extra></extra>",
         "legendgroup": "Weight=0.99 | Num_Train_Examples=5.0",
         "marker": {
          "color": "#EF553B",
          "pattern": {
           "shape": ""
          }
         },
         "name": "Weight=0.99 | Num_Train_Examples=5.0",
         "offsetgroup": "Weight=0.99 | Num_Train_Examples=5.0",
         "orientation": "v",
         "showlegend": true,
         "textposition": "auto",
         "type": "bar",
         "x": [
          "1",
          "5",
          "10",
          "20"
         ],
         "xaxis": "x",
         "y": {
          "bdata": "WUEb8hKJ5j/3C2S9/aXtP5TYkn09Ce8/7bxyBj1+7z8=",
          "dtype": "f8"
         },
         "yaxis": "y"
        },
        {
         "alignmentgroup": "True",
         "hovertemplate": "Method=Weight=0.99 | Num_Train_Examples=10.0<br>k=%{x}<br>Hit Rate=%{y}<extra></extra>",
         "legendgroup": "Weight=0.99 | Num_Train_Examples=10.0",
         "marker": {
          "color": "#00cc96",
          "pattern": {
           "shape": ""
          }
         },
         "name": "Weight=0.99 | Num_Train_Examples=10.0",
         "offsetgroup": "Weight=0.99 | Num_Train_Examples=10.0",
         "orientation": "v",
         "showlegend": true,
         "textposition": "auto",
         "type": "bar",
         "x": [
          "1",
          "5",
          "10",
          "20"
         ],
         "xaxis": "x",
         "y": {
          "bdata": "939RYkv25T/3C2S9/aXtP8pIy+ocB+8/JC2rcxx87z8=",
          "dtype": "f8"
         },
         "yaxis": "y"
        },
        {
         "alignmentgroup": "True",
         "hovertemplate": "Method=Weight=0.999 | Num_Train_Examples=nan<br>k=%{x}<br>Hit Rate=%{y}<extra></extra>",
         "legendgroup": "Weight=0.999 | Num_Train_Examples=nan",
         "marker": {
          "color": "#ab63fa",
          "pattern": {
           "shape": ""
          }
         },
         "name": "Weight=0.999 | Num_Train_Examples=nan",
         "offsetgroup": "Weight=0.999 | Num_Train_Examples=nan",
         "orientation": "v",
         "showlegend": true,
         "textposition": "auto",
         "type": "bar",
         "x": [
          "1",
          "5",
          "10",
          "20"
         ],
         "xaxis": "x",
         "y": {
          "bdata": "/ErIka2H5T//X5TYkn3tP22ZdDK7AO8/JC2rcxx87z8=",
          "dtype": "f8"
         },
         "yaxis": "y"
        },
        {
         "alignmentgroup": "True",
         "hovertemplate": "Method=Weight=0.999 | Num_Train_Examples=5.0<br>k=%{x}<br>Hit Rate=%{y}<extra></extra>",
         "legendgroup": "Weight=0.999 | Num_Train_Examples=5.0",
         "marker": {
          "color": "#FFA15A",
          "pattern": {
           "shape": ""
          }
         },
         "name": "Weight=0.999 | Num_Train_Examples=5.0",
         "offsetgroup": "Weight=0.999 | Num_Train_Examples=5.0",
         "orientation": "v",
         "showlegend": true,
         "textposition": "auto",
         "type": "bar",
         "x": [
          "1",
          "5",
          "10",
          "20"
         ],
         "xaxis": "x",
         "y": {
          "bdata": "WUEb8hKJ5j/3C2S9/aXtP5TYkn09Ce8/7bxyBj1+7z8=",
          "dtype": "f8"
         },
         "yaxis": "y"
        },
        {
         "alignmentgroup": "True",
         "hovertemplate": "Method=Weight=0.999 | Num_Train_Examples=10.0<br>k=%{x}<br>Hit Rate=%{y}<extra></extra>",
         "legendgroup": "Weight=0.999 | Num_Train_Examples=10.0",
         "marker": {
          "color": "#19d3f3",
          "pattern": {
           "shape": ""
          }
         },
         "name": "Weight=0.999 | Num_Train_Examples=10.0",
         "offsetgroup": "Weight=0.999 | Num_Train_Examples=10.0",
         "orientation": "v",
         "showlegend": true,
         "textposition": "auto",
         "type": "bar",
         "x": [
          "1",
          "5",
          "10",
          "20"
         ],
         "xaxis": "x",
         "y": {
          "bdata": "939RYkv25T/3C2S9/aXtP8pIy+ocB+8/JC2rcxx87z8=",
          "dtype": "f8"
         },
         "yaxis": "y"
        }
       ],
       "layout": {
        "barmode": "group",
        "legend": {
         "title": {
          "text": "Method"
         },
         "tracegroupgap": 0
        },
        "template": {
         "data": {
          "bar": [
           {
            "error_x": {
             "color": "#2a3f5f"
            },
            "error_y": {
             "color": "#2a3f5f"
            },
            "marker": {
             "line": {
              "color": "#E5ECF6",
              "width": 0.5
             },
             "pattern": {
              "fillmode": "overlay",
              "size": 10,
              "solidity": 0.2
             }
            },
            "type": "bar"
           }
          ],
          "barpolar": [
           {
            "marker": {
             "line": {
              "color": "#E5ECF6",
              "width": 0.5
             },
             "pattern": {
              "fillmode": "overlay",
              "size": 10,
              "solidity": 0.2
             }
            },
            "type": "barpolar"
           }
          ],
          "carpet": [
           {
            "aaxis": {
             "endlinecolor": "#2a3f5f",
             "gridcolor": "white",
             "linecolor": "white",
             "minorgridcolor": "white",
             "startlinecolor": "#2a3f5f"
            },
            "baxis": {
             "endlinecolor": "#2a3f5f",
             "gridcolor": "white",
             "linecolor": "white",
             "minorgridcolor": "white",
             "startlinecolor": "#2a3f5f"
            },
            "type": "carpet"
           }
          ],
          "choropleth": [
           {
            "colorbar": {
             "outlinewidth": 0,
             "ticks": ""
            },
            "type": "choropleth"
           }
          ],
          "contour": [
           {
            "colorbar": {
             "outlinewidth": 0,
             "ticks": ""
            },
            "colorscale": [
             [
              0,
              "#0d0887"
             ],
             [
              0.1111111111111111,
              "#46039f"
             ],
             [
              0.2222222222222222,
              "#7201a8"
             ],
             [
              0.3333333333333333,
              "#9c179e"
             ],
             [
              0.4444444444444444,
              "#bd3786"
             ],
             [
              0.5555555555555556,
              "#d8576b"
             ],
             [
              0.6666666666666666,
              "#ed7953"
             ],
             [
              0.7777777777777778,
              "#fb9f3a"
             ],
             [
              0.8888888888888888,
              "#fdca26"
             ],
             [
              1,
              "#f0f921"
             ]
            ],
            "type": "contour"
           }
          ],
          "contourcarpet": [
           {
            "colorbar": {
             "outlinewidth": 0,
             "ticks": ""
            },
            "type": "contourcarpet"
           }
          ],
          "heatmap": [
           {
            "colorbar": {
             "outlinewidth": 0,
             "ticks": ""
            },
            "colorscale": [
             [
              0,
              "#0d0887"
             ],
             [
              0.1111111111111111,
              "#46039f"
             ],
             [
              0.2222222222222222,
              "#7201a8"
             ],
             [
              0.3333333333333333,
              "#9c179e"
             ],
             [
              0.4444444444444444,
              "#bd3786"
             ],
             [
              0.5555555555555556,
              "#d8576b"
             ],
             [
              0.6666666666666666,
              "#ed7953"
             ],
             [
              0.7777777777777778,
              "#fb9f3a"
             ],
             [
              0.8888888888888888,
              "#fdca26"
             ],
             [
              1,
              "#f0f921"
             ]
            ],
            "type": "heatmap"
           }
          ],
          "histogram": [
           {
            "marker": {
             "pattern": {
              "fillmode": "overlay",
              "size": 10,
              "solidity": 0.2
             }
            },
            "type": "histogram"
           }
          ],
          "histogram2d": [
           {
            "colorbar": {
             "outlinewidth": 0,
             "ticks": ""
            },
            "colorscale": [
             [
              0,
              "#0d0887"
             ],
             [
              0.1111111111111111,
              "#46039f"
             ],
             [
              0.2222222222222222,
              "#7201a8"
             ],
             [
              0.3333333333333333,
              "#9c179e"
             ],
             [
              0.4444444444444444,
              "#bd3786"
             ],
             [
              0.5555555555555556,
              "#d8576b"
             ],
             [
              0.6666666666666666,
              "#ed7953"
             ],
             [
              0.7777777777777778,
              "#fb9f3a"
             ],
             [
              0.8888888888888888,
              "#fdca26"
             ],
             [
              1,
              "#f0f921"
             ]
            ],
            "type": "histogram2d"
           }
          ],
          "histogram2dcontour": [
           {
            "colorbar": {
             "outlinewidth": 0,
             "ticks": ""
            },
            "colorscale": [
             [
              0,
              "#0d0887"
             ],
             [
              0.1111111111111111,
              "#46039f"
             ],
             [
              0.2222222222222222,
              "#7201a8"
             ],
             [
              0.3333333333333333,
              "#9c179e"
             ],
             [
              0.4444444444444444,
              "#bd3786"
             ],
             [
              0.5555555555555556,
              "#d8576b"
             ],
             [
              0.6666666666666666,
              "#ed7953"
             ],
             [
              0.7777777777777778,
              "#fb9f3a"
             ],
             [
              0.8888888888888888,
              "#fdca26"
             ],
             [
              1,
              "#f0f921"
             ]
            ],
            "type": "histogram2dcontour"
           }
          ],
          "mesh3d": [
           {
            "colorbar": {
             "outlinewidth": 0,
             "ticks": ""
            },
            "type": "mesh3d"
           }
          ],
          "parcoords": [
           {
            "line": {
             "colorbar": {
              "outlinewidth": 0,
              "ticks": ""
             }
            },
            "type": "parcoords"
           }
          ],
          "pie": [
           {
            "automargin": true,
            "type": "pie"
           }
          ],
          "scatter": [
           {
            "fillpattern": {
             "fillmode": "overlay",
             "size": 10,
             "solidity": 0.2
            },
            "type": "scatter"
           }
          ],
          "scatter3d": [
           {
            "line": {
             "colorbar": {
              "outlinewidth": 0,
              "ticks": ""
             }
            },
            "marker": {
             "colorbar": {
              "outlinewidth": 0,
              "ticks": ""
             }
            },
            "type": "scatter3d"
           }
          ],
          "scattercarpet": [
           {
            "marker": {
             "colorbar": {
              "outlinewidth": 0,
              "ticks": ""
             }
            },
            "type": "scattercarpet"
           }
          ],
          "scattergeo": [
           {
            "marker": {
             "colorbar": {
              "outlinewidth": 0,
              "ticks": ""
             }
            },
            "type": "scattergeo"
           }
          ],
          "scattergl": [
           {
            "marker": {
             "colorbar": {
              "outlinewidth": 0,
              "ticks": ""
             }
            },
            "type": "scattergl"
           }
          ],
          "scattermap": [
           {
            "marker": {
             "colorbar": {
              "outlinewidth": 0,
              "ticks": ""
             }
            },
            "type": "scattermap"
           }
          ],
          "scattermapbox": [
           {
            "marker": {
             "colorbar": {
              "outlinewidth": 0,
              "ticks": ""
             }
            },
            "type": "scattermapbox"
           }
          ],
          "scatterpolar": [
           {
            "marker": {
             "colorbar": {
              "outlinewidth": 0,
              "ticks": ""
             }
            },
            "type": "scatterpolar"
           }
          ],
          "scatterpolargl": [
           {
            "marker": {
             "colorbar": {
              "outlinewidth": 0,
              "ticks": ""
             }
            },
            "type": "scatterpolargl"
           }
          ],
          "scatterternary": [
           {
            "marker": {
             "colorbar": {
              "outlinewidth": 0,
              "ticks": ""
             }
            },
            "type": "scatterternary"
           }
          ],
          "surface": [
           {
            "colorbar": {
             "outlinewidth": 0,
             "ticks": ""
            },
            "colorscale": [
             [
              0,
              "#0d0887"
             ],
             [
              0.1111111111111111,
              "#46039f"
             ],
             [
              0.2222222222222222,
              "#7201a8"
             ],
             [
              0.3333333333333333,
              "#9c179e"
             ],
             [
              0.4444444444444444,
              "#bd3786"
             ],
             [
              0.5555555555555556,
              "#d8576b"
             ],
             [
              0.6666666666666666,
              "#ed7953"
             ],
             [
              0.7777777777777778,
              "#fb9f3a"
             ],
             [
              0.8888888888888888,
              "#fdca26"
             ],
             [
              1,
              "#f0f921"
             ]
            ],
            "type": "surface"
           }
          ],
          "table": [
           {
            "cells": {
             "fill": {
              "color": "#EBF0F8"
             },
             "line": {
              "color": "white"
             }
            },
            "header": {
             "fill": {
              "color": "#C8D4E3"
             },
             "line": {
              "color": "white"
             }
            },
            "type": "table"
           }
          ]
         },
         "layout": {
          "annotationdefaults": {
           "arrowcolor": "#2a3f5f",
           "arrowhead": 0,
           "arrowwidth": 1
          },
          "autotypenumbers": "strict",
          "coloraxis": {
           "colorbar": {
            "outlinewidth": 0,
            "ticks": ""
           }
          },
          "colorscale": {
           "diverging": [
            [
             0,
             "#8e0152"
            ],
            [
             0.1,
             "#c51b7d"
            ],
            [
             0.2,
             "#de77ae"
            ],
            [
             0.3,
             "#f1b6da"
            ],
            [
             0.4,
             "#fde0ef"
            ],
            [
             0.5,
             "#f7f7f7"
            ],
            [
             0.6,
             "#e6f5d0"
            ],
            [
             0.7,
             "#b8e186"
            ],
            [
             0.8,
             "#7fbc41"
            ],
            [
             0.9,
             "#4d9221"
            ],
            [
             1,
             "#276419"
            ]
           ],
           "sequential": [
            [
             0,
             "#0d0887"
            ],
            [
             0.1111111111111111,
             "#46039f"
            ],
            [
             0.2222222222222222,
             "#7201a8"
            ],
            [
             0.3333333333333333,
             "#9c179e"
            ],
            [
             0.4444444444444444,
             "#bd3786"
            ],
            [
             0.5555555555555556,
             "#d8576b"
            ],
            [
             0.6666666666666666,
             "#ed7953"
            ],
            [
             0.7777777777777778,
             "#fb9f3a"
            ],
            [
             0.8888888888888888,
             "#fdca26"
            ],
            [
             1,
             "#f0f921"
            ]
           ],
           "sequentialminus": [
            [
             0,
             "#0d0887"
            ],
            [
             0.1111111111111111,
             "#46039f"
            ],
            [
             0.2222222222222222,
             "#7201a8"
            ],
            [
             0.3333333333333333,
             "#9c179e"
            ],
            [
             0.4444444444444444,
             "#bd3786"
            ],
            [
             0.5555555555555556,
             "#d8576b"
            ],
            [
             0.6666666666666666,
             "#ed7953"
            ],
            [
             0.7777777777777778,
             "#fb9f3a"
            ],
            [
             0.8888888888888888,
             "#fdca26"
            ],
            [
             1,
             "#f0f921"
            ]
           ]
          },
          "colorway": [
           "#636efa",
           "#EF553B",
           "#00cc96",
           "#ab63fa",
           "#FFA15A",
           "#19d3f3",
           "#FF6692",
           "#B6E880",
           "#FF97FF",
           "#FECB52"
          ],
          "font": {
           "color": "#2a3f5f"
          },
          "geo": {
           "bgcolor": "white",
           "lakecolor": "white",
           "landcolor": "#E5ECF6",
           "showlakes": true,
           "showland": true,
           "subunitcolor": "white"
          },
          "hoverlabel": {
           "align": "left"
          },
          "hovermode": "closest",
          "mapbox": {
           "style": "light"
          },
          "paper_bgcolor": "white",
          "plot_bgcolor": "#E5ECF6",
          "polar": {
           "angularaxis": {
            "gridcolor": "white",
            "linecolor": "white",
            "ticks": ""
           },
           "bgcolor": "#E5ECF6",
           "radialaxis": {
            "gridcolor": "white",
            "linecolor": "white",
            "ticks": ""
           }
          },
          "scene": {
           "xaxis": {
            "backgroundcolor": "#E5ECF6",
            "gridcolor": "white",
            "gridwidth": 2,
            "linecolor": "white",
            "showbackground": true,
            "ticks": "",
            "zerolinecolor": "white"
           },
           "yaxis": {
            "backgroundcolor": "#E5ECF6",
            "gridcolor": "white",
            "gridwidth": 2,
            "linecolor": "white",
            "showbackground": true,
            "ticks": "",
            "zerolinecolor": "white"
           },
           "zaxis": {
            "backgroundcolor": "#E5ECF6",
            "gridcolor": "white",
            "gridwidth": 2,
            "linecolor": "white",
            "showbackground": true,
            "ticks": "",
            "zerolinecolor": "white"
           }
          },
          "shapedefaults": {
           "line": {
            "color": "#2a3f5f"
           }
          },
          "ternary": {
           "aaxis": {
            "gridcolor": "white",
            "linecolor": "white",
            "ticks": ""
           },
           "baxis": {
            "gridcolor": "white",
            "linecolor": "white",
            "ticks": ""
           },
           "bgcolor": "#E5ECF6",
           "caxis": {
            "gridcolor": "white",
            "linecolor": "white",
            "ticks": ""
           }
          },
          "title": {
           "x": 0.05
          },
          "xaxis": {
           "automargin": true,
           "gridcolor": "white",
           "linecolor": "white",
           "ticks": "",
           "title": {
            "standoff": 15
           },
           "zerolinecolor": "white",
           "zerolinewidth": 2
          },
          "yaxis": {
           "automargin": true,
           "gridcolor": "white",
           "linecolor": "white",
           "ticks": "",
           "title": {
            "standoff": 15
           },
           "zerolinecolor": "white",
           "zerolinewidth": 2
          }
         }
        },
        "title": {
         "text": "Hit Rate@k (Collaborative & Hybrid Filtering)"
        },
        "xaxis": {
         "anchor": "y",
         "domain": [
          0,
          1
         ],
         "tickvals": [
          "1",
          "10",
          "20",
          "5"
         ],
         "title": {
          "text": "k"
         }
        },
        "yaxis": {
         "anchor": "x",
         "domain": [
          0,
          1
         ],
         "title": {
          "text": "Hit Rate"
         }
        }
       }
      }
     },
     "metadata": {},
     "output_type": "display_data"
    }
   ],
   "source": [
    "create_bar_chart_plotly(\n",
    "    combined_df,\n",
    "    x=\"k\", \n",
    "    y=\"hit_rate\", \n",
    "    color=\"name\", \n",
    "    title=\"Hit Rate@k (Collaborative & Hybrid Filtering)\", \n",
    "    labels={\"k\": \"k\", \"hit_rate\": \"Hit Rate\", \"name\": \"Method\"}\n",
    ")"
   ]
  },
  {
   "cell_type": "code",
   "execution_count": 51,
   "id": "3848dba4",
   "metadata": {},
   "outputs": [
    {
     "data": {
      "application/vnd.plotly.v1+json": {
       "config": {
        "plotlyServerURL": "https://plot.ly"
       },
       "data": [
        {
         "alignmentgroup": "True",
         "hovertemplate": "Method=Memory-Based Collaborative Filtering<br>k=%{x}<br>Mean Avg Precision=%{y}<extra></extra>",
         "legendgroup": "Memory-Based Collaborative Filtering",
         "marker": {
          "color": "#636efa",
          "pattern": {
           "shape": ""
          }
         },
         "name": "Memory-Based Collaborative Filtering",
         "offsetgroup": "Memory-Based Collaborative Filtering",
         "orientation": "v",
         "showlegend": true,
         "textposition": "auto",
         "type": "bar",
         "x": [
          "1",
          "5",
          "10",
          "20"
         ],
         "xaxis": "x",
         "y": {
          "bdata": "oFR1MUiG5D8G6T8PI2XfP8vLhnC9Dto/ZrgzP8gh1j8=",
          "dtype": "f8"
         },
         "yaxis": "y"
        },
        {
         "alignmentgroup": "True",
         "hovertemplate": "Method=Weight=0.8 | Num_Train_Examples=nan<br>k=%{x}<br>Mean Avg Precision=%{y}<extra></extra>",
         "legendgroup": "Weight=0.8 | Num_Train_Examples=nan",
         "marker": {
          "color": "#EF553B",
          "pattern": {
           "shape": ""
          }
         },
         "name": "Weight=0.8 | Num_Train_Examples=nan",
         "offsetgroup": "Weight=0.8 | Num_Train_Examples=nan",
         "orientation": "v",
         "showlegend": true,
         "textposition": "auto",
         "type": "bar",
         "x": [
          "1",
          "5",
          "10",
          "20"
         ],
         "xaxis": "x",
         "y": {
          "bdata": "5CUSLU444z8kIztgFnvaP/Le+RoFgNU/WkN6jBag0T8=",
          "dtype": "f8"
         },
         "yaxis": "y"
        },
        {
         "alignmentgroup": "True",
         "hovertemplate": "Method=Weight=0.8 | Num_Train_Examples=5.0<br>k=%{x}<br>Mean Avg Precision=%{y}<extra></extra>",
         "legendgroup": "Weight=0.8 | Num_Train_Examples=5.0",
         "marker": {
          "color": "#00cc96",
          "pattern": {
           "shape": ""
          }
         },
         "name": "Weight=0.8 | Num_Train_Examples=5.0",
         "offsetgroup": "Weight=0.8 | Num_Train_Examples=5.0",
         "orientation": "v",
         "showlegend": true,
         "textposition": "auto",
         "type": "bar",
         "x": [
          "1",
          "5",
          "10",
          "20"
         ],
         "xaxis": "x",
         "y": {
          "bdata": "Vor9jmvK4T9rcTs/9CvaP2BOT2WkZdU/YSaPF4xh0T8=",
          "dtype": "f8"
         },
         "yaxis": "y"
        },
        {
         "alignmentgroup": "True",
         "hovertemplate": "Method=Weight=0.8 | Num_Train_Examples=10.0<br>k=%{x}<br>Mean Avg Precision=%{y}<extra></extra>",
         "legendgroup": "Weight=0.8 | Num_Train_Examples=10.0",
         "marker": {
          "color": "#ab63fa",
          "pattern": {
           "shape": ""
          }
         },
         "name": "Weight=0.8 | Num_Train_Examples=10.0",
         "offsetgroup": "Weight=0.8 | Num_Train_Examples=10.0",
         "orientation": "v",
         "showlegend": true,
         "textposition": "auto",
         "type": "bar",
         "x": [
          "1",
          "5",
          "10",
          "20"
         ],
         "xaxis": "x",
         "y": {
          "bdata": "yQWbLMOY4j+EeRTka5vaPwW3lghWj9U/rxXnPbCI0T8=",
          "dtype": "f8"
         },
         "yaxis": "y"
        },
        {
         "alignmentgroup": "True",
         "hovertemplate": "Method=Weight=0.9 | Num_Train_Examples=nan<br>k=%{x}<br>Mean Avg Precision=%{y}<extra></extra>",
         "legendgroup": "Weight=0.9 | Num_Train_Examples=nan",
         "marker": {
          "color": "#FFA15A",
          "pattern": {
           "shape": ""
          }
         },
         "name": "Weight=0.9 | Num_Train_Examples=nan",
         "offsetgroup": "Weight=0.9 | Num_Train_Examples=nan",
         "orientation": "v",
         "showlegend": true,
         "textposition": "auto",
         "type": "bar",
         "x": [
          "1",
          "5",
          "10",
          "20"
         ],
         "xaxis": "x",
         "y": {
          "bdata": "5CUSLU444z8kIztgFnvaP/Le+RoFgNU/WkN6jBag0T8=",
          "dtype": "f8"
         },
         "yaxis": "y"
        },
        {
         "alignmentgroup": "True",
         "hovertemplate": "Method=Weight=0.9 | Num_Train_Examples=5.0<br>k=%{x}<br>Mean Avg Precision=%{y}<extra></extra>",
         "legendgroup": "Weight=0.9 | Num_Train_Examples=5.0",
         "marker": {
          "color": "#19d3f3",
          "pattern": {
           "shape": ""
          }
         },
         "name": "Weight=0.9 | Num_Train_Examples=5.0",
         "offsetgroup": "Weight=0.9 | Num_Train_Examples=5.0",
         "orientation": "v",
         "showlegend": true,
         "textposition": "auto",
         "type": "bar",
         "x": [
          "1",
          "5",
          "10",
          "20"
         ],
         "xaxis": "x",
         "y": {
          "bdata": "Vor9jmvK4T9rcTs/9CvaP2BOT2WkZdU/YSaPF4xh0T8=",
          "dtype": "f8"
         },
         "yaxis": "y"
        },
        {
         "alignmentgroup": "True",
         "hovertemplate": "Method=Weight=0.9 | Num_Train_Examples=10.0<br>k=%{x}<br>Mean Avg Precision=%{y}<extra></extra>",
         "legendgroup": "Weight=0.9 | Num_Train_Examples=10.0",
         "marker": {
          "color": "#FF6692",
          "pattern": {
           "shape": ""
          }
         },
         "name": "Weight=0.9 | Num_Train_Examples=10.0",
         "offsetgroup": "Weight=0.9 | Num_Train_Examples=10.0",
         "orientation": "v",
         "showlegend": true,
         "textposition": "auto",
         "type": "bar",
         "x": [
          "1",
          "5",
          "10",
          "20"
         ],
         "xaxis": "x",
         "y": {
          "bdata": "yQWbLMOY4j+EeRTka5vaPwW3lghWj9U/rxXnPbCI0T8=",
          "dtype": "f8"
         },
         "yaxis": "y"
        },
        {
         "alignmentgroup": "True",
         "hovertemplate": "Method=Weight=0.95 | Num_Train_Examples=nan<br>k=%{x}<br>Mean Avg Precision=%{y}<extra></extra>",
         "legendgroup": "Weight=0.95 | Num_Train_Examples=nan",
         "marker": {
          "color": "#B6E880",
          "pattern": {
           "shape": ""
          }
         },
         "name": "Weight=0.95 | Num_Train_Examples=nan",
         "offsetgroup": "Weight=0.95 | Num_Train_Examples=nan",
         "orientation": "v",
         "showlegend": true,
         "textposition": "auto",
         "type": "bar",
         "x": [
          "1",
          "5",
          "10",
          "20"
         ],
         "xaxis": "x",
         "y": {
          "bdata": "5CUSLU444z8kIztgFnvaP/Le+RoFgNU/WkN6jBag0T8=",
          "dtype": "f8"
         },
         "yaxis": "y"
        },
        {
         "alignmentgroup": "True",
         "hovertemplate": "Method=Weight=0.95 | Num_Train_Examples=5.0<br>k=%{x}<br>Mean Avg Precision=%{y}<extra></extra>",
         "legendgroup": "Weight=0.95 | Num_Train_Examples=5.0",
         "marker": {
          "color": "#FF97FF",
          "pattern": {
           "shape": ""
          }
         },
         "name": "Weight=0.95 | Num_Train_Examples=5.0",
         "offsetgroup": "Weight=0.95 | Num_Train_Examples=5.0",
         "orientation": "v",
         "showlegend": true,
         "textposition": "auto",
         "type": "bar",
         "x": [
          "1",
          "5",
          "10",
          "20"
         ],
         "xaxis": "x",
         "y": {
          "bdata": "Vor9jmvK4T9rcTs/9CvaP2BOT2WkZdU/YSaPF4xh0T8=",
          "dtype": "f8"
         },
         "yaxis": "y"
        },
        {
         "alignmentgroup": "True",
         "hovertemplate": "Method=Weight=0.95 | Num_Train_Examples=10.0<br>k=%{x}<br>Mean Avg Precision=%{y}<extra></extra>",
         "legendgroup": "Weight=0.95 | Num_Train_Examples=10.0",
         "marker": {
          "color": "#FECB52",
          "pattern": {
           "shape": ""
          }
         },
         "name": "Weight=0.95 | Num_Train_Examples=10.0",
         "offsetgroup": "Weight=0.95 | Num_Train_Examples=10.0",
         "orientation": "v",
         "showlegend": true,
         "textposition": "auto",
         "type": "bar",
         "x": [
          "1",
          "5",
          "10",
          "20"
         ],
         "xaxis": "x",
         "y": {
          "bdata": "yQWbLMOY4j+EeRTka5vaPwW3lghWj9U/rxXnPbCI0T8=",
          "dtype": "f8"
         },
         "yaxis": "y"
        },
        {
         "alignmentgroup": "True",
         "hovertemplate": "Method=Weight=0.99 | Num_Train_Examples=nan<br>k=%{x}<br>Mean Avg Precision=%{y}<extra></extra>",
         "legendgroup": "Weight=0.99 | Num_Train_Examples=nan",
         "marker": {
          "color": "#636efa",
          "pattern": {
           "shape": ""
          }
         },
         "name": "Weight=0.99 | Num_Train_Examples=nan",
         "offsetgroup": "Weight=0.99 | Num_Train_Examples=nan",
         "orientation": "v",
         "showlegend": true,
         "textposition": "auto",
         "type": "bar",
         "x": [
          "1",
          "5",
          "10",
          "20"
         ],
         "xaxis": "x",
         "y": {
          "bdata": "5CUSLU444z8kIztgFnvaP/Le+RoFgNU/WkN6jBag0T8=",
          "dtype": "f8"
         },
         "yaxis": "y"
        },
        {
         "alignmentgroup": "True",
         "hovertemplate": "Method=Weight=0.99 | Num_Train_Examples=5.0<br>k=%{x}<br>Mean Avg Precision=%{y}<extra></extra>",
         "legendgroup": "Weight=0.99 | Num_Train_Examples=5.0",
         "marker": {
          "color": "#EF553B",
          "pattern": {
           "shape": ""
          }
         },
         "name": "Weight=0.99 | Num_Train_Examples=5.0",
         "offsetgroup": "Weight=0.99 | Num_Train_Examples=5.0",
         "orientation": "v",
         "showlegend": true,
         "textposition": "auto",
         "type": "bar",
         "x": [
          "1",
          "5",
          "10",
          "20"
         ],
         "xaxis": "x",
         "y": {
          "bdata": "Vor9jmvK4T9rcTs/9CvaP2BOT2WkZdU/YSaPF4xh0T8=",
          "dtype": "f8"
         },
         "yaxis": "y"
        },
        {
         "alignmentgroup": "True",
         "hovertemplate": "Method=Weight=0.99 | Num_Train_Examples=10.0<br>k=%{x}<br>Mean Avg Precision=%{y}<extra></extra>",
         "legendgroup": "Weight=0.99 | Num_Train_Examples=10.0",
         "marker": {
          "color": "#00cc96",
          "pattern": {
           "shape": ""
          }
         },
         "name": "Weight=0.99 | Num_Train_Examples=10.0",
         "offsetgroup": "Weight=0.99 | Num_Train_Examples=10.0",
         "orientation": "v",
         "showlegend": true,
         "textposition": "auto",
         "type": "bar",
         "x": [
          "1",
          "5",
          "10",
          "20"
         ],
         "xaxis": "x",
         "y": {
          "bdata": "yQWbLMOY4j+EeRTka5vaPwW3lghWj9U/rxXnPbCI0T8=",
          "dtype": "f8"
         },
         "yaxis": "y"
        },
        {
         "alignmentgroup": "True",
         "hovertemplate": "Method=Weight=0.999 | Num_Train_Examples=nan<br>k=%{x}<br>Mean Avg Precision=%{y}<extra></extra>",
         "legendgroup": "Weight=0.999 | Num_Train_Examples=nan",
         "marker": {
          "color": "#ab63fa",
          "pattern": {
           "shape": ""
          }
         },
         "name": "Weight=0.999 | Num_Train_Examples=nan",
         "offsetgroup": "Weight=0.999 | Num_Train_Examples=nan",
         "orientation": "v",
         "showlegend": true,
         "textposition": "auto",
         "type": "bar",
         "x": [
          "1",
          "5",
          "10",
          "20"
         ],
         "xaxis": "x",
         "y": {
          "bdata": "5CUSLU444z8kIztgFnvaP/Le+RoFgNU/WkN6jBag0T8=",
          "dtype": "f8"
         },
         "yaxis": "y"
        },
        {
         "alignmentgroup": "True",
         "hovertemplate": "Method=Weight=0.999 | Num_Train_Examples=5.0<br>k=%{x}<br>Mean Avg Precision=%{y}<extra></extra>",
         "legendgroup": "Weight=0.999 | Num_Train_Examples=5.0",
         "marker": {
          "color": "#FFA15A",
          "pattern": {
           "shape": ""
          }
         },
         "name": "Weight=0.999 | Num_Train_Examples=5.0",
         "offsetgroup": "Weight=0.999 | Num_Train_Examples=5.0",
         "orientation": "v",
         "showlegend": true,
         "textposition": "auto",
         "type": "bar",
         "x": [
          "1",
          "5",
          "10",
          "20"
         ],
         "xaxis": "x",
         "y": {
          "bdata": "Vor9jmvK4T9rcTs/9CvaP2BOT2WkZdU/YSaPF4xh0T8=",
          "dtype": "f8"
         },
         "yaxis": "y"
        },
        {
         "alignmentgroup": "True",
         "hovertemplate": "Method=Weight=0.999 | Num_Train_Examples=10.0<br>k=%{x}<br>Mean Avg Precision=%{y}<extra></extra>",
         "legendgroup": "Weight=0.999 | Num_Train_Examples=10.0",
         "marker": {
          "color": "#19d3f3",
          "pattern": {
           "shape": ""
          }
         },
         "name": "Weight=0.999 | Num_Train_Examples=10.0",
         "offsetgroup": "Weight=0.999 | Num_Train_Examples=10.0",
         "orientation": "v",
         "showlegend": true,
         "textposition": "auto",
         "type": "bar",
         "x": [
          "1",
          "5",
          "10",
          "20"
         ],
         "xaxis": "x",
         "y": {
          "bdata": "yQWbLMOY4j+EeRTka5vaPwW3lghWj9U/rxXnPbCI0T8=",
          "dtype": "f8"
         },
         "yaxis": "y"
        }
       ],
       "layout": {
        "barmode": "group",
        "legend": {
         "title": {
          "text": "Method"
         },
         "tracegroupgap": 0
        },
        "template": {
         "data": {
          "bar": [
           {
            "error_x": {
             "color": "#2a3f5f"
            },
            "error_y": {
             "color": "#2a3f5f"
            },
            "marker": {
             "line": {
              "color": "#E5ECF6",
              "width": 0.5
             },
             "pattern": {
              "fillmode": "overlay",
              "size": 10,
              "solidity": 0.2
             }
            },
            "type": "bar"
           }
          ],
          "barpolar": [
           {
            "marker": {
             "line": {
              "color": "#E5ECF6",
              "width": 0.5
             },
             "pattern": {
              "fillmode": "overlay",
              "size": 10,
              "solidity": 0.2
             }
            },
            "type": "barpolar"
           }
          ],
          "carpet": [
           {
            "aaxis": {
             "endlinecolor": "#2a3f5f",
             "gridcolor": "white",
             "linecolor": "white",
             "minorgridcolor": "white",
             "startlinecolor": "#2a3f5f"
            },
            "baxis": {
             "endlinecolor": "#2a3f5f",
             "gridcolor": "white",
             "linecolor": "white",
             "minorgridcolor": "white",
             "startlinecolor": "#2a3f5f"
            },
            "type": "carpet"
           }
          ],
          "choropleth": [
           {
            "colorbar": {
             "outlinewidth": 0,
             "ticks": ""
            },
            "type": "choropleth"
           }
          ],
          "contour": [
           {
            "colorbar": {
             "outlinewidth": 0,
             "ticks": ""
            },
            "colorscale": [
             [
              0,
              "#0d0887"
             ],
             [
              0.1111111111111111,
              "#46039f"
             ],
             [
              0.2222222222222222,
              "#7201a8"
             ],
             [
              0.3333333333333333,
              "#9c179e"
             ],
             [
              0.4444444444444444,
              "#bd3786"
             ],
             [
              0.5555555555555556,
              "#d8576b"
             ],
             [
              0.6666666666666666,
              "#ed7953"
             ],
             [
              0.7777777777777778,
              "#fb9f3a"
             ],
             [
              0.8888888888888888,
              "#fdca26"
             ],
             [
              1,
              "#f0f921"
             ]
            ],
            "type": "contour"
           }
          ],
          "contourcarpet": [
           {
            "colorbar": {
             "outlinewidth": 0,
             "ticks": ""
            },
            "type": "contourcarpet"
           }
          ],
          "heatmap": [
           {
            "colorbar": {
             "outlinewidth": 0,
             "ticks": ""
            },
            "colorscale": [
             [
              0,
              "#0d0887"
             ],
             [
              0.1111111111111111,
              "#46039f"
             ],
             [
              0.2222222222222222,
              "#7201a8"
             ],
             [
              0.3333333333333333,
              "#9c179e"
             ],
             [
              0.4444444444444444,
              "#bd3786"
             ],
             [
              0.5555555555555556,
              "#d8576b"
             ],
             [
              0.6666666666666666,
              "#ed7953"
             ],
             [
              0.7777777777777778,
              "#fb9f3a"
             ],
             [
              0.8888888888888888,
              "#fdca26"
             ],
             [
              1,
              "#f0f921"
             ]
            ],
            "type": "heatmap"
           }
          ],
          "histogram": [
           {
            "marker": {
             "pattern": {
              "fillmode": "overlay",
              "size": 10,
              "solidity": 0.2
             }
            },
            "type": "histogram"
           }
          ],
          "histogram2d": [
           {
            "colorbar": {
             "outlinewidth": 0,
             "ticks": ""
            },
            "colorscale": [
             [
              0,
              "#0d0887"
             ],
             [
              0.1111111111111111,
              "#46039f"
             ],
             [
              0.2222222222222222,
              "#7201a8"
             ],
             [
              0.3333333333333333,
              "#9c179e"
             ],
             [
              0.4444444444444444,
              "#bd3786"
             ],
             [
              0.5555555555555556,
              "#d8576b"
             ],
             [
              0.6666666666666666,
              "#ed7953"
             ],
             [
              0.7777777777777778,
              "#fb9f3a"
             ],
             [
              0.8888888888888888,
              "#fdca26"
             ],
             [
              1,
              "#f0f921"
             ]
            ],
            "type": "histogram2d"
           }
          ],
          "histogram2dcontour": [
           {
            "colorbar": {
             "outlinewidth": 0,
             "ticks": ""
            },
            "colorscale": [
             [
              0,
              "#0d0887"
             ],
             [
              0.1111111111111111,
              "#46039f"
             ],
             [
              0.2222222222222222,
              "#7201a8"
             ],
             [
              0.3333333333333333,
              "#9c179e"
             ],
             [
              0.4444444444444444,
              "#bd3786"
             ],
             [
              0.5555555555555556,
              "#d8576b"
             ],
             [
              0.6666666666666666,
              "#ed7953"
             ],
             [
              0.7777777777777778,
              "#fb9f3a"
             ],
             [
              0.8888888888888888,
              "#fdca26"
             ],
             [
              1,
              "#f0f921"
             ]
            ],
            "type": "histogram2dcontour"
           }
          ],
          "mesh3d": [
           {
            "colorbar": {
             "outlinewidth": 0,
             "ticks": ""
            },
            "type": "mesh3d"
           }
          ],
          "parcoords": [
           {
            "line": {
             "colorbar": {
              "outlinewidth": 0,
              "ticks": ""
             }
            },
            "type": "parcoords"
           }
          ],
          "pie": [
           {
            "automargin": true,
            "type": "pie"
           }
          ],
          "scatter": [
           {
            "fillpattern": {
             "fillmode": "overlay",
             "size": 10,
             "solidity": 0.2
            },
            "type": "scatter"
           }
          ],
          "scatter3d": [
           {
            "line": {
             "colorbar": {
              "outlinewidth": 0,
              "ticks": ""
             }
            },
            "marker": {
             "colorbar": {
              "outlinewidth": 0,
              "ticks": ""
             }
            },
            "type": "scatter3d"
           }
          ],
          "scattercarpet": [
           {
            "marker": {
             "colorbar": {
              "outlinewidth": 0,
              "ticks": ""
             }
            },
            "type": "scattercarpet"
           }
          ],
          "scattergeo": [
           {
            "marker": {
             "colorbar": {
              "outlinewidth": 0,
              "ticks": ""
             }
            },
            "type": "scattergeo"
           }
          ],
          "scattergl": [
           {
            "marker": {
             "colorbar": {
              "outlinewidth": 0,
              "ticks": ""
             }
            },
            "type": "scattergl"
           }
          ],
          "scattermap": [
           {
            "marker": {
             "colorbar": {
              "outlinewidth": 0,
              "ticks": ""
             }
            },
            "type": "scattermap"
           }
          ],
          "scattermapbox": [
           {
            "marker": {
             "colorbar": {
              "outlinewidth": 0,
              "ticks": ""
             }
            },
            "type": "scattermapbox"
           }
          ],
          "scatterpolar": [
           {
            "marker": {
             "colorbar": {
              "outlinewidth": 0,
              "ticks": ""
             }
            },
            "type": "scatterpolar"
           }
          ],
          "scatterpolargl": [
           {
            "marker": {
             "colorbar": {
              "outlinewidth": 0,
              "ticks": ""
             }
            },
            "type": "scatterpolargl"
           }
          ],
          "scatterternary": [
           {
            "marker": {
             "colorbar": {
              "outlinewidth": 0,
              "ticks": ""
             }
            },
            "type": "scatterternary"
           }
          ],
          "surface": [
           {
            "colorbar": {
             "outlinewidth": 0,
             "ticks": ""
            },
            "colorscale": [
             [
              0,
              "#0d0887"
             ],
             [
              0.1111111111111111,
              "#46039f"
             ],
             [
              0.2222222222222222,
              "#7201a8"
             ],
             [
              0.3333333333333333,
              "#9c179e"
             ],
             [
              0.4444444444444444,
              "#bd3786"
             ],
             [
              0.5555555555555556,
              "#d8576b"
             ],
             [
              0.6666666666666666,
              "#ed7953"
             ],
             [
              0.7777777777777778,
              "#fb9f3a"
             ],
             [
              0.8888888888888888,
              "#fdca26"
             ],
             [
              1,
              "#f0f921"
             ]
            ],
            "type": "surface"
           }
          ],
          "table": [
           {
            "cells": {
             "fill": {
              "color": "#EBF0F8"
             },
             "line": {
              "color": "white"
             }
            },
            "header": {
             "fill": {
              "color": "#C8D4E3"
             },
             "line": {
              "color": "white"
             }
            },
            "type": "table"
           }
          ]
         },
         "layout": {
          "annotationdefaults": {
           "arrowcolor": "#2a3f5f",
           "arrowhead": 0,
           "arrowwidth": 1
          },
          "autotypenumbers": "strict",
          "coloraxis": {
           "colorbar": {
            "outlinewidth": 0,
            "ticks": ""
           }
          },
          "colorscale": {
           "diverging": [
            [
             0,
             "#8e0152"
            ],
            [
             0.1,
             "#c51b7d"
            ],
            [
             0.2,
             "#de77ae"
            ],
            [
             0.3,
             "#f1b6da"
            ],
            [
             0.4,
             "#fde0ef"
            ],
            [
             0.5,
             "#f7f7f7"
            ],
            [
             0.6,
             "#e6f5d0"
            ],
            [
             0.7,
             "#b8e186"
            ],
            [
             0.8,
             "#7fbc41"
            ],
            [
             0.9,
             "#4d9221"
            ],
            [
             1,
             "#276419"
            ]
           ],
           "sequential": [
            [
             0,
             "#0d0887"
            ],
            [
             0.1111111111111111,
             "#46039f"
            ],
            [
             0.2222222222222222,
             "#7201a8"
            ],
            [
             0.3333333333333333,
             "#9c179e"
            ],
            [
             0.4444444444444444,
             "#bd3786"
            ],
            [
             0.5555555555555556,
             "#d8576b"
            ],
            [
             0.6666666666666666,
             "#ed7953"
            ],
            [
             0.7777777777777778,
             "#fb9f3a"
            ],
            [
             0.8888888888888888,
             "#fdca26"
            ],
            [
             1,
             "#f0f921"
            ]
           ],
           "sequentialminus": [
            [
             0,
             "#0d0887"
            ],
            [
             0.1111111111111111,
             "#46039f"
            ],
            [
             0.2222222222222222,
             "#7201a8"
            ],
            [
             0.3333333333333333,
             "#9c179e"
            ],
            [
             0.4444444444444444,
             "#bd3786"
            ],
            [
             0.5555555555555556,
             "#d8576b"
            ],
            [
             0.6666666666666666,
             "#ed7953"
            ],
            [
             0.7777777777777778,
             "#fb9f3a"
            ],
            [
             0.8888888888888888,
             "#fdca26"
            ],
            [
             1,
             "#f0f921"
            ]
           ]
          },
          "colorway": [
           "#636efa",
           "#EF553B",
           "#00cc96",
           "#ab63fa",
           "#FFA15A",
           "#19d3f3",
           "#FF6692",
           "#B6E880",
           "#FF97FF",
           "#FECB52"
          ],
          "font": {
           "color": "#2a3f5f"
          },
          "geo": {
           "bgcolor": "white",
           "lakecolor": "white",
           "landcolor": "#E5ECF6",
           "showlakes": true,
           "showland": true,
           "subunitcolor": "white"
          },
          "hoverlabel": {
           "align": "left"
          },
          "hovermode": "closest",
          "mapbox": {
           "style": "light"
          },
          "paper_bgcolor": "white",
          "plot_bgcolor": "#E5ECF6",
          "polar": {
           "angularaxis": {
            "gridcolor": "white",
            "linecolor": "white",
            "ticks": ""
           },
           "bgcolor": "#E5ECF6",
           "radialaxis": {
            "gridcolor": "white",
            "linecolor": "white",
            "ticks": ""
           }
          },
          "scene": {
           "xaxis": {
            "backgroundcolor": "#E5ECF6",
            "gridcolor": "white",
            "gridwidth": 2,
            "linecolor": "white",
            "showbackground": true,
            "ticks": "",
            "zerolinecolor": "white"
           },
           "yaxis": {
            "backgroundcolor": "#E5ECF6",
            "gridcolor": "white",
            "gridwidth": 2,
            "linecolor": "white",
            "showbackground": true,
            "ticks": "",
            "zerolinecolor": "white"
           },
           "zaxis": {
            "backgroundcolor": "#E5ECF6",
            "gridcolor": "white",
            "gridwidth": 2,
            "linecolor": "white",
            "showbackground": true,
            "ticks": "",
            "zerolinecolor": "white"
           }
          },
          "shapedefaults": {
           "line": {
            "color": "#2a3f5f"
           }
          },
          "ternary": {
           "aaxis": {
            "gridcolor": "white",
            "linecolor": "white",
            "ticks": ""
           },
           "baxis": {
            "gridcolor": "white",
            "linecolor": "white",
            "ticks": ""
           },
           "bgcolor": "#E5ECF6",
           "caxis": {
            "gridcolor": "white",
            "linecolor": "white",
            "ticks": ""
           }
          },
          "title": {
           "x": 0.05
          },
          "xaxis": {
           "automargin": true,
           "gridcolor": "white",
           "linecolor": "white",
           "ticks": "",
           "title": {
            "standoff": 15
           },
           "zerolinecolor": "white",
           "zerolinewidth": 2
          },
          "yaxis": {
           "automargin": true,
           "gridcolor": "white",
           "linecolor": "white",
           "ticks": "",
           "title": {
            "standoff": 15
           },
           "zerolinecolor": "white",
           "zerolinewidth": 2
          }
         }
        },
        "title": {
         "text": "MAP@k (Collaborative & Hybrid Filtering)"
        },
        "xaxis": {
         "anchor": "y",
         "domain": [
          0,
          1
         ],
         "tickvals": [
          "1",
          "10",
          "20",
          "5"
         ],
         "title": {
          "text": "k"
         }
        },
        "yaxis": {
         "anchor": "x",
         "domain": [
          0,
          1
         ],
         "title": {
          "text": "Mean Avg Precision"
         }
        }
       }
      }
     },
     "metadata": {},
     "output_type": "display_data"
    }
   ],
   "source": [
    "create_bar_chart_plotly(\n",
    "    combined_df,\n",
    "    x=\"k\", \n",
    "    y=\"mean_avg_prec\", \n",
    "    color=\"name\", \n",
    "    title=\"MAP@k (Collaborative & Hybrid Filtering)\", \n",
    "    labels={\"k\": \"k\", \"mean_avg_prec\": \"Mean Avg Precision\", \"name\": \"Method\"}\n",
    ")"
   ]
  },
  {
   "cell_type": "code",
   "execution_count": 52,
   "id": "dc9a555f",
   "metadata": {},
   "outputs": [
    {
     "data": {
      "application/vnd.plotly.v1+json": {
       "config": {
        "plotlyServerURL": "https://plot.ly"
       },
       "data": [
        {
         "alignmentgroup": "True",
         "hovertemplate": "Method=Memory-Based Collaborative Filtering<br>k=%{x}<br>NDCG=%{y}<extra></extra>",
         "legendgroup": "Memory-Based Collaborative Filtering",
         "marker": {
          "color": "#636efa",
          "pattern": {
           "shape": ""
          }
         },
         "name": "Memory-Based Collaborative Filtering",
         "offsetgroup": "Memory-Based Collaborative Filtering",
         "orientation": "v",
         "showlegend": true,
         "textposition": "auto",
         "type": "bar",
         "x": [
          "1",
          "5",
          "10",
          "20"
         ],
         "xaxis": "x",
         "y": {
          "bdata": "AAAAAAAAAACn62BE/I3oP9t7jCsZceg/te7zP5DV5z8=",
          "dtype": "f8"
         },
         "yaxis": "y"
        },
        {
         "alignmentgroup": "True",
         "hovertemplate": "Method=Weight=0.8 | Num_Train_Examples=nan<br>k=%{x}<br>NDCG=%{y}<extra></extra>",
         "legendgroup": "Weight=0.8 | Num_Train_Examples=nan",
         "marker": {
          "color": "#EF553B",
          "pattern": {
           "shape": ""
          }
         },
         "name": "Weight=0.8 | Num_Train_Examples=nan",
         "offsetgroup": "Weight=0.8 | Num_Train_Examples=nan",
         "orientation": "v",
         "showlegend": true,
         "textposition": "auto",
         "type": "bar",
         "x": [
          "1",
          "5",
          "10",
          "20"
         ],
         "xaxis": "x",
         "y": {
          "bdata": "6B7t0yRC1z9zbRxvsyHkP4QONb67muQ/ZFsQCGlC5D8=",
          "dtype": "f8"
         },
         "yaxis": "y"
        },
        {
         "alignmentgroup": "True",
         "hovertemplate": "Method=Weight=0.8 | Num_Train_Examples=5.0<br>k=%{x}<br>NDCG=%{y}<extra></extra>",
         "legendgroup": "Weight=0.8 | Num_Train_Examples=5.0",
         "marker": {
          "color": "#00cc96",
          "pattern": {
           "shape": ""
          }
         },
         "name": "Weight=0.8 | Num_Train_Examples=5.0",
         "offsetgroup": "Weight=0.8 | Num_Train_Examples=5.0",
         "orientation": "v",
         "showlegend": true,
         "textposition": "auto",
         "type": "bar",
         "x": [
          "1",
          "5",
          "10",
          "20"
         ],
         "xaxis": "x",
         "y": {
          "bdata": "XtxHtatb1z/Fy7eX2aPkP5dr62hYweQ/tLZ9eX165D8=",
          "dtype": "f8"
         },
         "yaxis": "y"
        },
        {
         "alignmentgroup": "True",
         "hovertemplate": "Method=Weight=0.8 | Num_Train_Examples=10.0<br>k=%{x}<br>NDCG=%{y}<extra></extra>",
         "legendgroup": "Weight=0.8 | Num_Train_Examples=10.0",
         "marker": {
          "color": "#ab63fa",
          "pattern": {
           "shape": ""
          }
         },
         "name": "Weight=0.8 | Num_Train_Examples=10.0",
         "offsetgroup": "Weight=0.8 | Num_Train_Examples=10.0",
         "orientation": "v",
         "showlegend": true,
         "textposition": "auto",
         "type": "bar",
         "x": [
          "1",
          "5",
          "10",
          "20"
         ],
         "xaxis": "x",
         "y": {
          "bdata": "JuNVXJkX1z+I0lBboVPkP7WXQyjSieQ/OlpJszxM5D8=",
          "dtype": "f8"
         },
         "yaxis": "y"
        },
        {
         "alignmentgroup": "True",
         "hovertemplate": "Method=Weight=0.9 | Num_Train_Examples=nan<br>k=%{x}<br>NDCG=%{y}<extra></extra>",
         "legendgroup": "Weight=0.9 | Num_Train_Examples=nan",
         "marker": {
          "color": "#FFA15A",
          "pattern": {
           "shape": ""
          }
         },
         "name": "Weight=0.9 | Num_Train_Examples=nan",
         "offsetgroup": "Weight=0.9 | Num_Train_Examples=nan",
         "orientation": "v",
         "showlegend": true,
         "textposition": "auto",
         "type": "bar",
         "x": [
          "1",
          "5",
          "10",
          "20"
         ],
         "xaxis": "x",
         "y": {
          "bdata": "6B7t0yRC1z/xyQfKkqTkPzSTLVmjGeU/l0yvfmLP5D8=",
          "dtype": "f8"
         },
         "yaxis": "y"
        },
        {
         "alignmentgroup": "True",
         "hovertemplate": "Method=Weight=0.9 | Num_Train_Examples=5.0<br>k=%{x}<br>NDCG=%{y}<extra></extra>",
         "legendgroup": "Weight=0.9 | Num_Train_Examples=5.0",
         "marker": {
          "color": "#19d3f3",
          "pattern": {
           "shape": ""
          }
         },
         "name": "Weight=0.9 | Num_Train_Examples=5.0",
         "offsetgroup": "Weight=0.9 | Num_Train_Examples=5.0",
         "orientation": "v",
         "showlegend": true,
         "textposition": "auto",
         "type": "bar",
         "x": [
          "1",
          "5",
          "10",
          "20"
         ],
         "xaxis": "x",
         "y": {
          "bdata": "XtxHtatb1z+s7/qWJQPlP5eJY38iG+U/RyXApuzd5D8=",
          "dtype": "f8"
         },
         "yaxis": "y"
        },
        {
         "alignmentgroup": "True",
         "hovertemplate": "Method=Weight=0.9 | Num_Train_Examples=10.0<br>k=%{x}<br>NDCG=%{y}<extra></extra>",
         "legendgroup": "Weight=0.9 | Num_Train_Examples=10.0",
         "marker": {
          "color": "#FF6692",
          "pattern": {
           "shape": ""
          }
         },
         "name": "Weight=0.9 | Num_Train_Examples=10.0",
         "offsetgroup": "Weight=0.9 | Num_Train_Examples=10.0",
         "orientation": "v",
         "showlegend": true,
         "textposition": "auto",
         "type": "bar",
         "x": [
          "1",
          "5",
          "10",
          "20"
         ],
         "xaxis": "x",
         "y": {
          "bdata": "JuNVXJkX1z9foZzXacbkP9jKVaEc6+Q/azVYx1K15D8=",
          "dtype": "f8"
         },
         "yaxis": "y"
        },
        {
         "alignmentgroup": "True",
         "hovertemplate": "Method=Weight=0.95 | Num_Train_Examples=nan<br>k=%{x}<br>NDCG=%{y}<extra></extra>",
         "legendgroup": "Weight=0.95 | Num_Train_Examples=nan",
         "marker": {
          "color": "#B6E880",
          "pattern": {
           "shape": ""
          }
         },
         "name": "Weight=0.95 | Num_Train_Examples=nan",
         "offsetgroup": "Weight=0.95 | Num_Train_Examples=nan",
         "orientation": "v",
         "showlegend": true,
         "textposition": "auto",
         "type": "bar",
         "x": [
          "1",
          "5",
          "10",
          "20"
         ],
         "xaxis": "x",
         "y": {
          "bdata": "6B7t0yRC1z887ELr0d3kP7YHHHI/U+U/vxJlqs8X5T8=",
          "dtype": "f8"
         },
         "yaxis": "y"
        },
        {
         "alignmentgroup": "True",
         "hovertemplate": "Method=Weight=0.95 | Num_Train_Examples=5.0<br>k=%{x}<br>NDCG=%{y}<extra></extra>",
         "legendgroup": "Weight=0.95 | Num_Train_Examples=5.0",
         "marker": {
          "color": "#FF97FF",
          "pattern": {
           "shape": ""
          }
         },
         "name": "Weight=0.95 | Num_Train_Examples=5.0",
         "offsetgroup": "Weight=0.95 | Num_Train_Examples=5.0",
         "orientation": "v",
         "showlegend": true,
         "textposition": "auto",
         "type": "bar",
         "x": [
          "1",
          "5",
          "10",
          "20"
         ],
         "xaxis": "x",
         "y": {
          "bdata": "XtxHtatb1z+BuO0k/SXlP44YLoa8PuU/c18qQsQL5T8=",
          "dtype": "f8"
         },
         "yaxis": "y"
        },
        {
         "alignmentgroup": "True",
         "hovertemplate": "Method=Weight=0.95 | Num_Train_Examples=10.0<br>k=%{x}<br>NDCG=%{y}<extra></extra>",
         "legendgroup": "Weight=0.95 | Num_Train_Examples=10.0",
         "marker": {
          "color": "#FECB52",
          "pattern": {
           "shape": ""
          }
         },
         "name": "Weight=0.95 | Num_Train_Examples=10.0",
         "offsetgroup": "Weight=0.95 | Num_Train_Examples=10.0",
         "orientation": "v",
         "showlegend": true,
         "textposition": "auto",
         "type": "bar",
         "x": [
          "1",
          "5",
          "10",
          "20"
         ],
         "xaxis": "x",
         "y": {
          "bdata": "JuNVXJkX1z/d7lYrBvvkP5D1FTo6IOU/l3hq/lvt5D8=",
          "dtype": "f8"
         },
         "yaxis": "y"
        },
        {
         "alignmentgroup": "True",
         "hovertemplate": "Method=Weight=0.99 | Num_Train_Examples=nan<br>k=%{x}<br>NDCG=%{y}<extra></extra>",
         "legendgroup": "Weight=0.99 | Num_Train_Examples=nan",
         "marker": {
          "color": "#636efa",
          "pattern": {
           "shape": ""
          }
         },
         "name": "Weight=0.99 | Num_Train_Examples=nan",
         "offsetgroup": "Weight=0.99 | Num_Train_Examples=nan",
         "orientation": "v",
         "showlegend": true,
         "textposition": "auto",
         "type": "bar",
         "x": [
          "1",
          "5",
          "10",
          "20"
         ],
         "xaxis": "x",
         "y": {
          "bdata": "6B7t0yRC1z+MXo5YoxDlP8fkC8xhhuU/4YFrk/NY5T8=",
          "dtype": "f8"
         },
         "yaxis": "y"
        },
        {
         "alignmentgroup": "True",
         "hovertemplate": "Method=Weight=0.99 | Num_Train_Examples=5.0<br>k=%{x}<br>NDCG=%{y}<extra></extra>",
         "legendgroup": "Weight=0.99 | Num_Train_Examples=5.0",
         "marker": {
          "color": "#EF553B",
          "pattern": {
           "shape": ""
          }
         },
         "name": "Weight=0.99 | Num_Train_Examples=5.0",
         "offsetgroup": "Weight=0.99 | Num_Train_Examples=5.0",
         "orientation": "v",
         "showlegend": true,
         "textposition": "auto",
         "type": "bar",
         "x": [
          "1",
          "5",
          "10",
          "20"
         ],
         "xaxis": "x",
         "y": {
          "bdata": "XtxHtatb1z+nsX02qk7lP0NjA2JTW+U/ewF+6i005T8=",
          "dtype": "f8"
         },
         "yaxis": "y"
        },
        {
         "alignmentgroup": "True",
         "hovertemplate": "Method=Weight=0.99 | Num_Train_Examples=10.0<br>k=%{x}<br>NDCG=%{y}<extra></extra>",
         "legendgroup": "Weight=0.99 | Num_Train_Examples=10.0",
         "marker": {
          "color": "#00cc96",
          "pattern": {
           "shape": ""
          }
         },
         "name": "Weight=0.99 | Num_Train_Examples=10.0",
         "offsetgroup": "Weight=0.99 | Num_Train_Examples=10.0",
         "orientation": "v",
         "showlegend": true,
         "textposition": "auto",
         "type": "bar",
         "x": [
          "1",
          "5",
          "10",
          "20"
         ],
         "xaxis": "x",
         "y": {
          "bdata": "JuNVXJkX1z/DhD1deijlP405oAbrRuU/nS8tL7og5T8=",
          "dtype": "f8"
         },
         "yaxis": "y"
        },
        {
         "alignmentgroup": "True",
         "hovertemplate": "Method=Weight=0.999 | Num_Train_Examples=nan<br>k=%{x}<br>NDCG=%{y}<extra></extra>",
         "legendgroup": "Weight=0.999 | Num_Train_Examples=nan",
         "marker": {
          "color": "#ab63fa",
          "pattern": {
           "shape": ""
          }
         },
         "name": "Weight=0.999 | Num_Train_Examples=nan",
         "offsetgroup": "Weight=0.999 | Num_Train_Examples=nan",
         "orientation": "v",
         "showlegend": true,
         "textposition": "auto",
         "type": "bar",
         "x": [
          "1",
          "5",
          "10",
          "20"
         ],
         "xaxis": "x",
         "y": {
          "bdata": "6B7t0yRC1z/Mv2D76xvlP+auyOfvjuU/5QxhAltn5T8=",
          "dtype": "f8"
         },
         "yaxis": "y"
        },
        {
         "alignmentgroup": "True",
         "hovertemplate": "Method=Weight=0.999 | Num_Train_Examples=5.0<br>k=%{x}<br>NDCG=%{y}<extra></extra>",
         "legendgroup": "Weight=0.999 | Num_Train_Examples=5.0",
         "marker": {
          "color": "#FFA15A",
          "pattern": {
           "shape": ""
          }
         },
         "name": "Weight=0.999 | Num_Train_Examples=5.0",
         "offsetgroup": "Weight=0.999 | Num_Train_Examples=5.0",
         "orientation": "v",
         "showlegend": true,
         "textposition": "auto",
         "type": "bar",
         "x": [
          "1",
          "5",
          "10",
          "20"
         ],
         "xaxis": "x",
         "y": {
          "bdata": "XtxHtatb1z/6OondpVflP9YxiYEfYeU/niSJT7c/5T8=",
          "dtype": "f8"
         },
         "yaxis": "y"
        },
        {
         "alignmentgroup": "True",
         "hovertemplate": "Method=Weight=0.999 | Num_Train_Examples=10.0<br>k=%{x}<br>NDCG=%{y}<extra></extra>",
         "legendgroup": "Weight=0.999 | Num_Train_Examples=10.0",
         "marker": {
          "color": "#19d3f3",
          "pattern": {
           "shape": ""
          }
         },
         "name": "Weight=0.999 | Num_Train_Examples=10.0",
         "offsetgroup": "Weight=0.999 | Num_Train_Examples=10.0",
         "orientation": "v",
         "showlegend": true,
         "textposition": "auto",
         "type": "bar",
         "x": [
          "1",
          "5",
          "10",
          "20"
         ],
         "xaxis": "x",
         "y": {
          "bdata": "JuNVXJkX1z9FPyi4KjTlP8Kz35CmT+U/IJ53Qx0u5T8=",
          "dtype": "f8"
         },
         "yaxis": "y"
        }
       ],
       "layout": {
        "barmode": "group",
        "legend": {
         "title": {
          "text": "Method"
         },
         "tracegroupgap": 0
        },
        "template": {
         "data": {
          "bar": [
           {
            "error_x": {
             "color": "#2a3f5f"
            },
            "error_y": {
             "color": "#2a3f5f"
            },
            "marker": {
             "line": {
              "color": "#E5ECF6",
              "width": 0.5
             },
             "pattern": {
              "fillmode": "overlay",
              "size": 10,
              "solidity": 0.2
             }
            },
            "type": "bar"
           }
          ],
          "barpolar": [
           {
            "marker": {
             "line": {
              "color": "#E5ECF6",
              "width": 0.5
             },
             "pattern": {
              "fillmode": "overlay",
              "size": 10,
              "solidity": 0.2
             }
            },
            "type": "barpolar"
           }
          ],
          "carpet": [
           {
            "aaxis": {
             "endlinecolor": "#2a3f5f",
             "gridcolor": "white",
             "linecolor": "white",
             "minorgridcolor": "white",
             "startlinecolor": "#2a3f5f"
            },
            "baxis": {
             "endlinecolor": "#2a3f5f",
             "gridcolor": "white",
             "linecolor": "white",
             "minorgridcolor": "white",
             "startlinecolor": "#2a3f5f"
            },
            "type": "carpet"
           }
          ],
          "choropleth": [
           {
            "colorbar": {
             "outlinewidth": 0,
             "ticks": ""
            },
            "type": "choropleth"
           }
          ],
          "contour": [
           {
            "colorbar": {
             "outlinewidth": 0,
             "ticks": ""
            },
            "colorscale": [
             [
              0,
              "#0d0887"
             ],
             [
              0.1111111111111111,
              "#46039f"
             ],
             [
              0.2222222222222222,
              "#7201a8"
             ],
             [
              0.3333333333333333,
              "#9c179e"
             ],
             [
              0.4444444444444444,
              "#bd3786"
             ],
             [
              0.5555555555555556,
              "#d8576b"
             ],
             [
              0.6666666666666666,
              "#ed7953"
             ],
             [
              0.7777777777777778,
              "#fb9f3a"
             ],
             [
              0.8888888888888888,
              "#fdca26"
             ],
             [
              1,
              "#f0f921"
             ]
            ],
            "type": "contour"
           }
          ],
          "contourcarpet": [
           {
            "colorbar": {
             "outlinewidth": 0,
             "ticks": ""
            },
            "type": "contourcarpet"
           }
          ],
          "heatmap": [
           {
            "colorbar": {
             "outlinewidth": 0,
             "ticks": ""
            },
            "colorscale": [
             [
              0,
              "#0d0887"
             ],
             [
              0.1111111111111111,
              "#46039f"
             ],
             [
              0.2222222222222222,
              "#7201a8"
             ],
             [
              0.3333333333333333,
              "#9c179e"
             ],
             [
              0.4444444444444444,
              "#bd3786"
             ],
             [
              0.5555555555555556,
              "#d8576b"
             ],
             [
              0.6666666666666666,
              "#ed7953"
             ],
             [
              0.7777777777777778,
              "#fb9f3a"
             ],
             [
              0.8888888888888888,
              "#fdca26"
             ],
             [
              1,
              "#f0f921"
             ]
            ],
            "type": "heatmap"
           }
          ],
          "histogram": [
           {
            "marker": {
             "pattern": {
              "fillmode": "overlay",
              "size": 10,
              "solidity": 0.2
             }
            },
            "type": "histogram"
           }
          ],
          "histogram2d": [
           {
            "colorbar": {
             "outlinewidth": 0,
             "ticks": ""
            },
            "colorscale": [
             [
              0,
              "#0d0887"
             ],
             [
              0.1111111111111111,
              "#46039f"
             ],
             [
              0.2222222222222222,
              "#7201a8"
             ],
             [
              0.3333333333333333,
              "#9c179e"
             ],
             [
              0.4444444444444444,
              "#bd3786"
             ],
             [
              0.5555555555555556,
              "#d8576b"
             ],
             [
              0.6666666666666666,
              "#ed7953"
             ],
             [
              0.7777777777777778,
              "#fb9f3a"
             ],
             [
              0.8888888888888888,
              "#fdca26"
             ],
             [
              1,
              "#f0f921"
             ]
            ],
            "type": "histogram2d"
           }
          ],
          "histogram2dcontour": [
           {
            "colorbar": {
             "outlinewidth": 0,
             "ticks": ""
            },
            "colorscale": [
             [
              0,
              "#0d0887"
             ],
             [
              0.1111111111111111,
              "#46039f"
             ],
             [
              0.2222222222222222,
              "#7201a8"
             ],
             [
              0.3333333333333333,
              "#9c179e"
             ],
             [
              0.4444444444444444,
              "#bd3786"
             ],
             [
              0.5555555555555556,
              "#d8576b"
             ],
             [
              0.6666666666666666,
              "#ed7953"
             ],
             [
              0.7777777777777778,
              "#fb9f3a"
             ],
             [
              0.8888888888888888,
              "#fdca26"
             ],
             [
              1,
              "#f0f921"
             ]
            ],
            "type": "histogram2dcontour"
           }
          ],
          "mesh3d": [
           {
            "colorbar": {
             "outlinewidth": 0,
             "ticks": ""
            },
            "type": "mesh3d"
           }
          ],
          "parcoords": [
           {
            "line": {
             "colorbar": {
              "outlinewidth": 0,
              "ticks": ""
             }
            },
            "type": "parcoords"
           }
          ],
          "pie": [
           {
            "automargin": true,
            "type": "pie"
           }
          ],
          "scatter": [
           {
            "fillpattern": {
             "fillmode": "overlay",
             "size": 10,
             "solidity": 0.2
            },
            "type": "scatter"
           }
          ],
          "scatter3d": [
           {
            "line": {
             "colorbar": {
              "outlinewidth": 0,
              "ticks": ""
             }
            },
            "marker": {
             "colorbar": {
              "outlinewidth": 0,
              "ticks": ""
             }
            },
            "type": "scatter3d"
           }
          ],
          "scattercarpet": [
           {
            "marker": {
             "colorbar": {
              "outlinewidth": 0,
              "ticks": ""
             }
            },
            "type": "scattercarpet"
           }
          ],
          "scattergeo": [
           {
            "marker": {
             "colorbar": {
              "outlinewidth": 0,
              "ticks": ""
             }
            },
            "type": "scattergeo"
           }
          ],
          "scattergl": [
           {
            "marker": {
             "colorbar": {
              "outlinewidth": 0,
              "ticks": ""
             }
            },
            "type": "scattergl"
           }
          ],
          "scattermap": [
           {
            "marker": {
             "colorbar": {
              "outlinewidth": 0,
              "ticks": ""
             }
            },
            "type": "scattermap"
           }
          ],
          "scattermapbox": [
           {
            "marker": {
             "colorbar": {
              "outlinewidth": 0,
              "ticks": ""
             }
            },
            "type": "scattermapbox"
           }
          ],
          "scatterpolar": [
           {
            "marker": {
             "colorbar": {
              "outlinewidth": 0,
              "ticks": ""
             }
            },
            "type": "scatterpolar"
           }
          ],
          "scatterpolargl": [
           {
            "marker": {
             "colorbar": {
              "outlinewidth": 0,
              "ticks": ""
             }
            },
            "type": "scatterpolargl"
           }
          ],
          "scatterternary": [
           {
            "marker": {
             "colorbar": {
              "outlinewidth": 0,
              "ticks": ""
             }
            },
            "type": "scatterternary"
           }
          ],
          "surface": [
           {
            "colorbar": {
             "outlinewidth": 0,
             "ticks": ""
            },
            "colorscale": [
             [
              0,
              "#0d0887"
             ],
             [
              0.1111111111111111,
              "#46039f"
             ],
             [
              0.2222222222222222,
              "#7201a8"
             ],
             [
              0.3333333333333333,
              "#9c179e"
             ],
             [
              0.4444444444444444,
              "#bd3786"
             ],
             [
              0.5555555555555556,
              "#d8576b"
             ],
             [
              0.6666666666666666,
              "#ed7953"
             ],
             [
              0.7777777777777778,
              "#fb9f3a"
             ],
             [
              0.8888888888888888,
              "#fdca26"
             ],
             [
              1,
              "#f0f921"
             ]
            ],
            "type": "surface"
           }
          ],
          "table": [
           {
            "cells": {
             "fill": {
              "color": "#EBF0F8"
             },
             "line": {
              "color": "white"
             }
            },
            "header": {
             "fill": {
              "color": "#C8D4E3"
             },
             "line": {
              "color": "white"
             }
            },
            "type": "table"
           }
          ]
         },
         "layout": {
          "annotationdefaults": {
           "arrowcolor": "#2a3f5f",
           "arrowhead": 0,
           "arrowwidth": 1
          },
          "autotypenumbers": "strict",
          "coloraxis": {
           "colorbar": {
            "outlinewidth": 0,
            "ticks": ""
           }
          },
          "colorscale": {
           "diverging": [
            [
             0,
             "#8e0152"
            ],
            [
             0.1,
             "#c51b7d"
            ],
            [
             0.2,
             "#de77ae"
            ],
            [
             0.3,
             "#f1b6da"
            ],
            [
             0.4,
             "#fde0ef"
            ],
            [
             0.5,
             "#f7f7f7"
            ],
            [
             0.6,
             "#e6f5d0"
            ],
            [
             0.7,
             "#b8e186"
            ],
            [
             0.8,
             "#7fbc41"
            ],
            [
             0.9,
             "#4d9221"
            ],
            [
             1,
             "#276419"
            ]
           ],
           "sequential": [
            [
             0,
             "#0d0887"
            ],
            [
             0.1111111111111111,
             "#46039f"
            ],
            [
             0.2222222222222222,
             "#7201a8"
            ],
            [
             0.3333333333333333,
             "#9c179e"
            ],
            [
             0.4444444444444444,
             "#bd3786"
            ],
            [
             0.5555555555555556,
             "#d8576b"
            ],
            [
             0.6666666666666666,
             "#ed7953"
            ],
            [
             0.7777777777777778,
             "#fb9f3a"
            ],
            [
             0.8888888888888888,
             "#fdca26"
            ],
            [
             1,
             "#f0f921"
            ]
           ],
           "sequentialminus": [
            [
             0,
             "#0d0887"
            ],
            [
             0.1111111111111111,
             "#46039f"
            ],
            [
             0.2222222222222222,
             "#7201a8"
            ],
            [
             0.3333333333333333,
             "#9c179e"
            ],
            [
             0.4444444444444444,
             "#bd3786"
            ],
            [
             0.5555555555555556,
             "#d8576b"
            ],
            [
             0.6666666666666666,
             "#ed7953"
            ],
            [
             0.7777777777777778,
             "#fb9f3a"
            ],
            [
             0.8888888888888888,
             "#fdca26"
            ],
            [
             1,
             "#f0f921"
            ]
           ]
          },
          "colorway": [
           "#636efa",
           "#EF553B",
           "#00cc96",
           "#ab63fa",
           "#FFA15A",
           "#19d3f3",
           "#FF6692",
           "#B6E880",
           "#FF97FF",
           "#FECB52"
          ],
          "font": {
           "color": "#2a3f5f"
          },
          "geo": {
           "bgcolor": "white",
           "lakecolor": "white",
           "landcolor": "#E5ECF6",
           "showlakes": true,
           "showland": true,
           "subunitcolor": "white"
          },
          "hoverlabel": {
           "align": "left"
          },
          "hovermode": "closest",
          "mapbox": {
           "style": "light"
          },
          "paper_bgcolor": "white",
          "plot_bgcolor": "#E5ECF6",
          "polar": {
           "angularaxis": {
            "gridcolor": "white",
            "linecolor": "white",
            "ticks": ""
           },
           "bgcolor": "#E5ECF6",
           "radialaxis": {
            "gridcolor": "white",
            "linecolor": "white",
            "ticks": ""
           }
          },
          "scene": {
           "xaxis": {
            "backgroundcolor": "#E5ECF6",
            "gridcolor": "white",
            "gridwidth": 2,
            "linecolor": "white",
            "showbackground": true,
            "ticks": "",
            "zerolinecolor": "white"
           },
           "yaxis": {
            "backgroundcolor": "#E5ECF6",
            "gridcolor": "white",
            "gridwidth": 2,
            "linecolor": "white",
            "showbackground": true,
            "ticks": "",
            "zerolinecolor": "white"
           },
           "zaxis": {
            "backgroundcolor": "#E5ECF6",
            "gridcolor": "white",
            "gridwidth": 2,
            "linecolor": "white",
            "showbackground": true,
            "ticks": "",
            "zerolinecolor": "white"
           }
          },
          "shapedefaults": {
           "line": {
            "color": "#2a3f5f"
           }
          },
          "ternary": {
           "aaxis": {
            "gridcolor": "white",
            "linecolor": "white",
            "ticks": ""
           },
           "baxis": {
            "gridcolor": "white",
            "linecolor": "white",
            "ticks": ""
           },
           "bgcolor": "#E5ECF6",
           "caxis": {
            "gridcolor": "white",
            "linecolor": "white",
            "ticks": ""
           }
          },
          "title": {
           "x": 0.05
          },
          "xaxis": {
           "automargin": true,
           "gridcolor": "white",
           "linecolor": "white",
           "ticks": "",
           "title": {
            "standoff": 15
           },
           "zerolinecolor": "white",
           "zerolinewidth": 2
          },
          "yaxis": {
           "automargin": true,
           "gridcolor": "white",
           "linecolor": "white",
           "ticks": "",
           "title": {
            "standoff": 15
           },
           "zerolinecolor": "white",
           "zerolinewidth": 2
          }
         }
        },
        "title": {
         "text": "NDCG@k (Collaborative & Hybrid Filtering)"
        },
        "xaxis": {
         "anchor": "y",
         "domain": [
          0,
          1
         ],
         "tickvals": [
          "1",
          "10",
          "20",
          "5"
         ],
         "title": {
          "text": "k"
         }
        },
        "yaxis": {
         "anchor": "x",
         "domain": [
          0,
          1
         ],
         "title": {
          "text": "NDCG"
         }
        }
       }
      }
     },
     "metadata": {},
     "output_type": "display_data"
    }
   ],
   "source": [
    "create_bar_chart_plotly(\n",
    "    combined_df,\n",
    "    x=\"k\", \n",
    "    y=\"ndcg\", \n",
    "    color=\"name\", \n",
    "    title=\"NDCG@k (Collaborative & Hybrid Filtering)\", \n",
    "    labels={\"k\": \"k\", \"ndcg\": \"NDCG\", \"name\": \"Method\"}\n",
    ")"
   ]
  },
  {
   "cell_type": "code",
   "execution_count": null,
   "id": "a0f28476",
   "metadata": {},
   "outputs": [],
   "source": []
  },
  {
   "cell_type": "code",
   "execution_count": null,
   "id": "d0f42cbe",
   "metadata": {},
   "outputs": [],
   "source": []
  }
 ],
 "metadata": {
  "kernelspec": {
   "display_name": "capstone",
   "language": "python",
   "name": "python3"
  },
  "language_info": {
   "codemirror_mode": {
    "name": "ipython",
    "version": 3
   },
   "file_extension": ".py",
   "mimetype": "text/x-python",
   "name": "python",
   "nbconvert_exporter": "python",
   "pygments_lexer": "ipython3",
   "version": "3.11.13"
  }
 },
 "nbformat": 4,
 "nbformat_minor": 5
}
