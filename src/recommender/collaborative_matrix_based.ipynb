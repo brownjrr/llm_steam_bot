{
 "cells": [
  {
   "cell_type": "markdown",
   "id": "bbd9346f",
   "metadata": {
    "id": "bbd9346f"
   },
   "source": [
    "### Libs"
   ]
  },
  {
   "cell_type": "code",
   "execution_count": 1,
   "id": "63cbe7d2",
   "metadata": {
    "executionInfo": {
     "elapsed": 3099,
     "status": "ok",
     "timestamp": 1754405827402,
     "user": {
      "displayName": "Lucas Marra",
      "userId": "17497059184945251516"
     },
     "user_tz": 180
    },
    "id": "63cbe7d2"
   },
   "outputs": [],
   "source": [
    "import pandas as pd\n",
    "import numpy as np\n",
    "import ast\n",
    "import requests\n",
    "from sklearn.metrics.pairwise import cosine_similarity\n",
    "from scipy.sparse import csr_matrix\n",
    "from sklearn.decomposition import TruncatedSVD"
   ]
  },
  {
   "cell_type": "code",
   "execution_count": 2,
   "id": "9a48be07",
   "metadata": {
    "executionInfo": {
     "elapsed": 1,
     "status": "ok",
     "timestamp": 1754405837476,
     "user": {
      "displayName": "Lucas Marra",
      "userId": "17497059184945251516"
     },
     "user_tz": 180
    },
    "id": "9a48be07"
   },
   "outputs": [],
   "source": [
    "pd.set_option('display.max_colwidth', 150)"
   ]
  },
  {
   "cell_type": "markdown",
   "id": "7bc6c1d8",
   "metadata": {},
   "source": [
    "### To run on colab"
   ]
  },
  {
   "cell_type": "code",
   "execution_count": 2,
   "id": "czBER0dCFKab",
   "metadata": {
    "colab": {
     "base_uri": "https://localhost:8080/"
    },
    "executionInfo": {
     "elapsed": 1255,
     "status": "ok",
     "timestamp": 1754405828659,
     "user": {
      "displayName": "Lucas Marra",
      "userId": "17497059184945251516"
     },
     "user_tz": 180
    },
    "id": "czBER0dCFKab",
    "outputId": "2dae9459-83b6-4e33-88e6-cc73a89eae01"
   },
   "outputs": [
    {
     "ename": "ModuleNotFoundError",
     "evalue": "No module named 'google.colab'",
     "output_type": "error",
     "traceback": [
      "\u001b[31m---------------------------------------------------------------------------\u001b[39m",
      "\u001b[31mModuleNotFoundError\u001b[39m                       Traceback (most recent call last)",
      "\u001b[36mCell\u001b[39m\u001b[36m \u001b[39m\u001b[32mIn[2]\u001b[39m\u001b[32m, line 3\u001b[39m\n\u001b[32m      1\u001b[39m \u001b[38;5;66;03m# To work on google colab\u001b[39;00m\n\u001b[32m      2\u001b[39m \u001b[38;5;66;03m# Connect\u001b[39;00m\n\u001b[32m----> \u001b[39m\u001b[32m3\u001b[39m \u001b[38;5;28;01mfrom\u001b[39;00m\u001b[38;5;250m \u001b[39m\u001b[34;01mgoogle\u001b[39;00m\u001b[34;01m.\u001b[39;00m\u001b[34;01mcolab\u001b[39;00m\u001b[38;5;250m \u001b[39m\u001b[38;5;28;01mimport\u001b[39;00m drive\n\u001b[32m      4\u001b[39m drive.mount(\u001b[33m'\u001b[39m\u001b[33m/content/drive\u001b[39m\u001b[33m'\u001b[39m)\n\u001b[32m      6\u001b[39m \u001b[38;5;66;03m# Move to work folder location\u001b[39;00m\n",
      "\u001b[31mModuleNotFoundError\u001b[39m: No module named 'google.colab'"
     ]
    }
   ],
   "source": [
    "# To work on google colab\n",
    "# Connect\n",
    "from google.colab import drive\n",
    "drive.mount('/content/drive')\n",
    "\n",
    "# Move to work folder location\n",
    "%cd /content/drive/MyDrive/Capstone/llm_steam_bot/src/recommender\n",
    "\n",
    "# Check location\n",
    "!ls"
   ]
  },
  {
   "cell_type": "markdown",
   "id": "348b3450",
   "metadata": {
    "id": "348b3450"
   },
   "source": [
    "### Upload files and transform data"
   ]
  },
  {
   "cell_type": "code",
   "execution_count": 3,
   "id": "0773d7be",
   "metadata": {
    "executionInfo": {
     "elapsed": 25508,
     "status": "ok",
     "timestamp": 1754405863234,
     "user": {
      "displayName": "Lucas Marra",
      "userId": "17497059184945251516"
     },
     "user_tz": 180
    },
    "id": "0773d7be"
   },
   "outputs": [],
   "source": [
    "# To filter only the top 100 most played games, for first implementation and faster processing\n",
    "#df_top_100_game_reviews = pd.read_csv('../../data/top_100_game_reviews.gz', compression='gzip')\n",
    "df_top_100_game_details = pd.read_csv('../../data/top_100_game_details.csv')\n",
    "# To filter the top 1000 most played games, for full implementation\n",
    "#df_top_1000_game_reviews = pd.read_csv('../../data/top_100_game_reviews.gz', compression='gzip')\n",
    "df_top_1000_game_details = pd.read_csv('../../data/top_1000_game_details.csv')\n",
    "# Users data\n",
    "df_users_profile = pd.read_csv('../../data/users_profile.csv')\n",
    "df_users_friendlist = pd.read_csv('../../data/users_friendlist.csv')\n",
    "df_users_owned_games = pd.read_csv('../../data/users_owned_games.csv') # users of the 1000 game reviews\n",
    "df_users_recently_played_games = pd.read_csv('../../data/users_recently_played_games.csv')"
   ]
  },
  {
   "cell_type": "code",
   "execution_count": 4,
   "id": "c21e80f8",
   "metadata": {
    "executionInfo": {
     "elapsed": 454,
     "status": "ok",
     "timestamp": 1754405863686,
     "user": {
      "displayName": "Lucas Marra",
      "userId": "17497059184945251516"
     },
     "user_tz": 180
    },
    "id": "c21e80f8"
   },
   "outputs": [],
   "source": [
    "# Add our steam ids for tests\n",
    "key = \"06273B6FCBD23D875865DFC7E0EAFC06\"\n",
    "list_team_steamids = [76561198080989870, 76561199062172023, 76561198164574454]\n",
    "users_owned_games = []\n",
    "for steamid in list_team_steamids:\n",
    "    dict_users_owned_games = {}\n",
    "    url = f\"http://api.steampowered.com/IPlayerService/GetOwnedGames/v0001/?key={key}&steamid={steamid}&include_appinfo=true&include_extended_appinfo=true&format=json\"\n",
    "    response = requests.get(url)\n",
    "    dict_users_owned_games['user_steamid'] =  steamid\n",
    "    try: # in case of no owned games\n",
    "        dict_users_owned_games['user_owned_games'] =  response.json()['response']['games']\n",
    "        users_owned_games.append(dict_users_owned_games)\n",
    "    except:\n",
    "        pass\n",
    "\n",
    "# Concat in users df\n",
    "users_owned_games\n",
    "df_users_owned_games_team = pd.DataFrame(users_owned_games)\n",
    "df_users_owned_games = pd.concat([df_users_owned_games,df_users_owned_games_team])"
   ]
  },
  {
   "cell_type": "code",
   "execution_count": 5,
   "id": "2xfsmxRNUg6I",
   "metadata": {
    "colab": {
     "base_uri": "https://localhost:8080/",
     "height": 144
    },
    "executionInfo": {
     "elapsed": 85,
     "status": "ok",
     "timestamp": 1754405863768,
     "user": {
      "displayName": "Lucas Marra",
      "userId": "17497059184945251516"
     },
     "user_tz": 180
    },
    "id": "2xfsmxRNUg6I",
    "outputId": "12997a2f-ba7f-46df-943c-a59462b317f5"
   },
   "outputs": [
    {
     "data": {
      "text/html": [
       "<div>\n",
       "<style scoped>\n",
       "    .dataframe tbody tr th:only-of-type {\n",
       "        vertical-align: middle;\n",
       "    }\n",
       "\n",
       "    .dataframe tbody tr th {\n",
       "        vertical-align: top;\n",
       "    }\n",
       "\n",
       "    .dataframe thead th {\n",
       "        text-align: right;\n",
       "    }\n",
       "</style>\n",
       "<table border=\"1\" class=\"dataframe\">\n",
       "  <thead>\n",
       "    <tr style=\"text-align: right;\">\n",
       "      <th></th>\n",
       "      <th>user_steamid</th>\n",
       "      <th>user_owned_games</th>\n",
       "    </tr>\n",
       "  </thead>\n",
       "  <tbody>\n",
       "    <tr>\n",
       "      <th>0</th>\n",
       "      <td>76561198080989870</td>\n",
       "      <td>[{'appid': 72850, 'name': 'The Elder Scrolls V: Skyrim', 'playtime_forever': 3889, 'img_icon_url': 'b9aca8a189abd8d6aaf09047dbb0f57582683e1c', 'ha...</td>\n",
       "    </tr>\n",
       "    <tr>\n",
       "      <th>1</th>\n",
       "      <td>76561199062172023</td>\n",
       "      <td>[{'appid': 322500, 'name': 'SUPERHOT', 'playtime_forever': 408, 'img_icon_url': '81839f0d50cb3e54c9aa7c69c04916f1e53d8c35', 'has_community_visible...</td>\n",
       "    </tr>\n",
       "    <tr>\n",
       "      <th>2</th>\n",
       "      <td>76561198164574454</td>\n",
       "      <td>[{'appid': 32470, 'name': 'STAR WARS™ Empire at War: Gold Pack', 'playtime_forever': 320, 'img_icon_url': '3f65d9be3af3083c07f1053dbf0b0653af7323b...</td>\n",
       "    </tr>\n",
       "  </tbody>\n",
       "</table>\n",
       "</div>"
      ],
      "text/plain": [
       "        user_steamid  \\\n",
       "0  76561198080989870   \n",
       "1  76561199062172023   \n",
       "2  76561198164574454   \n",
       "\n",
       "                                                                                                                                        user_owned_games  \n",
       "0  [{'appid': 72850, 'name': 'The Elder Scrolls V: Skyrim', 'playtime_forever': 3889, 'img_icon_url': 'b9aca8a189abd8d6aaf09047dbb0f57582683e1c', 'ha...  \n",
       "1  [{'appid': 322500, 'name': 'SUPERHOT', 'playtime_forever': 408, 'img_icon_url': '81839f0d50cb3e54c9aa7c69c04916f1e53d8c35', 'has_community_visible...  \n",
       "2  [{'appid': 32470, 'name': 'STAR WARS™ Empire at War: Gold Pack', 'playtime_forever': 320, 'img_icon_url': '3f65d9be3af3083c07f1053dbf0b0653af7323b...  "
      ]
     },
     "execution_count": 5,
     "metadata": {},
     "output_type": "execute_result"
    }
   ],
   "source": [
    "df_users_owned_games.tail(3)"
   ]
  },
  {
   "cell_type": "code",
   "execution_count": 6,
   "id": "67ddce76",
   "metadata": {
    "executionInfo": {
     "elapsed": 354259,
     "status": "ok",
     "timestamp": 1754406218028,
     "user": {
      "displayName": "Lucas Marra",
      "userId": "17497059184945251516"
     },
     "user_tz": 180
    },
    "id": "67ddce76"
   },
   "outputs": [],
   "source": [
    "# Transform the user_owned_games JSON-like column\n",
    "def safe_parse_owned_games(val):\n",
    "    if isinstance(val, str):\n",
    "        try:\n",
    "            return ast.literal_eval(val)\n",
    "        except Exception as e:\n",
    "            return None\n",
    "    return val  # If it's already a list/dict, just return as is\n",
    "\n",
    "df_users_owned_games[\"parsed_owned_games\"] = df_users_owned_games[\"user_owned_games\"].apply(safe_parse_owned_games)"
   ]
  },
  {
   "cell_type": "code",
   "execution_count": 7,
   "id": "b844d318",
   "metadata": {
    "executionInfo": {
     "elapsed": 2194,
     "status": "ok",
     "timestamp": 1754406220239,
     "user": {
      "displayName": "Lucas Marra",
      "userId": "17497059184945251516"
     },
     "user_tz": 180
    },
    "id": "b844d318"
   },
   "outputs": [],
   "source": [
    "# Flatten the data into rows of (user, appid, playtime)\n",
    "rows = []\n",
    "for _, row in df_users_owned_games.iterrows():\n",
    "    user_id = row[\"user_steamid\"]\n",
    "    for game in row[\"parsed_owned_games\"]:\n",
    "        appid = game.get(\"appid\")\n",
    "        playtime = game.get(\"playtime_forever\", 0)\n",
    "        if appid is not None:\n",
    "            rows.append((user_id, appid, playtime))"
   ]
  },
  {
   "cell_type": "code",
   "execution_count": 8,
   "id": "d305d723",
   "metadata": {
    "executionInfo": {
     "elapsed": 2193,
     "status": "ok",
     "timestamp": 1754406222577,
     "user": {
      "displayName": "Lucas Marra",
      "userId": "17497059184945251516"
     },
     "user_tz": 180
    },
    "id": "d305d723"
   },
   "outputs": [],
   "source": [
    "# Create a DataFrame from the flattened rows\n",
    "interaction_df = pd.DataFrame(rows, columns=[\"user_steamid\", \"appid\", \"playtime_forever\"])"
   ]
  },
  {
   "cell_type": "markdown",
   "id": "lLOBFupiHLmS",
   "metadata": {
    "id": "lLOBFupiHLmS"
   },
   "source": [
    "### Functions to calculate similarity and recommendation"
   ]
  },
  {
   "cell_type": "code",
   "execution_count": 17,
   "id": "WKmFEQLVHQ0C",
   "metadata": {
    "executionInfo": {
     "elapsed": 11,
     "status": "ok",
     "timestamp": 1754413507161,
     "user": {
      "displayName": "Lucas Marra",
      "userId": "17497059184945251516"
     },
     "user_tz": 180
    },
    "id": "WKmFEQLVHQ0C"
   },
   "outputs": [],
   "source": [
    "# Get item similarity matrix based on defined threshold\n",
    "def get_predicted_df_matrix_based(interaction, threshold=None):\n",
    "    if threshold==None:\n",
    "        interaction[\"interaction\"] = interaction[\"playtime_forever\"]\n",
    "    # Binarize playtime as implicit feedback (1 if played > x minutes)\n",
    "    else:\n",
    "        interaction[\"interaction\"] = (interaction[\"playtime_forever\"] >= threshold).astype(int)\n",
    "    # Pivot to a user-item matrix\n",
    "    user_item_matrix = interaction.pivot_table(index=\"user_steamid\", columns=\"appid\", values=\"interaction\", fill_value=0)\n",
    "    # Apply Truncated SVD to reduce dimensions\n",
    "    n_components = 80  # Number of latent factors\n",
    "    svd = TruncatedSVD(n_components=n_components, random_state=42)\n",
    "    # Matrix\n",
    "    user_latent_matrix = svd.fit_transform(user_item_matrix)\n",
    "    item_latent_matrix = svd.components_.T  # transpose to get items x latent dimensions\n",
    "    # Compute predicted interaction matrix\n",
    "    predicted_ratings = user_latent_matrix @ item_latent_matrix.T  # matrix multiplication\n",
    "    # Convert predicted scores into a DataFrame\n",
    "    predicted_df = pd.DataFrame(predicted_ratings,index=user_item_matrix.index,columns=user_item_matrix.columns)\n",
    "    return predicted_df\n",
    "\n",
    "def recommend_games_matrix_based(user_id, interaction, predicted, df_game_details, show_output=False, top_n=5):\n",
    "    if user_id not in predicted.index:\n",
    "        print(f\"User {user_id} not found.\")\n",
    "        return []\n",
    "    # Predicted scores for this user\n",
    "    user_scores = predicted.loc[user_id].copy()\n",
    "    # Remove already played games\n",
    "    played_games = interaction[interaction[\"user_steamid\"] == user_id][\"appid\"].unique()\n",
    "    user_scores = user_scores.drop(labels=played_games, errors='ignore')\n",
    "    # Get top N predictions\n",
    "    top_recommendations = user_scores.sort_values(ascending=False).head(top_n).reset_index()\n",
    "    top_recommendations.columns = ['appid', 'similarity_score']\n",
    "    # Merge with game metadata\n",
    "    top_recommendations = pd.merge(top_recommendations, df_game_details, on='appid')\n",
    "    top_recommendations = top_recommendations[['appid', 'name', 'similarity_score']]\n",
    "\n",
    "    if show_output==True:\n",
    "      ### Prints for visualization\n",
    "      print(f'-----------------------\\nUser: {user_id}')\n",
    "      # Print played games\n",
    "      games = list(df_users_owned_games[df_users_owned_games['user_steamid']==user_id]['parsed_owned_games'])[0]\n",
    "      games_sorted = sorted(games, key=lambda x: x['playtime_forever'], reverse=True)\n",
    "      print('---\\nUser most played games:')\n",
    "      for game in games_sorted[:5]:\n",
    "          print(f\"- {game['name']}\")\n",
    "      # Print Recommendations\n",
    "      print(\"---\\nTop Recommended Games:\")\n",
    "      print(top_recommendations)\n",
    "      print(\"\\n\")\n",
    "    pass\n",
    "    return top_recommendations\n"
   ]
  },
  {
   "cell_type": "markdown",
   "id": "StGT1a0YRsJi",
   "metadata": {
    "id": "StGT1a0YRsJi"
   },
   "source": [
    "### First implementation: Filtering only top 100 most played games"
   ]
  },
  {
   "cell_type": "markdown",
   "id": "1IGj4pCXRv8l",
   "metadata": {
    "id": "1IGj4pCXRv8l"
   },
   "source": [
    "Tests with different thresholds to consider a player liked a games:\n",
    "\n",
    "- No threshold, raw played time\n",
    "- More than 10 horas played (600 min)\n",
    "- More than 20 horas played (1200 min)\n",
    "- More than 30 horas played (1800 min)"
   ]
  },
  {
   "cell_type": "code",
   "execution_count": 15,
   "id": "3rSU9fB5odeT",
   "metadata": {
    "colab": {
     "base_uri": "https://localhost:8080/"
    },
    "executionInfo": {
     "elapsed": 703,
     "status": "ok",
     "timestamp": 1754406223340,
     "user": {
      "displayName": "Lucas Marra",
      "userId": "17497059184945251516"
     },
     "user_tz": 180
    },
    "id": "3rSU9fB5odeT",
    "outputId": "cb5fe36f-330e-47d8-99c3-85ff96496851"
   },
   "outputs": [
    {
     "name": "stderr",
     "output_type": "stream",
     "text": [
      "C:\\Users\\lucas\\AppData\\Local\\Temp\\ipykernel_27580\\1346203806.py:7: SettingWithCopyWarning: \n",
      "A value is trying to be set on a copy of a slice from a DataFrame.\n",
      "Try using .loc[row_indexer,col_indexer] = value instead\n",
      "\n",
      "See the caveats in the documentation: https://pandas.pydata.org/pandas-docs/stable/user_guide/indexing.html#returning-a-view-versus-a-copy\n",
      "  interaction[\"interaction\"] = (interaction[\"playtime_forever\"] >= threshold).astype(int)\n"
     ]
    },
    {
     "name": "stdout",
     "output_type": "stream",
     "text": [
      "-----------------------\n",
      "User: 76561198080989870\n",
      "---\n",
      "User most played games:\n",
      "- Red Dead Redemption 2\n",
      "- The Elder Scrolls V: Skyrim\n",
      "- Counter-Strike 2\n",
      "- Grand Theft Auto V Legacy\n",
      "- The Elder Scrolls V: Skyrim Special Edition\n",
      "---\n",
      "Top Recommended Games:\n",
      "     appid                name  sim_score\n",
      "0  1811260  EA SPORTS™ FIFA 23   0.046560\n",
      "1   550650         Black Squad   0.016119\n",
      "2  1665460          eFootball™   0.006864\n",
      "3   291480     Warface: Clutch   0.005123\n",
      "4       70           Half-Life   0.004724\n",
      "\n",
      "\n"
     ]
    }
   ],
   "source": [
    "# Filter only top 100 played games before sparse matrix for first evaluation and faster processing\n",
    "top_100_games = list(df_top_100_game_details['appid'])\n",
    "interaction_df_100 = interaction_df[interaction_df['appid'].isin(top_100_games)]\n",
    "\n",
    "# Define threshold\n",
    "threshold=None\n",
    "threshold=1200\n",
    "threshold=1600\n",
    "threshold=1800\n",
    "\n",
    "# Make predicted df\n",
    "predicted_df = get_predicted_df_matrix_based(interaction_df_100, threshold=threshold)\n",
    "\n",
    "# Get recomendations\n",
    "recommendations = recommend_games_matrix_based(76561198080989870, interaction_df_100, predicted_df, df_top_100_game_details, show_output=True, top_n=5)\n",
    "recommendations = recommend_games_matrix_based(76561198164574454, interaction_df_100, predicted_df, df_top_100_game_details, top_n=5)\n",
    "recommendations = recommend_games_matrix_based(76561199062172023, interaction_df_100, predicted_df, df_top_100_game_details, top_n=5)"
   ]
  },
  {
   "cell_type": "markdown",
   "id": "Kb_yE6dBqohH",
   "metadata": {
    "id": "Kb_yE6dBqohH"
   },
   "source": [
    "### Full implementation: Filtering top 1000 most played games"
   ]
  },
  {
   "cell_type": "markdown",
   "id": "nUtVIKMiqm-B",
   "metadata": {
    "id": "nUtVIKMiqm-B"
   },
   "source": [
    "Tests with different thresholds to consider a player liked a games:\n",
    "\n",
    "- No threshold, raw played time\n",
    "- More than 10 horas played (600 min)\n",
    "- More than 20 horas played (1200 min)\n",
    "- More than 30 horas played (1800 min)"
   ]
  },
  {
   "cell_type": "code",
   "execution_count": 19,
   "id": "la_oKAtzi9yP",
   "metadata": {
    "executionInfo": {
     "elapsed": 518447,
     "status": "aborted",
     "timestamp": 1754407897863,
     "user": {
      "displayName": "Lucas Marra",
      "userId": "17497059184945251516"
     },
     "user_tz": 180
    },
    "id": "la_oKAtzi9yP"
   },
   "outputs": [
    {
     "name": "stderr",
     "output_type": "stream",
     "text": [
      "C:\\Users\\lucas\\AppData\\Local\\Temp\\ipykernel_27580\\3272603031.py:7: SettingWithCopyWarning: \n",
      "A value is trying to be set on a copy of a slice from a DataFrame.\n",
      "Try using .loc[row_indexer,col_indexer] = value instead\n",
      "\n",
      "See the caveats in the documentation: https://pandas.pydata.org/pandas-docs/stable/user_guide/indexing.html#returning-a-view-versus-a-copy\n",
      "  interaction[\"interaction\"] = (interaction[\"playtime_forever\"] >= threshold).astype(int)\n"
     ]
    },
    {
     "name": "stdout",
     "output_type": "stream",
     "text": [
      "-----------------------\n",
      "User: 76561198164574454\n",
      "---\n",
      "User most played games:\n",
      "- Total War: ROME II - Emperor Edition\n",
      "- Apex Legends\n",
      "- Total War: WARHAMMER II\n",
      "- Total War: WARHAMMER III\n",
      "- Baldur's Gate 3\n",
      "---\n",
      "Top Recommended Games:\n",
      "    appid                                            name  similarity_score\n",
      "0   34330                             Total War: SHOGUN 2          0.280632\n",
      "1  359320                                 Elite Dangerous          0.215735\n",
      "2  200260  Batman: Arkham City - Game of the Year Edition          0.209762\n",
      "3  435150   Divinity: Original Sin 2 - Definitive Edition          0.198837\n",
      "4  236850                           Europa Universalis IV          0.187909\n",
      "5   10500          Total War: EMPIRE – Definitive Edition          0.182802\n",
      "6  244850                                 Space Engineers          0.182467\n",
      "7  231430                             Company of Heroes 2          0.179391\n",
      "8  209000                         Batman™: Arkham Origins          0.171765\n",
      "9  200510                             XCOM: Enemy Unknown          0.163395\n",
      "\n",
      "\n"
     ]
    }
   ],
   "source": [
    "# Filter top 1000 most played games, for full implementation\n",
    "top_1000_games = list(df_top_1000_game_details['appid'])\n",
    "interaction_df_1000 = interaction_df[interaction_df['appid'].isin(top_1000_games)]\n",
    "\n",
    "# Define threshold\n",
    "threshold=None\n",
    "threshold=1200\n",
    "threshold=1600\n",
    "threshold=1800\n",
    "\n",
    "# Make predicted df\n",
    "predicted_df = get_predicted_df_matrix_based(interaction_df_1000, threshold=threshold)\n",
    "\n",
    "# Get recomendations\n",
    "recommendations = recommend_games_matrix_based(76561198164574454, interaction_df_1000, predicted_df, df_top_1000_game_details, show_output=True, top_n=10)\n",
    "recommendations = recommend_games_matrix_based(76561198164574454, interaction_df_1000, predicted_df, df_top_1000_game_details, top_n=5)\n",
    "recommendations = recommend_games_matrix_based(76561199062172023, interaction_df_1000, predicted_df, df_top_1000_game_details, top_n=5)"
   ]
  },
  {
   "cell_type": "markdown",
   "id": "WWF3pDXFrccE",
   "metadata": {
    "id": "WWF3pDXFrccE"
   },
   "source": [
    "### Offline evaluation"
   ]
  },
  {
   "cell_type": "code",
   "execution_count": 12,
   "id": "JQkCbyXGroWU",
   "metadata": {
    "executionInfo": {
     "elapsed": 1,
     "status": "ok",
     "timestamp": 1754406225344,
     "user": {
      "displayName": "Lucas Marra",
      "userId": "17497059184945251516"
     },
     "user_tz": 180
    },
    "id": "JQkCbyXGroWU"
   },
   "outputs": [],
   "source": [
    "from collections import defaultdict"
   ]
  },
  {
   "cell_type": "code",
   "execution_count": 18,
   "id": "9c423c62",
   "metadata": {
    "colab": {
     "base_uri": "https://localhost:8080/"
    },
    "executionInfo": {
     "elapsed": 226139,
     "status": "ok",
     "timestamp": 1754406451484,
     "user": {
      "displayName": "Lucas Marra",
      "userId": "17497059184945251516"
     },
     "user_tz": 180
    },
    "id": "9c423c62",
    "outputId": "c452d820-8d02-410b-ef0e-b77bf10c9a05"
   },
   "outputs": [
    {
     "name": "stdout",
     "output_type": "stream",
     "text": [
      "Total users with train/test split: 4334\n"
     ]
    }
   ],
   "source": [
    "# Split into train and test (for offline evaluation) and make train interaction_df\n",
    "user_game_dict = defaultdict(list)\n",
    "for _, row in interaction_df.iterrows():\n",
    "    user_game_dict[row['user_steamid']].append(row['appid'])\n",
    "\n",
    "train = {}\n",
    "test = {}\n",
    "rng = np.random.default_rng(42)\n",
    "\n",
    "for user, games in user_game_dict.items():\n",
    "    if len(games) < 2:\n",
    "        continue  # Skip users with fewer than 2 relevant games\n",
    "    games = rng.permutation(games)\n",
    "    split = int(len(games) * 0.7)\n",
    "    train[user] = list(games[:split])\n",
    "    test[user] = list(games[split:])\n",
    "\n",
    "print(f\"Total users with train/test split: {len(train)}\")\n",
    "\n",
    "interaction_df_train = interaction_df[\n",
    "    interaction_df[\"user_steamid\"].isin(train) &\n",
    "    interaction_df.apply(lambda row: row[\"appid\"] in train.get(row[\"user_steamid\"], []), axis=1)\n",
    "]"
   ]
  },
  {
   "cell_type": "code",
   "execution_count": 20,
   "id": "iaXJ2i6SrwHo",
   "metadata": {
    "executionInfo": {
     "elapsed": 58,
     "status": "ok",
     "timestamp": 1754406451547,
     "user": {
      "displayName": "Lucas Marra",
      "userId": "17497059184945251516"
     },
     "user_tz": 180
    },
    "id": "iaXJ2i6SrwHo"
   },
   "outputs": [],
   "source": [
    "# Filter only top 100 played games before sparse matrix for first evaluation and faster processing (offline evaluation)\n",
    "top_100_games = list(df_top_100_game_details['appid'])\n",
    "interaction_df_100_train = interaction_df_train[interaction_df_train['appid'].isin(top_100_games)]\n",
    "\n",
    "# Filter top 1000 most played games, for full implementation\n",
    "top_1000_games = list(df_top_1000_game_details['appid'])\n",
    "interaction_df_1000_train = interaction_df_train[interaction_df_train['appid'].isin(top_1000_games)]"
   ]
  },
  {
   "cell_type": "markdown",
   "id": "tV3Z8gIfrpFj",
   "metadata": {
    "id": "tV3Z8gIfrpFj"
   },
   "source": [
    "#### Hit Rate@k"
   ]
  },
  {
   "cell_type": "code",
   "execution_count": null,
   "id": "2HMT3Q0fsqzB",
   "metadata": {
    "colab": {
     "base_uri": "https://localhost:8080/"
    },
    "collapsed": true,
    "executionInfo": {
     "elapsed": 831781,
     "status": "ok",
     "timestamp": 1754414348891,
     "user": {
      "displayName": "Lucas Marra",
      "userId": "17497059184945251516"
     },
     "user_tz": 180
    },
    "id": "2HMT3Q0fsqzB",
    "outputId": "20f42949-93aa-45cf-dcef-55e1dd6ef888"
   },
   "outputs": [],
   "source": [
    "# Compute Hit Rate@k\n",
    "# Compare for each user in test, if at least one played game is recommended\n",
    "\n",
    "hit_rate = []\n",
    "total_games = 100\n",
    "#for interaction_df_train in [interaction_df_100_train, interaction_df_1000_train]: # 100 most played games and 1000 most played\n",
    "for interaction_df_train, df_top_game_details in [(interaction_df_100_train, df_top_100_game_details),(interaction_df_1000_train, df_top_1000_game_details)]: # 100 most played games and 1000 most played\n",
    "  print(\"starting for interaction_df_train\")\n",
    "  for threshold in [None, 150, 300, 600, 1200, 1800]:\n",
    "    print(f\"starting for threshold: {threshold}\")\n",
    "    # Make similarity\n",
    "    predicted_df_train = get_predicted_df_matrix_based(interaction_df_train, threshold=threshold)\n",
    "    for k in [1,5,10,20]: # multiples k's\n",
    "      print(f\"starting for k: {k}\")\n",
    "      hits = 0\n",
    "      for user in test:\n",
    "          true_items = set(test[user])\n",
    "          try:\n",
    "            recommended = list(recommend_games_matrix_based(user, interaction_df_train, predicted_df_train, df_top_game_details, top_n=k)['appid'])\n",
    "          except:\n",
    "            continue\n",
    "            #print('error due to not fiding test user in train')\n",
    "          if set(recommended) & true_items:\n",
    "              hits += 1\n",
    "      score = hits / len(test)\n",
    "      hit_rate_dict = {}\n",
    "      hit_rate_dict[f\"total_games\"] = total_games\n",
    "      hit_rate_dict[f\"threshold\"] = threshold\n",
    "      hit_rate_dict[f\"k\"] = k\n",
    "      hit_rate_dict[\"hit_rate\"] = score\n",
    "      hit_rate.append(hit_rate_dict)\n",
    "  total_games = 1000\n",
    "\n",
    "# Convert to DataFrame\n",
    "df_matrix_factorization_hit_rate = pd.DataFrame(hit_rate)\n",
    "df_matrix_factorization_hit_rate[\"threshold\"] = df_matrix_factorization_hit_rate[\"threshold\"].astype(str)\n",
    "# Save .csv\n",
    "df_matrix_factorization_hit_rate.to_csv('../../data/df_matrix_factorization_hit_rate.csv', index=False)"
   ]
  },
  {
   "cell_type": "markdown",
   "id": "mROXSj1HuFFC",
   "metadata": {
    "id": "mROXSj1HuFFC"
   },
   "source": [
    "#### Precision@k"
   ]
  },
  {
   "cell_type": "code",
   "execution_count": null,
   "id": "tDddgOOauIEZ",
   "metadata": {
    "colab": {
     "base_uri": "https://localhost:8080/"
    },
    "collapsed": true,
    "executionInfo": {
     "elapsed": 837693,
     "status": "ok",
     "timestamp": 1754415757890,
     "user": {
      "displayName": "Lucas Marra",
      "userId": "17497059184945251516"
     },
     "user_tz": 180
    },
    "id": "tDddgOOauIEZ",
    "outputId": "08111fcd-f590-4a68-c32a-557ca8601afc"
   },
   "outputs": [],
   "source": [
    "# Unlike Hit Rate, which gives 1 point if any relevant item is found, Precision rewards more for getting multiple relevant items right.\n",
    "def precision_at_k(recommended_items, true_items, k):\n",
    "    recommended_top_k = recommended_items[:k]\n",
    "    if not recommended_top_k:\n",
    "        return 0.0\n",
    "    hits = len(set(recommended_top_k) & set(true_items))\n",
    "    return hits / k\n",
    "\n",
    "precision_results = []\n",
    "total_games = 100\n",
    "for interaction_df_train, df_top_game_details in [(interaction_df_100_train, df_top_100_game_details),(interaction_df_1000_train, df_top_1000_game_details)]: # 100 most played games and 1000 most played\n",
    "  print(\"starting for interaction_df_train\")\n",
    "  for threshold in [None, 150, 300, 600, 1200, 1800]:\n",
    "    print(f\"starting for threshold: {threshold}\")\n",
    "    # Make similarity\n",
    "    predicted_df_train = get_predicted_df_matrix_based(interaction_df_train, threshold=threshold)\n",
    "    for k in [1,5,10,20]: # multiples k's\n",
    "      print(f\"starting for k: {k}\")\n",
    "      precisions = []\n",
    "      for user in test:\n",
    "          true_items = set(test[user])\n",
    "          try:\n",
    "              recs_df = recommend_games_matrix_based(user, interaction_df_train, predicted_df_train, df_top_game_details, top_n=k)\n",
    "              recommended = list(recs_df[\"appid\"])\n",
    "          except:\n",
    "              continue\n",
    "          prec = precision_at_k(recommended, true_items, k)\n",
    "          precisions.append(prec)\n",
    "      precision_score = np.mean(precisions)\n",
    "      precision_results.append({\n",
    "          \"total_games\": total_games,\n",
    "          \"threshold\": threshold,\n",
    "          \"k\": k,\n",
    "          \"precision\": precision_score\n",
    "      })\n",
    "  total_games = 1000\n",
    "\n",
    "# Convert to DataFrame\n",
    "df_matrix_factorization_precision = pd.DataFrame(precision_results)\n",
    "df_matrix_factorization_precision[\"threshold\"] = df_matrix_factorization_precision[\"threshold\"].astype(str)\n",
    "# Save .csv\n",
    "df_matrix_factorization_precision.to_csv('../../data/df_matrix_factorization_precision.csv', index=False)"
   ]
  },
  {
   "cell_type": "markdown",
   "id": "oI_ss8Qvvm21",
   "metadata": {
    "id": "oI_ss8Qvvm21"
   },
   "source": [
    "#### NDCG@k"
   ]
  },
  {
   "cell_type": "code",
   "execution_count": null,
   "id": "JGvQBzzWvunP",
   "metadata": {
    "colab": {
     "base_uri": "https://localhost:8080/"
    },
    "collapsed": true,
    "executionInfo": {
     "elapsed": 854531,
     "status": "ok",
     "timestamp": 1754417480626,
     "user": {
      "displayName": "Lucas Marra",
      "userId": "17497059184945251516"
     },
     "user_tz": 180
    },
    "id": "JGvQBzzWvunP",
    "outputId": "70fb0e49-7044-4c65-c76d-19fad8ba04bd"
   },
   "outputs": [],
   "source": [
    "# evaluates not just what relevant items are recommended, but also where they appear in the ranked list. It gives higher scores for relevant items that appear earlier in the list\n",
    "def ndcg_at_k(recommended_items, true_items, k):\n",
    "    recommended_top_k = recommended_items[:k]\n",
    "    dcg = 0.0\n",
    "    for i, item in enumerate(recommended_top_k):\n",
    "        if item in true_items:\n",
    "            dcg += 1 / np.log2(i + 2)  # i+2 because log2(1) = 0\n",
    "    # Ideal DCG\n",
    "    ideal_hits = min(len(true_items), k)\n",
    "    idcg = sum(1 / np.log2(i + 2) for i in range(ideal_hits))\n",
    "    return dcg / idcg if idcg > 0 else 0.0\n",
    "\n",
    "ndcg_results = []\n",
    "total_games = 100\n",
    "for interaction_df_train, df_top_game_details in [(interaction_df_100_train, df_top_100_game_details),(interaction_df_1000_train, df_top_1000_game_details)]: # 100 most played games and 1000 most played\n",
    "  print(\"starting for interaction_df_train\")\n",
    "  for threshold in [None, 150, 300, 600, 1200, 1800]:\n",
    "    print(f\"starting for threshold: {threshold}\")\n",
    "    # Make similarity\n",
    "    predicted_df_train = get_predicted_df_matrix_based(interaction_df_train, threshold=threshold)\n",
    "    for k in [1,5,10,20]: # multiples k's\n",
    "      print(f\"starting for k: {k}\")\n",
    "      ndcgs = []\n",
    "      for user in test:\n",
    "          true_items = set(test[user])\n",
    "          try:\n",
    "              recs_df = recommend_games_matrix_based(user, interaction_df_train, predicted_df_train, df_top_game_details, top_n=k)\n",
    "              recommended = list(recs_df[\"appid\"])\n",
    "          except:\n",
    "              continue\n",
    "          ndcg = ndcg_at_k(recommended, true_items, k)\n",
    "          ndcgs.append(ndcg)\n",
    "      ndcg_score = np.mean(ndcgs)\n",
    "      ndcg_results.append({\n",
    "          \"total_games\": total_games,\n",
    "          \"threshold\": threshold,\n",
    "          \"k\": k,\n",
    "          \"ndcg\": ndcg_score\n",
    "      })\n",
    "  total_games = 1000\n",
    "\n",
    "# Convert to DataFrame\n",
    "df_matrix_factorization_ndcg = pd.DataFrame(ndcg_results)\n",
    "df_matrix_factorization_ndcg[\"threshold\"] = df_matrix_factorization_ndcg[\"threshold\"].astype(str)\n",
    "# Save .csv\n",
    "df_matrix_factorization_ndcg.to_csv('../../data/df_matrix_factorization_ndcg.csv', index=False)"
   ]
  },
  {
   "cell_type": "code",
   "execution_count": null,
   "id": "xL2Eq--RF0u1",
   "metadata": {
    "id": "xL2Eq--RF0u1"
   },
   "outputs": [],
   "source": []
  }
 ],
 "metadata": {
  "colab": {
   "provenance": []
  },
  "kernelspec": {
   "display_name": ".venv",
   "language": "python",
   "name": "python3"
  },
  "language_info": {
   "codemirror_mode": {
    "name": "ipython",
    "version": 3
   },
   "file_extension": ".py",
   "mimetype": "text/x-python",
   "name": "python",
   "nbconvert_exporter": "python",
   "pygments_lexer": "ipython3",
   "version": "3.11.9"
  }
 },
 "nbformat": 4,
 "nbformat_minor": 5
}
